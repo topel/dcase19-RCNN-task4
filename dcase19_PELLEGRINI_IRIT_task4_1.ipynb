{
 "cells": [
  {
   "cell_type": "markdown",
   "metadata": {
    "toc": true
   },
   "source": [
    "<h1>Table of Contents<span class=\"tocSkip\"></span></h1>\n",
    "<div class=\"toc\" style=\"margin-top: 1em;\"><ul class=\"toc-item\"><li><span><a href=\"#Import\" data-toc-modified-id=\"Import-1\"><span class=\"toc-item-num\">1&nbsp;&nbsp;</span>Import</a></span></li><li><span><a href=\"#Load-data\" data-toc-modified-id=\"Load-data-2\"><span class=\"toc-item-num\">2&nbsp;&nbsp;</span>Load data</a></span><ul class=\"toc-item\"><li><span><a href=\"#create-dico-strong-labels\" data-toc-modified-id=\"create-dico-strong-labels-2.1\"><span class=\"toc-item-num\">2.1&nbsp;&nbsp;</span>create dico strong labels</a></span></li><li><span><a href=\"#create_dico_weak_labels\" data-toc-modified-id=\"create_dico_weak_labels-2.2\"><span class=\"toc-item-num\">2.2&nbsp;&nbsp;</span>create_dico_weak_labels</a></span></li><li><span><a href=\"#create-fileID-2-wav-arrays-dicts\" data-toc-modified-id=\"create-fileID-2-wav-arrays-dicts-2.3\"><span class=\"toc-item-num\">2.3&nbsp;&nbsp;</span>create fileID 2 wav arrays dicts</a></span></li><li><span><a href=\"#create-fileID-2-wav-arrays-dict-for-U\" data-toc-modified-id=\"create-fileID-2-wav-arrays-dict-for-U-2.4\"><span class=\"toc-item-num\">2.4&nbsp;&nbsp;</span>create fileID 2 wav arrays dict for U</a></span></li><li><span><a href=\"#create-fileID-2-wav-arrays-dict-for-EVAL\" data-toc-modified-id=\"create-fileID-2-wav-arrays-dict-for-EVAL-2.5\"><span class=\"toc-item-num\">2.5&nbsp;&nbsp;</span>create fileID 2 wav arrays dict for EVAL</a></span></li><li><span><a href=\"#split-train_weak-into-train/dev-90/10\" data-toc-modified-id=\"split-train_weak-into-train/dev-90/10-2.6\"><span class=\"toc-item-num\">2.6&nbsp;&nbsp;</span>split train_weak into train/dev 90/10</a></span></li></ul></li><li><span><a href=\"#My-Generator-weak-+-strong\" data-toc-modified-id=\"My-Generator-weak-+-strong-3\"><span class=\"toc-item-num\">3&nbsp;&nbsp;</span>My Generator weak + strong</a></span><ul class=\"toc-item\"><li><span><a href=\"#definition\" data-toc-modified-id=\"definition-3.1\"><span class=\"toc-item-num\">3.1&nbsp;&nbsp;</span>definition</a></span></li><li><span><a href=\"#instances\" data-toc-modified-id=\"instances-3.2\"><span class=\"toc-item-num\">3.2&nbsp;&nbsp;</span>instances</a></span></li></ul></li><li><span><a href=\"#loss-functions\" data-toc-modified-id=\"loss-functions-4\"><span class=\"toc-item-num\">4&nbsp;&nbsp;</span>loss functions</a></span></li><li><span><a href=\"#Model-definition\" data-toc-modified-id=\"Model-definition-5\"><span class=\"toc-item-num\">5&nbsp;&nbsp;</span>Model definition</a></span></li><li><span><a href=\"#Train\" data-toc-modified-id=\"Train-6\"><span class=\"toc-item-num\">6&nbsp;&nbsp;</span>Train</a></span></li><li><span><a href=\"#Test-model\" data-toc-modified-id=\"Test-model-7\"><span class=\"toc-item-num\">7&nbsp;&nbsp;</span>Test model</a></span><ul class=\"toc-item\"><li><span><a href=\"#load-a-model\" data-toc-modified-id=\"load-a-model-7.1\"><span class=\"toc-item-num\">7.1&nbsp;&nbsp;</span>load a model</a></span></li><li><span><a href=\"#Dog-Speech-file\" data-toc-modified-id=\"Dog-Speech-file-7.2\"><span class=\"toc-item-num\">7.2&nbsp;&nbsp;</span>Dog Speech file</a></span></li><li><span><a href=\"#Val-subset\" data-toc-modified-id=\"Val-subset-7.3\"><span class=\"toc-item-num\">7.3&nbsp;&nbsp;</span>Val subset</a></span></li></ul></li><li><span><a href=\"#Localization\" data-toc-modified-id=\"Localization-8\"><span class=\"toc-item-num\">8&nbsp;&nbsp;</span>Localization</a></span><ul class=\"toc-item\"><li><span><a href=\"#Global-opti\" data-toc-modified-id=\"Global-opti-8.1\"><span class=\"toc-item-num\">8.1&nbsp;&nbsp;</span>Global opti</a></span></li><li><span><a href=\"#class-wise-opti\" data-toc-modified-id=\"class-wise-opti-8.2\"><span class=\"toc-item-num\">8.2&nbsp;&nbsp;</span>class-wise opti</a></span><ul class=\"toc-item\"><li><span><a href=\"#absolute-threshold\" data-toc-modified-id=\"absolute-threshold-8.2.1\"><span class=\"toc-item-num\">8.2.1&nbsp;&nbsp;</span>absolute threshold</a></span></li><li><span><a href=\"#hysteresis\" data-toc-modified-id=\"hysteresis-8.2.2\"><span class=\"toc-item-num\">8.2.2&nbsp;&nbsp;</span>hysteresis</a></span></li></ul></li></ul></li><li><span><a href=\"#Eval-subset\" data-toc-modified-id=\"Eval-subset-9\"><span class=\"toc-item-num\">9&nbsp;&nbsp;</span>Eval subset</a></span></li></ul></div>"
   ]
  },
  {
   "cell_type": "markdown",
   "metadata": {},
   "source": [
    "Authors:\n",
    "\n",
    "Thomas Pellegrini, thomas.pellegrini@irit.fr\n",
    "\n",
    "Leo Cances, leo.cances@irit.fr\n",
    "\n",
    "June 2019"
   ]
  },
  {
   "cell_type": "markdown",
   "metadata": {},
   "source": [
    "# Import"
   ]
  },
  {
   "cell_type": "code",
   "execution_count": 1,
   "metadata": {
    "ExecuteTime": {
     "end_time": "2019-06-09T08:03:07.658465Z",
     "start_time": "2019-06-09T08:03:04.070734Z"
    }
   },
   "outputs": [],
   "source": [
    "import numpy as np\n",
    "import matplotlib.pyplot as plt\n",
    "import matplotlib.cm as cm\n",
    "from mpl_toolkits.axes_grid1 import make_axes_locatable\n",
    "\n",
    "import soundfile as sf\n",
    "import librosa\n",
    "import muda\n",
    "import jams\n",
    "\n",
    "import os \n",
    "\n",
    "from scipy.misc import imresize\n",
    "from sklearn.svm import LinearSVC\n",
    "from sklearn.metrics import confusion_matrix, accuracy_score, f1_score\n",
    "\n",
    "import pickle\n",
    "\n",
    "from dcase_util.containers import MetaDataContainer\n",
    "\n",
    "import tqdm\n"
   ]
  },
  {
   "cell_type": "code",
   "execution_count": 2,
   "metadata": {
    "ExecuteTime": {
     "end_time": "2019-06-09T08:03:09.491423Z",
     "start_time": "2019-06-09T08:03:07.663960Z"
    }
   },
   "outputs": [
    {
     "name": "stderr",
     "output_type": "stream",
     "text": [
      "Using TensorFlow backend.\n"
     ]
    }
   ],
   "source": [
    "import sys\n",
    "sys.path.append('../dcase2018/dcase2018_task4')\n",
    "\n",
    "import Metrics"
   ]
  },
  {
   "cell_type": "code",
   "execution_count": 3,
   "metadata": {
    "ExecuteTime": {
     "end_time": "2019-06-09T08:03:09.501819Z",
     "start_time": "2019-06-09T08:03:09.494466Z"
    }
   },
   "outputs": [],
   "source": [
    "import keras \n",
    "\n",
    "# from keras.applications.vgg16 import VGG16\n",
    "# from keras.applications.vgg19 import VGG19\n",
    "# from keras.utils.vis_utils import plot_model\n",
    "# from keras.preprocessing.image import load_img\n",
    "# from keras.preprocessing.image import img_to_array\n",
    "\n",
    "from keras.models import model_from_json, load_model\n",
    "\n",
    "# from keras.applications.vgg19 import preprocess_input as vgg19_preprocess_input\n",
    "# from keras.applications.vgg19 import decode_predictions as vgg19_decode_predictions\n",
    "\n",
    "from keras import optimizers\n",
    "from keras.models import Model, Sequential\n",
    "from keras.layers import Input, Dense, GlobalAveragePooling2D, GlobalMaxPooling2D, Lambda, \\\n",
    "    Flatten, Dropout, Conv2D, MaxPooling2D, BatchNormalization, Activation, TimeDistributed, \\\n",
    "    GRU, Reshape, Bidirectional, GlobalAveragePooling1D, GlobalMaxPooling1D, SpatialDropout2D, \\\n",
    "    Concatenate, Multiply\n",
    "from keras import backend as K\n",
    "\n",
    "import tensorflow as tf"
   ]
  },
  {
   "cell_type": "code",
   "execution_count": 4,
   "metadata": {
    "ExecuteTime": {
     "end_time": "2019-06-09T08:03:09.559514Z",
     "start_time": "2019-06-09T08:03:09.506087Z"
    }
   },
   "outputs": [
    {
     "data": {
      "text/plain": [
       "'channels_last'"
      ]
     },
     "execution_count": 4,
     "metadata": {},
     "output_type": "execute_result"
    }
   ],
   "source": [
    "K.set_image_data_format(\"channels_last\")\n",
    "K.image_data_format()"
   ]
  },
  {
   "cell_type": "code",
   "execution_count": 5,
   "metadata": {
    "ExecuteTime": {
     "end_time": "2019-06-09T08:03:09.606806Z",
     "start_time": "2019-06-09T08:03:09.563065Z"
    }
   },
   "outputs": [],
   "source": [
    "K.clear_session()"
   ]
  },
  {
   "cell_type": "code",
   "execution_count": 6,
   "metadata": {
    "ExecuteTime": {
     "end_time": "2019-06-09T08:03:09.624956Z",
     "start_time": "2019-06-09T08:03:09.609792Z"
    }
   },
   "outputs": [],
   "source": [
    "# fixer les seeds\n",
    "\n",
    "from numpy.random import seed\n",
    "seed(123) # On peut utiliser n'importe quelle nombre\n",
    "\n",
    "from tensorflow import set_random_seed\n",
    "set_random_seed(1234)"
   ]
  },
  {
   "cell_type": "markdown",
   "metadata": {},
   "source": [
    "# Load data"
   ]
  },
  {
   "cell_type": "code",
   "execution_count": 7,
   "metadata": {
    "ExecuteTime": {
     "end_time": "2019-06-09T08:03:09.661930Z",
     "start_time": "2019-06-09T08:03:09.627809Z"
    }
   },
   "outputs": [],
   "source": [
    "class_correspondance = {\"Alarm_bell_ringing\": 0, \"Speech\": 1, \"Dog\": 2, \"Cat\": 3, \"Vacuum_cleaner\": 4,\n",
    "                        \"Dishes\": 5, \"Frying\": 6, \"Electric_shaver_toothbrush\": 7, \"Blender\": 8, \"Running_water\": 9}\n",
    "\n",
    "class_correspondance_reverse = dict()\n",
    "for k in class_correspondance:\n",
    "    class_correspondance_reverse[class_correspondance[k]] = k\n",
    "\n"
   ]
  },
  {
   "cell_type": "code",
   "execution_count": 8,
   "metadata": {
    "ExecuteTime": {
     "end_time": "2019-06-09T08:03:09.902155Z",
     "start_time": "2019-06-09T08:03:09.897989Z"
    }
   },
   "outputs": [],
   "source": [
    "# train :\n",
    "#  weak : 1577\n",
    "#  synthetic : 2045\n",
    "#  unlabeled in domain : 14405\n",
    "# validation : 1168\n",
    "\n",
    "# Sur la page du challenge ils disent :\n",
    "\n",
    "# train :\n",
    "#  weak : 1578\n",
    "#  synthetic : 2045\n",
    "#  unlabeled in domain : 14412\n",
    "# validation : 1168\n",
    "\n",
    "# Il nous manque donc 1 weak et 7 unlabeled"
   ]
  },
  {
   "cell_type": "code",
   "execution_count": 9,
   "metadata": {
    "ExecuteTime": {
     "end_time": "2019-06-09T08:03:12.291047Z",
     "start_time": "2019-06-09T08:03:12.279300Z"
    }
   },
   "outputs": [
    {
     "data": {
      "text/plain": [
       "46"
      ]
     },
     "execution_count": 9,
     "metadata": {},
     "output_type": "execute_result"
    }
   ],
   "source": [
    "validation_to_remove = ['Y0IxyUtHw6Ec_0.000_10.000.wav','Y-jLujkP1aaw_30.000_40.000.wav','Y9nNBz3phufo_40.000_50.000.wav','Y6iquQAQvoUs_285.000_295.000.wav','YzCdOEvduBTo_30.000_40.000.wav','YSRYarmLDPwc_204.000_214.000.wav','YT9v5TB7J6Ak_268.000_278.000.wav','Y2KbRYZ3Cp_c_149.000_159.000.wav','Y5iARe0XPQdg_95.000_105.000.wav','YmAg1_aL-fCY_30.000_40.000.wav','YOvK__OSdpJQ_74.000_84.000.wav','YNGgpSWcaV1U_63.000_73.000.wav','YSgTCzMs_1rA_125.000_135.000.wav','YTx_47yEnfCs_442.000_452.000.wav','YTyGA005YFXg_143.000_153.000.wav','YQ7q8xQijBCg_32.000_42.000.wav','YFxf5r3DNKXU_142.000_152.000.wav','Y8oTQbC9oDkY_27.000_37.000.wav','YAZBIHwmppHo_51.000_61.000.wav','YZfDu5aHVrAg_205.000_215.000.wav','YfS9TYqfz_Po_181.000_191.000.wav','YWBJVzaSvSsg_150.000_160.000.wav','Yn0sxrohD_TI_7.000_14.000.wav','Yt8E89lrV36A_285.000_295.000.wav','YxgQjEiwZsAk_146.000_156.000.wav','YwHk1-j5r1JU_385.000_395.000.wav','YU0Cg_t_3TdI_30.000_40.000.wav','Y70CtvdsGQf4_2.000_12.000.wav','Yc1_V2y_9KCM_369.000_379.000.wav','YY09tBEoLETY_440.000_450.000.wav','Y23R6_ppquxs_247.000_257.000.wav','Y-YwPSwhe2jo_30.000_40.000.wav','Y-RLILmQmubM_30.000_40.000.wav','YmBj0IJhv2hM_142.000_152.000.wav','YjF73O9J4KEI_30.000_40.000.wav','YuXDi40QfH9E_320.000_330.000.wav','YK1XOQR_O0aA_199.000_209.000.wav','Y-4pmCrSdMhg_30.000_40.000.wav','YQb6N3HvbmgQ_580.000_590.000.wav','Y7G4IXsu0KtU_72.000_82.000.wav','YSpVEDyy9AIY_69.000_79.000.wav','Y09kqMqn5rWs_260.000_270.000.wav','YzDULhAxsJfY_60.000_70.000.wav','YR3_Gqgl-NYE_50.000_60.000.wav','Yb8GxUkjLSUY_628.000_638.000.wav','Y86owBlJa8f0_24.000_34.000.wav']\n",
    "len(validation_to_remove)"
   ]
  },
  {
   "cell_type": "code",
   "execution_count": 10,
   "metadata": {
    "ExecuteTime": {
     "end_time": "2019-06-09T08:03:25.563147Z",
     "start_time": "2019-06-09T08:03:12.949588Z"
    }
   },
   "outputs": [
    {
     "name": "stdout",
     "output_type": "stream",
     "text": [
      "len(wav_lst_validation) 1122\n",
      "len(wav_lst_validation) 1122\n",
      "len(wav_lst_evaluation) 13190\n",
      "1505 2045 1122\n",
      "2045 1122\n",
      "1505 2045 1122\n",
      "13190\n",
      "3550 3550\n"
     ]
    }
   ],
   "source": [
    "def read_csv_list(fpath):\n",
    "    file_list = []\n",
    "    with open(fpath, 'rt') as fh:\n",
    "        for l in fh:\n",
    "            file_list.append(l.rstrip())\n",
    "\n",
    "    return file_list\n",
    "\n",
    "\n",
    "def write_csv_list(lst, fpath):\n",
    "    with open(fpath, 'wt') as fh:\n",
    "        for el in lst:\n",
    "            fh.write('%s\\n'%el)\n",
    "\n",
    "\n",
    "datadir='/baie/travail/thomas/dcase2019/subsets'\n",
    "# wav_lst_train_weak = read_csv_list(datadir + '/' + 'subset_train_weak_1505files_wav.lst')\n",
    "wav_lst_train_weak_TRAIN = read_csv_list(datadir + '/' + 'subset_train_weak_TRAIN_1354files_wav.lst')\n",
    "wav_lst_train_weak_DEV = read_csv_list(datadir + '/' + 'subset_train_weak_DEV_151files_wav.lst')\n",
    "wav_lst_train_synthetic = read_csv_list(datadir + '/' + 'subset_train_synthetic_2045files_wav.lst')\n",
    "wav_lst_train_uid = read_csv_list(datadir + '/' + 'subset_train_uid_14412files_wav.lst')\n",
    "wav_lst_train_weak_synthetic = wav_lst_train_weak_TRAIN + wav_lst_train_weak_DEV + wav_lst_train_synthetic\n",
    "wav_lst_evaluation = read_csv_list(datadir + '/' + 'eval.csv')\n",
    "\n",
    "# wav_lst_test_dcase2018 = read_csv_list(datadir + '/' + 'subset_test_dcase2018_923files_wav.lst')\n",
    "# wav_lst_eval_dcase2018 = read_csv_list(datadir + '/' + 'subset_eval_dcase2018_880files_wav.lst')\n",
    "wav_lst_validation = read_csv_list(datadir + '/' + 'subset_validation_1122files_wav.lst')\n",
    "# wav_lst_validation = read_csv_list(datadir + '/' + 'subset_validation_1103files_wav.lst')\n",
    "# wav_lst_validation_leo = read_csv_list(datadir + '/' + 'subset_validation_leo_wav.lst')\n",
    "\n",
    "# remove wav with no tags at all:\n",
    "print('len(wav_lst_validation)', len(wav_lst_validation))\n",
    "wav_lst_validation = [el for el in wav_lst_validation if el not in validation_to_remove] \n",
    "# print('len(wav_lst_validation_leo)', len(wav_lst_validation_leo))\n",
    "# wav_lst_validation_leo = [el for el in wav_lst_validation_leo if el not in validation_to_remove] \n",
    "\n",
    "print('len(wav_lst_validation)', len(wav_lst_validation))\n",
    "# print('len(wav_lst_validation_leo)', len(wav_lst_validation_leo))\n",
    "print('len(wav_lst_evaluation)', len(wav_lst_evaluation))\n",
    "\n",
    "# load weak labels dicts\n",
    "dico_tags_y_train_weak = pickle.load(open(datadir + '/dico_tags_y_train_weak_1505files.pkl', 'rb'))\n",
    "dico_tags_y_train_synthetic = pickle.load(open(datadir + '/dico_tags_y_train_synthetic_2045files.pkl', 'rb'))\n",
    "dico_tags_y_train_uid = None\n",
    "# dico_tags_y_validation = pickle.load(open(datadir + '/dico_tags_y_validation_1058files.pkl', 'rb'))\n",
    "dico_tags_y_validation = pickle.load(open(datadir + '/dico_tags_y_validation_1122files.pkl', 'rb'))\n",
    "\n",
    "gt_tags_y_validation = np.zeros((len(wav_lst_validation), 10))\n",
    "for i, v in enumerate(wav_lst_validation):\n",
    "    gt_tags_y_validation[i] = dico_tags_y_validation[v]\n",
    "\n",
    "# load strong label dicts\n",
    "dico_strong_y_train_weak = None\n",
    "dico_strong_y_train_synthetic = pickle.load(open(datadir + '/dico_strong_y_train_synthetic_2045files.pkl', 'rb'))\n",
    "dico_strong_y_train_uid = None\n",
    "# dico_strong_y_validation = pickle.load(open(datadir + '/dico_strong_y_validation_1058files.pkl', 'rb'))\n",
    "dico_strong_y_validation = pickle.load(open(datadir + '/dico_strong_y_validation_1122files.pkl', 'rb'))\n",
    "\n",
    "# load wav dicts\n",
    "dico_wav_train_weak = pickle.load(open(datadir + '/dico_wav_train_weak_1505files.pkl', 'rb'))\n",
    "dico_wav_train_synthetic = pickle.load(open(datadir + '/dico_wav_train_synthetic_2045files.pkl', 'rb'))\n",
    "# dico_wav_validation = pickle.load(open(datadir + '/dico_wav_validation_1058files.pkl', 'rb'))\n",
    "dico_wav_validation = pickle.load(open(datadir + '/dico_wav_validation_1122files.pkl', 'rb'))\n",
    "dico_wav_evaluation = pickle.load(open(datadir + '/dico_wav_evaluation_13190files.pkl', 'rb'))\n",
    "\n",
    "print(len(dico_tags_y_train_weak), len(dico_tags_y_train_synthetic), len(dico_tags_y_validation))\n",
    "print(len(dico_strong_y_train_synthetic), len(dico_strong_y_validation))\n",
    "print(len(dico_wav_train_weak), len(dico_wav_train_synthetic), len(dico_wav_validation))\n",
    "print(len(dico_wav_evaluation))\n",
    "\n",
    "# merge train_weak and train_synthetic dicts\n",
    "dico_tags_y_train_weak_synthetic = {**dico_tags_y_train_weak, **dico_tags_y_train_synthetic}\n",
    "dico_strong_y_train_weak_synthetic = None\n",
    "dico_wav_train_weak_synthetic = {**dico_wav_train_weak, **dico_wav_train_synthetic}\n",
    "\n",
    "print(len(dico_tags_y_train_weak_synthetic), len(dico_wav_train_weak_synthetic))"
   ]
  },
  {
   "cell_type": "code",
   "execution_count": 12,
   "metadata": {
    "ExecuteTime": {
     "end_time": "2019-06-08T10:11:12.626806Z",
     "start_time": "2019-06-08T10:11:12.601757Z"
    }
   },
   "outputs": [
    {
     "ename": "NameError",
     "evalue": "name 'dico_tags_y_train_synthetic' is not defined",
     "output_type": "error",
     "traceback": [
      "\u001b[0;31m---------------------------------------------------------------------------\u001b[0m",
      "\u001b[0;31mNameError\u001b[0m                                 Traceback (most recent call last)",
      "\u001b[0;32m<ipython-input-12-0b4f02a659e7>\u001b[0m in \u001b[0;36m<module>\u001b[0;34m\u001b[0m\n\u001b[1;32m      1\u001b[0m \u001b[0mtags\u001b[0m \u001b[0;34m=\u001b[0m \u001b[0mnp\u001b[0m\u001b[0;34m.\u001b[0m\u001b[0mzeros\u001b[0m\u001b[0;34m(\u001b[0m\u001b[0;34m(\u001b[0m\u001b[0mlen\u001b[0m\u001b[0;34m(\u001b[0m\u001b[0mwav_lst_train_synthetic\u001b[0m\u001b[0;34m)\u001b[0m\u001b[0;34m,\u001b[0m \u001b[0;36m10\u001b[0m\u001b[0;34m)\u001b[0m\u001b[0;34m)\u001b[0m\u001b[0;34m\u001b[0m\u001b[0m\n\u001b[1;32m      2\u001b[0m \u001b[0;32mfor\u001b[0m \u001b[0mi\u001b[0m\u001b[0;34m,\u001b[0m \u001b[0mv\u001b[0m \u001b[0;32min\u001b[0m \u001b[0menumerate\u001b[0m\u001b[0;34m(\u001b[0m\u001b[0mwav_lst_train_synthetic\u001b[0m\u001b[0;34m)\u001b[0m\u001b[0;34m:\u001b[0m\u001b[0;34m\u001b[0m\u001b[0m\n\u001b[0;32m----> 3\u001b[0;31m     \u001b[0mtags\u001b[0m\u001b[0;34m[\u001b[0m\u001b[0mi\u001b[0m\u001b[0;34m]\u001b[0m \u001b[0;34m=\u001b[0m \u001b[0mdico_tags_y_train_synthetic\u001b[0m\u001b[0;34m[\u001b[0m\u001b[0mv\u001b[0m\u001b[0;34m]\u001b[0m\u001b[0;34m\u001b[0m\u001b[0m\n\u001b[0m\u001b[1;32m      4\u001b[0m \u001b[0mwav_lst_train_synthetic\u001b[0m\u001b[0;34m[\u001b[0m\u001b[0;34m:\u001b[0m\u001b[0;36m7\u001b[0m\u001b[0;34m]\u001b[0m\u001b[0;34m,\u001b[0m \u001b[0mtags\u001b[0m\u001b[0;34m[\u001b[0m\u001b[0;34m:\u001b[0m\u001b[0;36m7\u001b[0m\u001b[0;34m]\u001b[0m\u001b[0;34m,\u001b[0m \u001b[0mdico_tags_y_train_synthetic\u001b[0m\u001b[0;34m[\u001b[0m\u001b[0;34m'10.wav'\u001b[0m\u001b[0;34m]\u001b[0m\u001b[0;34m\u001b[0m\u001b[0m\n",
      "\u001b[0;31mNameError\u001b[0m: name 'dico_tags_y_train_synthetic' is not defined"
     ]
    }
   ],
   "source": [
    "tags = np.zeros((len(wav_lst_train_synthetic), 10))\n",
    "for i, v in enumerate(wav_lst_train_synthetic):\n",
    "    tags[i] = dico_tags_y_train_synthetic[v]\n",
    "wav_lst_train_synthetic[:7], tags[:7], dico_tags_y_train_synthetic['10.wav']"
   ]
  },
  {
   "cell_type": "code",
   "execution_count": 13,
   "metadata": {
    "ExecuteTime": {
     "end_time": "2019-06-07T09:01:27.141356Z",
     "start_time": "2019-06-07T09:01:27.111409Z"
    }
   },
   "outputs": [
    {
     "data": {
      "text/plain": [
       "(['Y00pbt6aJV8Y_350.000_360.000.wav',\n",
       "  'Y00pK0GMmE9s_70.000_80.000.wav',\n",
       "  'Y02sD1KJeoGA_50.000_60.000.wav',\n",
       "  'Y0bjUq9XMMmQ_30.000_40.000.wav',\n",
       "  'Y0cH_NlhhMAs_30.000_40.000.wav',\n",
       "  'Y0eh_N-cmcuI_350.000_360.000.wav',\n",
       "  'Y0hAK5f1tDok_30.000_40.000.wav'],\n",
       " array([[0., 0., 0., 0., 1., 0., 0., 0., 0., 0.],\n",
       "        [0., 0., 0., 0., 1., 0., 0., 0., 0., 0.],\n",
       "        [0., 0., 0., 0., 0., 0., 1., 0., 0., 0.],\n",
       "        [0., 0., 0., 0., 0., 0., 1., 0., 0., 0.],\n",
       "        [0., 0., 0., 1., 0., 0., 0., 0., 0., 0.],\n",
       "        [1., 1., 0., 0., 0., 0., 0., 0., 0., 1.],\n",
       "        [0., 0., 0., 1., 0., 0., 0., 0., 0., 0.]]),\n",
       " array([1., 1., 0., 0., 0., 0., 0., 0., 0., 1.]))"
      ]
     },
     "execution_count": 13,
     "metadata": {},
     "output_type": "execute_result"
    }
   ],
   "source": [
    "tags = np.zeros((len(wav_lst_validation), 10))\n",
    "for i, v in enumerate(wav_lst_validation):\n",
    "    tags[i] = dico_tags_y_validation[v]\n",
    "wav_lst_validation[:7], tags[:7], dico_tags_y_validation['Y0eh_N-cmcuI_350.000_360.000.wav']"
   ]
  },
  {
   "cell_type": "markdown",
   "metadata": {
    "heading_collapsed": true
   },
   "source": [
    "## create dico strong labels"
   ]
  },
  {
   "cell_type": "code",
   "execution_count": 109,
   "metadata": {
    "hidden": true
   },
   "outputs": [],
   "source": [
    "import math\n",
    "def create_dico_strong_labels(label_csv_fpath, audio_dir):\n",
    "    dico_strong = {} # keys: .wav files, values: y temporal label\n",
    "    wav_lst = []\n",
    "    \n",
    "    ms2sample_ratio = 431. / 10.\n",
    "    \n",
    "    with open(label_csv_fpath, 'r') as fh:\n",
    "        isFirstLine=True\n",
    "        for ligne in fh:\n",
    "            if isFirstLine:\n",
    "                isFirstLine=False\n",
    "                continue\n",
    "            tab = ligne.rstrip().split('\\t')\n",
    "            \n",
    "            fileid=tab[0]\n",
    "\n",
    "            if not os.path.isfile(audio_dir + '/' + fileid):\n",
    "                print('W: file does not exist:', audio_dir + '/' +  fileid)\n",
    "                continue\n",
    "            \n",
    "            if not fileid in dico_strong:\n",
    "                y_ = np.zeros((431, 10))\n",
    "\n",
    "            if len(tab)>1:\n",
    "                label = tab[-1]\n",
    "                onset_in_sample = math.floor(float(tab[1]) * ms2sample_ratio)\n",
    "                offset_in_sample = min(430, math.ceil(float(tab[2]) * ms2sample_ratio))\n",
    "                for t in range(onset_in_sample, offset_in_sample+1):\n",
    "                    y_[t, class_correspondance[label]] = 1\n",
    "\n",
    "                dico_strong[fileid] = y_\n",
    "            else:\n",
    "                print('W: no label for file', audio_dir + '/' +  fileid)\n",
    "#                 print(fileid)\n",
    "#                 dico_strong[fileid] = y_\n",
    "                \n",
    "    if len(dico_strong)>1:\n",
    "        return dico_strong, wav_lst\n",
    "    else: return None"
   ]
  },
  {
   "cell_type": "code",
   "execution_count": 114,
   "metadata": {
    "hidden": true
   },
   "outputs": [],
   "source": [
    "audiodir='/baie/corpus/DCASE2019/task4/dataset/audio/train/synthetic'\n",
    "label_csv_fpath='/baie/corpus/DCASE2019/task4/dataset/metadata/train/synthetic.csv'\n",
    "\n",
    "# audiodir='/baie/corpus/DCASE2019/task4/dataset/audio/validation'\n",
    "# label_csv_fpath='/baie/corpus/DCASE2019/task4/dataset/metadata/validation/validation.csv'\n",
    "\n",
    "dico_strong, wav_lst = create_dico_strong_labels(label_csv_fpath, audiodir)"
   ]
  },
  {
   "cell_type": "code",
   "execution_count": 115,
   "metadata": {
    "hidden": true
   },
   "outputs": [
    {
     "data": {
      "text/plain": [
       "2045"
      ]
     },
     "execution_count": 115,
     "metadata": {},
     "output_type": "execute_result"
    }
   ],
   "source": [
    "len(dico_strong)# , dico_strong['Y0eh_N-cmcuI_350.000_360.000.wav'].shape"
   ]
  },
  {
   "cell_type": "code",
   "execution_count": 121,
   "metadata": {
    "hidden": true
   },
   "outputs": [
    {
     "name": "stdout",
     "output_type": "stream",
     "text": [
      "0.000 [0. 0. 0. 0. 0. 0. 0. 0. 0. 0.]\n",
      "0.023 [0. 0. 0. 0. 0. 0. 0. 0. 0. 0.]\n",
      "0.046 [0. 0. 0. 0. 0. 0. 0. 0. 0. 0.]\n",
      "0.070 [0. 0. 0. 0. 0. 0. 0. 0. 0. 0.]\n",
      "0.093 [0. 0. 0. 0. 0. 0. 0. 0. 0. 0.]\n",
      "0.116 [0. 0. 0. 0. 0. 0. 0. 0. 0. 0.]\n",
      "0.139 [0. 0. 0. 0. 0. 0. 0. 0. 0. 0.]\n",
      "0.162 [0. 0. 0. 0. 0. 0. 0. 0. 0. 0.]\n",
      "0.186 [0. 0. 0. 0. 0. 0. 0. 0. 0. 0.]\n",
      "0.209 [0. 0. 0. 0. 0. 0. 0. 0. 0. 0.]\n",
      "0.232 [0. 0. 0. 0. 0. 0. 0. 0. 0. 0.]\n",
      "0.255 [0. 0. 0. 0. 0. 0. 0. 0. 0. 0.]\n",
      "0.278 [1. 0. 0. 0. 0. 0. 0. 0. 0. 0.]\n",
      "0.302 [1. 0. 0. 0. 0. 0. 0. 0. 0. 0.]\n",
      "0.325 [1. 0. 0. 0. 0. 0. 0. 0. 0. 0.]\n",
      "0.348 [1. 0. 0. 0. 0. 0. 0. 0. 0. 0.]\n",
      "0.371 [1. 0. 0. 0. 0. 0. 0. 0. 0. 0.]\n",
      "0.394 [1. 0. 0. 0. 0. 0. 0. 0. 0. 0.]\n",
      "0.418 [1. 0. 0. 0. 0. 0. 0. 0. 0. 0.]\n",
      "0.441 [1. 0. 0. 0. 0. 0. 0. 0. 0. 0.]\n",
      "0.464 [1. 0. 0. 0. 0. 0. 0. 0. 0. 0.]\n",
      "0.487 [1. 0. 0. 0. 0. 0. 0. 0. 0. 0.]\n",
      "0.510 [1. 0. 0. 0. 0. 0. 0. 0. 0. 0.]\n",
      "0.534 [1. 0. 0. 0. 0. 0. 0. 0. 0. 0.]\n",
      "0.557 [1. 0. 0. 0. 0. 0. 0. 0. 0. 0.]\n",
      "0.580 [1. 0. 0. 0. 0. 0. 0. 0. 0. 0.]\n",
      "0.603 [1. 0. 0. 0. 0. 0. 0. 0. 0. 0.]\n",
      "0.626 [1. 0. 0. 0. 0. 0. 0. 0. 0. 0.]\n",
      "0.650 [1. 0. 0. 0. 0. 0. 0. 0. 0. 0.]\n",
      "0.673 [1. 0. 0. 0. 0. 0. 0. 0. 0. 0.]\n",
      "0.696 [1. 0. 0. 0. 0. 0. 0. 0. 0. 0.]\n",
      "0.719 [1. 0. 0. 0. 0. 0. 0. 0. 0. 0.]\n",
      "0.742 [1. 0. 0. 0. 0. 0. 0. 0. 0. 0.]\n",
      "0.766 [1. 0. 0. 0. 0. 0. 0. 0. 0. 0.]\n",
      "0.789 [1. 0. 0. 0. 0. 0. 0. 0. 0. 0.]\n",
      "0.812 [1. 0. 0. 0. 0. 0. 0. 0. 0. 0.]\n",
      "0.835 [1. 0. 0. 0. 0. 0. 0. 0. 0. 0.]\n",
      "0.858 [1. 0. 0. 0. 0. 0. 0. 0. 0. 0.]\n",
      "0.882 [1. 0. 0. 0. 0. 0. 0. 0. 0. 0.]\n",
      "0.905 [1. 0. 0. 0. 0. 0. 0. 0. 0. 0.]\n",
      "0.928 [1. 0. 0. 0. 0. 0. 0. 0. 0. 0.]\n",
      "0.951 [1. 0. 0. 0. 0. 0. 0. 0. 0. 0.]\n",
      "0.974 [1. 0. 0. 0. 0. 0. 0. 0. 0. 0.]\n",
      "0.998 [1. 0. 0. 0. 0. 0. 0. 0. 0. 0.]\n",
      "1.021 [1. 0. 0. 0. 0. 0. 0. 0. 0. 0.]\n",
      "1.044 [1. 0. 0. 0. 0. 0. 0. 0. 0. 0.]\n",
      "1.067 [1. 0. 0. 0. 0. 0. 0. 0. 0. 0.]\n",
      "1.090 [0. 0. 0. 0. 0. 0. 0. 0. 0. 0.]\n",
      "1.114 [0. 0. 0. 0. 0. 0. 0. 0. 0. 0.]\n",
      "1.137 [0. 0. 0. 0. 0. 0. 0. 0. 0. 0.]\n",
      "1.160 [0. 0. 0. 0. 0. 0. 0. 0. 0. 0.]\n",
      "1.183 [0. 0. 0. 0. 0. 0. 0. 0. 0. 0.]\n",
      "1.206 [0. 0. 0. 0. 0. 0. 0. 0. 0. 0.]\n",
      "1.230 [0. 0. 0. 0. 0. 0. 0. 0. 0. 0.]\n",
      "1.253 [0. 0. 0. 0. 0. 0. 0. 0. 0. 0.]\n",
      "1.276 [0. 0. 0. 0. 0. 0. 0. 0. 0. 0.]\n",
      "1.299 [0. 0. 0. 0. 0. 0. 0. 0. 0. 0.]\n",
      "1.323 [0. 0. 0. 0. 0. 0. 0. 0. 0. 0.]\n",
      "1.346 [0. 0. 0. 0. 0. 0. 0. 0. 0. 0.]\n",
      "1.369 [0. 0. 0. 0. 0. 0. 0. 0. 0. 0.]\n",
      "1.392 [0. 0. 0. 0. 0. 0. 0. 0. 0. 0.]\n",
      "1.415 [0. 0. 0. 0. 0. 0. 0. 0. 0. 0.]\n",
      "1.439 [0. 0. 0. 0. 0. 0. 0. 0. 0. 0.]\n",
      "1.462 [0. 0. 0. 0. 0. 0. 0. 0. 0. 0.]\n",
      "1.485 [0. 0. 0. 0. 0. 0. 0. 0. 0. 0.]\n",
      "1.508 [0. 0. 0. 0. 0. 0. 0. 0. 0. 0.]\n",
      "1.531 [0. 0. 0. 0. 0. 0. 0. 0. 0. 0.]\n",
      "1.555 [0. 0. 0. 0. 0. 0. 0. 0. 0. 0.]\n",
      "1.578 [0. 0. 0. 0. 0. 0. 0. 0. 0. 0.]\n",
      "1.601 [0. 0. 0. 0. 0. 0. 0. 0. 0. 0.]\n",
      "1.624 [0. 0. 0. 0. 0. 0. 0. 0. 0. 0.]\n",
      "1.647 [0. 0. 0. 0. 0. 0. 0. 0. 0. 0.]\n",
      "1.671 [0. 0. 0. 0. 0. 0. 0. 0. 0. 0.]\n",
      "1.694 [0. 0. 0. 0. 0. 0. 0. 0. 0. 0.]\n",
      "1.717 [1. 0. 0. 0. 0. 0. 0. 0. 0. 0.]\n",
      "1.740 [1. 0. 0. 0. 0. 0. 0. 0. 0. 0.]\n",
      "1.763 [1. 0. 0. 0. 0. 0. 0. 0. 0. 0.]\n",
      "1.787 [1. 0. 0. 0. 0. 0. 0. 0. 0. 0.]\n",
      "1.810 [1. 0. 0. 0. 0. 0. 0. 0. 0. 0.]\n",
      "1.833 [1. 0. 0. 0. 0. 0. 0. 0. 0. 0.]\n",
      "1.856 [1. 0. 0. 0. 0. 0. 0. 0. 0. 0.]\n",
      "1.879 [1. 0. 0. 0. 0. 0. 0. 0. 0. 0.]\n",
      "1.903 [1. 0. 0. 0. 0. 0. 0. 0. 0. 0.]\n",
      "1.926 [1. 0. 0. 0. 0. 0. 0. 0. 0. 0.]\n",
      "1.949 [1. 0. 0. 0. 0. 0. 0. 0. 0. 0.]\n",
      "1.972 [1. 0. 0. 0. 0. 0. 0. 0. 0. 0.]\n",
      "1.995 [0. 0. 0. 0. 0. 0. 0. 0. 0. 0.]\n",
      "2.019 [0. 0. 0. 0. 0. 0. 0. 0. 0. 0.]\n",
      "2.042 [0. 0. 0. 0. 0. 0. 0. 0. 0. 0.]\n",
      "2.065 [0. 0. 0. 0. 0. 0. 0. 0. 0. 0.]\n",
      "2.088 [0. 0. 0. 0. 0. 0. 0. 0. 0. 0.]\n",
      "2.111 [0. 0. 0. 0. 0. 0. 0. 0. 0. 0.]\n",
      "2.135 [0. 0. 0. 0. 0. 0. 0. 0. 0. 0.]\n",
      "2.158 [0. 0. 0. 0. 0. 0. 0. 0. 0. 0.]\n",
      "2.181 [0. 0. 0. 0. 0. 0. 0. 0. 0. 0.]\n",
      "2.204 [0. 0. 0. 0. 0. 0. 0. 0. 0. 0.]\n",
      "2.227 [0. 0. 0. 0. 0. 0. 0. 0. 0. 0.]\n",
      "2.251 [0. 0. 0. 0. 0. 0. 0. 0. 0. 0.]\n",
      "2.274 [0. 0. 0. 0. 0. 0. 0. 0. 0. 0.]\n",
      "2.297 [0. 0. 0. 0. 0. 0. 0. 0. 0. 0.]\n",
      "2.320 [0. 0. 0. 0. 0. 0. 0. 0. 0. 0.]\n",
      "2.343 [0. 0. 0. 0. 0. 0. 0. 0. 0. 0.]\n",
      "2.367 [0. 0. 0. 0. 0. 0. 0. 0. 0. 0.]\n",
      "2.390 [0. 0. 0. 0. 0. 0. 0. 0. 0. 0.]\n",
      "2.413 [0. 0. 0. 0. 0. 0. 0. 0. 0. 0.]\n",
      "2.436 [0. 0. 0. 0. 0. 0. 0. 0. 0. 0.]\n",
      "2.459 [0. 0. 0. 0. 0. 0. 0. 0. 0. 0.]\n",
      "2.483 [0. 0. 0. 0. 0. 0. 0. 0. 0. 0.]\n",
      "2.506 [0. 0. 0. 0. 0. 0. 0. 0. 0. 0.]\n",
      "2.529 [0. 0. 0. 0. 0. 0. 0. 0. 0. 0.]\n",
      "2.552 [0. 0. 0. 0. 0. 0. 0. 0. 0. 0.]\n",
      "2.575 [0. 0. 0. 0. 0. 0. 0. 0. 0. 0.]\n",
      "2.599 [0. 0. 0. 0. 0. 0. 0. 0. 0. 0.]\n",
      "2.622 [0. 0. 0. 0. 0. 0. 0. 0. 0. 0.]\n",
      "2.645 [0. 0. 0. 0. 0. 0. 0. 0. 0. 0.]\n",
      "2.668 [0. 0. 0. 0. 0. 0. 0. 0. 0. 0.]\n",
      "2.691 [0. 0. 0. 0. 0. 0. 0. 0. 0. 0.]\n",
      "2.715 [0. 0. 0. 0. 0. 0. 0. 0. 0. 0.]\n",
      "2.738 [0. 0. 0. 0. 0. 0. 0. 0. 0. 0.]\n",
      "2.761 [0. 0. 0. 0. 0. 0. 0. 0. 0. 0.]\n",
      "2.784 [0. 0. 0. 0. 0. 0. 0. 0. 0. 0.]\n",
      "2.807 [0. 0. 0. 0. 0. 0. 0. 0. 0. 0.]\n",
      "2.831 [0. 0. 0. 0. 0. 0. 0. 0. 0. 0.]\n",
      "2.854 [0. 0. 0. 0. 0. 0. 0. 0. 0. 0.]\n",
      "2.877 [0. 0. 0. 0. 0. 0. 0. 0. 0. 0.]\n",
      "2.900 [0. 0. 0. 0. 0. 0. 0. 0. 0. 0.]\n",
      "2.923 [0. 0. 0. 0. 0. 0. 0. 0. 0. 0.]\n",
      "2.947 [0. 0. 0. 0. 0. 0. 0. 0. 0. 0.]\n",
      "2.970 [0. 0. 0. 0. 0. 0. 0. 0. 0. 0.]\n",
      "2.993 [0. 0. 0. 0. 0. 0. 0. 0. 0. 0.]\n",
      "3.016 [0. 0. 0. 0. 0. 0. 0. 0. 0. 0.]\n",
      "3.039 [0. 0. 0. 0. 0. 0. 0. 0. 0. 0.]\n",
      "3.063 [0. 0. 0. 0. 0. 0. 0. 0. 0. 0.]\n",
      "3.086 [0. 0. 0. 0. 0. 0. 0. 0. 0. 0.]\n",
      "3.109 [0. 0. 0. 0. 0. 0. 0. 0. 0. 0.]\n",
      "3.132 [0. 0. 0. 0. 0. 0. 0. 0. 0. 0.]\n",
      "3.155 [0. 0. 0. 0. 0. 0. 0. 0. 0. 0.]\n",
      "3.179 [0. 0. 0. 0. 0. 0. 0. 0. 0. 0.]\n",
      "3.202 [0. 0. 0. 0. 0. 0. 0. 0. 0. 0.]\n",
      "3.225 [0. 0. 0. 0. 0. 0. 0. 0. 0. 0.]\n",
      "3.248 [0. 0. 0. 0. 0. 0. 0. 0. 0. 0.]\n",
      "3.271 [0. 0. 0. 0. 0. 0. 0. 0. 0. 0.]\n",
      "3.295 [0. 0. 0. 0. 0. 0. 0. 0. 0. 0.]\n",
      "3.318 [0. 0. 0. 0. 0. 0. 0. 0. 0. 0.]\n",
      "3.341 [0. 0. 0. 0. 0. 0. 0. 0. 0. 0.]\n",
      "3.364 [0. 0. 0. 0. 0. 0. 0. 0. 0. 0.]\n",
      "3.387 [0. 0. 0. 0. 0. 0. 0. 0. 0. 0.]\n",
      "3.411 [0. 0. 0. 0. 0. 0. 0. 0. 0. 0.]\n",
      "3.434 [0. 0. 0. 0. 0. 0. 0. 0. 0. 0.]\n",
      "3.457 [0. 0. 0. 0. 0. 0. 0. 0. 0. 0.]\n",
      "3.480 [0. 0. 0. 0. 0. 0. 0. 0. 0. 0.]\n",
      "3.503 [0. 0. 0. 0. 0. 0. 0. 0. 0. 0.]\n",
      "3.527 [0. 0. 0. 0. 0. 0. 0. 0. 0. 0.]\n",
      "3.550 [0. 0. 0. 0. 0. 0. 0. 0. 0. 0.]\n",
      "3.573 [0. 0. 0. 0. 0. 0. 0. 0. 0. 0.]\n",
      "3.596 [0. 0. 0. 0. 0. 0. 0. 0. 0. 0.]\n",
      "3.619 [0. 0. 0. 0. 0. 0. 0. 0. 0. 0.]\n",
      "3.643 [0. 0. 0. 0. 0. 0. 0. 0. 0. 0.]\n",
      "3.666 [0. 0. 0. 0. 0. 0. 0. 0. 0. 0.]\n",
      "3.689 [0. 0. 0. 0. 0. 0. 0. 0. 0. 0.]\n",
      "3.712 [0. 0. 0. 0. 0. 0. 0. 0. 0. 0.]\n",
      "3.735 [0. 0. 0. 0. 0. 0. 0. 0. 0. 0.]\n",
      "3.759 [0. 0. 0. 0. 0. 0. 0. 0. 0. 0.]\n",
      "3.782 [0. 0. 0. 0. 0. 0. 0. 0. 0. 0.]\n",
      "3.805 [0. 0. 0. 0. 0. 0. 0. 0. 0. 0.]\n",
      "3.828 [0. 0. 0. 0. 0. 0. 0. 0. 0. 0.]\n",
      "3.852 [0. 0. 0. 0. 0. 0. 0. 0. 0. 0.]\n",
      "3.875 [0. 0. 0. 0. 0. 0. 0. 0. 0. 0.]\n",
      "3.898 [0. 0. 0. 0. 0. 0. 0. 0. 0. 0.]\n",
      "3.921 [0. 0. 0. 0. 0. 0. 0. 0. 0. 0.]\n",
      "3.944 [0. 0. 0. 0. 0. 0. 0. 0. 0. 0.]\n",
      "3.968 [0. 0. 0. 0. 0. 0. 0. 0. 0. 0.]\n",
      "3.991 [0. 0. 0. 0. 0. 0. 0. 0. 0. 0.]\n",
      "4.014 [0. 0. 0. 0. 0. 0. 0. 0. 0. 0.]\n",
      "4.037 [0. 0. 0. 0. 0. 0. 0. 0. 0. 0.]\n",
      "4.060 [0. 0. 0. 0. 0. 0. 0. 0. 0. 0.]\n",
      "4.084 [0. 0. 0. 0. 0. 0. 0. 0. 0. 0.]\n",
      "4.107 [0. 0. 0. 0. 0. 0. 0. 0. 0. 0.]\n",
      "4.130 [0. 0. 0. 0. 0. 0. 0. 0. 0. 0.]\n",
      "4.153 [0. 0. 0. 0. 0. 0. 0. 0. 0. 0.]\n",
      "4.176 [0. 0. 0. 0. 0. 0. 0. 0. 0. 0.]\n",
      "4.200 [0. 0. 0. 0. 0. 0. 0. 0. 0. 0.]\n",
      "4.223 [0. 0. 0. 0. 0. 0. 0. 0. 0. 0.]\n",
      "4.246 [0. 0. 0. 0. 0. 0. 0. 0. 0. 0.]\n",
      "4.269 [0. 0. 0. 0. 0. 0. 0. 0. 0. 0.]\n",
      "4.292 [0. 0. 0. 0. 0. 0. 0. 0. 0. 0.]\n",
      "4.316 [0. 0. 0. 0. 0. 0. 0. 0. 0. 0.]\n",
      "4.339 [0. 0. 0. 0. 0. 0. 0. 0. 0. 0.]\n",
      "4.362 [0. 0. 0. 0. 0. 0. 0. 0. 0. 0.]\n",
      "4.385 [0. 0. 0. 0. 0. 0. 0. 0. 0. 0.]\n",
      "4.408 [0. 0. 0. 0. 0. 0. 0. 0. 0. 0.]\n",
      "4.432 [0. 0. 0. 0. 0. 0. 0. 0. 0. 0.]\n",
      "4.455 [0. 0. 0. 0. 0. 0. 0. 0. 0. 0.]\n",
      "4.478 [0. 0. 0. 0. 0. 0. 0. 0. 0. 0.]\n",
      "4.501 [0. 0. 0. 0. 0. 0. 0. 0. 0. 0.]\n",
      "4.524 [0. 0. 0. 0. 0. 0. 0. 0. 0. 0.]\n",
      "4.548 [0. 0. 0. 0. 0. 0. 0. 0. 0. 0.]\n",
      "4.571 [0. 0. 0. 0. 0. 0. 0. 0. 0. 0.]\n",
      "4.594 [0. 0. 0. 0. 0. 0. 0. 0. 0. 0.]\n",
      "4.617 [0. 0. 0. 0. 0. 0. 0. 0. 0. 0.]\n",
      "4.640 [0. 0. 0. 0. 0. 0. 0. 0. 0. 0.]\n",
      "4.664 [0. 0. 0. 0. 0. 0. 0. 0. 0. 0.]\n",
      "4.687 [0. 0. 0. 0. 0. 0. 0. 0. 0. 0.]\n",
      "4.710 [0. 0. 0. 0. 0. 0. 0. 0. 0. 0.]\n",
      "4.733 [0. 0. 0. 0. 0. 0. 0. 0. 0. 0.]\n",
      "4.756 [0. 0. 0. 0. 0. 0. 0. 0. 0. 0.]\n",
      "4.780 [0. 0. 0. 0. 0. 0. 0. 0. 0. 0.]\n",
      "4.803 [0. 0. 0. 0. 0. 0. 0. 0. 0. 0.]\n",
      "4.826 [0. 0. 0. 0. 0. 0. 0. 0. 0. 0.]\n",
      "4.849 [0. 0. 0. 0. 0. 0. 0. 0. 0. 0.]\n",
      "4.872 [0. 0. 0. 0. 0. 0. 0. 0. 0. 0.]\n",
      "4.896 [0. 0. 0. 0. 0. 0. 0. 0. 0. 0.]\n",
      "4.919 [0. 0. 0. 0. 0. 0. 0. 0. 0. 0.]\n",
      "4.942 [0. 0. 0. 0. 0. 0. 0. 0. 0. 0.]\n",
      "4.965 [0. 0. 0. 0. 0. 0. 0. 0. 0. 0.]\n",
      "4.988 [0. 0. 0. 0. 0. 0. 0. 0. 0. 0.]\n",
      "5.012 [0. 0. 0. 0. 0. 0. 0. 0. 0. 0.]\n",
      "5.035 [1. 0. 0. 0. 0. 0. 0. 0. 0. 0.]\n",
      "5.058 [1. 0. 0. 0. 0. 0. 0. 0. 0. 0.]\n",
      "5.081 [1. 0. 0. 0. 0. 0. 0. 0. 0. 0.]\n",
      "5.104 [1. 0. 0. 0. 0. 0. 0. 0. 0. 0.]\n",
      "5.128 [1. 0. 0. 0. 0. 0. 0. 0. 0. 0.]\n",
      "5.151 [1. 0. 0. 0. 0. 0. 0. 0. 0. 0.]\n",
      "5.174 [1. 0. 0. 0. 0. 0. 0. 0. 0. 0.]\n",
      "5.197 [1. 0. 0. 0. 0. 0. 0. 0. 0. 0.]\n",
      "5.220 [1. 0. 0. 0. 0. 0. 0. 0. 0. 0.]\n",
      "5.244 [1. 0. 0. 0. 0. 0. 0. 0. 0. 0.]\n",
      "5.267 [1. 0. 0. 0. 0. 0. 0. 0. 0. 0.]\n",
      "5.290 [1. 0. 0. 0. 0. 0. 0. 0. 0. 0.]\n",
      "5.313 [1. 0. 0. 0. 0. 0. 0. 0. 0. 0.]\n",
      "5.336 [1. 0. 0. 0. 0. 0. 0. 0. 0. 0.]\n",
      "5.360 [1. 0. 0. 0. 0. 0. 0. 0. 0. 0.]\n",
      "5.383 [1. 0. 0. 0. 0. 0. 0. 0. 0. 0.]\n",
      "5.406 [1. 0. 0. 0. 0. 0. 0. 0. 0. 0.]\n",
      "5.429 [1. 0. 0. 0. 0. 0. 0. 0. 0. 0.]\n",
      "5.452 [1. 0. 0. 0. 0. 0. 0. 0. 0. 0.]\n",
      "5.476 [1. 0. 0. 0. 0. 0. 0. 0. 0. 0.]\n",
      "5.499 [1. 0. 0. 0. 0. 0. 0. 0. 0. 0.]\n",
      "5.522 [1. 0. 0. 0. 0. 0. 0. 0. 0. 0.]\n",
      "5.545 [1. 0. 0. 0. 0. 0. 0. 0. 0. 0.]\n",
      "5.568 [1. 0. 0. 0. 0. 0. 0. 0. 0. 0.]\n",
      "5.592 [1. 0. 0. 0. 0. 0. 0. 0. 0. 0.]\n",
      "5.615 [1. 0. 0. 0. 0. 0. 0. 0. 0. 0.]\n",
      "5.638 [1. 0. 0. 0. 0. 0. 0. 0. 0. 0.]\n",
      "5.661 [1. 0. 0. 0. 0. 0. 0. 0. 0. 0.]\n",
      "5.684 [1. 0. 0. 0. 0. 0. 0. 0. 0. 0.]\n",
      "5.708 [1. 0. 0. 0. 0. 0. 0. 0. 0. 0.]\n",
      "5.731 [1. 0. 0. 0. 0. 0. 0. 0. 0. 0.]\n",
      "5.754 [1. 0. 0. 0. 0. 0. 0. 0. 0. 0.]\n",
      "5.777 [1. 0. 0. 0. 0. 0. 0. 0. 0. 0.]\n",
      "5.800 [1. 0. 0. 0. 0. 0. 0. 0. 0. 0.]\n",
      "5.824 [1. 0. 0. 0. 0. 0. 0. 0. 0. 0.]\n",
      "5.847 [1. 0. 0. 0. 0. 0. 0. 0. 0. 0.]\n",
      "5.870 [1. 0. 0. 0. 0. 0. 0. 0. 0. 0.]\n",
      "5.893 [1. 0. 0. 0. 0. 0. 0. 0. 0. 0.]\n",
      "5.916 [1. 0. 0. 0. 0. 0. 0. 0. 0. 0.]\n",
      "5.940 [1. 0. 0. 0. 0. 0. 0. 0. 0. 0.]\n",
      "5.963 [1. 0. 0. 0. 0. 0. 0. 0. 0. 0.]\n",
      "5.986 [1. 0. 0. 0. 0. 0. 0. 0. 0. 0.]\n",
      "6.009 [1. 0. 0. 0. 0. 0. 0. 0. 0. 0.]\n",
      "6.032 [1. 0. 0. 0. 0. 0. 0. 0. 0. 0.]\n",
      "6.056 [0. 0. 0. 0. 0. 0. 0. 0. 0. 0.]\n",
      "6.079 [0. 0. 0. 0. 0. 0. 0. 0. 0. 0.]\n",
      "6.102 [0. 0. 0. 0. 0. 0. 0. 0. 0. 0.]\n",
      "6.125 [0. 0. 0. 0. 0. 0. 0. 0. 0. 0.]\n",
      "6.148 [0. 0. 0. 0. 0. 0. 0. 0. 0. 0.]\n",
      "6.172 [0. 0. 0. 0. 0. 0. 0. 0. 0. 0.]\n",
      "6.195 [0. 0. 0. 0. 0. 0. 0. 0. 0. 0.]\n",
      "6.218 [0. 0. 0. 0. 0. 0. 0. 0. 0. 0.]\n",
      "6.241 [0. 0. 0. 0. 0. 0. 0. 0. 0. 0.]\n",
      "6.265 [0. 0. 0. 0. 0. 0. 0. 0. 0. 0.]\n",
      "6.288 [0. 0. 0. 0. 0. 0. 0. 0. 0. 0.]\n",
      "6.311 [0. 0. 0. 0. 0. 0. 0. 0. 0. 0.]\n",
      "6.334 [0. 0. 0. 0. 0. 0. 0. 0. 0. 0.]\n",
      "6.357 [0. 0. 0. 0. 0. 0. 0. 0. 0. 0.]\n",
      "6.381 [0. 0. 0. 0. 0. 0. 0. 0. 0. 0.]\n",
      "6.404 [0. 0. 0. 0. 0. 0. 0. 0. 0. 0.]\n",
      "6.427 [0. 0. 0. 0. 0. 0. 0. 0. 0. 0.]\n",
      "6.450 [0. 0. 0. 0. 0. 0. 0. 0. 0. 0.]\n",
      "6.473 [0. 0. 0. 0. 0. 0. 0. 0. 0. 0.]\n",
      "6.497 [0. 0. 0. 0. 0. 0. 0. 0. 0. 0.]\n",
      "6.520 [0. 0. 0. 0. 0. 0. 0. 0. 0. 0.]\n",
      "6.543 [0. 0. 0. 0. 0. 0. 0. 0. 0. 0.]\n",
      "6.566 [0. 0. 0. 0. 0. 0. 0. 0. 0. 0.]\n",
      "6.589 [0. 0. 0. 0. 0. 0. 0. 0. 0. 0.]\n",
      "6.613 [0. 0. 0. 0. 0. 0. 0. 0. 0. 0.]\n",
      "6.636 [0. 0. 0. 0. 0. 0. 0. 0. 0. 0.]\n",
      "6.659 [0. 0. 0. 0. 0. 0. 0. 0. 0. 0.]\n",
      "6.682 [0. 0. 0. 0. 0. 0. 0. 0. 0. 0.]\n",
      "6.705 [0. 0. 0. 0. 0. 0. 0. 0. 0. 0.]\n",
      "6.729 [0. 0. 0. 0. 0. 0. 0. 0. 0. 0.]\n",
      "6.752 [0. 0. 0. 0. 0. 0. 0. 0. 0. 0.]\n",
      "6.775 [0. 0. 0. 0. 0. 0. 0. 0. 0. 0.]\n",
      "6.798 [0. 0. 0. 0. 0. 0. 0. 0. 0. 0.]\n",
      "6.821 [0. 0. 0. 0. 0. 0. 0. 0. 0. 0.]\n",
      "6.845 [0. 0. 0. 0. 0. 0. 0. 0. 0. 0.]\n",
      "6.868 [0. 0. 0. 0. 0. 0. 0. 0. 0. 0.]\n",
      "6.891 [0. 0. 0. 0. 0. 0. 0. 0. 0. 0.]\n",
      "6.914 [0. 0. 0. 0. 0. 0. 0. 0. 0. 0.]\n",
      "6.937 [0. 0. 0. 0. 0. 0. 0. 0. 0. 0.]\n",
      "6.961 [0. 0. 0. 0. 0. 0. 0. 0. 0. 0.]\n",
      "6.984 [0. 0. 0. 0. 0. 0. 0. 0. 0. 0.]\n",
      "7.007 [0. 0. 0. 0. 0. 0. 0. 0. 0. 0.]\n",
      "7.030 [0. 0. 0. 0. 0. 0. 0. 0. 0. 0.]\n",
      "7.053 [0. 0. 0. 0. 0. 0. 0. 0. 0. 0.]\n",
      "7.077 [0. 0. 0. 0. 0. 0. 0. 0. 0. 0.]\n",
      "7.100 [0. 0. 0. 0. 0. 0. 0. 0. 0. 0.]\n",
      "7.123 [0. 0. 0. 0. 0. 0. 0. 0. 0. 0.]\n",
      "7.146 [0. 0. 0. 0. 0. 0. 0. 0. 0. 0.]\n",
      "7.169 [0. 0. 0. 0. 0. 0. 0. 0. 0. 0.]\n",
      "7.193 [0. 0. 0. 0. 0. 0. 0. 0. 0. 0.]\n",
      "7.216 [0. 0. 0. 0. 0. 0. 0. 0. 0. 0.]\n",
      "7.239 [0. 1. 0. 0. 0. 0. 0. 0. 0. 0.]\n",
      "7.262 [0. 1. 0. 0. 0. 0. 0. 0. 0. 0.]\n",
      "7.285 [0. 1. 0. 0. 0. 0. 0. 0. 0. 0.]\n",
      "7.309 [0. 1. 0. 0. 0. 0. 0. 0. 0. 0.]\n",
      "7.332 [0. 1. 0. 0. 0. 0. 0. 0. 0. 0.]\n",
      "7.355 [0. 1. 0. 0. 0. 0. 0. 0. 0. 0.]\n",
      "7.378 [0. 1. 0. 0. 0. 0. 0. 0. 0. 0.]\n",
      "7.401 [0. 1. 0. 0. 0. 0. 0. 0. 0. 0.]\n",
      "7.425 [0. 1. 0. 0. 0. 0. 0. 0. 0. 0.]\n",
      "7.448 [0. 1. 0. 0. 0. 0. 0. 0. 0. 0.]\n",
      "7.471 [0. 1. 0. 0. 0. 0. 0. 0. 0. 0.]\n",
      "7.494 [0. 1. 0. 0. 0. 0. 0. 0. 0. 0.]\n",
      "7.517 [0. 1. 0. 0. 0. 0. 0. 0. 0. 0.]\n",
      "7.541 [0. 1. 0. 0. 0. 0. 0. 0. 0. 0.]\n",
      "7.564 [0. 1. 0. 0. 0. 0. 0. 0. 0. 0.]\n",
      "7.587 [0. 1. 0. 0. 0. 0. 0. 0. 0. 0.]\n",
      "7.610 [0. 1. 0. 0. 0. 0. 0. 0. 0. 0.]\n",
      "7.633 [0. 1. 0. 0. 0. 0. 0. 0. 0. 0.]\n",
      "7.657 [0. 1. 0. 0. 0. 0. 0. 0. 0. 0.]\n",
      "7.680 [0. 1. 0. 0. 0. 0. 0. 0. 0. 0.]\n",
      "7.703 [0. 1. 0. 0. 0. 0. 0. 0. 0. 0.]\n",
      "7.726 [0. 1. 0. 0. 0. 0. 0. 0. 0. 0.]\n",
      "7.749 [0. 1. 0. 0. 0. 0. 0. 0. 0. 0.]\n",
      "7.773 [0. 1. 0. 0. 0. 0. 0. 0. 0. 0.]\n",
      "7.796 [0. 1. 0. 0. 0. 0. 0. 0. 0. 0.]\n",
      "7.819 [0. 1. 0. 0. 0. 0. 0. 0. 0. 0.]\n",
      "7.842 [0. 1. 0. 0. 0. 0. 0. 0. 0. 0.]\n",
      "7.865 [0. 1. 0. 0. 0. 0. 0. 0. 0. 0.]\n",
      "7.889 [0. 1. 0. 0. 0. 0. 0. 0. 0. 0.]\n",
      "7.912 [0. 1. 0. 0. 0. 0. 0. 0. 0. 0.]\n",
      "7.935 [0. 1. 0. 0. 0. 0. 0. 0. 0. 0.]\n",
      "7.958 [0. 1. 0. 0. 0. 0. 0. 0. 0. 0.]\n",
      "7.981 [0. 1. 0. 0. 0. 0. 0. 0. 0. 0.]\n",
      "8.005 [0. 1. 0. 0. 0. 0. 0. 0. 0. 0.]\n",
      "8.028 [0. 1. 0. 0. 0. 0. 0. 0. 0. 0.]\n",
      "8.051 [0. 1. 0. 0. 0. 0. 0. 0. 0. 0.]\n",
      "8.074 [0. 1. 0. 0. 0. 0. 0. 0. 0. 0.]\n",
      "8.097 [0. 1. 0. 0. 0. 0. 0. 0. 0. 0.]\n",
      "8.121 [0. 1. 0. 0. 0. 0. 0. 0. 0. 0.]\n",
      "8.144 [0. 1. 0. 0. 0. 0. 0. 0. 0. 0.]\n",
      "8.167 [0. 1. 0. 0. 0. 0. 0. 0. 0. 0.]\n",
      "8.190 [0. 1. 0. 0. 0. 0. 0. 0. 0. 0.]\n",
      "8.213 [0. 1. 0. 0. 0. 0. 0. 0. 0. 0.]\n",
      "8.237 [0. 1. 0. 0. 0. 0. 0. 0. 0. 0.]\n",
      "8.260 [0. 1. 0. 0. 0. 0. 0. 0. 0. 0.]\n",
      "8.283 [0. 1. 0. 0. 0. 0. 0. 0. 0. 0.]\n",
      "8.306 [0. 1. 0. 0. 0. 0. 0. 0. 0. 0.]\n",
      "8.329 [0. 1. 0. 0. 0. 0. 0. 0. 0. 0.]\n",
      "8.353 [0. 1. 0. 0. 0. 0. 0. 0. 0. 0.]\n",
      "8.376 [0. 1. 0. 0. 0. 0. 0. 0. 0. 0.]\n",
      "8.399 [0. 1. 0. 0. 0. 0. 0. 0. 0. 0.]\n",
      "8.422 [0. 1. 0. 0. 0. 0. 0. 0. 0. 0.]\n",
      "8.445 [0. 1. 0. 0. 0. 0. 0. 0. 0. 0.]\n",
      "8.469 [0. 1. 0. 0. 0. 0. 0. 0. 0. 0.]\n",
      "8.492 [0. 1. 0. 0. 0. 0. 0. 0. 0. 0.]\n",
      "8.515 [0. 1. 0. 0. 0. 0. 0. 0. 0. 0.]\n",
      "8.538 [0. 0. 0. 0. 0. 0. 0. 0. 0. 0.]\n",
      "8.561 [0. 0. 0. 0. 0. 0. 0. 0. 0. 0.]\n",
      "8.585 [0. 0. 0. 0. 0. 0. 0. 0. 0. 0.]\n",
      "8.608 [0. 0. 0. 0. 0. 0. 0. 0. 0. 0.]\n",
      "8.631 [0. 0. 0. 0. 0. 0. 0. 0. 0. 0.]\n",
      "8.654 [0. 0. 0. 0. 0. 0. 0. 0. 0. 0.]\n",
      "8.677 [0. 0. 0. 0. 0. 0. 0. 0. 0. 0.]\n",
      "8.701 [0. 0. 0. 0. 0. 0. 0. 0. 0. 0.]\n",
      "8.724 [0. 0. 0. 0. 0. 0. 0. 0. 0. 0.]\n",
      "8.747 [0. 0. 0. 0. 0. 0. 0. 0. 0. 0.]\n",
      "8.770 [0. 0. 0. 0. 0. 0. 0. 0. 0. 0.]\n",
      "8.794 [0. 0. 0. 0. 0. 0. 0. 0. 0. 0.]\n",
      "8.817 [0. 0. 0. 0. 0. 0. 0. 0. 0. 0.]\n",
      "8.840 [0. 0. 0. 0. 0. 0. 0. 0. 0. 0.]\n",
      "8.863 [0. 0. 0. 0. 0. 0. 0. 0. 0. 0.]\n",
      "8.886 [0. 0. 0. 0. 0. 0. 0. 0. 0. 0.]\n",
      "8.910 [0. 0. 0. 0. 0. 0. 0. 0. 0. 0.]\n",
      "8.933 [0. 0. 0. 0. 0. 0. 0. 0. 0. 0.]\n",
      "8.956 [0. 0. 0. 0. 0. 0. 0. 0. 0. 0.]\n",
      "8.979 [0. 0. 0. 0. 0. 0. 0. 0. 0. 0.]\n",
      "9.002 [0. 0. 0. 0. 0. 0. 0. 0. 0. 0.]\n",
      "9.026 [0. 0. 0. 0. 0. 0. 0. 0. 0. 0.]\n",
      "9.049 [0. 0. 0. 0. 0. 0. 0. 0. 0. 0.]\n",
      "9.072 [0. 0. 0. 0. 0. 0. 0. 0. 0. 0.]\n",
      "9.095 [0. 0. 0. 0. 0. 0. 0. 0. 0. 0.]\n",
      "9.118 [0. 0. 0. 0. 0. 0. 0. 0. 0. 0.]\n",
      "9.142 [0. 0. 0. 0. 0. 0. 0. 0. 0. 0.]\n",
      "9.165 [0. 0. 0. 0. 0. 0. 0. 0. 0. 0.]\n",
      "9.188 [0. 0. 0. 0. 0. 0. 0. 0. 0. 0.]\n",
      "9.211 [0. 0. 0. 0. 0. 0. 0. 0. 0. 0.]\n",
      "9.234 [0. 0. 0. 0. 0. 0. 0. 0. 0. 0.]\n",
      "9.258 [0. 0. 0. 0. 0. 0. 0. 0. 0. 0.]\n",
      "9.281 [0. 0. 0. 0. 0. 0. 0. 0. 0. 0.]\n",
      "9.304 [0. 0. 0. 0. 0. 0. 0. 0. 0. 0.]\n",
      "9.327 [0. 0. 0. 0. 0. 0. 0. 0. 0. 0.]\n",
      "9.350 [0. 0. 0. 0. 0. 0. 0. 0. 0. 0.]\n",
      "9.374 [0. 0. 0. 0. 0. 0. 0. 0. 0. 0.]\n",
      "9.397 [0. 0. 0. 0. 0. 0. 0. 0. 0. 0.]\n",
      "9.420 [0. 0. 0. 0. 0. 0. 0. 0. 0. 0.]\n",
      "9.443 [0. 0. 0. 0. 0. 0. 0. 0. 0. 0.]\n",
      "9.466 [0. 0. 0. 0. 0. 0. 0. 0. 0. 0.]\n",
      "9.490 [0. 0. 0. 0. 0. 0. 0. 0. 0. 0.]\n",
      "9.513 [0. 0. 0. 0. 0. 0. 0. 0. 0. 0.]\n",
      "9.536 [0. 0. 0. 0. 0. 0. 0. 0. 0. 0.]\n",
      "9.559 [0. 0. 0. 0. 0. 0. 0. 0. 0. 0.]\n",
      "9.582 [0. 0. 0. 0. 0. 0. 0. 0. 0. 0.]\n",
      "9.606 [0. 0. 0. 0. 0. 0. 0. 0. 0. 0.]\n",
      "9.629 [0. 0. 0. 0. 0. 0. 0. 0. 0. 0.]\n",
      "9.652 [0. 0. 0. 0. 0. 0. 0. 0. 0. 0.]\n",
      "9.675 [0. 0. 0. 0. 0. 0. 0. 0. 0. 0.]\n",
      "9.698 [0. 0. 0. 0. 0. 0. 0. 0. 0. 0.]\n",
      "9.722 [0. 0. 0. 0. 0. 0. 0. 0. 0. 0.]\n",
      "9.745 [0. 0. 0. 0. 0. 0. 0. 0. 0. 0.]\n",
      "9.768 [0. 0. 0. 0. 0. 0. 0. 0. 0. 0.]\n",
      "9.791 [0. 0. 0. 0. 0. 0. 0. 0. 0. 0.]\n",
      "9.814 [0. 0. 0. 0. 0. 0. 0. 0. 0. 0.]\n",
      "9.838 [0. 0. 0. 0. 0. 0. 0. 0. 0. 0.]\n",
      "9.861 [0. 0. 0. 0. 0. 0. 0. 0. 0. 0.]\n",
      "9.884 [0. 0. 0. 0. 0. 0. 0. 0. 0. 0.]\n",
      "9.907 [0. 0. 0. 0. 0. 0. 0. 0. 0. 0.]\n",
      "9.930 [0. 0. 0. 0. 0. 0. 0. 0. 0. 0.]\n",
      "9.954 [0. 0. 0. 0. 0. 0. 0. 0. 0. 0.]\n",
      "9.977 [0. 0. 0. 0. 0. 0. 0. 0. 0. 0.]\n"
     ]
    }
   ],
   "source": [
    "sample2ms_ratio = 10. / 431.\n",
    "toto = dico_strong['10.wav']\n",
    "# toto = dico_strong['Y0eh_N-cmcuI_350.000_360.000.wav']\n",
    "# toto = dico_strong_y_validation['Y0eh_N-cmcuI_350.000_360.000.wav']\n",
    "for i in range(431):\n",
    "    print('%.3f %s'%(i*sample2ms_ratio, toto[i]))"
   ]
  },
  {
   "cell_type": "code",
   "execution_count": 116,
   "metadata": {
    "hidden": true
   },
   "outputs": [],
   "source": [
    "pkl_dico='dico_strong_y_train_synthetic_2045files.pkl'\n",
    "# pkl_dico='dico_strong_y_validation_1058files.pkl'\n",
    "# pkl_dico='dico_strong_y_validation_1122files.pkl'\n",
    "# pkl_dico='dico_strong_y_validation_1168files.pkl'\n",
    "pickle.dump( dico_strong, open( datadir + '/' + pkl_dico, \"wb\" ) )"
   ]
  },
  {
   "cell_type": "code",
   "execution_count": 120,
   "metadata": {
    "hidden": true
   },
   "outputs": [],
   "source": [
    "# dico_strong_y_validation['Y0eh_N-cmcuI_350.000_360.000.wav']"
   ]
  },
  {
   "cell_type": "code",
   "execution_count": 119,
   "metadata": {
    "hidden": true
   },
   "outputs": [],
   "source": [
    "# dico_strong_y_train_synthetic['10.wav']"
   ]
  },
  {
   "cell_type": "markdown",
   "metadata": {
    "heading_collapsed": true
   },
   "source": [
    "## create_dico_weak_labels"
   ]
  },
  {
   "cell_type": "code",
   "execution_count": 65,
   "metadata": {
    "hidden": true
   },
   "outputs": [],
   "source": [
    "def create_dico_weak_labels(label_csv_fpath, audio_dir):\n",
    "    dico_weak = {} # keys: .wav files, values: y label\n",
    "    wav_lst = []\n",
    "    \n",
    "    with open(label_csv_fpath, 'r') as fh:\n",
    "        isFirstLine=True\n",
    "        for ligne in fh:\n",
    "            if isFirstLine:\n",
    "                isFirstLine=False\n",
    "                continue\n",
    "            tab = ligne.rstrip().split('\\t')\n",
    "            \n",
    "            fileid=tab[0]\n",
    "\n",
    "            if not os.path.isfile(audio_dir + '/' + fileid):\n",
    "                print('W: file does not exist:', audio_dir + '/' +  fileid)\n",
    "                continue\n",
    "\n",
    "            if len(tab)>1:\n",
    "                labels = tab[-1].split(',')\n",
    "                if not fileid in dico_weak:\n",
    "                    y_ = np.zeros((10,))\n",
    "                if len(labels)>0:\n",
    "                    for l in labels:\n",
    "                        y_[class_correspondance[l]] = 1\n",
    "\n",
    "                dico_weak[fileid] = y_\n",
    "            else:\n",
    "                print('W: no label for file', audio_dir + '/' +  fileid)\n",
    "    if len(dico_weak)>1:\n",
    "        return dico_weak, wav_lst\n",
    "    else: return None"
   ]
  },
  {
   "cell_type": "code",
   "execution_count": 70,
   "metadata": {
    "hidden": true
   },
   "outputs": [],
   "source": [
    "# no label dict for the uid subset (labels do not exist for it)\n",
    "\n",
    "# audiodir='/baie/corpus/DCASE2019/task4/dataset/audio/train/weak'\n",
    "# weak_csv_fpath='/baie/corpus/DCASE2019/task4/dataset/metadata/train/weak.csv'\n",
    "\n",
    "audiodir='/baie/corpus/DCASE2019/task4/dataset/audio/train/synthetic'\n",
    "label_csv_fpath='/baie/corpus/DCASE2019/task4/dataset/metadata/train/synthetic.csv'\n",
    "\n",
    "# audiodir='/baie/corpus/DCASE2019/task4/dataset/audio/validation'\n",
    "# label_csv_fpath='/baie/corpus/DCASE2019/task4/dataset/metadata/validation/validation.csv'\n",
    "\n",
    "dico_weak, wav_lst = create_dico_weak_labels(label_csv_fpath, audiodir)"
   ]
  },
  {
   "cell_type": "code",
   "execution_count": 73,
   "metadata": {
    "hidden": true
   },
   "outputs": [
    {
     "data": {
      "text/plain": [
       "(0, 2045)"
      ]
     },
     "execution_count": 73,
     "metadata": {},
     "output_type": "execute_result"
    }
   ],
   "source": [
    "len(wav_lst), len(dico_weak)"
   ]
  },
  {
   "cell_type": "code",
   "execution_count": 77,
   "metadata": {
    "hidden": true
   },
   "outputs": [],
   "source": [
    "# pkl_dico='dico_tags_y_train_weak_1505files.pkl'\n",
    "pkl_dico='dico_tags_y_train_synthetic_2045files.pkl'\n",
    "# pkl_dico='dico_tags_y_validation_1058files.pkl'\n",
    "# pkl_dico='dico_tags_y_validation_1122files.pkl'\n",
    "\n",
    "pickle.dump( dico_weak, open( datadir + '/' + pkl_dico, \"wb\" ) )"
   ]
  },
  {
   "cell_type": "code",
   "execution_count": 22,
   "metadata": {
    "hidden": true
   },
   "outputs": [
    {
     "name": "stdout",
     "output_type": "stream",
     "text": [
      "1122\n"
     ]
    }
   ],
   "source": [
    "# check dicts\n",
    "dico = pickle.load(open('subsets/' + pkl_dico, 'rb'))\n",
    "print(len(dico))"
   ]
  },
  {
   "cell_type": "markdown",
   "metadata": {
    "heading_collapsed": true
   },
   "source": [
    "## create fileID 2 wav arrays dicts"
   ]
  },
  {
   "cell_type": "code",
   "execution_count": 34,
   "metadata": {
    "hidden": true
   },
   "outputs": [],
   "source": [
    "# audiodir='/baie/corpus/DCASE2019/task4/dataset/audio/train/weak'\n",
    "# wav_lst = wav_lst_train_weak\n",
    "# dico_fpath=datadir + '/dico_wav_train_weak_1505files.pkl'\n",
    "\n",
    "# audiodir='/baie/corpus/DCASE2019/task4/dataset/audio/train/synthetic'\n",
    "# wav_lst = wav_lst_train_synthetic\n",
    "# dico_fpath=datadir + '/dico_wav_train_synthetic_2045files.pkl'\n",
    "\n",
    "audiodir='/baie/corpus/DCASE2019/task4/dataset/audio/validation'\n",
    "wav_lst = wav_lst_validation\n",
    "# dico_fpath=datadir + '/dico_wav_validation_1058files.pkl'\n",
    "dico_fpath=datadir + '/dico_wav_validation_1122files.pkl'\n",
    "\n",
    "# generate dict with wav arrays inside\n",
    "dico_wav = {}\n",
    "for el in wav_lst:\n",
    "    if not os.path.isfile(audiodir + '/' + el):\n",
    "        print('W: file does not exist:', audiodir + '/' +  el)\n",
    "        break\n",
    "\n",
    "    signal, sr = librosa.load(audiodir + '/' + el)\n",
    "    dico_wav[el] = signal\n",
    "    \n",
    "pickle.dump(dico_wav, open(dico_fpath, \"wb\"))\n"
   ]
  },
  {
   "cell_type": "markdown",
   "metadata": {
    "heading_collapsed": true
   },
   "source": [
    "## create fileID 2 wav arrays dict for U"
   ]
  },
  {
   "cell_type": "code",
   "execution_count": 24,
   "metadata": {
    "hidden": true
   },
   "outputs": [
    {
     "name": "stdout",
     "output_type": "stream",
     "text": [
      "dict number  0\n",
      " start index =  0\n",
      "current nb files: 2000 ending index 2000\n",
      "dict number  1\n",
      " start index =  2000\n",
      "W: file does not exist: /baie/corpus/DCASE2019/task4/dataset/audio/train/unlabel_in_domain/Y4Y020IJSf5M_30.000_40.000.wav\n",
      "current nb files: 2000 ending index 4001\n",
      "dict number  2\n",
      " start index =  4001\n",
      "W: file does not exist: /baie/corpus/DCASE2019/task4/dataset/audio/train/unlabel_in_domain/YMWf7a0Pz1bM_320.000_330.000.wav\n",
      "current nb files: 2000 ending index 6002\n",
      "dict number  3\n",
      " start index =  6002\n",
      "current nb files: 2000 ending index 8002\n",
      "dict number  4\n",
      " start index =  8002\n",
      "current nb files: 2000 ending index 10002\n",
      "dict number  5\n",
      " start index =  10002\n",
      "current nb files: 2000 ending index 12002\n",
      "dict number  6\n",
      " start index =  12002\n",
      "W: file does not exist: /baie/corpus/DCASE2019/task4/dataset/audio/train/unlabel_in_domain/Y2GwZowQA8D8_120.000_130.000.wav\n",
      "W: file does not exist: /baie/corpus/DCASE2019/task4/dataset/audio/train/unlabel_in_domain/Y6eQcUXzEIBU_130.000_140.000.wav\n",
      "W: file does not exist: /baie/corpus/DCASE2019/task4/dataset/audio/train/unlabel_in_domain/Y81mWK3HJqjo_590.000_600.000.wav\n",
      "W: file does not exist: /baie/corpus/DCASE2019/task4/dataset/audio/train/unlabel_in_domain/YBA3CtHrz8jc_120.000_130.000.wav\n",
      "W: file does not exist: /baie/corpus/DCASE2019/task4/dataset/audio/train/unlabel_in_domain/YN8lqrPSpZp4_120.000_130.000.wav\n",
      "current nb files: 2000 ending index 14007\n"
     ]
    }
   ],
   "source": [
    "audiodir='/baie/corpus/DCASE2019/task4/dataset/audio/train/unlabel_in_domain' # 14405 files only\n",
    "wav_lst = wav_lst_train_uid \n",
    "\n",
    "nb_files_per_dict = 2000\n",
    "\n",
    "start_index = 0\n",
    "for i in range(7):\n",
    "    \n",
    "    print('dict number ', i)\n",
    "    dico_fpath=datadir + '/dico_wav_unlabel_in_domain_2000files_%d.pkl'%i\n",
    "    lst_fpath=datadir + '/subset_train_uid_2000files_wav_%d.lst'%i\n",
    "\n",
    "    # generate dict with wav arrays inside\n",
    "    dico_wav = {}\n",
    "    list_wav = []\n",
    "    \n",
    "    ind = start_index\n",
    "    current_nb_files = 0\n",
    "    print(' start index = ', start_index)\n",
    "    \n",
    "    while current_nb_files < nb_files_per_dict:\n",
    "        el = wav_lst[ind]\n",
    "        if not os.path.isfile(audiodir + '/' + el):\n",
    "            print('W: file does not exist:', audiodir + '/' +  el)\n",
    "            ind += 1\n",
    "            continue\n",
    "        list_wav.append(el)\n",
    "        ind += 1\n",
    "        current_nb_files += 1\n",
    "        \n",
    "#         signal, sr = librosa.load(audiodir + '/' + el)\n",
    "#         dico_wav[el] = signal\n",
    "    print('current nb files:', current_nb_files, 'ending index', ind)\n",
    "#     pickle.dump(dico_wav, open(dico_fpath, \"wb\"))\n",
    "    start_index = ind\n",
    "    \n",
    "    write_csv_list(list_wav, lst_fpath)\n",
    "    "
   ]
  },
  {
   "cell_type": "markdown",
   "metadata": {
    "heading_collapsed": true
   },
   "source": [
    "## create fileID 2 wav arrays dict for EVAL"
   ]
  },
  {
   "cell_type": "code",
   "execution_count": null,
   "metadata": {
    "hidden": true
   },
   "outputs": [],
   "source": [
    "audiodir='/baie/corpus/DCASE2019/task4/dataset/audio/evaluation'\n",
    "wav_lst = wav_lst_evaluation\n",
    "# dico_fpath=datadir + '/dico_wav_validation_1058files.pkl'\n",
    "dico_fpath=datadir + '/dico_wav_evaluation_13205files.pkl'\n",
    "\n",
    "# generate dict with wav arrays inside\n",
    "dico_wav = {}\n",
    "for el in wav_lst:\n",
    "    if not os.path.isfile(audiodir + '/' + el):\n",
    "        print('W: file does not exist:', audiodir + '/' +  el)\n",
    "        break\n",
    "\n",
    "    signal, sr = librosa.load(audiodir + '/' + el)\n",
    "    dico_wav[el] = signal\n",
    "    \n",
    "pickle.dump(dico_wav, open(dico_fpath, \"wb\"))\n"
   ]
  },
  {
   "cell_type": "markdown",
   "metadata": {
    "heading_collapsed": true
   },
   "source": [
    "## split train_weak into train/dev 90/10"
   ]
  },
  {
   "cell_type": "code",
   "execution_count": null,
   "metadata": {
    "hidden": true
   },
   "outputs": [],
   "source": [
    "# len(wav_lst_train_weak): 1505\n",
    "from sklearn.model_selection import train_test_split\n",
    "\n",
    "ind_train, ind_dev = train_test_split(range(len(wav_lst_train_weak)), test_size=0.10, random_state=12)\n",
    "len(ind_train), len(ind_dev)"
   ]
  },
  {
   "cell_type": "code",
   "execution_count": null,
   "metadata": {
    "hidden": true
   },
   "outputs": [],
   "source": [
    "# check class distribution\n",
    "occ_train, occ_dev = np.zeros((10,)), np.zeros((10,))\n",
    "\n",
    "for ind in ind_train:\n",
    "    occ_train += dico_tags_y_train_weak[wav_lst_train_weak[ind]]\n",
    "for ind in ind_dev:\n",
    "    occ_dev += dico_tags_y_train_weak[wav_lst_train_weak[ind]]\n",
    "\n",
    "for i in range(10):\n",
    "    print('%s: %.1f %.1f'%(class_correspondance_reverse[i], occ_train[i]/np.sum(occ_train)*100, occ_dev[i]/np.sum(occ_dev)*100))\n"
   ]
  },
  {
   "cell_type": "code",
   "execution_count": null,
   "metadata": {
    "hidden": true
   },
   "outputs": [],
   "source": [
    "# save train/dev lists to disk\n",
    "wav_lst_tmp = [wav_lst_train_weak[ind] for ind in ind_train]\n",
    "fpath=datadir + '/subset_train_weak_TRAIN_1354files_wav.lst' \n",
    "write_csv_list(wav_lst_tmp, fpath)\n",
    "\n",
    "wav_lst_tmp = [wav_lst_train_weak[ind] for ind in ind_dev]\n",
    "fpath=datadir + '/subset_train_weak_DEV_151files_wav.lst' \n",
    "write_csv_list(wav_lst_tmp, fpath)"
   ]
  },
  {
   "cell_type": "markdown",
   "metadata": {
    "heading_collapsed": true
   },
   "source": [
    "# My Generator weak + strong"
   ]
  },
  {
   "cell_type": "markdown",
   "metadata": {
    "hidden": true
   },
   "source": [
    "## definition"
   ]
  },
  {
   "cell_type": "code",
   "execution_count": 16,
   "metadata": {
    "ExecuteTime": {
     "end_time": "2019-06-09T08:05:05.685168Z",
     "start_time": "2019-06-09T08:05:05.624530Z"
    },
    "hidden": true
   },
   "outputs": [],
   "source": [
    "class MyGeneratorWeakStrong(keras.utils.Sequence):\n",
    "    'Generates data for Keras'\n",
    "    \n",
    "    def __init__(self, \n",
    "                 batch_size, \n",
    "                 data_folder, \n",
    "                 wav_lst,\n",
    "                 n_samples,\n",
    "                 dico_wav,\n",
    "                 lab_dict_weak,\n",
    "                 lab_dict_strong,\n",
    "                 sr,\n",
    "                 fact_amp, \n",
    "                 out_dim, \n",
    "                 perform_data_aug=False,\n",
    "                 n_channels=1, \n",
    "                 n_fbank_coeff=64, \n",
    "                 time_dim=431,\n",
    "                 shuffle=True,\n",
    "                 params_extract=None):\n",
    "        \n",
    "        self.batch_size = batch_size\n",
    "        self.data_folder = data_folder\n",
    "        self.list_IDs = wav_lst\n",
    "        self.n_samples = n_samples\n",
    "        self.id2wavarray_dict = dico_wav\n",
    "        self.lab_dict_weak = lab_dict_weak\n",
    "        self.lab_dict_strong = lab_dict_strong\n",
    "        self.sr = sr\n",
    "        self.n_channels = n_channels\n",
    "        self.n_fbank_coeff = n_fbank_coeff\n",
    "        self.time_dim = time_dim\n",
    "        self.n_classes = out_dim\n",
    "        self.perform_data_aug = perform_data_aug\n",
    "        self.shuffle = shuffle\n",
    "        self.fact_amp = fact_amp\n",
    "        self.on_epoch_end()\n",
    "        self.params_extract = params_extract\n",
    "        \n",
    "        print(len(self.list_IDs) ,len(self.id2wavarray_dict.keys()))\n",
    "#         print('T', self.time_dim[0], 'T')\n",
    "\n",
    "    def __len__(self):\n",
    "        'Denotes the number of batches per epoch'\n",
    "        return int(np.floor(len(self.list_IDs) / self.batch_size))\n",
    "\n",
    "    def __getitem__(self, index):\n",
    "        'Generate one batch of data'\n",
    "        # Generate indexes of the batch                                                                                    \n",
    "        indexes = self.indexes[index*self.batch_size:(index+1)*self.batch_size]\n",
    "\n",
    "        # Find list of IDs                                                                                                 \n",
    "        list_IDs_temp = [self.list_IDs[k] for k in indexes]\n",
    "#         print(list_IDs_temp)\n",
    "\n",
    "        # Generate data                                                                                                    \n",
    "        X, y_strong, y_weak = self.__data_generation(list_IDs_temp)\n",
    "\n",
    "        return X, {'loc_output': y_strong, 'at_output': y_weak}\n",
    "    \n",
    "    def on_epoch_end(self):\n",
    "        'Updates indexes after each epoch'\n",
    "        self.indexes = np.arange(len(self.list_IDs))\n",
    "        if self.shuffle == True:\n",
    "            np.random.shuffle(self.indexes)\n",
    "\n",
    "    def __data_generation(self, list_IDs_temp):\n",
    "        'Generates data containing batch_size samples' # X : (n_samples, *dim, n_channels)                                 \n",
    "        # Initialization\n",
    "        X = np.zeros((self.batch_size, self.n_fbank_coeff, self.time_dim, self.n_channels))\n",
    "        y_weak = np.zeros((self.batch_size, self.n_classes), dtype=int)\n",
    "        y_strong = np.zeros((self.batch_size, self.time_dim+1, self.n_classes), dtype=int)\n",
    "        # for each sample i, y_strong[i,-1,:] == 0 if no gt, 1 if gt\n",
    "        \n",
    "        line_ones = np.ones((1, self.n_classes))\n",
    "        \n",
    "        sr = self.sr\n",
    "        \n",
    "        if self.perform_data_aug and self.fact_amp > 0:\n",
    "            rand_amp_arr = np.random.uniform(1.0-self.fact_amp, 1+self.fact_amp, self.batch_size)\n",
    "\n",
    "        # Generate data                                                                                                    \n",
    "        for i, ID in enumerate(list_IDs_temp):\n",
    "            \n",
    "#             # Store sample                                                                                                 \n",
    "#             [signal, sr] = sf.read(self.data_folder + '/' + ID, always_2d=True, dtype='float32')\n",
    "#             # stereo --> mono\n",
    "#             signal = np.mean(signal, axis=-1)\n",
    "#             hop_length=1024\n",
    "\n",
    "#             print(i, ID)\n",
    "#             if not os.path.isfile(self.data_folder + '/' + ID):\n",
    "#                     print('ERROR:', self.data_folder + '/' + ID)\n",
    "            \n",
    "            # by default Audio will be automatically resampled to the given rate (default sr=22050)\n",
    "            # much faster using res_type='kaiser_fast'\n",
    "#             fpath=self.data_folder + '/' + ID\n",
    "#             signal, sr = librosa.load(fpath, res_type='kaiser_fast')\n",
    "            if ID in self.id2wavarray_dict:\n",
    "                signal = self.id2wavarray_dict[ID]\n",
    "            else:\n",
    "                print('ERROR', ID, 'not in dict !')\n",
    "            \n",
    "            # multiply by random factor for data aug\n",
    "            if self.fact_amp > 0:\n",
    "#                 print('amp')\n",
    "                signal *= rand_amp_arr[i]\n",
    "            \n",
    "            # Store class\n",
    "            if not self.lab_dict_weak is None and ID in self.lab_dict_weak:\n",
    "                y_weak[i] = self.lab_dict_weak[ID]\n",
    "            \n",
    "            has_strong_gt = False\n",
    "            if not self.lab_dict_strong is None and ID in self.lab_dict_strong:\n",
    "                y_strong[i] = np.concatenate((line_ones,self.lab_dict_strong[ID]), axis=0)\n",
    "                has_strong_gt = True    \n",
    "\n",
    "            if self.perform_data_aug:\n",
    "\n",
    "#                 j_orig = muda.load_jam_audio('audio_files/dummy.jams', fpath)\n",
    "                dummy_jam = jams.core.JAMS()\n",
    "                dummy_jam.file_metadata.duration = librosa.get_duration(y=signal, sr=sr)\n",
    "                j_orig = muda.jam_pack(dummy_jam, _audio=dict(y=signal, sr=sr))\n",
    "                \n",
    "                doPitchStretching = np.random.randint(0, 2, size=1)[0]>0\n",
    "                doTimeStretching = (not has_strong_gt) and (np.random.randint(0, 2, size=1)[0]>0)\n",
    "                \n",
    "                if doPitchStretching and doTimeStretching:\n",
    "                    n_semitones = np.random.randint(-3, high=4, size=1)[0]\n",
    "                    pitch_deformer = muda.deformers.PitchShift(n_semitones=n_semitones)\n",
    "                    rate = np.random.choice([0.8, 0.9, 1.1, 1.2])\n",
    "                    time_deformer= muda.deformers.TimeStretch(rate=rate)\n",
    "#                     print('Freq and Time', n_semitones, rate)\n",
    "                    pipeline = muda.Pipeline(steps=[('pitch_shift', pitch_deformer),\n",
    "                                                    ('time_stretch', time_deformer)])\n",
    "                    deformed = pipeline.transform(j_orig)\n",
    "                    for d in deformed:\n",
    "                        dsignal = d.sandbox.muda._audio\n",
    "                    signal = dsignal['y']\n",
    "                    \n",
    "                elif doPitchStretching:\n",
    "                    n_semitones = np.random.randint(-3, high=4, size=1)[0]\n",
    "#                     print('Freq', n_semitones)\n",
    "                    pitch_deformer = muda.deformers.PitchShift(n_semitones=n_semitones)\n",
    "                    deformed = pitch_deformer.transform(j_orig)\n",
    "                    for d in deformed:\n",
    "                        dsignal = d.sandbox.muda._audio\n",
    "                    signal = dsignal['y']\n",
    "                \n",
    "                elif doTimeStretching:\n",
    "                    rate = np.random.choice([0.8, 0.9, 1.1, 1.2])\n",
    "#                     print('Time', rate)\n",
    "                    time_deformer= muda.deformers.TimeStretch(rate=rate)\n",
    "                    deformed = time_deformer.transform(j_orig)\n",
    "                    for d in deformed:\n",
    "                        dsignal = d.sandbox.muda._audio\n",
    "                    signal = dsignal['y']\n",
    "#                 else:\n",
    "#                     print('no transform')\n",
    "            \n",
    "            hop_length=512\n",
    "            \n",
    "            power = librosa.feature.melspectrogram(y=signal,\n",
    "                                        sr=sr,\n",
    "                                        n_fft=2048, \n",
    "                                        n_mels=64, \n",
    "                                        fmin=0.0, \n",
    "                                        fmax=sr/2.0, \n",
    "                                        htk=False, \n",
    "                                        hop_length=hop_length, \n",
    "                                        power=2.0, \n",
    "                                        norm=1)\n",
    "\n",
    "            power = librosa.core.power_to_db(power, ref=np.max)\n",
    "            endpoint_time = np.min([power.shape[1],self.time_dim])\n",
    "            X[i, :, :endpoint_time, 0] = power[:,:endpoint_time]\n",
    "\n",
    "#             if not os.path.isfile('to_delete/%s.npy'%ID):\n",
    "#                 np.save('to_delete/%s.npy'%ID, power)\n",
    "\n",
    "        return X, y_strong, y_weak\n",
    "\n",
    "    "
   ]
  },
  {
   "cell_type": "markdown",
   "metadata": {
    "hidden": true
   },
   "source": [
    "## instances"
   ]
  },
  {
   "cell_type": "code",
   "execution_count": 17,
   "metadata": {
    "ExecuteTime": {
     "end_time": "2019-06-09T08:05:06.701909Z",
     "start_time": "2019-06-09T08:05:06.682696Z"
    },
    "hidden": true
   },
   "outputs": [
    {
     "name": "stdout",
     "output_type": "stream",
     "text": [
      "INFO nb_steps_train: 111\n",
      "3550 3550\n"
     ]
    }
   ],
   "source": [
    "train_batch_size=32\n",
    "# train_data_folder='/baie/corpus/DCASE2019/task4/dataset/audio/train/weak'\n",
    "\n",
    "wav_lst=wav_lst_train_weak_synthetic\n",
    "dico_wav=dico_wav_train_weak_synthetic\n",
    "\n",
    "lab_dict_weak=dico_tags_y_train_weak_synthetic\n",
    "lab_dict_strong=dico_strong_y_train_synthetic\n",
    "\n",
    "train_n_samples=len(wav_lst)\n",
    "train_fact_amp=0.2\n",
    "out_dim=10\n",
    "n_channels=1\n",
    "n_fbank_coeff=64\n",
    "train_shuffle=True\n",
    "sr=22050 # output by librosa load\n",
    "\n",
    "nb_steps_train = int(np.ceil(len(wav_lst)/train_batch_size))\n",
    "print('INFO nb_steps_train:', nb_steps_train)\n",
    "\n",
    "train_generator = MyGeneratorWeakStrong(batch_size=train_batch_size, \n",
    "                 data_folder=None, \n",
    "                 wav_lst=wav_lst,\n",
    "                 n_samples=train_n_samples,\n",
    "                 dico_wav=dico_wav,\n",
    "                 lab_dict_weak=lab_dict_weak,\n",
    "                 lab_dict_strong=lab_dict_strong,\n",
    "                 sr=sr,\n",
    "                 fact_amp=train_fact_amp, \n",
    "                 out_dim=out_dim, \n",
    "                 perform_data_aug=True,\n",
    "                 n_channels=1,\n",
    "                 n_fbank_coeff=64,\n",
    "                 time_dim=431,\n",
    "                 shuffle=train_shuffle)"
   ]
  },
  {
   "cell_type": "code",
   "execution_count": 18,
   "metadata": {
    "ExecuteTime": {
     "end_time": "2019-06-09T08:05:07.224009Z",
     "start_time": "2019-06-09T08:05:07.209469Z"
    },
    "hidden": true
   },
   "outputs": [
    {
     "name": "stdout",
     "output_type": "stream",
     "text": [
      "INFO nb_steps_train: 18\n",
      "1122 1122\n"
     ]
    }
   ],
   "source": [
    "dev_batch_size=64\n",
    "\n",
    "wav_lst=wav_lst_validation\n",
    "# wav_lst=wav_lst_validation_leo\n",
    "dico_wav=dico_wav_validation\n",
    "\n",
    "lab_dict_weak=dico_tags_y_validation\n",
    "lab_dict_strong=dico_strong_y_validation\n",
    "\n",
    "dev_n_samples=len(wav_lst)\n",
    "dev_fact_amp=0.0\n",
    "out_dim=10\n",
    "n_channels=1\n",
    "n_fbank_coeff=64\n",
    "dev_shuffle=False\n",
    "sr=22050 # output by librosa load\n",
    "\n",
    "dev_perform_data_aug=False\n",
    "\n",
    "nb_steps_dev = int(np.ceil(len(wav_lst)/dev_batch_size))\n",
    "print('INFO nb_steps_train:', nb_steps_dev)\n",
    "\n",
    "dev_generator = MyGeneratorWeakStrong(batch_size=dev_batch_size, \n",
    "                 data_folder=None, \n",
    "                 wav_lst=wav_lst,\n",
    "                 n_samples=dev_n_samples,\n",
    "                 dico_wav=dico_wav,\n",
    "                 lab_dict_weak=lab_dict_weak,\n",
    "                 lab_dict_strong=lab_dict_strong,\n",
    "                 sr=sr,\n",
    "                 fact_amp=dev_fact_amp, \n",
    "                 out_dim=out_dim, \n",
    "                 perform_data_aug=dev_perform_data_aug,\n",
    "                 n_channels=1,\n",
    "                 n_fbank_coeff=64,\n",
    "                 time_dim=431,\n",
    "                 shuffle=dev_shuffle)"
   ]
  },
  {
   "cell_type": "code",
   "execution_count": 19,
   "metadata": {
    "ExecuteTime": {
     "end_time": "2019-06-09T08:05:07.823071Z",
     "start_time": "2019-06-09T08:05:07.808612Z"
    },
    "hidden": true
   },
   "outputs": [
    {
     "name": "stdout",
     "output_type": "stream",
     "text": [
      "INFO nb_steps_train: 18\n",
      "13190 13190\n"
     ]
    }
   ],
   "source": [
    "eval_batch_size=64\n",
    "\n",
    "wav_lst=wav_lst_evaluation\n",
    "dico_wav=dico_wav_evaluation\n",
    "\n",
    "lab_dict_weak=None\n",
    "lab_dict_strong=None\n",
    "\n",
    "eval_n_samples=len(wav_lst)\n",
    "eval_fact_amp=0.0\n",
    "out_dim=10\n",
    "n_channels=1\n",
    "n_fbank_coeff=64\n",
    "time_dim=431\n",
    "eval_shuffle=False\n",
    "sr=22050 # output by librosa load\n",
    "\n",
    "eval_perform_data_aug=False\n",
    "\n",
    "nb_steps_eval = int(np.ceil(len(wav_lst)/eval_batch_size))\n",
    "print('INFO nb_steps_train:', nb_steps_dev)\n",
    "\n",
    "eval_generator = MyGeneratorWeakStrong(batch_size=eval_batch_size, \n",
    "                 data_folder=None, \n",
    "                 wav_lst=wav_lst,\n",
    "                 n_samples=eval_n_samples,\n",
    "                 dico_wav=dico_wav,\n",
    "                 lab_dict_weak=lab_dict_weak,\n",
    "                 lab_dict_strong=lab_dict_strong,\n",
    "                 sr=sr,\n",
    "                 fact_amp=eval_fact_amp, \n",
    "                 out_dim=out_dim, \n",
    "                 perform_data_aug=eval_perform_data_aug,\n",
    "                 n_channels=n_channels,\n",
    "                 n_fbank_coeff=n_fbank_coeff,\n",
    "                 time_dim=time_dim,\n",
    "                 shuffle=eval_shuffle)"
   ]
  },
  {
   "cell_type": "markdown",
   "metadata": {},
   "source": [
    "# loss functions"
   ]
  },
  {
   "cell_type": "code",
   "execution_count": 20,
   "metadata": {
    "ExecuteTime": {
     "end_time": "2019-06-09T08:05:21.714087Z",
     "start_time": "2019-06-09T08:05:21.704819Z"
    }
   },
   "outputs": [],
   "source": [
    "def loc_loss(y_true, y_pred):\n",
    "    \"\"\"\n",
    "    multi-instance loss\n",
    "    :param y_true: tensor, shape: \n",
    "    :param y_pred: tensor \n",
    "    :return: float\n",
    "    \"\"\"\n",
    "    bool_gt = y_true[:, 0, 0] # a vector of either 0s or 1s\n",
    "    \n",
    "    y_t = y_true[:, 1:, :]\n",
    "    \n",
    "    matrix_loss = bool_gt * K.transpose(K.mean(K.binary_crossentropy(y_t, y_pred, from_logits=False), axis=-1))\n",
    "    \n",
    "    return K.transpose(matrix_loss)"
   ]
  },
  {
   "cell_type": "code",
   "execution_count": 127,
   "metadata": {},
   "outputs": [
    {
     "name": "stdout",
     "output_type": "stream",
     "text": [
      "(2, 3, 3) (2, 2, 3)\n",
      "[[0.14876239 0.07024038]\n",
      " [0.         0.        ]]\n",
      "(2, 2)\n",
      "y_true[0] [[0 1 0]\n",
      " [0 1 0]]\n",
      "y_pred[0] [[0.2 0.8 0. ]\n",
      " [0.  0.9 0.1]]\n",
      "[0.14876239 0.07024039]\n"
     ]
    }
   ],
   "source": [
    "# test loc_loss function \n",
    "\n",
    "from keras.losses import binary_crossentropy\n",
    "def numpy_binCE_time(y_true_2d, y_pred_2d):\n",
    "    \n",
    "    def keras_binCE(y_true_vec, y_pred_vec):\n",
    "        \n",
    "        # eps=1e-6\n",
    "        # return np.sum(-y_true_vec * np.log(y_pred_vec+eps) - (1.-y_true_vec) * np.log(1.-y_pred_vec+eps))\n",
    "        return K.eval(binary_crossentropy(K.variable(y_true_vec), K.variable(y_pred_vec)))\n",
    "    \n",
    "    res = np.zeros((y_true_2d.shape[0],))\n",
    "    for i in range(y_true_2d.shape[0]):\n",
    "        res[i] = keras_binCE(y_true_2d[i], y_pred_2d[i])\n",
    "    return res\n",
    "    \n",
    "\n",
    "def unit_test_loc_loss():\n",
    "    # test with 3 classes, 2 samples of 2 time steps each\n",
    "\n",
    "    # pour y_true, j'ajoute une premiere ligne de 0 ou de 1 comme booleen pour indiquer \n",
    "    # si l'exemple dispose d'annotation GT forte ou non pour appliquer la loc_loss\n",
    "    y_true = np.array([[[1, 1, 1], [0, 1, 0], [0, 1, 0]], [[0, 0, 0], [0, 0, 0], [0, 0, 0]]], dtype=int)\n",
    "    \n",
    "    y_pred = np.array([[[0.2, 0.8, 0.0], [0.0, 0.9, 0.1]], [[0.1, 0.85, 0.05], [0.01, 0.9, 0.09]]], dtype=float)\n",
    "    print(y_true.shape, y_pred.shape)\n",
    "    \n",
    "    y_true_tensor = K.constant(y_true)\n",
    "    y_pred_tensor = K.constant(y_pred)\n",
    "    \n",
    "    print(K.eval(loc_loss(y_true_tensor, y_pred_tensor)))\n",
    "    print(K.eval(loc_loss(y_true_tensor, y_pred_tensor)).shape)\n",
    "    \n",
    "    print('y_true[0]', y_true[0,1:])\n",
    "    print('y_pred[0]', y_pred[0])\n",
    "    print(numpy_binCE_time(y_true[0,1:], y_pred[0]))\n",
    "    \n",
    "    ## create a random matrix with numbers in [0, 1] \n",
    "    # np.random.seed(123)\n",
    "    # np_weights = np.random.rand(2, 3) # 2: input feat dim, 3: nb of neurons\n",
    "    \n",
    "    # x_tensor = K.constant(np_weights)\n",
    "    # print(K.eval(keras_regCos(x_tensor)))\n",
    "\n",
    "#     # build dummy model\n",
    "#     x_input = keras.Input(tensor=x_tensor)\n",
    "#     regCos_output = keras.layers.Lambda(keras_regCos)(x_input)\n",
    "#     regCos_model = Model(inputs=x_input, outputs=regCos_output)\n",
    "#     regCos_model.compile(\"sgd\", \"mse\")\n",
    "    \n",
    "#     keras_reg = regCos_model.predict(None, steps=1)\n",
    "#     print(keras_reg)\n",
    "\n",
    "unit_test_loc_loss()\n",
    "\n",
    "\n",
    "    "
   ]
  },
  {
   "cell_type": "code",
   "execution_count": null,
   "metadata": {},
   "outputs": [],
   "source": [
    "from keras.losses import binary_crossentropy\n",
    "\n",
    "def binCE(y_true, y_pred):\n",
    "    return K.binary_crossentropy(y_true, y_pred, from_logits=False)\n",
    "\n",
    "dummy_gt = K.variable(np.array([[0, 1, 1], [1,0,0]], dtype='int32'))\n",
    "dummy_prob = K.variable(np.array([[0.1, 0.8, 0.7], [0.99, 0.0, 0.1]], dtype='float32'))\n",
    "\n",
    "K.eval(K.mean(binCE(dummy_gt, dummy_prob), axis=-1)), K.eval(binary_crossentropy(dummy_gt, dummy_prob))"
   ]
  },
  {
   "cell_type": "markdown",
   "metadata": {},
   "source": [
    "# Model definition"
   ]
  },
  {
   "cell_type": "code",
   "execution_count": 20,
   "metadata": {},
   "outputs": [
    {
     "name": "stdout",
     "output_type": "stream",
     "text": [
      "____________________________________________________________________________________________________\n",
      "Layer (type)                     Output Shape          Param #     Connected to                     \n",
      "====================================================================================================\n",
      "input_3 (InputLayer)             (None, 64, 431, 1)    0                                            \n",
      "____________________________________________________________________________________________________\n",
      "conv2d_7 (Conv2D)                (None, 64, 431, 64)   640         input_3[0][0]                    \n",
      "____________________________________________________________________________________________________\n",
      "batch_normalization_7 (BatchNorm (None, 64, 431, 64)   256         conv2d_7[0][0]                   \n",
      "____________________________________________________________________________________________________\n",
      "activation_7 (Activation)        (None, 64, 431, 64)   0           batch_normalization_7[0][0]      \n",
      "____________________________________________________________________________________________________\n",
      "max_pooling2d_7 (MaxPooling2D)   (None, 16, 431, 64)   0           activation_7[0][0]               \n",
      "____________________________________________________________________________________________________\n",
      "dropout_13 (Dropout)             (None, 16, 431, 64)   0           max_pooling2d_7[0][0]            \n",
      "____________________________________________________________________________________________________\n",
      "conv2d_8 (Conv2D)                (None, 16, 431, 64)   36928       dropout_13[0][0]                 \n",
      "____________________________________________________________________________________________________\n",
      "batch_normalization_8 (BatchNorm (None, 16, 431, 64)   256         conv2d_8[0][0]                   \n",
      "____________________________________________________________________________________________________\n",
      "activation_8 (Activation)        (None, 16, 431, 64)   0           batch_normalization_8[0][0]      \n",
      "____________________________________________________________________________________________________\n",
      "max_pooling2d_8 (MaxPooling2D)   (None, 4, 431, 64)    0           activation_8[0][0]               \n",
      "____________________________________________________________________________________________________\n",
      "dropout_14 (Dropout)             (None, 4, 431, 64)    0           max_pooling2d_8[0][0]            \n",
      "____________________________________________________________________________________________________\n",
      "conv2d_9 (Conv2D)                (None, 4, 431, 64)    36928       dropout_14[0][0]                 \n",
      "____________________________________________________________________________________________________\n",
      "batch_normalization_9 (BatchNorm (None, 4, 431, 64)    256         conv2d_9[0][0]                   \n",
      "____________________________________________________________________________________________________\n",
      "activation_9 (Activation)        (None, 4, 431, 64)    0           batch_normalization_9[0][0]      \n",
      "____________________________________________________________________________________________________\n",
      "max_pooling2d_9 (MaxPooling2D)   (None, 1, 431, 64)    0           activation_9[0][0]               \n",
      "____________________________________________________________________________________________________\n",
      "dropout_15 (Dropout)             (None, 1, 431, 64)    0           max_pooling2d_9[0][0]            \n",
      "____________________________________________________________________________________________________\n",
      "reshape_3 (Reshape)              (None, 431, 64)       0           dropout_15[0][0]                 \n",
      "____________________________________________________________________________________________________\n",
      "bidirectional_3 (Bidirectional)  (None, 431, 128)      49536       reshape_3[0][0]                  \n",
      "____________________________________________________________________________________________________\n",
      "dropout_16 (Dropout)             (None, 431, 128)      0           bidirectional_3[0][0]            \n",
      "____________________________________________________________________________________________________\n",
      "time_distributed_3 (TimeDistribu (None, 431, 64)       8256        dropout_16[0][0]                 \n",
      "____________________________________________________________________________________________________\n",
      "dropout_17 (Dropout)             (None, 431, 64)       0           time_distributed_3[0][0]         \n",
      "____________________________________________________________________________________________________\n",
      "loc_output (TimeDistributed)     (None, 431, 10)       650         dropout_17[0][0]                 \n",
      "____________________________________________________________________________________________________\n",
      "global_average_pooling1d_3 (Glob (None, 10)            0           loc_output[0][0]                 \n",
      "____________________________________________________________________________________________________\n",
      "mil_output (GlobalMaxPooling1D)  (None, 10)            0           loc_output[0][0]                 \n",
      "____________________________________________________________________________________________________\n",
      "concatenate_3 (Concatenate)      (None, 20)            0           global_average_pooling1d_3[0][0] \n",
      "                                                                   mil_output[0][0]                 \n",
      "____________________________________________________________________________________________________\n",
      "dense_9 (Dense)                  (None, 1024)          21504       concatenate_3[0][0]              \n",
      "____________________________________________________________________________________________________\n",
      "dropout_18 (Dropout)             (None, 1024)          0           dense_9[0][0]                    \n",
      "____________________________________________________________________________________________________\n",
      "at_output (Dense)                (None, 10)            10250       dropout_18[0][0]                 \n",
      "====================================================================================================\n",
      "Total params: 165,460\n",
      "Trainable params: 165,076\n",
      "Non-trainable params: 384\n",
      "____________________________________________________________________________________________________\n"
     ]
    }
   ],
   "source": [
    "input_shape = (64, 431, 1)\n",
    "\n",
    "melInput = Input(input_shape)\n",
    "\n",
    "# ---- mel convolution part ----\n",
    "mBlock1 = Conv2D(filters=64, kernel_size=(3, 3), padding=\"same\")(melInput)\n",
    "mBlock1 = BatchNormalization()(mBlock1)\n",
    "mBlock1 = Activation(activation=\"relu\")(mBlock1)\n",
    "mBlock1 = MaxPooling2D(pool_size=(4, 1))(mBlock1)\n",
    "mBlock1 = Dropout(0.1)(mBlock1)\n",
    "# mBlock1 = SpatialDropout2D(0.3, data_format=K.image_data_format())(mBlock1)\n",
    "\n",
    "mBlock2 = Conv2D(filters=64, kernel_size=(3, 3), padding=\"same\")(mBlock1)\n",
    "mBlock2 = BatchNormalization()(mBlock2)\n",
    "mBlock2 = Activation(activation=\"relu\")(mBlock2)\n",
    "mBlock2 = MaxPooling2D(pool_size=(4, 1))(mBlock2)\n",
    "# mBlock2 = SpatialDropout2D(0.3, data_format=K.image_data_format())(mBlock2)\n",
    "mBlock2 = Dropout(0.1)(mBlock2)\n",
    "    \n",
    "mBlock3 = Conv2D(filters=64, kernel_size=(3, 3), padding=\"same\")(mBlock2)\n",
    "mBlock3 = BatchNormalization()(mBlock3)\n",
    "mBlock3 = Activation(activation=\"relu\")(mBlock3)\n",
    "mBlock3 = MaxPooling2D(pool_size=(4, 1))(mBlock3)\n",
    "# mBlock3 = SpatialDropout2D(0.3, data_format=K.image_data_format())(mBlock3)\n",
    "mBlock3 = Dropout(0.1)(mBlock3)\n",
    "    \n",
    "targetShape = int(mBlock3.shape[1] * mBlock3.shape[2])\n",
    "mReshape = Reshape(target_shape=(targetShape, 64))(mBlock3)\n",
    "\n",
    "gru = Bidirectional(\n",
    "    GRU(kernel_initializer='glorot_uniform', activation='tanh', recurrent_dropout=0.1, \\\n",
    "        dropout=0.1, units=64, return_sequences=True)\n",
    ")(mReshape)\n",
    "\n",
    "gru = Dropout(0.1)(gru)\n",
    "\n",
    "output = TimeDistributed(\n",
    "    Dense(64, activation=\"relu\"),\n",
    ")(gru)\n",
    "\n",
    "output = Dropout(0.1)(output)\n",
    "\n",
    "loc_output = TimeDistributed(\n",
    "    Dense(10, activation=\"sigmoid\"),  name=\"loc_output\",\n",
    ")(output)\n",
    "\n",
    "# output = TimeDistributed(\n",
    "#  Lambda(lambda x: (x - K.min(x, axis=1, keepdims=True))/(K.max(x, axis=1, keepdims=True)- K.min(x, axis=1, keepdims=True)) ),\n",
    "# )(output)\n",
    "\n",
    "### output = GlobalAveragePooling1D()(output)\n",
    "gap = GlobalAveragePooling1D()(loc_output)\n",
    "mil_output = GlobalMaxPooling1D(name=\"mil_output\")(loc_output)\n",
    "# flat_gap = Flatten()(gap)\n",
    "# flat_gmp = Flatten()(gmp)\n",
    "\n",
    "concat = Concatenate()([gap, mil_output])\n",
    "\n",
    "d = Dense(1024, activation=\"relu\")(concat)\n",
    "d = Dropout(rate=0.1)(d)\n",
    "\n",
    "at_output = Dense(10, activation=\"sigmoid\", name=\"at_output\")(d)\n",
    "\n",
    "# model = Model(inputs=[melInput], outputs=[loc_output, at_output, mil_output])\n",
    "model = Model(inputs=[melInput], outputs=[loc_output, at_output])\n",
    "\n",
    "# compile model\n",
    "# metrics = [\"accuracy\"]\n",
    "optimizer = optimizers.Adam()\n",
    "# optimizer = optimizers.SGD(lr=0.1, momentum=0.9, decay=1e-4)\n",
    "\n",
    "# model.compile(loss=\"binary_crossentropy\", \n",
    "#               optimizer=optimizer)\n",
    "\n",
    "model.compile(loss={\"loc_output\": loc_loss, \"at_output\": \"binary_crossentropy\"}, \n",
    "                    loss_weights={\"loc_output\": 1., \"at_output\": 1.},\n",
    "              optimizer=optimizer)\n",
    "\n",
    "# model.compile(loss={\"loc_output\": loc_loss, \"mil_output\": mil_loss, \"at_output\": \"binary_crossentropy\"}, \n",
    "#                     loss_weights={\"loc_output\": 1., \"mil_output\": 1., \"at_output\": 1.},\n",
    "#               optimizer=optimizer)\n",
    "\n",
    "# required if no dropout or batch norm in the model\n",
    "# model.outputs[2]._uses_learning_phase = True  \n",
    "\n",
    "model.summary(line_length=100)"
   ]
  },
  {
   "cell_type": "markdown",
   "metadata": {},
   "source": [
    "# Train"
   ]
  },
  {
   "cell_type": "code",
   "execution_count": 38,
   "metadata": {},
   "outputs": [
    {
     "data": {
      "text/plain": [
       "[<matplotlib.lines.Line2D at 0x7f0657235080>]"
      ]
     },
     "execution_count": 38,
     "metadata": {},
     "output_type": "execute_result"
    },
    {
     "data": {
      "image/png": "[encoded data removed]",
      "text/plain": [
       "<Figure size 432x288 with 1 Axes>"
      ]
     },
     "metadata": {
      "needs_background": "light"
     },
     "output_type": "display_data"
    }
   ],
   "source": [
    "t = np.array(range(100), dtype=float)\n",
    "t *= pi/100.\n",
    "a = 0.05*(1.+np.cos(t))\n",
    "plt.plot(a)"
   ]
  },
  {
   "cell_type": "code",
   "execution_count": 25,
   "metadata": {},
   "outputs": [],
   "source": [
    "def lrate_schedule_fn(epoch):\n",
    "    if epoch < 50:\n",
    "        return 1e-3\n",
    "    elif epoch < 100:\n",
    "        return 5e-4\n",
    "    elif epoch < 150:\n",
    "        return 1e-4\n",
    "    else:\n",
    "        return 1e-5\n",
    "    \n",
    "# from math import pi, cos\n",
    "\n",
    "# def lrate_schedule_fn(epoch):\n",
    "#     return 0.05*(1.+cos(epoch*pi/100.))\n",
    "\n",
    "lrate_scheduler = keras.callbacks.LearningRateScheduler(lrate_schedule_fn)\n",
    "\n",
    "early_stopper = keras.callbacks.EarlyStopping(monitor='val_loss', min_delta=1e-3, patience=15, verbose=1, \n",
    "                                              mode='auto')\n",
    "\n",
    "filepath = os.path.join(savedir_long, \"dcase19.{epoch:02d}-{loss:.4f}-{val_loss:.4f}.hdf5\")\n",
    "# create_folder(os.path.dirname(filepath))                                                                         \n",
    "model_saver = keras.callbacks.ModelCheckpoint(filepath=filepath,\n",
    "                                             monitor='val_loss',\n",
    "                                             verbose=0,\n",
    "                                             save_best_only=False,\n",
    "                                             save_weights_only=False,\n",
    "                                             mode='auto',\n",
    "                                             period=10)\n"
   ]
  },
  {
   "cell_type": "code",
   "execution_count": 26,
   "metadata": {},
   "outputs": [
    {
     "name": "stdout",
     "output_type": "stream",
     "text": [
      "Epoch 1/2\n",
      "0 0.09997532801828658\n"
     ]
    },
    {
     "name": "stderr",
     "output_type": "stream",
     "text": [
      "/home/thomas/tools/miniconda2/envs/keras-sincnet-env/lib/python3.6/site-packages/librosa/core/pitch.py:145: UserWarning: Trying to estimate tuning from empty frequency set.\n",
      "  warnings.warn('Trying to estimate tuning from empty frequency set.')\n",
      "/home/thomas/tools/miniconda2/envs/keras-sincnet-env/lib/python3.6/site-packages/librosa/core/pitch.py:145: UserWarning: Trying to estimate tuning from empty frequency set.\n",
      "  warnings.warn('Trying to estimate tuning from empty frequency set.')\n",
      "/home/thomas/tools/miniconda2/envs/keras-sincnet-env/lib/python3.6/site-packages/librosa/core/pitch.py:145: UserWarning: Trying to estimate tuning from empty frequency set.\n",
      "  warnings.warn('Trying to estimate tuning from empty frequency set.')\n",
      "/home/thomas/tools/miniconda2/envs/keras-sincnet-env/lib/python3.6/site-packages/librosa/core/pitch.py:145: UserWarning: Trying to estimate tuning from empty frequency set.\n",
      "  warnings.warn('Trying to estimate tuning from empty frequency set.')\n"
     ]
    },
    {
     "name": "stdout",
     "output_type": "stream",
     "text": [
      "\r",
      "1/5 [=====>........................] - ETA: 54s - loss: 0.4599 - loc_output_loss: 0.0644 - at_output_loss: 0.3956"
     ]
    },
    {
     "name": "stderr",
     "output_type": "stream",
     "text": [
      "/home/thomas/tools/miniconda2/envs/keras-sincnet-env/lib/python3.6/site-packages/librosa/core/pitch.py:145: UserWarning: Trying to estimate tuning from empty frequency set.\n",
      "  warnings.warn('Trying to estimate tuning from empty frequency set.')\n",
      "/home/thomas/tools/miniconda2/envs/keras-sincnet-env/lib/python3.6/site-packages/librosa/core/pitch.py:145: UserWarning: Trying to estimate tuning from empty frequency set.\n",
      "  warnings.warn('Trying to estimate tuning from empty frequency set.')\n"
     ]
    },
    {
     "name": "stdout",
     "output_type": "stream",
     "text": [
      "3/5 [=================>............] - ETA: 26s - loss: 0.4872 - loc_output_loss: 0.0798 - at_output_loss: 0.4074"
     ]
    },
    {
     "name": "stderr",
     "output_type": "stream",
     "text": [
      "/home/thomas/tools/miniconda2/envs/keras-sincnet-env/lib/python3.6/site-packages/librosa/core/pitch.py:145: UserWarning: Trying to estimate tuning from empty frequency set.\n",
      "  warnings.warn('Trying to estimate tuning from empty frequency set.')\n",
      "/home/thomas/tools/miniconda2/envs/keras-sincnet-env/lib/python3.6/site-packages/librosa/core/pitch.py:145: UserWarning: Trying to estimate tuning from empty frequency set.\n",
      "  warnings.warn('Trying to estimate tuning from empty frequency set.')\n",
      "/home/thomas/tools/miniconda2/envs/keras-sincnet-env/lib/python3.6/site-packages/librosa/core/pitch.py:145: UserWarning: Trying to estimate tuning from empty frequency set.\n",
      "  warnings.warn('Trying to estimate tuning from empty frequency set.')\n"
     ]
    },
    {
     "name": "stdout",
     "output_type": "stream",
     "text": [
      "\b\b\b\b\b\b\b\b\b\b\b\b\b\b\b\b\b\b\b\b\b\b\b\b\b\b\b\b\b\b\b\b\b\b\b\b\b\b\b\b\b\b\b\b\b\b\b\b\b\b\b\b\b\b\b\b\b\b\b\b\b\b\b\b\b\b\b\b\b\b\b\b\b\b\b\b\b\b\b\b\b\b\b\b\b\b\b\b\b\b\b\b\b\b\b\b\b\b\b\b\b\b\b\b\b\b\b\b\b\b\b\b\b\r",
      "4/5 [=======================>......] - ETA: 12s - loss: 0.4941 - loc_output_loss: 0.0822 - at_output_loss: 0.4120"
     ]
    },
    {
     "name": "stderr",
     "output_type": "stream",
     "text": [
      "/home/thomas/tools/miniconda2/envs/keras-sincnet-env/lib/python3.6/site-packages/librosa/core/pitch.py:145: UserWarning: Trying to estimate tuning from empty frequency set.\n",
      "  warnings.warn('Trying to estimate tuning from empty frequency set.')\n",
      "/home/thomas/tools/miniconda2/envs/keras-sincnet-env/lib/python3.6/site-packages/librosa/core/pitch.py:145: UserWarning: Trying to estimate tuning from empty frequency set.\n",
      "  warnings.warn('Trying to estimate tuning from empty frequency set.')\n",
      "/home/thomas/tools/miniconda2/envs/keras-sincnet-env/lib/python3.6/site-packages/librosa/core/pitch.py:145: UserWarning: Trying to estimate tuning from empty frequency set.\n",
      "  warnings.warn('Trying to estimate tuning from empty frequency set.')\n"
     ]
    },
    {
     "name": "stdout",
     "output_type": "stream",
     "text": [
      "5/5 [==============================] - 62s 12s/step - loss: 0.4968 - loc_output_loss: 0.0844 - at_output_loss: 0.4125\n",
      "Epoch 2/2\n",
      "1 0.1\n"
     ]
    },
    {
     "name": "stderr",
     "output_type": "stream",
     "text": [
      "/home/thomas/tools/miniconda2/envs/keras-sincnet-env/lib/python3.6/site-packages/keras/callbacks.py:526: RuntimeWarning: Early stopping conditioned on metric `val_loss` which is not available. Available metrics are: loss,loc_output_loss,at_output_loss\n",
      "  (self.monitor, ','.join(list(logs.keys()))), RuntimeWarning\n",
      "/home/thomas/tools/miniconda2/envs/keras-sincnet-env/lib/python3.6/site-packages/librosa/core/pitch.py:145: UserWarning: Trying to estimate tuning from empty frequency set.\n",
      "  warnings.warn('Trying to estimate tuning from empty frequency set.')\n"
     ]
    },
    {
     "name": "stdout",
     "output_type": "stream",
     "text": [
      "\r",
      "1/5 [=====>........................] - ETA: 26s - loss: 0.4954 - loc_output_loss: 0.0853 - at_output_loss: 0.4101"
     ]
    },
    {
     "name": "stderr",
     "output_type": "stream",
     "text": [
      "/home/thomas/tools/miniconda2/envs/keras-sincnet-env/lib/python3.6/site-packages/librosa/core/pitch.py:145: UserWarning: Trying to estimate tuning from empty frequency set.\n",
      "  warnings.warn('Trying to estimate tuning from empty frequency set.')\n",
      "/home/thomas/tools/miniconda2/envs/keras-sincnet-env/lib/python3.6/site-packages/librosa/core/pitch.py:145: UserWarning: Trying to estimate tuning from empty frequency set.\n",
      "  warnings.warn('Trying to estimate tuning from empty frequency set.')\n"
     ]
    },
    {
     "name": "stdout",
     "output_type": "stream",
     "text": [
      "3/5 [=================>............] - ETA: 19s - loss: 0.5217 - loc_output_loss: 0.1014 - at_output_loss: 0.4202"
     ]
    },
    {
     "name": "stderr",
     "output_type": "stream",
     "text": [
      "/home/thomas/tools/miniconda2/envs/keras-sincnet-env/lib/python3.6/site-packages/librosa/core/pitch.py:145: UserWarning: Trying to estimate tuning from empty frequency set.\n",
      "  warnings.warn('Trying to estimate tuning from empty frequency set.')\n"
     ]
    },
    {
     "name": "stdout",
     "output_type": "stream",
     "text": [
      "\b\b\b\b\b\b\b\b\b\b\b\b\b\b\b\b\b\b\b\b\b\b\b\b\b\b\b\b\b\b\b\b\b\b\b\b\b\b\b\b\b\b\b\b\b\b\b\b\b\b\b\b\b\b\b\b\b\b\b\b\b\b\b\b\b\b\b\b\b\b\b\b\b\b\b\b\b\b\b\b\b\b\b\b\b\b\b\b\b\b\b\b\b\b\b\b\b\b\b\b\b\b\b\b\b\b\b\b\b\b\b\b\b\r",
      "4/5 [=======================>......] - ETA: 9s - loss: 0.5244 - loc_output_loss: 0.1014 - at_output_loss: 0.4230 "
     ]
    },
    {
     "name": "stderr",
     "output_type": "stream",
     "text": [
      "/home/thomas/tools/miniconda2/envs/keras-sincnet-env/lib/python3.6/site-packages/librosa/core/pitch.py:145: UserWarning: Trying to estimate tuning from empty frequency set.\n",
      "  warnings.warn('Trying to estimate tuning from empty frequency set.')\n"
     ]
    },
    {
     "name": "stdout",
     "output_type": "stream",
     "text": [
      "\b\b\b\b\b\b\b\b\b\b\b\b\b\b\b\b\b\b\b\b\b\b\b\b\b\b\b\b\b\b\b\b\b\b\b\b\b\b\b\b\b\b\b\b\b\b\b\b\b\b\b\b\b\b\b\b\b\b\b\b\b\b\b\b\b\b\b\b\b\b\b\b\b\b\b\b\b\b\b\b\b\b\b\b\b\b\b\b\b\b\b\b\b\b\b\b\b\b\b\b\b\b\b\b\b\b\b\b\b\b\b\b\r",
      "5/5 [==============================] - 47s 9s/step - loss: 0.5322 - loc_output_loss: 0.1064 - at_output_loss: 0.4258\n"
     ]
    },
    {
     "name": "stderr",
     "output_type": "stream",
     "text": [
      "/home/thomas/tools/miniconda2/envs/keras-sincnet-env/lib/python3.6/site-packages/keras/callbacks.py:526: RuntimeWarning: Early stopping conditioned on metric `val_loss` which is not available. Available metrics are: loss,loc_output_loss,at_output_loss\n",
      "  (self.monitor, ','.join(list(logs.keys()))), RuntimeWarning\n",
      "/home/thomas/tools/miniconda2/envs/keras-sincnet-env/lib/python3.6/site-packages/librosa/core/pitch.py:145: UserWarning: Trying to estimate tuning from empty frequency set.\n",
      "  warnings.warn('Trying to estimate tuning from empty frequency set.')\n"
     ]
    }
   ],
   "source": [
    "history = model.fit_generator(\n",
    "    generator=train_generator,\n",
    "    epochs=150,\n",
    "    steps_per_epoch=nb_steps_train,\n",
    "    use_multiprocessing=True,\n",
    "    validation_data=dev_generator,\n",
    "    validation_steps=nb_steps_dev,\n",
    "#    validation_freq=[1, 2, 10, 20, 30, 40, 50],\n",
    "    workers=os.cpu_count()//2,\n",
    "#    workers=1,\n",
    "    callbacks = [lrate_scheduler, early_stopper, model_saver],\n",
    "    initial_epoch=0,\n",
    "    verbose=1\n",
    "    )"
   ]
  },
  {
   "cell_type": "code",
   "execution_count": null,
   "metadata": {},
   "outputs": [],
   "source": [
    "plt.plot(model.history.history['loss'])\n",
    "# plt.plot(model.history.history['val_loss'])\n",
    "plt.title('model loss')\n",
    "plt.ylabel('loss')\n",
    "plt.xlabel('epoch')\n",
    "plt.legend(['train'], loc='upper left')"
   ]
  },
  {
   "cell_type": "markdown",
   "metadata": {},
   "source": [
    "# Test model"
   ]
  },
  {
   "cell_type": "markdown",
   "metadata": {},
   "source": [
    "## load a model"
   ]
  },
  {
   "cell_type": "code",
   "execution_count": 28,
   "metadata": {
    "ExecuteTime": {
     "end_time": "2019-06-07T11:41:25.671580Z",
     "start_time": "2019-06-07T11:41:23.559152Z"
    }
   },
   "outputs": [
    {
     "name": "stderr",
     "output_type": "stream",
     "text": [
      "/home/thomas/tools/miniconda2/envs/keras-sincnet-env/lib/python3.6/site-packages/keras/models.py:318: UserWarning: Error in loading the saved optimizer state. As a result, your model is starting with a freshly initialized optimizer.\n",
      "  warnings.warn('Error in loading the saved optimizer '\n"
     ]
    }
   ],
   "source": [
    "modeldir='models/models_train_synthetic/model0'\n",
    "# # modelpath=modeldir + '/model_0_cnn_100_epochs_loss_0.196808_train_0.4117_val.h5'\n",
    "# # modelpath=modeldir + '/dcase19.20-0.2485-0.3683.hdf5'\n",
    "# modelpath=modeldir + '/dcase19.30-0.2178-0.3783.hdf5'\n",
    "modelpath=modeldir + '/'\n",
    "\n",
    "# modeldir='models/models_train_synthetic/model1'\n",
    "# # modelpath=modeldir + '/dcase19.110-0.1804-0.3329.hdf5'\n",
    "# # modelpath=modeldir + '/model_1_cnn_200_epochs_loss_0.179525_train_0.3320_val.h5'\n",
    "# # modelpath=modeldir + '/dcase19.100-0.1890-0.3417.hdf5'\n",
    "# modelpath=modeldir + '/dcase19.90-0.1949-0.3362.hdf5'\n",
    "\n",
    "# modeldir='tmp/'\n",
    "# modelpath=modeldir + 'model_1_cnn_200_epochs_loss_0.152185_train_0.3334_val.h5'\n",
    "\n",
    "# 2018\n",
    "# model1 = load_model('../dcase2018/thomas_models/classif_cnn_100epochs_f1_0.8584_valf1_0.8286.h5', \n",
    "#                             custom_objects={'f1': Metrics.f1, 'recall': Metrics.recall, \n",
    "#                                             'precision': Metrics.precision})\n",
    "      \n",
    "model = load_model(modelpath, custom_objects={'loc_loss': loc_loss})\n",
    "\n",
    "# model.summary()"
   ]
  },
  {
   "cell_type": "code",
   "execution_count": 18,
   "metadata": {},
   "outputs": [],
   "source": [
    "modeldir='models/'\n",
    "modelpath=modeldir + '/case19.130-0.1475-0.3367.hdf5'"
   ]
  },
  {
   "cell_type": "code",
   "execution_count": 21,
   "metadata": {
    "ExecuteTime": {
     "end_time": "2019-06-09T08:05:31.836222Z",
     "start_time": "2019-06-09T08:05:31.806210Z"
    }
   },
   "outputs": [],
   "source": [
    "def define_model(at_layer_name='at_output', loc_layer_name='loc_output'):\n",
    "\n",
    "    time_pooling_factor=1\n",
    "    \n",
    "    input_shape = (64, 431, 1)\n",
    "\n",
    "    melInput = Input(input_shape)\n",
    "\n",
    "    # ---- mel convolution part ----\n",
    "    mBlock1 = Conv2D(filters=64, kernel_size=(3, 3), padding=\"same\")(melInput)\n",
    "    mBlock1 = BatchNormalization()(mBlock1)\n",
    "    mBlock1 = Activation(activation=\"relu\")(mBlock1)\n",
    "    mBlock1 = MaxPooling2D(pool_size=(4, 1))(mBlock1)\n",
    "    # mBlock1 = Dropout(0.1)(mBlock1)\n",
    "    mBlock1 = SpatialDropout2D(0.3, data_format=K.image_data_format())(mBlock1)\n",
    "\n",
    "    mBlock2 = Conv2D(filters=64, kernel_size=(3, 3), padding=\"same\")(mBlock1)\n",
    "    mBlock2 = BatchNormalization()(mBlock2)\n",
    "    mBlock2 = Activation(activation=\"relu\")(mBlock2)\n",
    "    mBlock2 = MaxPooling2D(pool_size=(4, time_pooling_factor))(mBlock2)\n",
    "    mBlock2 = SpatialDropout2D(0.3, data_format=K.image_data_format())(mBlock2)\n",
    "    # mBlock2 = Dropout(0.1)(mBlock2)\n",
    "\n",
    "    mBlock3 = Conv2D(filters=64, kernel_size=(3, 3), padding=\"same\")(mBlock2)\n",
    "    mBlock3 = BatchNormalization()(mBlock3)\n",
    "    mBlock3 = Activation(activation=\"relu\")(mBlock3)\n",
    "    mBlock3 = MaxPooling2D(pool_size=(4, time_pooling_factor))(mBlock3)\n",
    "    mBlock3 = SpatialDropout2D(0.3, data_format=K.image_data_format())(mBlock3)\n",
    "    # mBlock3 = Dropout(0.1)(mBlock3)\n",
    "\n",
    "    targetShape = int(mBlock3.shape[1] * mBlock3.shape[2])\n",
    "    mReshape = Reshape(target_shape=(targetShape, 64))(mBlock3)\n",
    "\n",
    "    gru = Bidirectional(\n",
    "        GRU(kernel_initializer='glorot_uniform', activation='tanh', recurrent_dropout=0.1, \\\n",
    "            dropout=0.1, units=64, return_sequences=True)\n",
    "    )(mReshape)\n",
    "\n",
    "    gru = Dropout(0.1)(gru)\n",
    "\n",
    "    output = TimeDistributed(\n",
    "        Dense(64, activation=\"relu\"),\n",
    "    )(gru)\n",
    "\n",
    "    output = Dropout(0.1)(output)\n",
    "\n",
    "    loc_output = TimeDistributed(\n",
    "        Dense(10, activation=\"sigmoid\"), name=loc_layer_name,\n",
    "    )(output)\n",
    "\n",
    "    # output = TimeDistributed(\n",
    "    #  Lambda(lambda x: (x - K.min(x, axis=1, keepdims=True))/(K.max(x, axis=1, keepdims=True)- K.min(x, axis=1, keepdims=True)) ),\n",
    "    # )(output)\n",
    "\n",
    "    ### output = GlobalAveragePooling1D()(output)\n",
    "    gap = GlobalAveragePooling1D()(loc_output)\n",
    "    gmp = GlobalMaxPooling1D()(loc_output)\n",
    "    # flat_gap = Flatten()(gap)\n",
    "    # flat_gmp = Flatten()(gmp)\n",
    "\n",
    "    concat = Concatenate()([gap, gmp])\n",
    "\n",
    "    d = Dense(1024, activation=\"relu\")(concat)\n",
    "    d = Dropout(rate=0.5)(d)\n",
    "\n",
    "    at_output = Dense(10, activation=\"sigmoid\", name=at_layer_name)(d)\n",
    "\n",
    "    model = Model(inputs=[melInput], outputs=[loc_output, at_output])\n",
    "    \n",
    "    return model\n",
    "    "
   ]
  },
  {
   "cell_type": "code",
   "execution_count": 25,
   "metadata": {
    "ExecuteTime": {
     "end_time": "2019-06-09T08:06:57.885847Z",
     "start_time": "2019-06-09T08:06:50.742283Z"
    }
   },
   "outputs": [],
   "source": [
    "modeldir='models'\n",
    "\n",
    "# weight_path=modeldir + '/models_train_synthetic/osirim_dcase19.130-0.1488-0.3204/dcase19.130-0.1488-0.3204_weights.h5'\n",
    "weight_path=modeldir + '/models_train_synthetic/osirim_dcase19.90-0.1650-0.3258/dcase19.90-0.1650-0.3258.h5'\n",
    "model1 = define_model(at_layer_name='at_output1', loc_layer_name='loc_output1')\n",
    "model1.load_weights(weight_path)\n",
    "# model1.summary()\n",
    "\n",
    "weight_path=modeldir + '/models_train_synthetic/osirim_dcase19.90-0.1658-0.3292/dcase19.90-0.1658-0.3292.h5'\n",
    "model2 = define_model(at_layer_name='at_output2', loc_layer_name='loc_output2')\n",
    "model2.load_weights(weight_path)\n",
    "# # model2.summary()\n",
    "\n",
    "weight_path=modeldir + '/models_train_synthetic/osirim_dcase19.90-0.1652-0.3390/dcase19.90-0.1652-0.3390.h5'\n",
    "model3 = define_model(at_layer_name='at_output3', loc_layer_name='loc_output3')\n",
    "model3.load_weights(weight_path)\n"
   ]
  },
  {
   "cell_type": "code",
   "execution_count": 26,
   "metadata": {
    "ExecuteTime": {
     "end_time": "2019-06-09T08:06:59.577501Z",
     "start_time": "2019-06-09T08:06:59.572430Z"
    }
   },
   "outputs": [],
   "source": [
    "model1 = model2"
   ]
  },
  {
   "cell_type": "markdown",
   "metadata": {
    "heading_collapsed": true
   },
   "source": [
    "## Dog Speech file"
   ]
  },
  {
   "cell_type": "code",
   "execution_count": 21,
   "metadata": {
    "ExecuteTime": {
     "end_time": "2019-06-08T10:13:00.426625Z",
     "start_time": "2019-06-08T10:12:58.127906Z"
    },
    "hidden": true
   },
   "outputs": [
    {
     "data": {
      "text/plain": [
       "((1, 431, 10), (1, 10))"
      ]
     },
     "execution_count": 21,
     "metadata": {},
     "output_type": "execute_result"
    }
   ],
   "source": [
    "# audiodir='/baie/corpus/DCASE2019/task4/dataset/audio/validation'\n",
    "# fpath=audiodir + '/' + 'Y5J603SAj7QM_210.000_220.000.wav'\n",
    "\n",
    "audiodir='/baie/corpus/DCASE2019/task4/dataset/audio/train/weak'\n",
    "fpath=audiodir + '/' + 'Y-dDpGRPHzM0_30.000_40.000.wav'\n",
    "\n",
    "signal, sr = librosa.load(fpath, res_type='kaiser_fast')\n",
    "\n",
    "hop_length=512\n",
    "#             # multiply by random factor for data aug\n",
    "#             if self.fact_amp > 0:\n",
    "#                 print('amp')\n",
    "#                 signal *= rand_amp_arr[i]\n",
    "\n",
    "power = librosa.feature.melspectrogram(y=signal,\n",
    "                            sr=sr,\n",
    "                            n_fft=2048, \n",
    "                            n_mels=64, \n",
    "                            fmin=0.0, \n",
    "                            fmax=sr/2.0, \n",
    "                            htk=False, \n",
    "                            hop_length=hop_length, \n",
    "                            power=2.0, \n",
    "                            norm=1)\n",
    "\n",
    "power = librosa.core.power_to_db(power, ref=np.max)\n",
    "endpoint_time = np.min([power.shape[1],431])\n",
    "\n",
    "x_test = power[:,:endpoint_time]\n",
    "x_test = x_test[np.newaxis, :, :, np.newaxis]\n",
    "# x_test.shape # (1, 64, 431, 1)\n",
    "\n",
    "loc_probs, at_probs = model1.predict(x_test)\n",
    "loc_probs.shape, at_probs.shape"
   ]
  },
  {
   "cell_type": "code",
   "execution_count": 22,
   "metadata": {
    "ExecuteTime": {
     "end_time": "2019-06-08T10:13:00.434255Z",
     "start_time": "2019-06-08T10:13:00.429653Z"
    },
    "hidden": true
   },
   "outputs": [
    {
     "data": {
      "text/plain": [
       "array([[0.2486009 , 0.9894839 , 0.8405699 , 0.06382809, 0.00364721,\n",
       "        0.07320789, 0.00572502, 0.00626068, 0.0015088 , 0.01239183]],\n",
       "      dtype=float32)"
      ]
     },
     "execution_count": 22,
     "metadata": {},
     "output_type": "execute_result"
    }
   ],
   "source": [
    "at_probs"
   ]
  },
  {
   "cell_type": "code",
   "execution_count": 23,
   "metadata": {
    "ExecuteTime": {
     "end_time": "2019-06-08T10:13:02.065736Z",
     "start_time": "2019-06-08T10:13:01.553810Z"
    },
    "hidden": true
   },
   "outputs": [
    {
     "name": "stdout",
     "output_type": "stream",
     "text": [
      "Speech 0.9926207\n",
      "1.0\n",
      "Dog 0.8188091\n",
      "1.0\n"
     ]
    },
    {
     "name": "stderr",
     "output_type": "stream",
     "text": [
      "/home/thomas/tools/miniconda2/envs/keras-sincnet-env/lib/python3.6/site-packages/matplotlib/figure.py:98: MatplotlibDeprecationWarning: \n",
      "Adding an axes using the same arguments as a previous axes currently reuses the earlier instance.  In a future version, a new instance will always be created and returned.  Meanwhile, this warning can be suppressed, and the future behavior ensured, by passing a unique label to each axes instance.\n",
      "  \"Adding an axes using the same arguments as a previous axes \"\n"
     ]
    },
    {
     "data": {
      "image/png": "[encoded data removed]",
      "text/plain": [
       "<Figure size 1080x504 with 2 Axes>"
      ]
     },
     "metadata": {
      "needs_background": "light"
     },
     "output_type": "display_data"
    }
   ],
   "source": [
    "time_vector = np.linspace(0, 10, loc_probs.shape[1])\n",
    "\n",
    "fig, axs = plt.subplots(1,1,figsize=(15,7))\n",
    "\n",
    "### axs.imshow(featTest[indice][:,:,0] , cmap='gray', interpolation='none', alpha=0.3)\n",
    "axs.imshow(x_test[0,:,:,0], origin='lower', interpolation='none', aspect='auto', alpha=0.7)\n",
    "\n",
    "# enlever les ticks\n",
    "\n",
    "plt.tick_params(\n",
    "    axis='both',          # changes apply to the x-axis\n",
    "    which='both',      # both major and minor ticks are affected\n",
    "    bottom=False,      # ticks along the bottom edge are off\n",
    "    top=False,         # ticks along the top edge are off\n",
    "    left=False,      # ticks along the bottom edge are off\n",
    "    right=False,         # ticks along the top edge are off\n",
    "    labelbottom=False,\n",
    "    labelleft=False) # labels along the bottom edge are off\n",
    "\n",
    "\n",
    "# # indice = 4\n",
    "nplots=2\n",
    "dico={0: 1, 1: 2}\n",
    "dico_c={0: 'b', 1: 'r'}\n",
    "dico_l={0: 'Speech', 1: 'Dog'}\n",
    "\n",
    "# # indice = 15\n",
    "# dico={0: 0, 1: 1}\n",
    "# dico_c={0: 'b', 1: 'r'}\n",
    "# dico_l={0: 'Alarm', 1: 'Speech'}\n",
    "\n",
    "# classes = ['Speech', 'Dishes', 'Frying']\n",
    "# dico={}\n",
    "# dico_c={0: 'b', 1: 'r', 2: 'y'}\n",
    "# dico_l={}\n",
    "# for i,c in enumerate(classes):\n",
    "#     n = DCASE2018.class_correspondance[c]\n",
    "#     dico[i] = n\n",
    "#     dico_l[i] = c\n",
    "\n",
    "# dico={0: 3}\n",
    "# dico_c={0: 'b'}\n",
    "# dico_l={0: 'Cat'}\n",
    "\n",
    "fig.canvas.draw()\n",
    "\n",
    "box = axs._position.bounds\n",
    "height = box[3] / nplots\n",
    "\n",
    "for i in range(nplots):\n",
    "\n",
    "    tmpax = fig.add_axes([box[0], box[1], box[2], box[3]])\n",
    "    tmpax.set_axis_off()\n",
    "    \n",
    "    \n",
    "    if False:\n",
    "        proba= temporalPrediction[indice,:,dico[i]]\n",
    "    else:\n",
    "        proba = loc_probs[0,:,dico[i]]\n",
    "\n",
    "    print(dico_l[i], np.max(proba))\n",
    "###     proba = dico_toto['Y-dDpGRPHzM0_30.000_40.000'][i]\n",
    "    proba = (proba - np.min(proba)) / (np.max(proba) - np.min(proba))\n",
    "    print(np.max(proba))\n",
    "    \n",
    "#     concat = np.concatenate((time_vector[:,np.newaxis], proba[:,np.newaxis]), axis=-1)\n",
    "#     np.savetxt('/home/thomas/research/demos/demo_dcase2018/{}_Y5J603SAj7QM_210.000_220.000.txt'.format(dico_l[i]), concat, fmt='%.3f')\n",
    "    \n",
    "    tmpax.plot(proba, dico_c[i], label=dico_l[i])\n",
    "    tmpax.set_ylim(0, np.max(proba))\n",
    "    tmpax.set_xlim(0, 431)\n",
    "    plt.legend(loc=2, fontsize=14)\n"
   ]
  },
  {
   "cell_type": "markdown",
   "metadata": {},
   "source": [
    "## Val subset"
   ]
  },
  {
   "cell_type": "code",
   "execution_count": 28,
   "metadata": {
    "ExecuteTime": {
     "end_time": "2019-06-09T08:08:08.529968Z",
     "start_time": "2019-06-09T08:07:17.949492Z"
    }
   },
   "outputs": [
    {
     "name": "stdout",
     "output_type": "stream",
     "text": [
      "18/18 [==============================] - 51s 3s/step\n"
     ]
    }
   ],
   "source": [
    "val_probs1 = model1.predict_generator(generator=dev_generator,\n",
    "    steps=nb_steps_dev,\n",
    "    use_multiprocessing=True,\n",
    "    # workers=os.cpu_count(),\n",
    "    workers=10,\n",
    "    max_queue_size=10,\n",
    "    verbose=1)\n",
    "\n",
    "# val_probs2 = model2.predict_generator(generator=dev_generator,\n",
    "#     steps=nb_steps_dev,\n",
    "#     use_multiprocessing=True,\n",
    "#     workers=os.cpu_count(),\n",
    "#     workers=10,\n",
    "#     max_queue_size=10,\n",
    "#     verbose=1)\n",
    "\n",
    "# val_probs3 = model3.predict_generator(generator=dev_generator,\n",
    "#     steps=nb_steps_dev,\n",
    "#     use_multiprocessing=True,\n",
    "# #     workers=os.cpu_count(),\n",
    "#     workers=10,\n",
    "#     max_queue_size=10,\n",
    "#     verbose=1)\n"
   ]
  },
  {
   "cell_type": "code",
   "execution_count": 25,
   "metadata": {
    "ExecuteTime": {
     "end_time": "2019-06-08T10:14:05.260485Z",
     "start_time": "2019-06-08T10:14:05.170689Z"
    }
   },
   "outputs": [
    {
     "ename": "NameError",
     "evalue": "name 'val_probs' is not defined",
     "output_type": "error",
     "traceback": [
      "\u001b[0;31m---------------------------------------------------------------------------\u001b[0m",
      "\u001b[0;31mNameError\u001b[0m                                 Traceback (most recent call last)",
      "\u001b[0;32m<ipython-input-25-ca875d409dc0>\u001b[0m in \u001b[0;36m<module>\u001b[0;34m\u001b[0m\n\u001b[0;32m----> 1\u001b[0;31m \u001b[0mval_probs\u001b[0m\u001b[0;34m[\u001b[0m\u001b[0;36m0\u001b[0m\u001b[0;34m]\u001b[0m\u001b[0;34m.\u001b[0m\u001b[0mshape\u001b[0m\u001b[0;34m,\u001b[0m \u001b[0mval_probs\u001b[0m\u001b[0;34m[\u001b[0m\u001b[0;36m1\u001b[0m\u001b[0;34m]\u001b[0m\u001b[0;34m.\u001b[0m\u001b[0mshape\u001b[0m\u001b[0;34m\u001b[0m\u001b[0m\n\u001b[0m",
      "\u001b[0;31mNameError\u001b[0m: name 'val_probs' is not defined"
     ]
    }
   ],
   "source": [
    "val_probs[0].shape, val_probs[1].shape"
   ]
  },
  {
   "cell_type": "code",
   "execution_count": 29,
   "metadata": {
    "ExecuteTime": {
     "end_time": "2019-06-09T08:08:34.991940Z",
     "start_time": "2019-06-09T08:08:34.979608Z"
    }
   },
   "outputs": [
    {
     "data": {
      "text/plain": [
       "((1122, 431, 10), (1122, 10))"
      ]
     },
     "execution_count": 29,
     "metadata": {},
     "output_type": "execute_result"
    }
   ],
   "source": [
    "nb_files=1122\n",
    "# nb_files=1058\n",
    "\n",
    "val_probs1[0] = val_probs1[0][:nb_files]\n",
    "val_probs1[1] = val_probs1[1][:nb_files]\n",
    "\n",
    "# val_probs2[0] = val_probs2[0][:nb_files]\n",
    "# val_probs2[1] = val_probs2[1][:nb_files]\n",
    "\n",
    "# val_probs3[0] = val_probs3[0][:nb_files]\n",
    "# val_probs3[1] = val_probs3[1][:nb_files]\n",
    "\n",
    "\n",
    "val_probs1[0].shape, val_probs1[1].shape"
   ]
  },
  {
   "cell_type": "code",
   "execution_count": 101,
   "metadata": {
    "ExecuteTime": {
     "end_time": "2019-06-07T16:23:52.332742Z",
     "start_time": "2019-06-07T16:23:51.994288Z"
    }
   },
   "outputs": [],
   "source": [
    "np.save(modeldir + '/models_train_synthetic/osirim_dcase19.90-0.1650-0.3258/AT_probs.npy', val_probs1[1], allow_pickle=True)\n",
    "np.save(modeldir + '/models_train_synthetic/osirim_dcase19.90-0.1658-0.3292/AT_probs.npy', val_probs2[1], allow_pickle=True)\n",
    "np.save(modeldir + '/models_train_synthetic/osirim_dcase19.90-0.1652-0.3390/AT_probs.npy', val_probs3[1], allow_pickle=True)"
   ]
  },
  {
   "cell_type": "code",
   "execution_count": 74,
   "metadata": {
    "ExecuteTime": {
     "end_time": "2019-06-07T12:57:56.076136Z",
     "start_time": "2019-06-07T12:57:54.121789Z"
    }
   },
   "outputs": [],
   "source": [
    "np.save(modeldir + '/models_train_synthetic/osirim_dcase19.90-0.1650-0.3258/STRONG_probs.npy', val_probs1[0], allow_pickle=True)\n",
    "np.save(modeldir + '/models_train_synthetic/osirim_dcase19.90-0.1658-0.3292/STRONG_probs.npy', val_probs2[0], allow_pickle=True)\n",
    "np.save(modeldir + '/models_train_synthetic/osirim_dcase19.90-0.1652-0.3390/STRONG_probs.npy', val_probs3[0], allow_pickle=True)"
   ]
  },
  {
   "cell_type": "code",
   "execution_count": 45,
   "metadata": {
    "ExecuteTime": {
     "end_time": "2019-06-07T12:01:43.502484Z",
     "start_time": "2019-06-07T12:01:43.499067Z"
    }
   },
   "outputs": [],
   "source": [
    "# losses = model.evaluate_generator(generator=dev_generator)\n",
    "# losses\n",
    "# [0.3701458238065243, 0.16670954041182995, 0.20343628618866205]"
   ]
  },
  {
   "cell_type": "code",
   "execution_count": 30,
   "metadata": {
    "ExecuteTime": {
     "end_time": "2019-06-09T08:08:43.483860Z",
     "start_time": "2019-06-09T08:08:43.459816Z"
    }
   },
   "outputs": [],
   "source": [
    "def prec_at_from_probs(at_probs, at_gt_dict, file_lst):\n",
    "    all_y_true = []\n",
    "    all_y_pred = []\n",
    "    total_num_true_pos_preds = 0\n",
    "    total_num_true_pos_gt = 0\n",
    "    for i, file_id in enumerate(file_lst):\n",
    "        y_true = at_gt_dict[file_id]\n",
    "        y_probs = at_probs[i]\n",
    "        y_preds = 1*(y_probs>0.5)\n",
    "        all_y_true.append(y_true)\n",
    "        all_y_pred.append(y_preds)\n",
    "        if i<-1:\n",
    "            print(i, file_id)\n",
    "            print(y_true)\n",
    "            print(y_probs)\n",
    "            print(y_preds)\n",
    "        num_true_pos_preds = sum(y_true * y_preds)\n",
    "        num_true_pos_gt = sum(y_true)\n",
    "        total_num_true_pos_preds += num_true_pos_preds\n",
    "        total_num_true_pos_gt += num_true_pos_gt\n",
    "    if total_num_true_pos_gt > 0 :\n",
    "        return np.array(all_y_true), np.array(all_y_pred), 100.*total_num_true_pos_preds/total_num_true_pos_gt\n",
    "    else:\n",
    "        return np.array(all_y_true), np.array(all_y_pred), 0.\n",
    "\n",
    "    \n",
    "def score_per_class(all_y_true, all_y_pred):\n",
    "    from sklearn.metrics import precision_recall_fscore_support\n",
    "    all_y_true = np.array(all_y_true)\n",
    "    all_y_pred = np.array(all_y_pred)\n",
    "    nb_classes = len(all_y_true[0])\n",
    "    for cl in range(nb_classes):\n",
    "        class_true = all_y_true[:,cl]\n",
    "        class_pred = all_y_pred[:,cl]\n",
    "        p, r, fscore, support = precision_recall_fscore_support(class_true, class_pred, average='binary', pos_label=1)\n",
    "        print('%s %.2f %.2f %.2f'%(class_correspondance_reverse[cl], 100*p, 100*r, 100*fscore))\n"
   ]
  },
  {
   "cell_type": "code",
   "execution_count": 31,
   "metadata": {
    "ExecuteTime": {
     "end_time": "2019-06-09T08:08:45.549468Z",
     "start_time": "2019-06-09T08:08:45.509887Z"
    }
   },
   "outputs": [],
   "source": [
    "all_y_true, all_y_pred1, prec = prec_at_from_probs(val_probs1[1], dico_tags_y_validation, wav_lst_validation)\n",
    "\n",
    "# _, all_y_pred2, prec = accuracy_at_from_probs(val_probs2[1], dico_tags_y_validation, wav_lst_validation)\n",
    "\n",
    "# all_y_true, all_y_pred3, prec = accuracy_at_from_probs(val_probs3[1], dico_tags_y_validation, wav_lst_validation)"
   ]
  },
  {
   "cell_type": "code",
   "execution_count": 32,
   "metadata": {
    "ExecuteTime": {
     "end_time": "2019-06-09T08:08:46.493219Z",
     "start_time": "2019-06-09T08:08:46.486928Z"
    }
   },
   "outputs": [
    {
     "data": {
      "text/plain": [
       "'72.009'"
      ]
     },
     "execution_count": 32,
     "metadata": {},
     "output_type": "execute_result"
    }
   ],
   "source": [
    "# 73.229\n",
    "'%.3f'%prec"
   ]
  },
  {
   "cell_type": "code",
   "execution_count": 33,
   "metadata": {
    "ExecuteTime": {
     "end_time": "2019-06-09T08:08:48.145171Z",
     "start_time": "2019-06-09T08:08:48.124935Z"
    }
   },
   "outputs": [
    {
     "name": "stdout",
     "output_type": "stream",
     "text": [
      "70.16 66.34 67.29 51.52\n"
     ]
    }
   ],
   "source": [
    "from sklearn.metrics import precision_recall_fscore_support\n",
    "\n",
    "p1, r1, fscore1, support = precision_recall_fscore_support(all_y_true, all_y_pred1, average='macro')\n",
    "acc1 = accuracy_score(all_y_true, all_y_pred1)\n",
    "\n",
    "# p2, r2, fscore2, support = precision_recall_fscore_support(all_y_true, all_y_pred2, average='macro')\n",
    "# acc2 = accuracy_score(all_y_true, all_y_pred2)\n",
    "\n",
    "# p3, r3, fscore3, support = precision_recall_fscore_support(all_y_true, all_y_pred3, average='macro')\n",
    "# acc3 = accuracy_score(all_y_true, all_y_pred3)\n",
    "\n",
    "print('%.2f %.2f %.2f %.2f'%(100.*p1, 100.*r1, 100.*fscore1, 100.*acc1))\n",
    "# print('%.2f %.2f %.2f %.2f'%(100.*p2, 100.*r2, 100.*fscore2, 100.*acc2))\n",
    "# print('%.2f %.2f %.2f %.2f'%(100.*p3, 100.*r3, 100.*fscore3, 100.*acc3))"
   ]
  },
  {
   "cell_type": "code",
   "execution_count": 62,
   "metadata": {
    "ExecuteTime": {
     "end_time": "2019-06-07T12:35:52.443633Z",
     "start_time": "2019-06-07T12:35:52.427366Z"
    }
   },
   "outputs": [
    {
     "data": {
      "text/plain": [
       "((1122, 10), (1122, 10))"
      ]
     },
     "execution_count": 62,
     "metadata": {},
     "output_type": "execute_result"
    }
   ],
   "source": [
    "tmp_probs = np.empty((nb_files, 10, 3))\n",
    "\n",
    "tmp_probs[:, :, 0] = val_probs1[1]\n",
    "tmp_probs[:, :, 1] = val_probs2[1]\n",
    "tmp_probs[:, :, 2] = val_probs3[1]\n",
    "\n",
    "mean_probs = np.mean(tmp_probs, axis=-1)\n",
    "mean_probs.shape, all_y_true.shape"
   ]
  },
  {
   "cell_type": "code",
   "execution_count": 34,
   "metadata": {
    "ExecuteTime": {
     "end_time": "2019-06-09T08:08:54.565692Z",
     "start_time": "2019-06-09T08:08:54.518959Z"
    }
   },
   "outputs": [
    {
     "ename": "NameError",
     "evalue": "name 'mean_probs' is not defined",
     "output_type": "error",
     "traceback": [
      "\u001b[0;31m---------------------------------------------------------------------------\u001b[0m",
      "\u001b[0;31mNameError\u001b[0m                                 Traceback (most recent call last)",
      "\u001b[0;32m<ipython-input-34-23d16d9b3a8a>\u001b[0m in \u001b[0;36m<module>\u001b[0;34m\u001b[0m\n\u001b[0;32m----> 1\u001b[0;31m \u001b[0m_\u001b[0m\u001b[0;34m,\u001b[0m \u001b[0mall_y_pred4\u001b[0m\u001b[0;34m,\u001b[0m \u001b[0mprec\u001b[0m \u001b[0;34m=\u001b[0m \u001b[0maccuracy_at_from_probs\u001b[0m\u001b[0;34m(\u001b[0m\u001b[0mmean_probs\u001b[0m\u001b[0;34m,\u001b[0m \u001b[0mdico_tags_y_validation\u001b[0m\u001b[0;34m,\u001b[0m \u001b[0mwav_lst_validation\u001b[0m\u001b[0;34m)\u001b[0m\u001b[0;34m\u001b[0m\u001b[0m\n\u001b[0m\u001b[1;32m      2\u001b[0m \u001b[0mp4\u001b[0m\u001b[0;34m,\u001b[0m \u001b[0mr4\u001b[0m\u001b[0;34m,\u001b[0m \u001b[0mfscore4\u001b[0m\u001b[0;34m,\u001b[0m \u001b[0msupport\u001b[0m \u001b[0;34m=\u001b[0m \u001b[0mprecision_recall_fscore_support\u001b[0m\u001b[0;34m(\u001b[0m\u001b[0mall_y_true\u001b[0m\u001b[0;34m,\u001b[0m \u001b[0mall_y_pred4\u001b[0m\u001b[0;34m,\u001b[0m \u001b[0maverage\u001b[0m\u001b[0;34m=\u001b[0m\u001b[0;34m'macro'\u001b[0m\u001b[0;34m)\u001b[0m\u001b[0;34m\u001b[0m\u001b[0m\n\u001b[1;32m      3\u001b[0m \u001b[0macc4\u001b[0m \u001b[0;34m=\u001b[0m \u001b[0maccuracy_score\u001b[0m\u001b[0;34m(\u001b[0m\u001b[0mall_y_true\u001b[0m\u001b[0;34m,\u001b[0m \u001b[0mall_y_pred4\u001b[0m\u001b[0;34m)\u001b[0m\u001b[0;34m\u001b[0m\u001b[0m\n\u001b[1;32m      4\u001b[0m \u001b[0;34m\u001b[0m\u001b[0m\n\u001b[1;32m      5\u001b[0m \u001b[0mprint\u001b[0m\u001b[0;34m(\u001b[0m\u001b[0;34m'%.2f %.2f %.2f %.2f'\u001b[0m\u001b[0;34m%\u001b[0m\u001b[0;34m(\u001b[0m\u001b[0;36m100.\u001b[0m\u001b[0;34m*\u001b[0m\u001b[0mp4\u001b[0m\u001b[0;34m,\u001b[0m \u001b[0;36m100.\u001b[0m\u001b[0;34m*\u001b[0m\u001b[0mr4\u001b[0m\u001b[0;34m,\u001b[0m \u001b[0;36m100.\u001b[0m\u001b[0;34m*\u001b[0m\u001b[0mfscore4\u001b[0m\u001b[0;34m,\u001b[0m \u001b[0;36m100.\u001b[0m\u001b[0;34m*\u001b[0m\u001b[0macc4\u001b[0m\u001b[0;34m)\u001b[0m\u001b[0;34m)\u001b[0m\u001b[0;34m\u001b[0m\u001b[0m\n",
      "\u001b[0;31mNameError\u001b[0m: name 'mean_probs' is not defined"
     ]
    }
   ],
   "source": [
    "_, all_y_pred4, prec = accuracy_at_from_probs(mean_probs, dico_tags_y_validation, wav_lst_validation)\n",
    "p4, r4, fscore4, support = precision_recall_fscore_support(all_y_true, all_y_pred4, average='macro')\n",
    "acc4 = accuracy_score(all_y_true, all_y_pred4)\n",
    "\n",
    "print('%.2f %.2f %.2f %.2f'%(100.*p4, 100.*r4, 100.*fscore4, 100.*acc4))"
   ]
  },
  {
   "cell_type": "code",
   "execution_count": 66,
   "metadata": {},
   "outputs": [
    {
     "data": {
      "text/plain": [
       "('Y--4gqARaEJE_0.000_10.000.wav',\n",
       " array([2.0661277e-05, 4.8262820e-02, 1.6945174e-02, 1.2245452e-03,\n",
       "        9.6007508e-01, 1.2714860e-04, 2.6312014e-04, 3.4169962e-03,\n",
       "        1.9439520e-02, 8.8697627e-05], dtype=float32),\n",
       " 1068)"
      ]
     },
     "execution_count": 66,
     "metadata": {},
     "output_type": "execute_result"
    }
   ],
   "source": [
    "wav_lst_validation_leo[0], val_probs[1][0], wav_lst_validation.index(wav_lst_validation_leo[0])"
   ]
  },
  {
   "cell_type": "code",
   "execution_count": 67,
   "metadata": {},
   "outputs": [
    {
     "data": {
      "text/plain": [
       "array([5.7336605e-01, 6.2213284e-03, 2.3222724e-01, 3.9305899e-01,\n",
       "       1.1606478e-07, 2.1931173e-04, 5.2775920e-07, 4.5570076e-07,\n",
       "       4.4928100e-07, 7.7136763e-05], dtype=float32)"
      ]
     },
     "execution_count": 67,
     "metadata": {},
     "output_type": "execute_result"
    }
   ],
   "source": [
    "val_probs[1][1068]"
   ]
  },
  {
   "cell_type": "code",
   "execution_count": 68,
   "metadata": {},
   "outputs": [
    {
     "name": "stdout",
     "output_type": "stream",
     "text": [
      "Alarm_bell_ringing 87.50 79.03 83.05\n",
      "Speech 96.48 86.98 91.48\n",
      "Dog 63.10 73.75 68.01\n",
      "Cat 67.83 65.00 66.38\n",
      "Vacuum_cleaner 61.74 78.02 68.93\n",
      "Dishes 63.41 54.17 58.43\n",
      "Frying 52.03 74.42 61.24\n",
      "Electric_shaver_toothbrush 64.44 46.77 54.21\n",
      "Blender 61.76 52.50 56.76\n",
      "Running_water 81.41 65.46 72.57\n"
     ]
    }
   ],
   "source": [
    "score_per_class(all_y_true, all_y_pred)"
   ]
  },
  {
   "cell_type": "code",
   "execution_count": 29,
   "metadata": {},
   "outputs": [],
   "source": [
    "# from sklearn.metrics import confusion_matrix\n",
    "# cm = confusion_matrix(all_y_true, all_y_pred)\n",
    "# ValueError: multiclass-multioutput is not supported"
   ]
  },
  {
   "cell_type": "code",
   "execution_count": 30,
   "metadata": {},
   "outputs": [],
   "source": [
    "# !conda list"
   ]
  },
  {
   "cell_type": "code",
   "execution_count": 55,
   "metadata": {},
   "outputs": [
    {
     "name": "stdout",
     "output_type": "stream",
     "text": [
      "Alarm_bell_ringing 90.26 74.73 81.76\n",
      "Speech 95.65 88.15 91.75\n",
      "Dog 63.78 73.75 68.41\n",
      "Cat 66.39 67.50 66.94\n",
      "Vacuum_cleaner 65.22 82.42 72.82\n",
      "Dishes 63.12 61.81 62.46\n",
      "Frying 50.78 75.58 60.75\n",
      "Electric_shaver_toothbrush 66.00 53.23 58.93\n",
      "Blender 56.76 52.50 54.55\n",
      "Running_water 78.99 56.19 65.66\n"
     ]
    }
   ],
   "source": [
    "score_per_class(all_y_true, all_y_pred)"
   ]
  },
  {
   "cell_type": "code",
   "execution_count": 36,
   "metadata": {
    "ExecuteTime": {
     "end_time": "2019-06-09T08:10:11.926386Z",
     "start_time": "2019-06-09T08:09:02.065335Z"
    }
   },
   "outputs": [
    {
     "data": {
      "application/vnd.jupyter.widget-view+json": {
       "model_id": "000823b241b742229a81d898b2a482b6",
       "version_major": 2,
       "version_minor": 0
      },
      "text/plain": [
       "HBox(children=(IntProgress(value=0, max=32000), HTML(value='')))"
      ]
     },
     "metadata": {},
     "output_type": "display_data"
    },
    {
     "name": "stdout",
     "output_type": "stream",
     "text": [
      "0.6733333333333333  >  0.6521739130434783\n",
      "0.6831683168316832  >  0.6829268292682926\n",
      "0.5522388059701493  >  0.5285714285714286\n",
      "0.6808510638297871  >  0.6733333333333333\n",
      "0.6583333333333333  >  0.6370967741935485\n",
      "0.6941176470588236  >  0.6831683168316832\n",
      "0.625  >  0.6216216216216215\n",
      "0.6194690265486725  >  0.6111111111111109\n",
      "0.81524926686217  >  0.8119402985074627\n",
      "0.5896414342629482  >  0.5890909090909091\n",
      "0.6951871657754011  >  0.6941176470588236\n",
      "0.8154761904761905  >  0.81524926686217\n",
      "0.9109947643979057  >  0.9063604240282686\n",
      "0.6638655462184875  >  0.6583333333333333\n",
      "0.7  >  0.6882352941176471\n",
      "0.9116360454943132  >  0.9109947643979057\n",
      "0.6813186813186813  >  0.6808510638297871\n",
      "0.7040816326530613  >  0.7\n",
      "0.7046070460704608  >  0.7040816326530613\n",
      "0.5962264150943397  >  0.5896414342629482\n",
      "0.7052896725440806  >  0.7046070460704608\n",
      "0.8163265306122449  >  0.8154761904761905\n",
      "0.911944202266783  >  0.9116360454943132\n",
      "0.9156010230179028  >  0.911944202266783\n",
      "0.7111111111111111  >  0.7052896725440806\n",
      "0.8315217391304348  >  0.8163265306122449\n",
      "0.6007067137809187  >  0.5962264150943397\n",
      "0.8347338935574229  >  0.8315217391304348\n",
      "0.6976744186046511  >  0.6951871657754011\n",
      "0.6781115879828327  >  0.6638655462184875\n",
      "0.9163822525597268  >  0.9156010230179028\n",
      "0.6041666666666666  >  0.6007067137809187\n",
      "0.6098360655737706  >  0.6041666666666666\n",
      "0.9164513350559863  >  0.9163822525597268\n",
      "0.8379888268156425  >  0.8347338935574229\n",
      "0.6466165413533835  >  0.6194690265486725\n"
     ]
    },
    {
     "name": "stderr",
     "output_type": "stream",
     "text": [
      "/home/thomas/tools/miniconda2/envs/keras-sincnet-env/lib/python3.6/site-packages/sklearn/metrics/classification.py:1145: UndefinedMetricWarning: F-score is ill-defined and being set to 0.0 in labels with no true samples.\n",
      "  'recall', 'true', average, warn_for)\n"
     ]
    },
    {
     "name": "stdout",
     "output_type": "stream",
     "text": [
      "0.838526912181303  >  0.8379888268156425\n",
      "0.6982248520710059  >  0.6976744186046511\n",
      "0.839572192513369  >  0.838526912181303\n",
      "0.8404255319148937  >  0.839572192513369\n",
      "0.5584415584415584  >  0.5522388059701493\n",
      "0.5591397849462365  >  0.5584415584415584\n",
      "0.5671641791044777  >  0.5591397849462365\n",
      "0.5728643216080402  >  0.5671641791044777\n",
      "0.6114649681528662  >  0.6098360655737706\n",
      "0.5786802030456852  >  0.5728643216080402\n"
     ]
    }
   ],
   "source": [
    "import sklearn as sk\n",
    "def simulated(y_true, y_pred):\n",
    "    bin_y_pred = y_pred.copy()\n",
    "    bin_y_pred[bin_y_pred > 0.5] = 1\n",
    "    bin_y_pred[bin_y_pred <= 0.5] = 0\n",
    "\n",
    "    sk_f1 = np.asarray( sk.metrics.f1_score(bin_y_pred, y_true, average=None) )\n",
    "\n",
    "    macro_iteration = 80\n",
    "    micro_interation = 400\n",
    "\n",
    "    history = {\n",
    "        \"best_f1\": [[] for _ in range(10)],\n",
    "        \"f1\": []\n",
    "    }\n",
    "\n",
    "    best_thresholds = [0.5] * 10\n",
    "    best_f1 = sk_f1.copy()\n",
    "\n",
    "    progress = tqdm.tqdm_notebook(total = macro_iteration * micro_interation)\n",
    "    for M in range(macro_iteration):\n",
    "        thresholds = [0.5] * 10\n",
    "        delta_ratio = 0.2\n",
    "        delta_decay = 1e-4\n",
    "\n",
    "        for m in range(micro_interation):\n",
    "            bin_y_pred = y_pred.copy()\n",
    "\n",
    "            # calc new threhsold\n",
    "            r = np.array([np.random.normal(t, 0.6) for t in thresholds])\n",
    "            delta = r * delta_ratio\n",
    "            new_thresholds = thresholds + delta\n",
    "            delta_ratio -= delta_decay\n",
    "\n",
    "\n",
    "            # apply threshold\n",
    "            bin_y_pred[bin_y_pred > new_thresholds] = 1\n",
    "            bin_y_pred[bin_y_pred <= new_thresholds] = 0\n",
    "\n",
    "            # calc new f1\n",
    "            new_f1 = sk.metrics.f1_score(bin_y_pred, y_true, average=None)\n",
    "            history[\"f1\"].append(new_f1)\n",
    "\n",
    "            # check\n",
    "            for i in range(10):\n",
    "                if new_f1[i] > best_f1[i]:\n",
    "                    print(new_f1[i], \" > \", best_f1[i])\n",
    "                    best_f1[i] = new_f1[i]\n",
    "                    best_thresholds[i] = new_thresholds[i]\n",
    "                    thresholds[i] = best_thresholds[i]\n",
    "                    history[\"best_f1\"][i].append(best_f1[i])\n",
    "\n",
    "            progress.update()\n",
    "    return sk_f1, best_f1, best_thresholds, history\n",
    "\n",
    "# sk_f1, best_f1, best_threshold, history = simulated(all_y_true, mean_probs)\n",
    "sk_f1, best_f1, best_threshold, history = simulated(np.array(all_y_true), val_probs1[1])"
   ]
  },
  {
   "cell_type": "code",
   "execution_count": 37,
   "metadata": {
    "ExecuteTime": {
     "end_time": "2019-06-09T08:10:11.934169Z",
     "start_time": "2019-06-09T08:10:11.929272Z"
    }
   },
   "outputs": [
    {
     "data": {
      "text/plain": [
       "array([0.84042553, 0.91645134, 0.68131868, 0.67811159, 0.69822485,\n",
       "       0.61146497, 0.625     , 0.64661654, 0.5786802 , 0.71111111])"
      ]
     },
     "execution_count": 37,
     "metadata": {},
     "output_type": "execute_result"
    }
   ],
   "source": [
    "best_f1"
   ]
  },
  {
   "cell_type": "code",
   "execution_count": 38,
   "metadata": {
    "ExecuteTime": {
     "end_time": "2019-06-09T08:10:13.518602Z",
     "start_time": "2019-06-09T08:10:11.935636Z"
    }
   },
   "outputs": [
    {
     "data": {
      "image/png": "[encoded data removed]",
      "text/plain": [
       "<Figure size 1080x432 with 10 Axes>"
      ]
     },
     "metadata": {
      "needs_background": "light"
     },
     "output_type": "display_data"
    }
   ],
   "source": [
    "import matplotlib.pyplot as plt\n",
    "\n",
    "history_f1 = np.asarray(history[\"best_f1\"])\n",
    "plt.figure(figsize=(15, 6))\n",
    "for i in range(10):\n",
    "    plt.subplot(2, 5, i+1)\n",
    "    plt.plot(history_f1[i])\n",
    "plt.tight_layout()\n",
    "plt.show()"
   ]
  },
  {
   "cell_type": "code",
   "execution_count": 39,
   "metadata": {
    "ExecuteTime": {
     "end_time": "2019-06-09T08:10:13.529583Z",
     "start_time": "2019-06-09T08:10:13.524144Z"
    }
   },
   "outputs": [],
   "source": [
    "X_val_pred_1_bin = val_probs1[1].copy()\n",
    "# X_val_pred_1_bin = val_probs.copy()\n",
    "# X_val_pred_1_bin = mean_probs.copy()\n",
    "\n",
    "X_val_pred_1_bin[X_val_pred_1_bin > best_threshold] = 1\n",
    "X_val_pred_1_bin[X_val_pred_1_bin <= best_threshold] = 0"
   ]
  },
  {
   "cell_type": "code",
   "execution_count": 40,
   "metadata": {
    "ExecuteTime": {
     "end_time": "2019-06-09T08:10:13.578259Z",
     "start_time": "2019-06-09T08:10:13.533622Z"
    }
   },
   "outputs": [
    {
     "data": {
      "text/plain": [
       "'54.28 69.04 72.54 69.87'"
      ]
     },
     "execution_count": 40,
     "metadata": {},
     "output_type": "execute_result"
    }
   ],
   "source": [
    "p, r, fscore, support = precision_recall_fscore_support(all_y_true, X_val_pred_1_bin, average='macro')\n",
    "acc = accuracy_score(all_y_true, X_val_pred_1_bin)\n",
    "'%.2f %.2f %.2f %.2f'%(100*acc, 100*p, 100*r, 100*fscore)"
   ]
  },
  {
   "cell_type": "code",
   "execution_count": 41,
   "metadata": {
    "ExecuteTime": {
     "end_time": "2019-06-09T08:10:13.638664Z",
     "start_time": "2019-06-09T08:10:13.581702Z"
    }
   },
   "outputs": [
    {
     "name": "stdout",
     "output_type": "stream",
     "text": [
      "Alarm_bell_ringing 83.16 84.95 84.04\n",
      "Speech 94.66 88.81 91.65\n",
      "Dog 82.30 58.13 68.13\n",
      "Cat 69.91 65.83 67.81\n",
      "Vacuum_cleaner 75.64 64.84 69.82\n",
      "Dishes 56.47 66.67 61.15\n",
      "Frying 50.72 81.40 62.50\n",
      "Electric_shaver_toothbrush 60.56 69.35 64.66\n",
      "Blender 48.72 71.25 57.87\n",
      "Running_water 68.25 74.23 71.11\n"
     ]
    }
   ],
   "source": [
    "score_per_class(all_y_true, X_val_pred_1_bin)"
   ]
  },
  {
   "cell_type": "code",
   "execution_count": 75,
   "metadata": {},
   "outputs": [],
   "source": [
    "all_y_true, all_y_pred, acc = accuracy_at_from_probs(\n",
    "    X_val_pred_1_bin,\n",
    "    dico_tags_y_validation, \n",
    "    wav_lst_validation\n",
    ")"
   ]
  },
  {
   "cell_type": "code",
   "execution_count": 114,
   "metadata": {},
   "outputs": [
    {
     "data": {
      "text/plain": [
       "77.11962833914053"
      ]
     },
     "execution_count": 114,
     "metadata": {},
     "output_type": "execute_result"
    }
   ],
   "source": [
    "acc"
   ]
  },
  {
   "cell_type": "code",
   "execution_count": 54,
   "metadata": {
    "ExecuteTime": {
     "end_time": "2019-06-09T22:03:05.412789Z",
     "start_time": "2019-06-09T22:03:05.404581Z"
    }
   },
   "outputs": [],
   "source": [
    "dico_at_best_thresholds = {}\n",
    "for i in range(10):\n",
    "    dico_at_best_thresholds[class_correspondance_reverse[i]] = best_threshold[i]"
   ]
  },
  {
   "cell_type": "code",
   "execution_count": 55,
   "metadata": {
    "ExecuteTime": {
     "end_time": "2019-06-09T22:03:06.440009Z",
     "start_time": "2019-06-09T22:03:06.432458Z"
    }
   },
   "outputs": [
    {
     "data": {
      "text/plain": [
       "{'Alarm_bell_ringing': 0.1214675778846487,\n",
       " 'Speech': 0.2865209624836408,\n",
       " 'Dog': 0.7976113837982772,\n",
       " 'Cat': 0.6562882131426222,\n",
       " 'Vacuum_cleaner': 0.7229904131716726,\n",
       " 'Dishes': 0.3742572346545957,\n",
       " 'Frying': 0.4880301959960084,\n",
       " 'Electric_shaver_toothbrush': 0.23809283061772726,\n",
       " 'Blender': 0.2356516053912887,\n",
       " 'Running_water': 0.21600981881417408}"
      ]
     },
     "execution_count": 55,
     "metadata": {},
     "output_type": "execute_result"
    }
   ],
   "source": [
    "dico_at_best_thresholds"
   ]
  },
  {
   "cell_type": "code",
   "execution_count": 56,
   "metadata": {
    "ExecuteTime": {
     "end_time": "2019-06-09T22:04:12.087227Z",
     "start_time": "2019-06-09T22:04:12.077924Z"
    }
   },
   "outputs": [],
   "source": [
    "# pickle.dump(dico_at_best_thresholds, open('models/models_train_synthetic/osirim_dcase19.90-0.1650-0.3258/AT_thresholds.pkl', \"wb\"))\n",
    "pickle.dump(dico_at_best_thresholds, open('models/models_train_synthetic/osirim_dcase19.90-0.1658-0.3292/AT_thresholds.pkl', \"wb\"))\n",
    "\n"
   ]
  },
  {
   "cell_type": "markdown",
   "metadata": {},
   "source": [
    "# Localization"
   ]
  },
  {
   "cell_type": "code",
   "execution_count": 42,
   "metadata": {
    "ExecuteTime": {
     "end_time": "2019-06-09T08:10:13.657956Z",
     "start_time": "2019-06-09T08:10:13.642082Z"
    }
   },
   "outputs": [],
   "source": [
    "def rescale(array_1d, border_index=0):\n",
    "    \"\"\"rescale between 0 and 1 a 1d-array\"\"\"\n",
    "#     border_index = 3\n",
    "    if border_index > 0:\n",
    "        return (array_1d - np.min(array_1d[border_index:-border_index])) / (np.max(array_1d[border_index:-border_index]) - np.min(array_1d[border_index:-border_index]))\n",
    "    else:\n",
    "        return (array_1d - np.min(array_1d)) / (np.max(array_1d) - np.min(array_1d))\n",
    "        \n",
    "    \n",
    "def get_prob_curves_for_predicted_classes(audio_tag_probs, strong_probs, featTestList, int2className):\n",
    "    \n",
    "    audio_tag_preds = 1*(audio_tag_probs>0.5)\n",
    "    \n",
    "    dico_prob_curves_for_predicted_classes = {}\n",
    "    for i, fileid in enumerate(featTestList):\n",
    "        dico_prob_curves_for_predicted_classes[fileid] = {}\n",
    "        current_classes = np.nonzero(audio_tag_preds[i])[0]\n",
    "        for j in range(current_classes.shape[0]):\n",
    "            class_name = int2className[current_classes[j]]\n",
    "            dico_prob_curves_for_predicted_classes[fileid][class_name] = rescale(strong_probs[i,:,current_classes[j]], border_index=0)\n",
    "#             dico_prob_curves_for_predicted_classes[fileid_short][class_name] = strong_probs[i,:,current_classes[j]]\n",
    "    \n",
    "    return dico_prob_curves_for_predicted_classes\n"
   ]
  },
  {
   "cell_type": "code",
   "execution_count": 77,
   "metadata": {
    "ExecuteTime": {
     "end_time": "2019-06-07T13:18:27.796849Z",
     "start_time": "2019-06-07T13:18:27.671269Z"
    }
   },
   "outputs": [],
   "source": [
    "print('without opti')\n",
    "dico_prob_curves = get_prob_curves_for_predicted_classes(val_probs1[1], \n",
    "                                                         val_probs1[0], \n",
    "                                                         wav_lst_validation, \n",
    "                                                         class_correspondance_reverse)"
   ]
  },
  {
   "cell_type": "code",
   "execution_count": 43,
   "metadata": {
    "ExecuteTime": {
     "end_time": "2019-06-09T08:10:13.814054Z",
     "start_time": "2019-06-09T08:10:13.661591Z"
    }
   },
   "outputs": [
    {
     "name": "stdout",
     "output_type": "stream",
     "text": [
      "with opti\n"
     ]
    }
   ],
   "source": [
    "print('with opti')\n",
    "dico_prob_curves = get_prob_curves_for_predicted_classes(X_val_pred_1_bin, \n",
    "                                                         val_probs1[0], \n",
    "                                                         wav_lst_validation, \n",
    "                                                         class_correspondance_reverse)"
   ]
  },
  {
   "cell_type": "code",
   "execution_count": 79,
   "metadata": {},
   "outputs": [
    {
     "name": "stdout",
     "output_type": "stream",
     "text": [
      "AT oracle !!\n"
     ]
    }
   ],
   "source": [
    "print('AT oracle !!')\n",
    "dico_prob_curves = get_prob_curves_for_predicted_classes(gt_tags_y_validation, \n",
    "                                                        val_probs[0],\n",
    "                                                        wav_lst_validation, \n",
    "                                                        class_correspondance_reverse)"
   ]
  },
  {
   "cell_type": "code",
   "execution_count": 82,
   "metadata": {},
   "outputs": [
    {
     "data": {
      "text/plain": [
       "1122"
      ]
     },
     "execution_count": 82,
     "metadata": {},
     "output_type": "execute_result"
    }
   ],
   "source": [
    "len(dico_prob_curves)"
   ]
  },
  {
   "cell_type": "code",
   "execution_count": 83,
   "metadata": {},
   "outputs": [
    {
     "data": {
      "text/plain": [
       "(array([1., 1., 0., 0., 0., 0., 0., 0., 0., 1.]),\n",
       " ['Y00pbt6aJV8Y_350.000_360.000.wav',\n",
       "  'Y00pK0GMmE9s_70.000_80.000.wav',\n",
       "  'Y02sD1KJeoGA_50.000_60.000.wav',\n",
       "  'Y0bjUq9XMMmQ_30.000_40.000.wav',\n",
       "  'Y0cH_NlhhMAs_30.000_40.000.wav'],\n",
       " 1722)"
      ]
     },
     "execution_count": 83,
     "metadata": {},
     "output_type": "execute_result"
    }
   ],
   "source": [
    "gt_tags_y_validation[5], wav_lst_validation[:5], sum(sum(1*(gt_tags_y_validation>0.5)))"
   ]
  },
  {
   "cell_type": "code",
   "execution_count": 84,
   "metadata": {},
   "outputs": [
    {
     "data": {
      "text/plain": [
       "(5, (431,))"
      ]
     },
     "execution_count": 84,
     "metadata": {},
     "output_type": "execute_result"
    }
   ],
   "source": [
    "wav_lst_validation.index('Y0eh_N-cmcuI_350.000_360.000.wav'), dico_prob_curves['Y00pbt6aJV8Y_350.000_360.000.wav']['Vacuum_cleaner'].shape"
   ]
  },
  {
   "cell_type": "code",
   "execution_count": 45,
   "metadata": {
    "ExecuteTime": {
     "end_time": "2019-06-08T11:15:20.597530Z",
     "start_time": "2019-06-08T11:15:20.374415Z"
    }
   },
   "outputs": [
    {
     "data": {
      "text/plain": [
       "[<matplotlib.lines.Line2D at 0x7f5b6f546438>]"
      ]
     },
     "execution_count": 45,
     "metadata": {},
     "output_type": "execute_result"
    },
    {
     "data": {
      "image/png": "[encoded data removed]",
      "text/plain": [
       "<Figure size 432x288 with 1 Axes>"
      ]
     },
     "metadata": {
      "needs_background": "light"
     },
     "output_type": "display_data"
    }
   ],
   "source": [
    "plt.plot(dico_prob_curves['Y00pbt6aJV8Y_350.000_360.000.wav']['Vacuum_cleaner'])\n"
   ]
  },
  {
   "cell_type": "code",
   "execution_count": 44,
   "metadata": {
    "ExecuteTime": {
     "end_time": "2019-06-09T08:10:13.874570Z",
     "start_time": "2019-06-09T08:10:13.817195Z"
    }
   },
   "outputs": [
    {
     "data": {
      "text/plain": [
       "(1122, 431, 10)"
      ]
     },
     "execution_count": 44,
     "metadata": {},
     "output_type": "execute_result"
    }
   ],
   "source": [
    "def from_strong_probs_dict_2_strong_probs_3d_array(dico_prob_curves_for_predicted_classes, wav_lst_validation):\n",
    "\n",
    "    nbFrame = 431\n",
    "    out_dim = 10\n",
    "\n",
    "    # rearange list of results\n",
    "    results = np.zeros((len(wav_lst_validation), nbFrame, out_dim))\n",
    "\n",
    "    for i, f in enumerate(wav_lst_validation):\n",
    "        dico_strong_probs = dico_prob_curves_for_predicted_classes[f]\n",
    "        curves = np.zeros((nbFrame, out_dim))\n",
    "        \n",
    "        for event, prob in dico_strong_probs.items():\n",
    "            curves[:,class_correspondance[event]] = prob\n",
    "\n",
    "        results[i] = curves\n",
    "    return results\n",
    "\n",
    "strong_probs_3d_array = from_strong_probs_dict_2_strong_probs_3d_array(dico_prob_curves, wav_lst_validation)\n",
    "strong_probs_3d_array.shape\n"
   ]
  },
  {
   "cell_type": "code",
   "execution_count": 87,
   "metadata": {},
   "outputs": [],
   "source": [
    "# def from_gt_strong_dict_2_gt_strong_3d_array(dico_strong_y_validation, wav_lst_validation):\n",
    "\n",
    "#     nbFrame = 431\n",
    "#     out_dim = 10\n",
    "\n",
    "#     # rearange list of results\n",
    "#     results = np.zeros((len(wav_lst_validation), nbFrame, out_dim))\n",
    "\n",
    "#     for i, f in enumerate(wav_lst_validation):\n",
    "#         results[i] = dico_strong_y_validation[f]\n",
    "\n",
    "#     return results\n",
    "\n",
    "\n",
    "# strong_gt_3d_array = from_gt_strong_dict_2_gt_strong_3d_array(dico_strong_y_validation, wav_lst_validation)\n",
    "# strong_gt_3d_array.shape"
   ]
  },
  {
   "cell_type": "code",
   "execution_count": 45,
   "metadata": {
    "ExecuteTime": {
     "end_time": "2019-06-09T08:10:13.897158Z",
     "start_time": "2019-06-09T08:10:13.877417Z"
    }
   },
   "outputs": [],
   "source": [
    "def load_test_strong_ground_truth(fpath):\n",
    "    # test ground truth\n",
    "    with open(fpath, \"r\") as f:\n",
    "        str_strong_y_true = f.read().splitlines()[1:]\n",
    "    \n",
    "    to_be_removed = []\n",
    "    for el in str_strong_y_true:\n",
    "        info = el.split(\"\\t\")\n",
    "        if info[1] == '':\n",
    "            to_be_removed.append(el)\n",
    "    return [el for el in str_strong_y_true if el not in to_be_removed] \n",
    "\n",
    "gt_fpath = '/baie/corpus/DCASE2019/task4/dataset/metadata/validation/validation.csv'\n",
    "str_strong_y_true = load_test_strong_ground_truth(gt_fpath)\n",
    "# str_strong_y_true"
   ]
  },
  {
   "cell_type": "code",
   "execution_count": 46,
   "metadata": {
    "ExecuteTime": {
     "end_time": "2019-06-09T08:10:13.918527Z",
     "start_time": "2019-06-09T08:10:13.899544Z"
    }
   },
   "outputs": [],
   "source": [
    "# for el in str_strong_y_true:\n",
    "#     info = el.split(\"\\t\")\n",
    "#     print(info)\n",
    "#     print(float(info[1]))"
   ]
  },
  {
   "cell_type": "code",
   "execution_count": 47,
   "metadata": {
    "ExecuteTime": {
     "end_time": "2019-06-09T08:10:14.032955Z",
     "start_time": "2019-06-09T08:10:13.920901Z"
    }
   },
   "outputs": [],
   "source": [
    "from sed_tool.optimizers import DichotomicOptimizer\n",
    "from sed_tool.Encoder import Encoder\n",
    "# from sed_tool.sed_tools import event_based_evaluation\n",
    "from sed_tool.sed_tools import eb_evaluator, sb_evaluator\n",
    "\n",
    "import dcase_util as dcu"
   ]
  },
  {
   "cell_type": "markdown",
   "metadata": {
    "heading_collapsed": true
   },
   "source": [
    "## Global opti"
   ]
  },
  {
   "cell_type": "code",
   "execution_count": 32,
   "metadata": {
    "hidden": true
   },
   "outputs": [],
   "source": [
    "# Find best hysteresis threshold parameters\n",
    "def eval_hysteresis(test_strong_y_true, time_prediction, name_list, low = (0.001, 0.09), high = (0.001, 0.09),\n",
    "                   step=5, recurse=10):\n",
    "    \"\"\"Find best hysteresis threshold parameters.\n",
    "    \n",
    "    :param test_strong_y_true: GT strong annotations\n",
    "    :param time_prediction: The time prediction that will be converted into segments and evaluate\n",
    "    :param name_list: The list of file names (must be in the same order than time_prediction)\n",
    "    :param low: The search boundaries for the \"low\" parameter (low -> bottom threshold)\n",
    "    :param high: the search boundaries for the \"high\" parameter (high -> top threshold)\n",
    "    :param nb_digit: The threshold max precision\n",
    "    :param step: The number of value that will be test in between the boudaries (for each parameters)\n",
    "    :param recurse: The number of time the search will be done (each time in between the two best boundaries of the previous execution)\n",
    "    :param monitor: The metrics to focus on for comparing the results of each parameters combination.\n",
    "    \"\"\"\n",
    "    \n",
    "    class_list = ['Alarm_bell_ringing', 'Speech', 'Dog', 'Cat', 'Vacuum_cleaner', 'Dishes', 'Frying', 'Electric_shaver_toothbrush', 'Blender', 'Running_water']\n",
    "\n",
    "    # Create the encoder that will be used\n",
    "    encoder = Encoder(\n",
    "        classes=class_list,\n",
    "        temporal_precision = 200,  # ms\n",
    "        clip_length = 10,          # s\n",
    "        minimal_segment_step = 200 # ms\n",
    "    )\n",
    "\n",
    "    optimizer = DichotomicOptimizer(\n",
    "        {\n",
    "            \"low\": low,\n",
    "            \"high\": high,\n",
    "            \"smooth\": \"smoothMovingAvg\",\n",
    "            \"window_len\": (5, 27) # [19]\n",
    "        },\n",
    "\n",
    "        encoder = encoder,\n",
    "        step = step,\n",
    "        nb_recurse = recurse,\n",
    "        nb_process = 8\n",
    "    )\n",
    "\n",
    "    # Perform the optimization ON TEST\n",
    "    optimizer.fit(\n",
    "        y_true=test_strong_y_true,\n",
    "        y_pred=time_prediction,\n",
    "        filenames=name_list,\n",
    "        method=\"hysteresis\",\n",
    "        verbose=2\n",
    "    )\n",
    "\n",
    "    return optimizer\n",
    "\n"
   ]
  },
  {
   "cell_type": "code",
   "execution_count": 96,
   "metadata": {
    "hidden": true
   },
   "outputs": [],
   "source": [
    "# optimizer = eval_hysteresis(strong_gt_3d_array, strong_probs_3d_array, wav_lst_validation)\n",
    "\n",
    "# best_params, score = optimizer.best\n",
    "\n",
    "# print('best params', best_params)\n",
    "# print('score', score)\n",
    "# eb_evaluator()"
   ]
  },
  {
   "cell_type": "code",
   "execution_count": null,
   "metadata": {
    "hidden": true
   },
   "outputs": [],
   "source": [
    "def apply_hysteresis(best_params, str_strong_y_true, strong_prediction, filenames):\n",
    "\n",
    "    class_list = ['Alarm_bell_ringing', 'Speech', 'Dog', 'Cat', 'Vacuum_cleaner', 'Dishes', 'Frying', 'Electric_shaver_toothbrush', 'Blender', 'Running_water']\n",
    "\n",
    "    # Create the encoder that will be used\n",
    "    encoder = Encoder(\n",
    "        classes=class_list,\n",
    "        temporal_precision = 200,  # ms\n",
    "        clip_length = 10,          # s\n",
    "        minimal_segment_step = 200 # ms\n",
    "    )\n",
    "\n",
    "    segments = encoder.encode(\n",
    "        strong_prediction,\n",
    "        method=\"hysteresis\",\n",
    "        **best_params\n",
    "    )\n",
    "\n",
    "    to_evaluate = encoder.parse(segments, filenames)\n",
    "#     print(type(to_evaluate))\n",
    "\n",
    "    event_results = eb_evaluator(str_strong_y_true, to_evaluate)\n",
    "    av_scores = event_results.results_class_wise_average_metrics()['f_measure']\n",
    "    print('p: %.2f r: %.2f f: %.2f\\n'%(100.*av_scores['precision'], 100.*av_scores['recall'], 100.*av_scores['f_measure']))\n",
    "#     print(event_results)\n",
    "\n",
    "#     sb_results = sb_evaluator(str_strong_y_true, to_evaluate, time_resolution=1.)\n",
    "#     print(sb_results)\n"
   ]
  },
  {
   "cell_type": "code",
   "execution_count": null,
   "metadata": {
    "hidden": true
   },
   "outputs": [],
   "source": [
    "# best_params = {'low': 0.1, 'high': 0.3, 'window_len': 10., 'smooth': 'smoothMovingAvg'}\n",
    "best_params, score = optimizer.best\n",
    "apply_hysteresis(best_params, str_strong_y_true, strong_probs_3d_array, wav_lst_validation)\n"
   ]
  },
  {
   "cell_type": "code",
   "execution_count": 83,
   "metadata": {
    "ExecuteTime": {
     "end_time": "2019-06-07T13:20:03.862582Z",
     "start_time": "2019-06-07T13:20:03.848506Z"
    },
    "hidden": true
   },
   "outputs": [],
   "source": [
    "# Find best hysteresis threshold parameters\n",
    "def opti_absolute_threshold(test_strong_y_true, time_prediction, name_list, threshold=(0.1, 0.9),\n",
    "                   step=5, recurse=10):\n",
    "    \"\"\"Find best abs threshold parameters.\n",
    "    \n",
    "    :param test_strong_y_true: GT strong annotations\n",
    "    :param time_prediction: The time prediction that will be converted into segments and evaluate\n",
    "    :param name_list: The list of file names (must be in the same order than time_prediction)\n",
    "    :param nb_digit: The threshold max precision\n",
    "    :param step: The number of value that will be test in between the boudaries (for each parameters)\n",
    "    :param recurse: The number of time the search will be done (each time in between the two best boundaries of the previous execution)\n",
    "    :param monitor: The metrics to focus on for comparing the results of each parameters combination.\n",
    "    \"\"\"\n",
    "    \n",
    "    class_list = ['Alarm_bell_ringing', 'Speech', 'Dog', 'Cat', 'Vacuum_cleaner', 'Dishes', 'Frying', 'Electric_shaver_toothbrush', 'Blender', 'Running_water']\n",
    "\n",
    "    # Create the encoder that will be used\n",
    "    encoder = Encoder(\n",
    "        classes=class_list,\n",
    "        temporal_precision = 200,  # ms\n",
    "        clip_length = 10,          # s\n",
    "        minimal_segment_step = 200 # ms\n",
    "    )\n",
    "\n",
    "    optimizer = DichotomicOptimizer(\n",
    "        {\n",
    "            \"threshold\": threshold,\n",
    "            \"smooth\": \"smoothMovingAvg\",\n",
    "            \"window_len\": (5, 27) # [19]\n",
    "        },\n",
    "\n",
    "        encoder = encoder,\n",
    "        step = step,\n",
    "        nb_recurse = recurse,\n",
    "        nb_process = 8\n",
    "    )\n",
    "\n",
    "    # Perform the optimization ON TEST\n",
    "    optimizer.fit(\n",
    "        y_true=test_strong_y_true,\n",
    "        y_pred=time_prediction,\n",
    "        filenames=name_list,\n",
    "        method=\"threshold\",\n",
    "        verbose=2\n",
    "    )\n",
    "\n",
    "    return optimizer\n",
    "\n"
   ]
  },
  {
   "cell_type": "code",
   "execution_count": 84,
   "metadata": {
    "ExecuteTime": {
     "end_time": "2019-06-07T13:25:25.342958Z",
     "start_time": "2019-06-07T13:20:04.031424Z"
    },
    "hidden": true
   },
   "outputs": [
    {
     "data": {
      "application/vnd.jupyter.widget-view+json": {
       "model_id": "5711f0d4be244fc590aea17c6c9b68cf",
       "version_major": 2,
       "version_minor": 0
      },
      "text/plain": [
       "HBox(children=(IntProgress(value=0, max=250), HTML(value='')))"
      ]
     },
     "metadata": {},
     "output_type": "display_data"
    },
    {
     "name": "stdout",
     "output_type": "stream",
     "text": [
      "after :  {'threshold': (0.1, 0.6000000000000001), 'smooth': 'smoothMovingAvg', 'window_len': (5, 21.0)}\n",
      "after :  {'threshold': (0.11250000000000002, 0.3375), 'smooth': 'smoothMovingAvg', 'window_len': (6.5, 19.5)}\n",
      "after :  {'threshold': (0.15000000000000002, 0.30000000000000004), 'smooth': 'smoothMovingAvg', 'window_len': (10.833333333333332, 21.666666666666668)}\n",
      "after :  {'threshold': (0.16875, 0.28125000000000006), 'smooth': 'smoothMovingAvg', 'window_len': (12.1875, 20.3125)}\n",
      "after :  {'threshold': (0.18000000000000002, 0.27), 'smooth': 'smoothMovingAvg', 'window_len': (13.0, 19.5)}\n"
     ]
    },
    {
     "name": "stderr",
     "output_type": "stream",
     "text": [
      "Process ForkPoolWorker-126:\n",
      "Process ForkPoolWorker-127:\n",
      "Process ForkPoolWorker-123:\n",
      "Process ForkPoolWorker-125:\n",
      "Process ForkPoolWorker-124:\n",
      "Process ForkPoolWorker-121:\n",
      "Traceback (most recent call last):\n",
      "Traceback (most recent call last):\n",
      "Traceback (most recent call last):\n",
      "  File \"/home/thomas/tools/miniconda2/envs/keras-sincnet-env/lib/python3.6/multiprocessing/process.py\", line 249, in _bootstrap\n",
      "    self.run()\n",
      "  File \"/home/thomas/tools/miniconda2/envs/keras-sincnet-env/lib/python3.6/multiprocessing/process.py\", line 249, in _bootstrap\n",
      "    self.run()\n",
      "Traceback (most recent call last):\n",
      "  File \"/home/thomas/tools/miniconda2/envs/keras-sincnet-env/lib/python3.6/multiprocessing/process.py\", line 93, in run\n",
      "    self._target(*self._args, **self._kwargs)\n",
      "  File \"/home/thomas/tools/miniconda2/envs/keras-sincnet-env/lib/python3.6/multiprocessing/process.py\", line 249, in _bootstrap\n",
      "    self.run()\n",
      "Traceback (most recent call last):\n",
      "  File \"/home/thomas/tools/miniconda2/envs/keras-sincnet-env/lib/python3.6/multiprocessing/process.py\", line 93, in run\n",
      "    self._target(*self._args, **self._kwargs)\n",
      "  File \"/home/thomas/tools/miniconda2/envs/keras-sincnet-env/lib/python3.6/multiprocessing/process.py\", line 249, in _bootstrap\n",
      "    self.run()\n",
      "  File \"/home/thomas/tools/miniconda2/envs/keras-sincnet-env/lib/python3.6/multiprocessing/pool.py\", line 108, in worker\n",
      "    task = get()\n",
      "  File \"/home/thomas/tools/miniconda2/envs/keras-sincnet-env/lib/python3.6/multiprocessing/process.py\", line 93, in run\n",
      "    self._target(*self._args, **self._kwargs)\n",
      "  File \"/home/thomas/tools/miniconda2/envs/keras-sincnet-env/lib/python3.6/multiprocessing/process.py\", line 249, in _bootstrap\n",
      "    self.run()\n",
      "  File \"/home/thomas/tools/miniconda2/envs/keras-sincnet-env/lib/python3.6/multiprocessing/process.py\", line 93, in run\n",
      "    self._target(*self._args, **self._kwargs)\n",
      "  File \"/home/thomas/tools/miniconda2/envs/keras-sincnet-env/lib/python3.6/multiprocessing/pool.py\", line 108, in worker\n",
      "    task = get()\n",
      "  File \"/home/thomas/tools/miniconda2/envs/keras-sincnet-env/lib/python3.6/multiprocessing/queues.py\", line 341, in get\n",
      "    with self._rlock:\n",
      "  File \"/home/thomas/tools/miniconda2/envs/keras-sincnet-env/lib/python3.6/multiprocessing/pool.py\", line 108, in worker\n",
      "    task = get()\n",
      "  File \"/home/thomas/tools/miniconda2/envs/keras-sincnet-env/lib/python3.6/multiprocessing/process.py\", line 93, in run\n",
      "    self._target(*self._args, **self._kwargs)\n",
      "  File \"/home/thomas/tools/miniconda2/envs/keras-sincnet-env/lib/python3.6/multiprocessing/pool.py\", line 108, in worker\n",
      "    task = get()\n",
      "  File \"/home/thomas/tools/miniconda2/envs/keras-sincnet-env/lib/python3.6/multiprocessing/queues.py\", line 341, in get\n",
      "    with self._rlock:\n",
      "  File \"/home/thomas/tools/miniconda2/envs/keras-sincnet-env/lib/python3.6/multiprocessing/queues.py\", line 342, in get\n",
      "    res = self._reader.recv_bytes()\n",
      "  File \"/home/thomas/tools/miniconda2/envs/keras-sincnet-env/lib/python3.6/multiprocessing/synchronize.py\", line 96, in __enter__\n",
      "    return self._semlock.__enter__()\n",
      "  File \"/home/thomas/tools/miniconda2/envs/keras-sincnet-env/lib/python3.6/multiprocessing/queues.py\", line 341, in get\n",
      "    with self._rlock:\n",
      "  File \"/home/thomas/tools/miniconda2/envs/keras-sincnet-env/lib/python3.6/multiprocessing/pool.py\", line 108, in worker\n",
      "    task = get()\n",
      "  File \"/home/thomas/tools/miniconda2/envs/keras-sincnet-env/lib/python3.6/multiprocessing/synchronize.py\", line 96, in __enter__\n",
      "    return self._semlock.__enter__()\n",
      "  File \"/home/thomas/tools/miniconda2/envs/keras-sincnet-env/lib/python3.6/multiprocessing/connection.py\", line 216, in recv_bytes\n",
      "    buf = self._recv_bytes(maxlength)\n",
      "KeyboardInterrupt\n",
      "  File \"/home/thomas/tools/miniconda2/envs/keras-sincnet-env/lib/python3.6/multiprocessing/synchronize.py\", line 96, in __enter__\n",
      "    return self._semlock.__enter__()\n",
      "KeyboardInterrupt\n",
      "  File \"/home/thomas/tools/miniconda2/envs/keras-sincnet-env/lib/python3.6/multiprocessing/queues.py\", line 341, in get\n",
      "    with self._rlock:\n",
      "  File \"/home/thomas/tools/miniconda2/envs/keras-sincnet-env/lib/python3.6/multiprocessing/connection.py\", line 407, in _recv_bytes\n",
      "    buf = self._recv(4)\n",
      "KeyboardInterrupt\n",
      "  File \"/home/thomas/tools/miniconda2/envs/keras-sincnet-env/lib/python3.6/multiprocessing/connection.py\", line 379, in _recv\n",
      "    chunk = read(handle, remaining)\n",
      "KeyboardInterrupt\n",
      "Process ForkPoolWorker-128:\n",
      "  File \"/home/thomas/tools/miniconda2/envs/keras-sincnet-env/lib/python3.6/multiprocessing/synchronize.py\", line 96, in __enter__\n",
      "    return self._semlock.__enter__()\n",
      "KeyboardInterrupt\n",
      "Process ForkPoolWorker-122:\n",
      "Traceback (most recent call last):\n",
      "  File \"/home/thomas/tools/miniconda2/envs/keras-sincnet-env/lib/python3.6/multiprocessing/process.py\", line 249, in _bootstrap\n",
      "    self.run()\n",
      "Traceback (most recent call last):\n",
      "  File \"/home/thomas/tools/miniconda2/envs/keras-sincnet-env/lib/python3.6/multiprocessing/process.py\", line 93, in run\n",
      "    self._target(*self._args, **self._kwargs)\n",
      "  File \"/home/thomas/tools/miniconda2/envs/keras-sincnet-env/lib/python3.6/multiprocessing/process.py\", line 249, in _bootstrap\n",
      "    self.run()\n",
      "  File \"/home/thomas/tools/miniconda2/envs/keras-sincnet-env/lib/python3.6/multiprocessing/pool.py\", line 108, in worker\n",
      "    task = get()\n",
      "  File \"/home/thomas/tools/miniconda2/envs/keras-sincnet-env/lib/python3.6/multiprocessing/process.py\", line 93, in run\n",
      "    self._target(*self._args, **self._kwargs)\n",
      "  File \"/home/thomas/tools/miniconda2/envs/keras-sincnet-env/lib/python3.6/multiprocessing/queues.py\", line 341, in get\n",
      "    with self._rlock:\n",
      "  File \"/home/thomas/tools/miniconda2/envs/keras-sincnet-env/lib/python3.6/multiprocessing/pool.py\", line 108, in worker\n",
      "    task = get()\n",
      "  File \"/home/thomas/tools/miniconda2/envs/keras-sincnet-env/lib/python3.6/multiprocessing/synchronize.py\", line 96, in __enter__\n",
      "    return self._semlock.__enter__()\n",
      "  File \"/home/thomas/tools/miniconda2/envs/keras-sincnet-env/lib/python3.6/multiprocessing/queues.py\", line 341, in get\n",
      "    with self._rlock:\n",
      "KeyboardInterrupt\n",
      "  File \"/home/thomas/tools/miniconda2/envs/keras-sincnet-env/lib/python3.6/multiprocessing/synchronize.py\", line 96, in __enter__\n",
      "    return self._semlock.__enter__()\n",
      "KeyboardInterrupt\n",
      "Traceback (most recent call last):\n"
     ]
    },
    {
     "ename": "KeyboardInterrupt",
     "evalue": "",
     "output_type": "error",
     "traceback": [
      "\u001b[0;31m---------------------------------------------------------------------------\u001b[0m",
      "\u001b[0;31mKeyboardInterrupt\u001b[0m                         Traceback (most recent call last)",
      "\u001b[0;32m<ipython-input-84-1cececd7af40>\u001b[0m in \u001b[0;36m<module>\u001b[0;34m\u001b[0m\n\u001b[0;32m----> 1\u001b[0;31m \u001b[0moptimizer\u001b[0m \u001b[0;34m=\u001b[0m \u001b[0mopti_absolute_threshold\u001b[0m\u001b[0;34m(\u001b[0m\u001b[0mstr_strong_y_true\u001b[0m\u001b[0;34m,\u001b[0m \u001b[0mstrong_probs_3d_array\u001b[0m\u001b[0;34m,\u001b[0m \u001b[0mwav_lst_validation\u001b[0m\u001b[0;34m)\u001b[0m\u001b[0;34m\u001b[0m\u001b[0m\n\u001b[0m",
      "\u001b[0;32m<ipython-input-83-c33beffb56c2>\u001b[0m in \u001b[0;36mopti_absolute_threshold\u001b[0;34m(test_strong_y_true, time_prediction, name_list, threshold, step, recurse)\u001b[0m\n\u001b[1;32m     42\u001b[0m         \u001b[0mfilenames\u001b[0m\u001b[0;34m=\u001b[0m\u001b[0mname_list\u001b[0m\u001b[0;34m,\u001b[0m\u001b[0;34m\u001b[0m\u001b[0m\n\u001b[1;32m     43\u001b[0m         \u001b[0mmethod\u001b[0m\u001b[0;34m=\u001b[0m\u001b[0;34m\"threshold\"\u001b[0m\u001b[0;34m,\u001b[0m\u001b[0;34m\u001b[0m\u001b[0m\n\u001b[0;32m---> 44\u001b[0;31m         \u001b[0mverbose\u001b[0m\u001b[0;34m=\u001b[0m\u001b[0;36m2\u001b[0m\u001b[0;34m\u001b[0m\u001b[0m\n\u001b[0m\u001b[1;32m     45\u001b[0m     )\n\u001b[1;32m     46\u001b[0m \u001b[0;34m\u001b[0m\u001b[0m\n",
      "\u001b[0;32m~/tools/miniconda2/envs/keras-sincnet-env/lib/python3.6/site-packages/sed_tool/optimizers.py\u001b[0m in \u001b[0;36mfit\u001b[0;34m(self, y_true, y_pred, filenames, monitor, verbose, method)\u001b[0m\n\u001b[1;32m    343\u001b[0m             \u001b[0mresults\u001b[0m \u001b[0;34m=\u001b[0m \u001b[0;34m[\u001b[0m\u001b[0;34m]\u001b[0m\u001b[0;34m\u001b[0m\u001b[0m\n\u001b[1;32m    344\u001b[0m             \u001b[0;32mfor\u001b[0m \u001b[0mcombination\u001b[0m\u001b[0;34m,\u001b[0m \u001b[0mres\u001b[0m \u001b[0;32min\u001b[0m \u001b[0mworks\u001b[0m\u001b[0;34m:\u001b[0m\u001b[0;34m\u001b[0m\u001b[0m\n\u001b[0;32m--> 345\u001b[0;31m                 \u001b[0mresults\u001b[0m\u001b[0;34m.\u001b[0m\u001b[0mappend\u001b[0m\u001b[0;34m(\u001b[0m\u001b[0;34m(\u001b[0m\u001b[0mcombination\u001b[0m\u001b[0;34m,\u001b[0m \u001b[0mres\u001b[0m\u001b[0;34m.\u001b[0m\u001b[0mget\u001b[0m\u001b[0;34m(\u001b[0m\u001b[0;34m)\u001b[0m\u001b[0;34m)\u001b[0m\u001b[0;34m)\u001b[0m\u001b[0;34m\u001b[0m\u001b[0m\n\u001b[0m\u001b[1;32m    346\u001b[0m \u001b[0;34m\u001b[0m\u001b[0m\n\u001b[1;32m    347\u001b[0m                 \u001b[0;32mif\u001b[0m \u001b[0mverbose\u001b[0m \u001b[0;34m!=\u001b[0m \u001b[0;36m0\u001b[0m\u001b[0;34m:\u001b[0m\u001b[0;34m\u001b[0m\u001b[0m\n",
      "\u001b[0;32m~/tools/miniconda2/envs/keras-sincnet-env/lib/python3.6/multiprocessing/pool.py\u001b[0m in \u001b[0;36mget\u001b[0;34m(self, timeout)\u001b[0m\n\u001b[1;32m    636\u001b[0m \u001b[0;34m\u001b[0m\u001b[0m\n\u001b[1;32m    637\u001b[0m     \u001b[0;32mdef\u001b[0m \u001b[0mget\u001b[0m\u001b[0;34m(\u001b[0m\u001b[0mself\u001b[0m\u001b[0;34m,\u001b[0m \u001b[0mtimeout\u001b[0m\u001b[0;34m=\u001b[0m\u001b[0;32mNone\u001b[0m\u001b[0;34m)\u001b[0m\u001b[0;34m:\u001b[0m\u001b[0;34m\u001b[0m\u001b[0m\n\u001b[0;32m--> 638\u001b[0;31m         \u001b[0mself\u001b[0m\u001b[0;34m.\u001b[0m\u001b[0mwait\u001b[0m\u001b[0;34m(\u001b[0m\u001b[0mtimeout\u001b[0m\u001b[0;34m)\u001b[0m\u001b[0;34m\u001b[0m\u001b[0m\n\u001b[0m\u001b[1;32m    639\u001b[0m         \u001b[0;32mif\u001b[0m \u001b[0;32mnot\u001b[0m \u001b[0mself\u001b[0m\u001b[0;34m.\u001b[0m\u001b[0mready\u001b[0m\u001b[0;34m(\u001b[0m\u001b[0;34m)\u001b[0m\u001b[0;34m:\u001b[0m\u001b[0;34m\u001b[0m\u001b[0m\n\u001b[1;32m    640\u001b[0m             \u001b[0;32mraise\u001b[0m \u001b[0mTimeoutError\u001b[0m\u001b[0;34m\u001b[0m\u001b[0m\n",
      "\u001b[0;32m~/tools/miniconda2/envs/keras-sincnet-env/lib/python3.6/multiprocessing/pool.py\u001b[0m in \u001b[0;36mwait\u001b[0;34m(self, timeout)\u001b[0m\n\u001b[1;32m    633\u001b[0m \u001b[0;34m\u001b[0m\u001b[0m\n\u001b[1;32m    634\u001b[0m     \u001b[0;32mdef\u001b[0m \u001b[0mwait\u001b[0m\u001b[0;34m(\u001b[0m\u001b[0mself\u001b[0m\u001b[0;34m,\u001b[0m \u001b[0mtimeout\u001b[0m\u001b[0;34m=\u001b[0m\u001b[0;32mNone\u001b[0m\u001b[0;34m)\u001b[0m\u001b[0;34m:\u001b[0m\u001b[0;34m\u001b[0m\u001b[0m\n\u001b[0;32m--> 635\u001b[0;31m         \u001b[0mself\u001b[0m\u001b[0;34m.\u001b[0m\u001b[0m_event\u001b[0m\u001b[0;34m.\u001b[0m\u001b[0mwait\u001b[0m\u001b[0;34m(\u001b[0m\u001b[0mtimeout\u001b[0m\u001b[0;34m)\u001b[0m\u001b[0;34m\u001b[0m\u001b[0m\n\u001b[0m\u001b[1;32m    636\u001b[0m \u001b[0;34m\u001b[0m\u001b[0m\n\u001b[1;32m    637\u001b[0m     \u001b[0;32mdef\u001b[0m \u001b[0mget\u001b[0m\u001b[0;34m(\u001b[0m\u001b[0mself\u001b[0m\u001b[0;34m,\u001b[0m \u001b[0mtimeout\u001b[0m\u001b[0;34m=\u001b[0m\u001b[0;32mNone\u001b[0m\u001b[0;34m)\u001b[0m\u001b[0;34m:\u001b[0m\u001b[0;34m\u001b[0m\u001b[0m\n",
      "\u001b[0;32m~/tools/miniconda2/envs/keras-sincnet-env/lib/python3.6/threading.py\u001b[0m in \u001b[0;36mwait\u001b[0;34m(self, timeout)\u001b[0m\n\u001b[1;32m    549\u001b[0m             \u001b[0msignaled\u001b[0m \u001b[0;34m=\u001b[0m \u001b[0mself\u001b[0m\u001b[0;34m.\u001b[0m\u001b[0m_flag\u001b[0m\u001b[0;34m\u001b[0m\u001b[0m\n\u001b[1;32m    550\u001b[0m             \u001b[0;32mif\u001b[0m \u001b[0;32mnot\u001b[0m \u001b[0msignaled\u001b[0m\u001b[0;34m:\u001b[0m\u001b[0;34m\u001b[0m\u001b[0m\n\u001b[0;32m--> 551\u001b[0;31m                 \u001b[0msignaled\u001b[0m \u001b[0;34m=\u001b[0m \u001b[0mself\u001b[0m\u001b[0;34m.\u001b[0m\u001b[0m_cond\u001b[0m\u001b[0;34m.\u001b[0m\u001b[0mwait\u001b[0m\u001b[0;34m(\u001b[0m\u001b[0mtimeout\u001b[0m\u001b[0;34m)\u001b[0m\u001b[0;34m\u001b[0m\u001b[0m\n\u001b[0m\u001b[1;32m    552\u001b[0m             \u001b[0;32mreturn\u001b[0m \u001b[0msignaled\u001b[0m\u001b[0;34m\u001b[0m\u001b[0m\n\u001b[1;32m    553\u001b[0m \u001b[0;34m\u001b[0m\u001b[0m\n",
      "\u001b[0;32m~/tools/miniconda2/envs/keras-sincnet-env/lib/python3.6/threading.py\u001b[0m in \u001b[0;36mwait\u001b[0;34m(self, timeout)\u001b[0m\n\u001b[1;32m    293\u001b[0m         \u001b[0;32mtry\u001b[0m\u001b[0;34m:\u001b[0m    \u001b[0;31m# restore state no matter what (e.g., KeyboardInterrupt)\u001b[0m\u001b[0;34m\u001b[0m\u001b[0m\n\u001b[1;32m    294\u001b[0m             \u001b[0;32mif\u001b[0m \u001b[0mtimeout\u001b[0m \u001b[0;32mis\u001b[0m \u001b[0;32mNone\u001b[0m\u001b[0;34m:\u001b[0m\u001b[0;34m\u001b[0m\u001b[0m\n\u001b[0;32m--> 295\u001b[0;31m                 \u001b[0mwaiter\u001b[0m\u001b[0;34m.\u001b[0m\u001b[0macquire\u001b[0m\u001b[0;34m(\u001b[0m\u001b[0;34m)\u001b[0m\u001b[0;34m\u001b[0m\u001b[0m\n\u001b[0m\u001b[1;32m    296\u001b[0m                 \u001b[0mgotit\u001b[0m \u001b[0;34m=\u001b[0m \u001b[0;32mTrue\u001b[0m\u001b[0;34m\u001b[0m\u001b[0m\n\u001b[1;32m    297\u001b[0m             \u001b[0;32melse\u001b[0m\u001b[0;34m:\u001b[0m\u001b[0;34m\u001b[0m\u001b[0m\n",
      "\u001b[0;31mKeyboardInterrupt\u001b[0m: "
     ]
    },
    {
     "name": "stderr",
     "output_type": "stream",
     "text": [
      "  File \"/home/thomas/tools/miniconda2/envs/keras-sincnet-env/lib/python3.6/multiprocessing/process.py\", line 249, in _bootstrap\n",
      "    self.run()\n",
      "  File \"/home/thomas/tools/miniconda2/envs/keras-sincnet-env/lib/python3.6/multiprocessing/process.py\", line 93, in run\n",
      "    self._target(*self._args, **self._kwargs)\n",
      "  File \"/home/thomas/tools/miniconda2/envs/keras-sincnet-env/lib/python3.6/multiprocessing/pool.py\", line 119, in worker\n",
      "    result = (True, func(*args, **kwds))\n",
      "  File \"/home/thomas/tools/miniconda2/envs/keras-sincnet-env/lib/python3.6/site-packages/sed_tool/optimizers.py\", line 53, in evaluate\n",
      "    percentage_of_length=encoder.percentage_of_length\n",
      "  File \"/home/thomas/tools/miniconda2/envs/keras-sincnet-env/lib/python3.6/site-packages/sed_tool/sed_tools.py\", line 46, in eb_evaluator\n",
      "    t_collar, percentage_of_length)\n",
      "  File \"/home/thomas/tools/miniconda2/envs/keras-sincnet-env/lib/python3.6/site-packages/sed_tool/sed_tools.py\", line 97, in event_based_evaluation\n",
      "    estimated_event_list=estimated_event_list_for_current_file\n",
      "  File \"/home/thomas/tools/miniconda2/envs/keras-sincnet-env/lib/python3.6/site-packages/sed_eval/sound_event.py\", line 1256, in evaluate\n",
      "    estimated_event_list = dcase_util.containers.MetaDataContainer(estimated_event_list)\n",
      "  File \"/home/thomas/tools/miniconda2/envs/keras-sincnet-env/lib/python3.6/site-packages/dcase_util/containers/metadata.py\", line 583, in __init__\n",
      "    self.processing_chain = ProcessingChain()\n",
      "  File \"/home/thomas/tools/miniconda2/envs/keras-sincnet-env/lib/python3.6/site-packages/dcase_util/processors/processing_chain.py\", line 99, in __init__\n",
      "    super(ProcessingChain, self).__init__(*args, **kwargs)\n",
      "  File \"/home/thomas/tools/miniconda2/envs/keras-sincnet-env/lib/python3.6/site-packages/dcase_util/containers/containers.py\", line 1104, in __init__\n",
      "    FileMixin.__init__(self, *args, **kwargs)\n",
      "  File \"/home/thomas/tools/miniconda2/envs/keras-sincnet-env/lib/python3.6/site-packages/dcase_util/containers/mixins.py\", line 96, in __init__\n",
      "    if hasattr(self, 'filename') and self.filename is not None:\n",
      "KeyboardInterrupt\n"
     ]
    }
   ],
   "source": [
    "optimizer = opti_absolute_threshold(str_strong_y_true, strong_probs_3d_array, wav_lst_validation)"
   ]
  },
  {
   "cell_type": "code",
   "execution_count": 101,
   "metadata": {
    "hidden": true
   },
   "outputs": [],
   "source": [
    "def apply_absolute_threshold(best_params, str_strong_y_true, strong_prediction, filenames):\n",
    "\n",
    "    class_list = ['Alarm_bell_ringing', 'Speech', 'Dog', 'Cat', 'Vacuum_cleaner', 'Dishes', 'Frying', 'Electric_shaver_toothbrush', 'Blender', 'Running_water']\n",
    "\n",
    "    # Create the encoder that will be used\n",
    "    encoder = Encoder(\n",
    "        classes=class_list,\n",
    "        temporal_precision = 200,  # ms\n",
    "        clip_length = 10,          # s\n",
    "        minimal_segment_step = 200 # ms\n",
    "    )\n",
    "\n",
    "    segments = encoder.encode(\n",
    "        strong_prediction,\n",
    "        method=\"threshold\",\n",
    "        **best_params\n",
    "    )\n",
    "\n",
    "    to_evaluate = encoder.parse(segments, filenames)\n",
    "#     print(type(to_evaluate))\n",
    "    event_results = eb_evaluator(str_strong_y_true, to_evaluate)\n",
    "\n",
    "    # log_output_fh.write(str(event_results))\n",
    "\n",
    "    # sb_results = sb_evaluator(str_strong_y_true, to_evaluate, time_resolution=1.)\n",
    "    # log_output_fh.write(str(sb_results))\n",
    "\n",
    "    macro_scores = event_results.results_class_wise_average_metrics()['f_measure']\n",
    "    # log_output_fh.write(str(event_results))\n",
    "    print('p: %.2f r: %.2f f: %.2f\\n'%(100.*macro_scores['precision'], 100.*macro_scores['recall'], 100.*macro_scores['f_measure']))\n",
    "\n",
    "    sb_results = sb_evaluator(str_strong_y_true, to_evaluate, time_resolution=1.)\n",
    "    # log_output_fh.write(str(sb_results))\n",
    "    macro_scores = sb_results.results_class_wise_average_metrics()['f_measure']\n",
    "    print('p: %.2f r: %.2f f: %.2f\\n'%(100.*macro_scores['precision'], 100.*macro_scores['recall'], 100.*macro_scores['f_measure']))\n",
    "\n"
   ]
  },
  {
   "cell_type": "code",
   "execution_count": 102,
   "metadata": {
    "hidden": true
   },
   "outputs": [
    {
     "name": "stdout",
     "output_type": "stream",
     "text": [
      "p: 25.94 r: 29.84 f: 26.87\n",
      "\n",
      "p: 68.17 r: 65.92 f: 66.78\n",
      "\n"
     ]
    }
   ],
   "source": [
    "best_params_absolute, score = optimizer.best\n",
    "apply_absolute_threshold(best_params_absolute, str_strong_y_true, strong_probs_3d_array, wav_lst_validation)\n",
    "# p: 26.52 r: 29.35 f: 26.72\n",
    "# p: 66.63 r: 62.76 f: 64.08\n",
    "# avec opti AT, 74.042\n",
    "# p: 25.94 r: 29.84 f: 26.87\n",
    "# p: 68.17 r: 65.92 f: 66.78\n"
   ]
  },
  {
   "cell_type": "markdown",
   "metadata": {},
   "source": [
    "## class-wise opti"
   ]
  },
  {
   "cell_type": "code",
   "execution_count": 48,
   "metadata": {
    "ExecuteTime": {
     "end_time": "2019-06-09T08:10:14.060865Z",
     "start_time": "2019-06-09T08:10:14.035899Z"
    }
   },
   "outputs": [],
   "source": [
    "def class_wise_optimization(optimizer, class_to_monitor, strong_y_true, strong_pred, filenames, method=\"threshold\"):\n",
    "    class_wise_results = {}\n",
    "    \n",
    "    for cl in class_to_monitor:\n",
    "        optimizer.fit(\n",
    "            strong_y_true, strong_pred, filenames,\n",
    "            monitor=[\"class_wise\", cl, \"f_measure\", \"f_measure\"],\n",
    "            method=method,\n",
    "            verbose=2)\n",
    "        \n",
    "        parameters, score = optimizer.best\n",
    "        print(cl, parameters, score)\n",
    "        class_wise_results[cl] = (parameters, score)\n",
    "        \n",
    "    return class_wise_results\n",
    "\n",
    "\n",
    "def get_class_dependant_parameters(class_wise_results, class_list):\n",
    "    class_dependant_parameters = {}\n",
    "    for cl in class_list:\n",
    "        for param in class_wise_results[cl][0]:\n",
    "            if param not in class_dependant_parameters.keys():\n",
    "                class_dependant_parameters[param] = []\n",
    "            class_dependant_parameters[param].append(class_wise_results[cl][0][param])\n",
    "            \n",
    "    # TODO find better way\n",
    "    # for \"smooth\" common parameters, remove list\n",
    "    class_dependant_parameters[\"smooth\"] = class_dependant_parameters[\"smooth\"][0]\n",
    "    return class_dependant_parameters"
   ]
  },
  {
   "cell_type": "code",
   "execution_count": 49,
   "metadata": {
    "ExecuteTime": {
     "end_time": "2019-06-09T08:10:14.102632Z",
     "start_time": "2019-06-09T08:10:14.063718Z"
    }
   },
   "outputs": [],
   "source": [
    "class_list = ['Alarm_bell_ringing', 'Speech', 'Dog', 'Cat', 'Vacuum_cleaner', 'Dishes', 'Frying', 'Electric_shaver_toothbrush', 'Blender', 'Running_water']\n",
    "\n",
    "# Create the encoder that will be used\n",
    "encoder = Encoder(\n",
    "    classes=class_list,\n",
    "    temporal_precision = 200,  # ms\n",
    "    clip_length = 10,          # s\n",
    "    minimal_segment_step = 200 # ms\n",
    ")"
   ]
  },
  {
   "cell_type": "code",
   "execution_count": null,
   "metadata": {},
   "outputs": [],
   "source": []
  },
  {
   "cell_type": "markdown",
   "metadata": {
    "heading_collapsed": true
   },
   "source": [
    "### absolute threshold"
   ]
  },
  {
   "cell_type": "code",
   "execution_count": null,
   "metadata": {
    "ExecuteTime": {
     "end_time": "2019-06-08T10:16:47.487619Z",
     "start_time": "2019-06-08T10:16:24.506Z"
    },
    "hidden": true
   },
   "outputs": [],
   "source": [
    "# Perform the optimization ON TEST\n",
    "# Create the optimizer\n",
    "optimizer = DichotomicOptimizer(\n",
    "    {\n",
    "        \"threshold\": (0.01, 0.99),\n",
    "        \"smooth\": \"smoothMovingAvg\",\n",
    "        \"window_len\": (3, 27)\n",
    "    },\n",
    "    \n",
    "    encoder = encoder,\n",
    "    step = 6,\n",
    "    nb_recurse = 8,\n",
    "    nb_process = 20\n",
    ")\n",
    "\n",
    "class_wise_results = class_wise_optimization(\n",
    "    optimizer,\n",
    "    class_list,\n",
    "    method=\"threshold\",\n",
    "    strong_y_true=str_strong_y_true,\n",
    "    strong_pred=strong_probs_3d_array,\n",
    "    filenames=wav_lst_validation\n",
    ")"
   ]
  },
  {
   "cell_type": "code",
   "execution_count": null,
   "metadata": {
    "ExecuteTime": {
     "end_time": "2019-06-08T10:16:47.489132Z",
     "start_time": "2019-06-08T10:16:30.978Z"
    },
    "hidden": true
   },
   "outputs": [],
   "source": [
    "# check test\n",
    "best_parameters = get_class_dependant_parameters(class_wise_results, class_list)\n",
    "\n",
    "segments = encoder.encode(\n",
    "    strong_probs_3d_array,\n",
    "    method=\"threshold\",\n",
    "    **best_parameters\n",
    ")\n",
    "to_evaluate = encoder.parse(segments, wav_lst_validation)\n",
    "evaluator = eb_evaluator(str_strong_y_true, to_evaluate)\n",
    "print(evaluator)"
   ]
  },
  {
   "cell_type": "code",
   "execution_count": null,
   "metadata": {
    "ExecuteTime": {
     "end_time": "2019-06-08T10:16:47.490542Z",
     "start_time": "2019-06-08T10:16:32.397Z"
    },
    "hidden": true
   },
   "outputs": [],
   "source": [
    "sb_evaluator = sb_evaluator(str_strong_y_true, to_evaluate, time_resolution=1.0)\n",
    "print(sb_evaluator)"
   ]
  },
  {
   "cell_type": "code",
   "execution_count": null,
   "metadata": {
    "hidden": true
   },
   "outputs": [],
   "source": []
  },
  {
   "cell_type": "markdown",
   "metadata": {},
   "source": [
    "### hysteresis"
   ]
  },
  {
   "cell_type": "code",
   "execution_count": 50,
   "metadata": {
    "ExecuteTime": {
     "end_time": "2019-06-09T13:39:36.128502Z",
     "start_time": "2019-06-09T08:10:14.105779Z"
    }
   },
   "outputs": [
    {
     "data": {
      "application/vnd.jupyter.widget-view+json": {
       "model_id": "da3e35c605dd4bbfab2bcc9ac12339a0",
       "version_major": 2,
       "version_minor": 0
      },
      "text/plain": [
       "HBox(children=(IntProgress(value=0, max=1728), HTML(value='')))"
      ]
     },
     "metadata": {},
     "output_type": "display_data"
    },
    {
     "name": "stdout",
     "output_type": "stream",
     "text": [
      "after :  {'high': (0.01, 0.804), 'low': (0.01, 0.41200000000000003), 'smooth': 'smoothMovingAvg', 'window_len': (3, 15.6)}\n",
      "after :  {'high': (0.2432, 0.7296), 'low': (0.0854, 0.2562), 'smooth': 'smoothMovingAvg', 'window_len': (3, 8.28)}\n",
      "after :  {'high': (0.3566933333333333, 0.7133866666666666), 'low': (0.14802666666666664, 0.29605333333333334), 'smooth': 'smoothMovingAvg', 'window_len': (5.52, 11.04)}\n",
      "after :  {'high': (0.37452799999999997, 0.6242133333333333), 'low': (0.155428, 0.25904666666666665), 'smooth': 'smoothMovingAvg', 'window_len': (6.623999999999999, 11.04)}\n",
      "after :  {'high': (0.41947136, 0.62920704), 'low': (0.17407936, 0.26111903999999997), 'smooth': 'smoothMovingAvg', 'window_len': (6.71232, 10.06848)}\n",
      "after :  {'high': (0.4544273066666667, 0.6361982293333334), 'low': (0.18858597333333332, 0.2640203626666666), 'smooth': 'smoothMovingAvg', 'window_len': (7.27168, 10.180352)}\n",
      "after :  {'high': (0.4518305792000001, 0.6024407722666668), 'low': (0.18750833919999998, 0.2500111189333333), 'smooth': 'smoothMovingAvg', 'window_len': (7.230127542857144, 9.640170057142857)}\n",
      "after :  {'high': (0.44806532437333335, 0.5760839884800001), 'low': (0.19688375615999998, 0.25313625791999994), 'smooth': 'smoothMovingAvg', 'window_len': (7.59163392, 9.760672182857142)}\n",
      "Alarm_bell_ringing {'high': 0.5271356757333334, 'low': 0.21875972906666663, 'smooth': 'smoothMovingAvg', 'window_len': 8.4351488} 0.4685408299866131\n"
     ]
    },
    {
     "data": {
      "application/vnd.jupyter.widget-view+json": {
       "model_id": "9c49b8577d6a4ac98103d6b9b827d909",
       "version_major": 2,
       "version_minor": 0
      },
      "text/plain": [
       "HBox(children=(IntProgress(value=0, max=1728), HTML(value='')))"
      ]
     },
     "metadata": {},
     "output_type": "display_data"
    },
    {
     "name": "stdout",
     "output_type": "stream",
     "text": [
      "after :  {'high': (0.01, 0.99), 'low': (0.01, 0.99), 'smooth': 'smoothMovingAvg', 'window_len': (3, 25.2)}\n",
      "after :  {'high': (0.29900000000000004, 0.8970000000000001), 'low': (0.495, 0.99), 'smooth': 'smoothMovingAvg', 'window_len': (5.9399999999999995, 17.82)}\n",
      "after :  {'high': (0.3588, 0.7176), 'low': (0.6599999999999999, 0.99), 'smooth': 'smoothMovingAvg', 'window_len': (8.712, 17.424000000000003)}\n",
      "after :  {'high': (0.43056000000000005, 0.7176), 'low': (0.7424999999999999, 0.99), 'smooth': 'smoothMovingAvg', 'window_len': (10.454400000000001, 17.424000000000003)}\n",
      "after :  {'high': (0.43630080000000004, 0.6544512000000001), 'low': (0.792, 0.99), 'smooth': 'smoothMovingAvg', 'window_len': (10.593792000000002, 15.890688000000003)}\n",
      "after :  {'high': (0.47265920000000006, 0.6617228800000001), 'low': (0.825, 0.99), 'smooth': 'smoothMovingAvg', 'window_len': (9.710976000000002, 13.595366400000003)}\n",
      "after :  {'high': (0.46995829028571434, 0.6266110537142858), 'low': (0.8485714285714285, 0.99), 'smooth': 'smoothMovingAvg', 'window_len': (10.987275702857145, 14.649700937142862)}\n",
      "after :  {'high': (0.4934562048, 0.6344436918857144), 'low': (0.86625, 0.99), 'smooth': 'smoothMovingAvg', 'window_len': (10.254790656000003, 13.184730843428573)}\n",
      "Speech {'high': 0.5482846720000001, 'low': 0.99, 'smooth': 'smoothMovingAvg', 'window_len': 12.818488320000004} 0.4233128834355828\n"
     ]
    },
    {
     "data": {
      "application/vnd.jupyter.widget-view+json": {
       "model_id": "c830ce46ffb14b83831befd285162f4c",
       "version_major": 2,
       "version_minor": 0
      },
      "text/plain": [
       "HBox(children=(IntProgress(value=0, max=1728), HTML(value='')))"
      ]
     },
     "metadata": {},
     "output_type": "display_data"
    },
    {
     "name": "stdout",
     "output_type": "stream",
     "text": [
      "after :  {'high': (0.01, 0.99), 'low': (0.01, 0.99), 'smooth': 'smoothMovingAvg', 'window_len': (3, 25.2)}\n",
      "after :  {'high': (0.29900000000000004, 0.8970000000000001), 'low': (0.495, 0.99), 'smooth': 'smoothMovingAvg', 'window_len': (5.9399999999999995, 17.82)}\n",
      "after :  {'high': (0.43853333333333333, 0.8770666666666668), 'low': (0.396, 0.7919999999999999), 'smooth': 'smoothMovingAvg', 'window_len': (7.128, 14.256)}\n",
      "after :  {'high': (0.39468000000000003, 0.6578), 'low': (0.594, 0.9899999999999999), 'smooth': 'smoothMovingAvg', 'window_len': (10.692, 17.82)}\n",
      "after :  {'high': (0.52624, 0.7893600000000001), 'low': (0.47519999999999996, 0.7128), 'smooth': 'smoothMovingAvg', 'window_len': (8.5536, 12.830400000000001)}\n",
      "after :  {'high': (0.52624, 0.7367360000000001), 'low': (0.47519999999999996, 0.66528), 'smooth': 'smoothMovingAvg', 'window_len': (7.840800000000001, 10.977120000000001)}\n",
      "after :  {'high': (0.5954029714285715, 0.7938706285714286), 'low': (0.5050697142857142, 0.6734262857142858), 'smooth': 'smoothMovingAvg', 'window_len': (6.720685714285715, 8.960914285714287)}\n",
      "after :  {'high': (0.5904412800000001, 0.7591387885714287), 'low': (0.5008608, 0.6439638857142856), 'smooth': 'smoothMovingAvg', 'window_len': (7.840800000000001, 10.081028571428572)}\n",
      "Dog {'high': 0.6946368, 'low': 0.589248, 'smooth': 'smoothMovingAvg', 'window_len': 7.840800000000001} 0.19132369299221355\n"
     ]
    },
    {
     "data": {
      "application/vnd.jupyter.widget-view+json": {
       "model_id": "cc4c50690355422bb5c72a537338d28b",
       "version_major": 2,
       "version_minor": 0
      },
      "text/plain": [
       "HBox(children=(IntProgress(value=0, max=1728), HTML(value='')))"
      ]
     },
     "metadata": {},
     "output_type": "display_data"
    },
    {
     "name": "stdout",
     "output_type": "stream",
     "text": [
      "after :  {'high': (0.01, 0.804), 'low': (0.01, 0.99), 'smooth': 'smoothMovingAvg', 'window_len': (3, 27)}\n",
      "after :  {'high': (0.2432, 0.7296), 'low': (0.201, 0.603), 'smooth': 'smoothMovingAvg', 'window_len': (11.1, 27)}\n",
      "after :  {'high': (0.3566933333333333, 0.7133866666666666), 'low': (0.24120000000000003, 0.4824), 'smooth': 'smoothMovingAvg', 'window_len': (13.760000000000002, 27)}\n",
      "after :  {'high': (0.37452799999999997, 0.6242133333333333), 'low': (0.28944, 0.4824), 'smooth': 'smoothMovingAvg', 'window_len': (16.278, 27)}\n",
      "after :  {'high': (0.3395720533333333, 0.5093580799999999), 'low': (0.2932992, 0.4399487999999999), 'smooth': 'smoothMovingAvg', 'window_len': (16.45344, 24.68016)}\n",
      "after :  {'high': (0.39616739555555547, 0.5546343537777777), 'low': (0.2932992, 0.4106188799999999), 'smooth': 'smoothMovingAvg', 'window_len': (19.19568, 26.873952)}\n",
      "after :  {'high': (0.42106934613333324, 0.5614257948444443), 'low': (0.3117351497142857, 0.4156468662857142), 'smooth': 'smoothMovingAvg', 'window_len': (20.4022656, 27)}\n",
      "after :  {'high': (0.4175604349155555, 0.5368634163199999), 'low': (0.3455064575999999, 0.44422258834285705), 'smooth': 'smoothMovingAvg', 'window_len': (21.31579296, 27)}\n",
      "Cat {'high': 0.4772119256177777, 'low': 0.3948645229714285, 'smooth': 'smoothMovingAvg', 'window_len': 24.36090624} 0.45454545454545453\n"
     ]
    },
    {
     "data": {
      "application/vnd.jupyter.widget-view+json": {
       "model_id": "688921cdc0a84f0cac1aa5c79e25cb76",
       "version_major": 2,
       "version_minor": 0
      },
      "text/plain": [
       "HBox(children=(IntProgress(value=0, max=1728), HTML(value='')))"
      ]
     },
     "metadata": {},
     "output_type": "display_data"
    },
    {
     "name": "stdout",
     "output_type": "stream",
     "text": [
      "after :  {'high': (0.01, 0.41200000000000003), 'low': (0.01, 0.02), 'smooth': 'smoothMovingAvg', 'window_len': (3, 27)}\n",
      "after :  {'high': (0.0854, 0.2562), 'low': (0.01, 0.018000000000000002), 'smooth': 'smoothMovingAvg', 'window_len': (11.1, 27)}\n",
      "after :  {'high': (0.10247999999999999, 0.20496), 'low': (0.01, 0.015466666666666668), 'smooth': 'smoothMovingAvg', 'window_len': (11.64, 23.28)}\n",
      "after :  {'high': (0.10760399999999999, 0.17934), 'low': (0.01, 0.016600000000000004), 'smooth': 'smoothMovingAvg', 'window_len': (17.46, 27)}\n",
      "after :  {'high': (0.12051648, 0.18077472), 'low': (0.010112000000000001, 0.015168000000000003), 'smooth': 'smoothMovingAvg', 'window_len': (15.494400000000002, 23.241600000000002)}\n",
      "after :  {'high': (0.13055952, 0.182783328), 'low': (0.010112000000000001, 0.014156800000000002), 'smooth': 'smoothMovingAvg', 'window_len': (14.203200000000002, 19.884480000000003)}\n",
      "after :  {'high': (0.1387661184, 0.18502149119999997), 'low': (0.010054217142857143, 0.01340562285714286), 'smooth': 'smoothMovingAvg', 'window_len': (15.095972571428575, 20.127963428571434)}\n",
      "after :  {'high': (0.14570442431999997, 0.18733425983999996), 'low': (0.011143424000000002, 0.01432725942857143), 'smooth': 'smoothMovingAvg', 'window_len': (13.208976000000003, 16.982969142857147)}\n",
      "Vacuum_cleaner {'high': 0.16651934207999997, 'low': 0.012735341714285716, 'smooth': 'smoothMovingAvg', 'window_len': 15.095972571428575} 0.6627906976744186\n"
     ]
    },
    {
     "data": {
      "application/vnd.jupyter.widget-view+json": {
       "model_id": "165c979e5a8048efbd0ca3ccc68ac9fb",
       "version_major": 2,
       "version_minor": 0
      },
      "text/plain": [
       "HBox(children=(IntProgress(value=0, max=1728), HTML(value='')))"
      ]
     },
     "metadata": {},
     "output_type": "display_data"
    },
    {
     "name": "stdout",
     "output_type": "stream",
     "text": [
      "after :  {'high': (0.01, 0.804), 'low': (0.01, 0.41200000000000003), 'smooth': 'smoothMovingAvg', 'window_len': (3, 6.0)}\n",
      "after :  {'high': (0.1638, 0.4914), 'low': (0.1256, 0.37679999999999997), 'smooth': 'smoothMovingAvg', 'window_len': (3, 9.0)}\n",
      "after :  {'high': (0.24024, 0.48048), 'low': (0.15071999999999997, 0.30144), 'smooth': 'smoothMovingAvg', 'window_len': (5.199999999999999, 10.4)}\n",
      "after :  {'high': (0.25225200000000003, 0.42042), 'low': (0.203472, 0.33912), 'smooth': 'smoothMovingAvg', 'window_len': (7.800000000000001, 13.0)}\n",
      "after :  {'high': (0.30942912, 0.46414368000000006), 'low': (0.18448128, 0.27672192), 'smooth': 'smoothMovingAvg', 'window_len': (6.24, 9.360000000000001)}\n",
      "after :  {'high': (0.30942912, 0.43320076800000007), 'low': (0.19985471999999999, 0.279796608), 'smooth': 'smoothMovingAvg', 'window_len': (7.28, 10.192)}\n",
      "after :  {'high': (0.3076609536, 0.41021460480000005), 'low': (0.21241701668571428, 0.2832226889142857), 'smooth': 'smoothMovingAvg', 'window_len': (7.2384, 9.651200000000001)}\n",
      "after :  {'high': (0.32304400128000005, 0.41534228736000006), 'low': (0.21064687488, 0.2708316962742857), 'smooth': 'smoothMovingAvg', 'window_len': (7.60032, 9.771840000000001)}\n",
      "Dishes {'high': 0.35893777920000003, 'low': 0.2478198528, 'smooth': 'smoothMovingAvg', 'window_len': 8.4448} 0.32902033271719044\n"
     ]
    },
    {
     "data": {
      "application/vnd.jupyter.widget-view+json": {
       "model_id": "262f65e01334405aa13c9c9ca3f15e70",
       "version_major": 2,
       "version_minor": 0
      },
      "text/plain": [
       "HBox(children=(IntProgress(value=0, max=1728), HTML(value='')))"
      ]
     },
     "metadata": {},
     "output_type": "display_data"
    },
    {
     "name": "stdout",
     "output_type": "stream",
     "text": [
      "after :  {'high': (0.01, 0.41200000000000003), 'low': (0.01, 0.02), 'smooth': 'smoothMovingAvg', 'window_len': (3, 27)}\n",
      "after :  {'high': (0.1658, 0.4974), 'low': (0.01, 0.015), 'smooth': 'smoothMovingAvg', 'window_len': (11.1, 27)}\n",
      "after :  {'high': (0.19896000000000003, 0.39792000000000005), 'low': (0.01, 0.013333333333333334), 'smooth': 'smoothMovingAvg', 'window_len': (18.0, 27)}\n",
      "after :  {'high': (0.23875200000000005, 0.39792000000000005), 'low': (0.01, 0.013333333333333332), 'smooth': 'smoothMovingAvg', 'window_len': (18.9, 27)}\n",
      "after :  {'high': (0.24193536000000004, 0.36290304000000007), 'low': (0.01, 0.012799999999999999), 'smooth': 'smoothMovingAvg', 'window_len': (21.6, 27)}\n",
      "after :  {'high': (0.26209664000000005, 0.366935296), 'low': (0.01, 0.01232), 'smooth': 'smoothMovingAvg', 'window_len': (22.5, 27)}\n",
      "after :  {'high': (0.2785712859428572, 0.37142838125714295), 'low': (0.01, 0.011958857142857143), 'smooth': 'smoothMovingAvg', 'window_len': (20.82857142857143, 27)}\n",
      "after :  {'high': (0.27624985856000006, 0.3551783895771429), 'low': (0.01, 0.011690742857142857), 'smooth': 'smoothMovingAvg', 'window_len': (23.625, 27)}\n",
      "Frying {'high': 0.31571412406857147, 'low': 0.01039177142857143, 'smooth': 'smoothMovingAvg', 'window_len': 27.0} 0.3346938775510204\n"
     ]
    },
    {
     "data": {
      "application/vnd.jupyter.widget-view+json": {
       "model_id": "09bd23d5b1354df787f346c33d26b136",
       "version_major": 2,
       "version_minor": 0
      },
      "text/plain": [
       "HBox(children=(IntProgress(value=0, max=1728), HTML(value='')))"
      ]
     },
     "metadata": {},
     "output_type": "display_data"
    },
    {
     "name": "stdout",
     "output_type": "stream",
     "text": [
      "after :  {'high': (0.01, 0.41200000000000003), 'low': (0.01, 0.02), 'smooth': 'smoothMovingAvg', 'window_len': (3, 27)}\n",
      "after :  {'high': (0.0452, 0.1356), 'low': (0.01, 0.018000000000000002), 'smooth': 'smoothMovingAvg', 'window_len': (8.7, 26.099999999999998)}\n",
      "after :  {'high': (0.05424, 0.10848000000000001), 'low': (0.01, 0.015466666666666668), 'smooth': 'smoothMovingAvg', 'window_len': (8.120000000000001, 16.24)}\n",
      "after :  {'high': (0.06508800000000001, 0.10848), 'low': (0.01, 0.015233333333333335), 'smooth': 'smoothMovingAvg', 'window_len': (10.962, 18.27)}\n",
      "after :  {'high': (0.07984127999999999, 0.11976192), 'low': (0.01, 0.014512), 'smooth': 'smoothMovingAvg', 'window_len': (13.44672, 20.17008)}\n",
      "after :  {'high': (0.07984127999999999, 0.11177779199999999), 'low': (0.010589333333333333, 0.014825066666666668), 'smooth': 'smoothMovingAvg', 'window_len': (12.326159999999998, 17.256624)}\n",
      "after :  {'high': (0.08485987474285712, 0.11314649965714284), 'low': (0.01, 0.013070262857142856), 'smooth': 'smoothMovingAvg', 'window_len': (10.565279999999998, 14.087039999999998)}\n",
      "after :  {'high': (0.08415270911999997, 0.10819634029714284), 'low': (0.011436479999999999, 0.014704045714285713), 'smooth': 'smoothMovingAvg', 'window_len': (12.326159999999998, 15.847919999999998)}\n",
      "Electric_shaver_toothbrush {'high': 0.09900318719999998, 'low': 0.011436479999999999, 'smooth': 'smoothMovingAvg', 'window_len': 12.326159999999998} 0.45161290322580644\n"
     ]
    },
    {
     "data": {
      "application/vnd.jupyter.widget-view+json": {
       "model_id": "dbd0f6d813304b79851c5b3042aaeef9",
       "version_major": 2,
       "version_minor": 0
      },
      "text/plain": [
       "HBox(children=(IntProgress(value=0, max=1728), HTML(value='')))"
      ]
     },
     "metadata": {},
     "output_type": "display_data"
    },
    {
     "name": "stdout",
     "output_type": "stream",
     "text": [
      "after :  {'high': (0.01, 0.804), 'low': (0.01, 0.41200000000000003), 'smooth': 'smoothMovingAvg', 'window_len': (3, 27)}\n",
      "after :  {'high': (0.1638, 0.4914), 'low': (0.0452, 0.1356), 'smooth': 'smoothMovingAvg', 'window_len': (6.3, 18.9)}\n",
      "after :  {'high': (0.19656, 0.39311999999999997), 'low': (0.07834666666666668, 0.15669333333333335), 'smooth': 'smoothMovingAvg', 'window_len': (10.919999999999998, 21.84)}\n",
      "after :  {'high': (0.235872, 0.39312), 'low': (0.082264, 0.13710666666666668), 'smooth': 'smoothMovingAvg', 'window_len': (9.828, 16.38)}\n",
      "after :  {'high': (0.26417664, 0.39626496000000005), 'low': (0.09213568000000001, 0.13820352000000002), 'smooth': 'smoothMovingAvg', 'window_len': (11.00736, 16.51104)}\n",
      "after :  {'high': (0.26417664, 0.36984729600000005), 'low': (0.09981365333333335, 0.1397391146666667), 'smooth': 'smoothMovingAvg', 'window_len': (11.00736, 15.410304000000002)}\n",
      "after :  {'high': (0.2807820288000001, 0.37437603840000006), 'low': (0.10608765440000002, 0.1414502058666667), 'smooth': 'smoothMovingAvg', 'window_len': (11.6992512, 15.5990016)}\n",
      "after :  {'high': (0.2784421785600001, 0.3579970867200001), 'low': (0.10520359061333336, 0.13526175936000004), 'smooth': 'smoothMovingAvg', 'window_len': (11.60175744, 14.916545280000001)}\n",
      "Blender {'high': 0.33022080000000004, 'low': 0.11516960000000001, 'smooth': 'smoothMovingAvg', 'window_len': 13.7592} 0.3937007874015748\n"
     ]
    },
    {
     "data": {
      "application/vnd.jupyter.widget-view+json": {
       "model_id": "6f4f8f3ae53d44d6bcfe82277c7531d1",
       "version_major": 2,
       "version_minor": 0
      },
      "text/plain": [
       "HBox(children=(IntProgress(value=0, max=1728), HTML(value='')))"
      ]
     },
     "metadata": {},
     "output_type": "display_data"
    },
    {
     "name": "stdout",
     "output_type": "stream",
     "text": [
      "after :  {'high': (0.01, 0.41200000000000003), 'low': (0.01, 0.02), 'smooth': 'smoothMovingAvg', 'window_len': (3, 27)}\n",
      "after :  {'high': (0.0854, 0.2562), 'low': (0.01, 0.03), 'smooth': 'smoothMovingAvg', 'window_len': (13.5, 27)}\n",
      "after :  {'high': (0.12525333333333333, 0.25050666666666666), 'low': (0.014666666666666665, 0.029333333333333333), 'smooth': 'smoothMovingAvg', 'window_len': (18.0, 27)}\n",
      "after :  {'high': (0.131516, 0.21919333333333332), 'low': (0.0154, 0.025666666666666667), 'smooth': 'smoothMovingAvg', 'window_len': (20.25, 27)}\n",
      "after :  {'high': (0.14729792, 0.22094687999999998), 'low': (0.017248, 0.025872), 'smooth': 'smoothMovingAvg', 'window_len': (21.6, 27)}\n",
      "after :  {'high': (0.14729791999999997, 0.206217088), 'low': (0.014373333333333333, 0.020122666666666667), 'smooth': 'smoothMovingAvg', 'window_len': (22.5, 27)}\n",
      "after :  {'high': (0.1565566464, 0.20874219519999998), 'low': (0.0142912, 0.019054933333333333), 'smooth': 'smoothMovingAvg', 'window_len': (23.142857142857142, 27)}\n",
      "after :  {'high': (0.16438447872, 0.21135147263999998), 'low': (0.013338453333333333, 0.017149440000000002), 'smooth': 'smoothMovingAvg', 'window_len': (23.625, 27)}\n",
      "Running_water {'high': 0.1826494208, 'low': 0.016673066666666667, 'smooth': 'smoothMovingAvg', 'window_len': 27.0} 0.30962343096234307\n"
     ]
    }
   ],
   "source": [
    "# Perform the optimization ON TEST\n",
    "# Create the optimizer\n",
    "optimizer = DichotomicOptimizer(\n",
    "    {\n",
    "        \"high\": (0.01, 0.99),\n",
    "        \"low\": (0.01, 0.99),\n",
    "        \"smooth\": \"smoothMovingAvg\",\n",
    "        \"window_len\": (3, 27)\n",
    "    },\n",
    "    \n",
    "    encoder = encoder,\n",
    "    step = 6,\n",
    "    nb_recurse = 8,\n",
    "    nb_process = 24\n",
    ")\n",
    "\n",
    "class_wise_results = class_wise_optimization(\n",
    "    optimizer,\n",
    "    class_list,\n",
    "    method=\"hysteresis\",\n",
    "    strong_y_true=str_strong_y_true,\n",
    "    strong_pred=strong_probs_3d_array,\n",
    "    filenames=wav_lst_validation\n",
    ")"
   ]
  },
  {
   "cell_type": "code",
   "execution_count": 51,
   "metadata": {
    "ExecuteTime": {
     "end_time": "2019-06-09T13:39:43.126921Z",
     "start_time": "2019-06-09T13:39:36.130798Z"
    }
   },
   "outputs": [
    {
     "name": "stdout",
     "output_type": "stream",
     "text": [
      "Event based metrics (onset-offset)\n",
      "========================================\n",
      "  Evaluated length                  : 10161.15 sec\n",
      "  Evaluated files                   : 1122 \n",
      "  Evaluate onset                    : True \n",
      "  Evaluate offset                   : True \n",
      "  T collar                          : 200.00 ms\n",
      "  Offset (length)                   : 20.00 %\n",
      "\n",
      "  Overall metrics (micro-average)\n",
      "  ======================================\n",
      "  F-measure\n",
      "    F-measure (F1)                  : 38.41 %\n",
      "    Precision                       : 41.52 %\n",
      "    Recall                          : 35.74 %\n",
      "  Error rate\n",
      "    Error rate (ER)                 : 1.11 \n",
      "    Substitution rate               : 0.03 \n",
      "    Deletion rate                   : 0.61 \n",
      "    Insertion rate                  : 0.47 \n",
      "\n",
      "  Class-wise average metrics (macro-average)\n",
      "  ======================================\n",
      "  F-measure\n",
      "    F-measure (F1)                  : 40.19 %\n",
      "    Precision                       : 41.03 %\n",
      "    Recall                          : 41.51 %\n",
      "  Error rate\n",
      "    Error rate (ER)                 : 1.24 \n",
      "    Deletion rate                   : 0.58 \n",
      "    Insertion rate                  : 0.66 \n",
      "  \n",
      "\n",
      "  Class-wise metrics\n",
      "  ======================================\n",
      "    Event label  | Nref    Nsys  | F        Pre      Rec    | ER       Del      Ins    |\n",
      "    ------------ | -----   ----- | ------   ------   ------ | ------   ------   ------ |\n",
      "    Alarm_bell.. | 418     329   | 46.9%    53.2%    41.9%  | 0.95     0.58     0.37   |\n",
      "    Blender      | 96      158   | 39.4%    31.6%    52.1%  | 1.60     0.48     1.12   |\n",
      "    Cat          | 340     254   | 45.5%    53.1%    39.7%  | 0.95     0.60     0.35   |\n",
      "    Dishes       | 492     590   | 32.9%    30.2%    36.2%  | 1.48     0.64     0.84   |\n",
      "    Dog          | 577     322   | 19.1%    26.7%    14.9%  | 1.26     0.85     0.41   |\n",
      "    Electric_s.. | 65      90    | 45.2%    38.9%    53.8%  | 1.31     0.46     0.85   |\n",
      "    Frying       | 91      154   | 33.5%    26.6%    45.1%  | 1.79     0.55     1.24   |\n",
      "    Running_wa.. | 230     248   | 31.0%    29.8%    32.2%  | 1.43     0.68     0.76   |\n",
      "    Speech       | 1662    1272  | 42.3%    48.8%    37.4%  | 1.02     0.63     0.39   |\n",
      "    Vacuum_cle.. | 92      80    | 66.3%    71.2%    62.0%  | 0.63     0.38     0.25   |\n",
      "\n",
      "\n"
     ]
    }
   ],
   "source": [
    "# check test\n",
    "best_parameters = get_class_dependant_parameters(class_wise_results, class_list)\n",
    "\n",
    "segments = encoder.encode(\n",
    "    strong_probs_3d_array,\n",
    "    method=\"hysteresis\",\n",
    "    **best_parameters\n",
    ")\n",
    "to_evaluate = encoder.parse(segments, wav_lst_validation)\n",
    "evaluator = eb_evaluator(str_strong_y_true, to_evaluate)\n",
    "print(evaluator)"
   ]
  },
  {
   "cell_type": "code",
   "execution_count": 52,
   "metadata": {
    "ExecuteTime": {
     "end_time": "2019-06-09T13:40:10.270117Z",
     "start_time": "2019-06-09T13:39:43.129647Z"
    }
   },
   "outputs": [
    {
     "name": "stdout",
     "output_type": "stream",
     "text": [
      "Segment based metrics\n",
      "========================================\n",
      "  Evaluated length                  : 10562.88 sec\n",
      "  Evaluated files                   : 1122 \n",
      "  Segment length                    : 1.00 sec\n",
      "\n",
      "  Overall metrics (micro-average)\n",
      "  ======================================\n",
      "  F-measure\n",
      "    F-measure (F1)                  : 67.77 %\n",
      "    Precision                       : 68.38 %\n",
      "    Recall                          : 67.17 %\n",
      "  Error rate\n",
      "    Error rate (ER)                 : 0.51 \n",
      "    Substitution rate               : 0.13 \n",
      "    Deletion rate                   : 0.20 \n",
      "    Insertion rate                  : 0.18 \n",
      "  Accuracy\n",
      "    Sensitivity                     : 67.17 %\n",
      "    Specificity                     : 96.57 %\n",
      "    Balanced accuracy               : 81.87 %\n",
      "    Accuracy                        : 93.65 %\n",
      "\n",
      "  Class-wise average metrics (macro-average)\n",
      "  ======================================\n",
      "  F-measure\n",
      "    F-measure (F1)                  : 62.18 %\n",
      "    Precision                       : 64.71 %\n",
      "    Recall                          : 64.13 %\n",
      "  Error rate\n",
      "    Error rate (ER)                 : 0.78 \n",
      "    Deletion rate                   : 0.36 \n",
      "    Insertion rate                  : 0.42 \n",
      "  Accuracy\n",
      "    Sensitivity                     : 64.13 %\n",
      "    Specificity                     : 96.56 %\n",
      "    Balanced accuracy               : 80.35 %\n",
      "    Accuracy                        : 93.65 %\n",
      "  \n",
      "\n",
      "  Class-wise metrics\n",
      "  ======================================\n",
      "    Event label  | Nref    Nsys  | F        Pre      Rec    | ER       Del      Ins    | Sens     Spec     Bacc     Acc     \n",
      "    ------------ | -----   ----- | ------   ------   ------ | ------   ------   ------ | ------   ------   ------   ------  \n",
      "    Alarm_bell.. | 1052    982   | 79.9%    82.8%    77.3%  | 0.39     0.23     0.16   | 77.3%    98.3%    87.8%    96.3%   \n",
      "    Blender      | 538     770   | 52.6%    44.7%    63.9%  | 1.15     0.36     0.79   | 63.9%    96.0%    80.0%    94.4%   \n",
      "    Cat          | 723     502   | 55.7%    67.9%    47.2%  | 0.75     0.53     0.22   | 47.2%    98.5%    72.8%    95.1%   \n",
      "    Dishes       | 648     743   | 52.9%    49.5%    56.8%  | 1.01     0.43     0.58   | 56.8%    96.4%    76.6%    94.1%   \n",
      "    Dog          | 1131    414   | 45.6%    85.0%    31.1%  | 0.74     0.69     0.05   | 31.1%    99.4%    65.3%    92.4%   \n",
      "    Electric_s.. | 522     682   | 62.3%    55.0%    71.8%  | 0.87     0.28     0.59   | 71.8%    97.1%    84.5%    95.9%   \n",
      "    Frying       | 764     1212  | 58.4%    47.6%    75.5%  | 1.08     0.24     0.83   | 75.5%    93.9%    84.7%    92.6%   \n",
      "    Running_wa.. | 1368    1769  | 61.8%    54.8%    70.9%  | 0.88     0.29     0.58   | 70.9%    91.8%    81.4%    89.2%   \n",
      "    Speech       | 3518    2982  | 84.3%    91.9%    77.9%  | 0.29     0.22     0.07   | 77.9%    96.8%    87.4%    90.9%   \n",
      "    Vacuum_cle.. | 801     813   | 68.3%    67.8%    68.8%  | 0.64     0.31     0.33   | 68.8%    97.5%    83.1%    95.4%   \n",
      "\n",
      "\n"
     ]
    }
   ],
   "source": [
    "sb_evaluator = sb_evaluator(str_strong_y_true, to_evaluate, time_resolution=1.0)\n",
    "print(sb_evaluator)"
   ]
  },
  {
   "cell_type": "code",
   "execution_count": 58,
   "metadata": {
    "ExecuteTime": {
     "end_time": "2019-06-09T22:05:16.999010Z",
     "start_time": "2019-06-09T22:05:16.990530Z"
    }
   },
   "outputs": [
    {
     "data": {
      "text/plain": [
       "{'high': [0.5271356757333334,\n",
       "  0.5482846720000001,\n",
       "  0.6946368,\n",
       "  0.4772119256177777,\n",
       "  0.16651934207999997,\n",
       "  0.35893777920000003,\n",
       "  0.31571412406857147,\n",
       "  0.09900318719999998,\n",
       "  0.33022080000000004,\n",
       "  0.1826494208],\n",
       " 'low': [0.21875972906666663,\n",
       "  0.99,\n",
       "  0.589248,\n",
       "  0.3948645229714285,\n",
       "  0.012735341714285716,\n",
       "  0.2478198528,\n",
       "  0.01039177142857143,\n",
       "  0.011436479999999999,\n",
       "  0.11516960000000001,\n",
       "  0.016673066666666667],\n",
       " 'smooth': 'smoothMovingAvg',\n",
       " 'window_len': [8.4351488,\n",
       "  12.818488320000004,\n",
       "  7.840800000000001,\n",
       "  24.36090624,\n",
       "  15.095972571428575,\n",
       "  8.4448,\n",
       "  27.0,\n",
       "  12.326159999999998,\n",
       "  13.7592,\n",
       "  27.0]}"
      ]
     },
     "execution_count": 58,
     "metadata": {},
     "output_type": "execute_result"
    }
   ],
   "source": [
    "best_parameters"
   ]
  },
  {
   "cell_type": "code",
   "execution_count": null,
   "metadata": {},
   "outputs": [],
   "source": []
  },
  {
   "cell_type": "code",
   "execution_count": 57,
   "metadata": {
    "ExecuteTime": {
     "end_time": "2019-06-09T22:05:07.618890Z",
     "start_time": "2019-06-09T22:05:07.495592Z"
    }
   },
   "outputs": [],
   "source": [
    "# pickle.dump(best_parameters, open('models/models_train_synthetic/osirim_dcase19.90-0.1650-0.3258/HYSTERESIS_params.pkl', \"wb\"))\n",
    "pickle.dump(best_parameters, open('models/models_train_synthetic/osirim_dcase19.90-0.1658-0.3292/HYSTERESIS_params.pkl', \"wb\"))"
   ]
  },
  {
   "cell_type": "markdown",
   "metadata": {},
   "source": [
    "# Eval subset"
   ]
  },
  {
   "cell_type": "code",
   "execution_count": 59,
   "metadata": {
    "ExecuteTime": {
     "end_time": "2019-06-09T22:15:17.026129Z",
     "start_time": "2019-06-09T22:09:23.936677Z"
    }
   },
   "outputs": [
    {
     "name": "stdout",
     "output_type": "stream",
     "text": [
      "207/207 [==============================] - 353s 2s/step\n"
     ]
    }
   ],
   "source": [
    "nb_steps_eval = 207\n",
    "eval_probs = model1.predict_generator(generator=eval_generator,\n",
    "    steps=nb_steps_eval,\n",
    "    use_multiprocessing=True,\n",
    "#     workers=os.cpu_count(),\n",
    "    workers=10,\n",
    "    max_queue_size=10,\n",
    "    verbose=1)\n",
    "\n"
   ]
  },
  {
   "cell_type": "code",
   "execution_count": 60,
   "metadata": {
    "ExecuteTime": {
     "end_time": "2019-06-09T22:16:24.458150Z",
     "start_time": "2019-06-09T22:16:24.447791Z"
    }
   },
   "outputs": [
    {
     "data": {
      "text/plain": [
       "(13248, 10)"
      ]
     },
     "execution_count": 60,
     "metadata": {},
     "output_type": "execute_result"
    }
   ],
   "source": [
    "eval_probs[1].shape"
   ]
  },
  {
   "cell_type": "code",
   "execution_count": 61,
   "metadata": {
    "ExecuteTime": {
     "end_time": "2019-06-09T22:16:27.677506Z",
     "start_time": "2019-06-09T22:16:27.667253Z"
    }
   },
   "outputs": [
    {
     "data": {
      "text/plain": [
       "((13190, 431, 10), (13190, 10))"
      ]
     },
     "execution_count": 61,
     "metadata": {},
     "output_type": "execute_result"
    }
   ],
   "source": [
    "nb_files=13190\n",
    "# nb_files=1058\n",
    "\n",
    "eval_probs[0] = eval_probs[0][:nb_files]\n",
    "eval_probs[1] = eval_probs[1][:nb_files]\n",
    "eval_probs[0].shape, eval_probs[1].shape"
   ]
  },
  {
   "cell_type": "code",
   "execution_count": 62,
   "metadata": {
    "ExecuteTime": {
     "end_time": "2019-06-09T22:16:41.342624Z",
     "start_time": "2019-06-09T22:16:31.185590Z"
    }
   },
   "outputs": [],
   "source": [
    "# np.savez('models/models_train_synthetic/osirim_dcase19.90-0.1650-0.3258/eval_probs_AT_strong_13190files.npz', {'AT': eval_probs[0], 'loc':eval_probs[1]})\n",
    "np.savez('models/models_train_synthetic/osirim_dcase19.90-0.1658-0.3292/eval_probs_AT_strong_13190files.npz', {'AT': eval_probs[0], 'loc':eval_probs[1]})\n",
    "\n"
   ]
  },
  {
   "cell_type": "code",
   "execution_count": 63,
   "metadata": {
    "ExecuteTime": {
     "end_time": "2019-06-09T22:16:43.974496Z",
     "start_time": "2019-06-09T22:16:43.961993Z"
    }
   },
   "outputs": [],
   "source": [
    "X_eval_pred_1_bin = eval_probs[1].copy()\n",
    "\n",
    "X_eval_pred_1_bin[X_eval_pred_1_bin > best_threshold] = 1\n",
    "X_eval_pred_1_bin[X_eval_pred_1_bin <= best_threshold] = 0"
   ]
  },
  {
   "cell_type": "code",
   "execution_count": 64,
   "metadata": {
    "ExecuteTime": {
     "end_time": "2019-06-09T22:16:45.968302Z",
     "start_time": "2019-06-09T22:16:45.139231Z"
    }
   },
   "outputs": [
    {
     "name": "stdout",
     "output_type": "stream",
     "text": [
      "with opti\n"
     ]
    }
   ],
   "source": [
    "print('with opti')\n",
    "dico_prob_curves = get_prob_curves_for_predicted_classes(X_eval_pred_1_bin, \n",
    "                                                         eval_probs[0], \n",
    "                                                         wav_lst_evaluation, \n",
    "                                                         class_correspondance_reverse)"
   ]
  },
  {
   "cell_type": "code",
   "execution_count": 65,
   "metadata": {
    "ExecuteTime": {
     "end_time": "2019-06-09T22:17:48.482155Z",
     "start_time": "2019-06-09T22:17:48.126087Z"
    }
   },
   "outputs": [
    {
     "data": {
      "text/plain": [
       "(13190, 431, 10)"
      ]
     },
     "execution_count": 65,
     "metadata": {},
     "output_type": "execute_result"
    }
   ],
   "source": [
    "strong_probs_3d_array = from_strong_probs_dict_2_strong_probs_3d_array(dico_prob_curves, wav_lst_evaluation)\n",
    "strong_probs_3d_array.shape"
   ]
  },
  {
   "cell_type": "code",
   "execution_count": 67,
   "metadata": {
    "ExecuteTime": {
     "end_time": "2019-06-09T22:19:34.897013Z",
     "start_time": "2019-06-09T22:18:58.582356Z"
    }
   },
   "outputs": [],
   "source": [
    "segments = encoder.encode(\n",
    "    strong_probs_3d_array,\n",
    "    method=\"hysteresis\",\n",
    "    **best_parameters\n",
    ")\n",
    "to_evaluate = encoder.parse(segments, wav_lst_evaluation)"
   ]
  },
  {
   "cell_type": "code",
   "execution_count": 69,
   "metadata": {
    "ExecuteTime": {
     "end_time": "2019-06-09T22:21:40.373331Z",
     "start_time": "2019-06-09T22:21:40.228015Z"
    }
   },
   "outputs": [],
   "source": [
    "with open(\"models/models_train_synthetic/osirim_dcase19.90-0.1658-0.3292/eval_preds_str.csv\", \"w\") as f:                    \n",
    "    f.write(\"filename\\tonset\\toffset\\tevent_label\\n\") \n",
    "    f.write(to_evaluate)   \n"
   ]
  },
  {
   "cell_type": "code",
   "execution_count": null,
   "metadata": {},
   "outputs": [],
   "source": []
  }
 ],
 "metadata": {
  "kernelspec": {
   "display_name": "Python 3",
   "language": "python",
   "name": "python3"
  },
  "language_info": {
   "codemirror_mode": {
    "name": "ipython",
    "version": 3
   },
   "file_extension": ".py",
   "mimetype": "text/x-python",
   "name": "python",
   "nbconvert_exporter": "python",
   "pygments_lexer": "ipython3",
   "version": "3.6.2"
  },
  "toc": {
   "nav_menu": {},
   "number_sections": true,
   "sideBar": true,
   "skip_h1_title": false,
   "toc_cell": true,
   "toc_position": {},
   "toc_section_display": "block",
   "toc_window_display": false
  }
 },
 "nbformat": 4,
 "nbformat_minor": 2
}
