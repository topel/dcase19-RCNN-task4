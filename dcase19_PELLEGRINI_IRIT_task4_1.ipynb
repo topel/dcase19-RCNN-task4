{
 "cells": [
  {
   "cell_type": "markdown",
   "metadata": {
    "toc": true
   },
   "source": [
    "<h1>Table of Contents<span class=\"tocSkip\"></span></h1>\n",
    "<div class=\"toc\" style=\"margin-top: 1em;\"><ul class=\"toc-item\"><li><span><a href=\"#Overview\" data-toc-modified-id=\"Overview-1\"><span class=\"toc-item-num\">1&nbsp;&nbsp;</span>Overview</a></span><ul class=\"toc-item\"><li><span><a href=\"#Dependencies\" data-toc-modified-id=\"Dependencies-1.1\"><span class=\"toc-item-num\">1.1&nbsp;&nbsp;</span>Dependencies</a></span></li><li><span><a href=\"#How-to-use-this-notebook\" data-toc-modified-id=\"How-to-use-this-notebook-1.2\"><span class=\"toc-item-num\">1.2&nbsp;&nbsp;</span>How to use this notebook</a></span></li></ul></li><li><span><a href=\"#Imports\" data-toc-modified-id=\"Imports-2\"><span class=\"toc-item-num\">2&nbsp;&nbsp;</span>Imports</a></span></li><li><span><a href=\"#Load-data\" data-toc-modified-id=\"Load-data-3\"><span class=\"toc-item-num\">3&nbsp;&nbsp;</span>Load data</a></span></li><li><span><a href=\"#Generator-weak-+-strong\" data-toc-modified-id=\"Generator-weak-+-strong-4\"><span class=\"toc-item-num\">4&nbsp;&nbsp;</span>Generator weak + strong</a></span><ul class=\"toc-item\"><li><span><a href=\"#definition\" data-toc-modified-id=\"definition-4.1\"><span class=\"toc-item-num\">4.1&nbsp;&nbsp;</span>definition</a></span></li><li><span><a href=\"#instances\" data-toc-modified-id=\"instances-4.2\"><span class=\"toc-item-num\">4.2&nbsp;&nbsp;</span>instances</a></span></li></ul></li><li><span><a href=\"#Custom-loss-function\" data-toc-modified-id=\"Custom-loss-function-5\"><span class=\"toc-item-num\">5&nbsp;&nbsp;</span>Custom loss function</a></span></li><li><span><a href=\"#New-model-definition\" data-toc-modified-id=\"New-model-definition-6\"><span class=\"toc-item-num\">6&nbsp;&nbsp;</span>New model definition</a></span></li><li><span><a href=\"#Training\" data-toc-modified-id=\"Training-7\"><span class=\"toc-item-num\">7&nbsp;&nbsp;</span>Training</a></span></li><li><span><a href=\"#Load-a-pre-trained-model-from-weights-h5-file\" data-toc-modified-id=\"Load-a-pre-trained-model-from-weights-h5-file-8\"><span class=\"toc-item-num\">8&nbsp;&nbsp;</span>Load a pre-trained model from weights h5 file</a></span></li><li><span><a href=\"#Plot-predictions-on-a-&quot;Dog-Speech&quot;-file-Y-dDpGRPHzM0_30.000_40.000.wav\" data-toc-modified-id=\"Plot-predictions-on-a-&quot;Dog-Speech&quot;-file-Y-dDpGRPHzM0_30.000_40.000.wav-9\"><span class=\"toc-item-num\">9&nbsp;&nbsp;</span>Plot predictions on a \"Dog-Speech\" file Y-dDpGRPHzM0_30.000_40.000.wav</a></span></li><li><span><a href=\"#Audio-Tagging-on-the-Validation-subset\" data-toc-modified-id=\"Audio-Tagging-on-the-Validation-subset-10\"><span class=\"toc-item-num\">10&nbsp;&nbsp;</span>Audio Tagging on the Validation subset</a></span><ul class=\"toc-item\"><li><span><a href=\"#AT-threshold-optimization-...\" data-toc-modified-id=\"AT-threshold-optimization-...-10.1\"><span class=\"toc-item-num\">10.1&nbsp;&nbsp;</span>AT threshold optimization ...</a></span></li><li><span><a href=\"#...-or-load-saved-best-thresholds\" data-toc-modified-id=\"...-or-load-saved-best-thresholds-10.2\"><span class=\"toc-item-num\">10.2&nbsp;&nbsp;</span>... or load saved best thresholds</a></span></li><li><span><a href=\"#Apply-optimized-AT-thresholds-on-the-validation-predictions\" data-toc-modified-id=\"Apply-optimized-AT-thresholds-on-the-validation-predictions-10.3\"><span class=\"toc-item-num\">10.3&nbsp;&nbsp;</span>Apply optimized AT thresholds on the validation predictions</a></span></li></ul></li><li><span><a href=\"#Audio-event-localization-on-the-Validation-subset:-threshold-optimization\" data-toc-modified-id=\"Audio-event-localization-on-the-Validation-subset:-threshold-optimization-11\"><span class=\"toc-item-num\">11&nbsp;&nbsp;</span>Audio event localization on the Validation subset: threshold optimization</a></span><ul class=\"toc-item\"><li><span><a href=\"#Method-1:-absolute-threshold,-not-the-best-results,-best-results-with-hysteresis-(see-below)\" data-toc-modified-id=\"Method-1:-absolute-threshold,-not-the-best-results,-best-results-with-hysteresis-(see-below)-11.1\"><span class=\"toc-item-num\">11.1&nbsp;&nbsp;</span>Method 1: absolute threshold, not the best results, best results with hysteresis (see below)</a></span></li><li><span><a href=\"#Method-2:-hysteresis,-the-best-one-but-the-optimization-takes-several-hours-...\" data-toc-modified-id=\"Method-2:-hysteresis,-the-best-one-but-the-optimization-takes-several-hours-...-11.2\"><span class=\"toc-item-num\">11.2&nbsp;&nbsp;</span>Method 2: hysteresis, the best one but the optimization takes several hours ...</a></span></li><li><span><a href=\"#...-or-load-pre-optimized-best-parameters-for-hysteresis\" data-toc-modified-id=\"...-or-load-pre-optimized-best-parameters-for-hysteresis-11.3\"><span class=\"toc-item-num\">11.3&nbsp;&nbsp;</span>... or load pre-optimized best parameters for hysteresis</a></span></li><li><span><a href=\"#Evaluate-on-the-validation-subset\" data-toc-modified-id=\"Evaluate-on-the-validation-subset-11.4\"><span class=\"toc-item-num\">11.4&nbsp;&nbsp;</span>Evaluate on the validation subset</a></span></li></ul></li><li><span><a href=\"#Make-a-submission-on-the-Evaluation-subset\" data-toc-modified-id=\"Make-a-submission-on-the-Evaluation-subset-12\"><span class=\"toc-item-num\">12&nbsp;&nbsp;</span>Make a submission on the Evaluation subset</a></span></li></ul></div>"
   ]
  },
  {
   "cell_type": "markdown",
   "metadata": {},
   "source": [
    "Authors:\n",
    "\n",
    "- Thomas Pellegrini, thomas.pellegrini@irit.fr\n",
    "- Leo Cances, leo.cances@irit.fr\n",
    "\n",
    "June 2019\n",
    "\n",
    "\n",
    "If you use this code, please consider citing:\n",
    "\n",
    "Leo Cances, Patrice Guyot, Thomas Pellegrini. Multi-task learning and post processing optimization for sound event detection. Technical Report, DCASE 2019, http://dcase.community/documents/challenge2019/technical_reports/DCASE2019_Cances_69.pdf\n",
    "\n",
    "\n",
    "Leo Cances, Patrice Guyot, Thomas Pellegrini. Evaluation of post-processing algorithms for polyphonic sound event detection. arXiv:1906.06909\n",
    "\n"
   ]
  },
  {
   "cell_type": "markdown",
   "metadata": {
    "heading_collapsed": true
   },
   "source": [
    "# Overview"
   ]
  },
  {
   "cell_type": "markdown",
   "metadata": {
    "hidden": true
   },
   "source": [
    "This notebook is intended to reproduce the PELLEGRINI_IRIT_task4_1 submission to DCASE-2019 task 4 challenge.\n",
    "\n",
    "Event-based F-score: \n",
    "- Eval dataset: 39.7% (40.9% in this notebook) \n",
    "- Development dataset: 39,9%\n",
    "\n",
    "Besides this notebook and the original python script used to obtain our models, we provide the model weights, the optimized thresholds for tagging and localization in this repo too.\n",
    "\n",
    "The submission to the challenge was made with a single small RCNN model (about 165k params).\n",
    "\n",
    "The model has been trained on the weak and synthetic training datasets with binary cross-entropy, respectively at recording-level for both subsets and at frame-level for the synthetic subset that provides strong labels.\n",
    "\n",
    "Class-dependent thresholds are optimized on the validation for:\n",
    " \n",
    " - audio tagging with a genetic-like algorithm,\n",
    " - event localization using a hysteresis thresholding method (a high and a low thresholds for each class).\n",
    " \n",
    "Large performance gains are obtained thank to the two threshold optimizations.\n",
    "\n",
    "There is still a large room for improvement, in particular regarding the audio tagging capability of this small model...\n",
    "\n",
    "Furthermore, the unlabeled in-domain subset was not used."
   ]
  },
  {
   "cell_type": "markdown",
   "metadata": {
    "hidden": true
   },
   "source": [
    "## Dependencies"
   ]
  },
  {
   "cell_type": "markdown",
   "metadata": {
    "hidden": true
   },
   "source": [
    "- sklearn\n",
    "- scipy\n",
    "- librosa\n",
    "- jams: https://github.com/marl/jams\n",
    "- muda: https://github.com/bmcfee/muda\n",
    "- dcase_util\n",
    "- keras\n",
    "- tensorflow\n",
    "\n",
    "Remark: jams and muda can be replaced by librosa only if you want to use librosa time and frequency shifting routines instead of muda's ones.\n",
    "\n",
    "We created a toolbox with functions aiming at optimizing decision thresholds:\n",
    "\n",
    "- sed_tool\n",
    "\n",
    "To install it, run a cell with this snippet:\n",
    "\n",
    "    !pip install -i https://test.pypi.org/simple sed_tool\n",
    "    "
   ]
  },
  {
   "cell_type": "markdown",
   "metadata": {
    "hidden": true
   },
   "source": [
    "## How to use this notebook"
   ]
  },
  {
   "cell_type": "markdown",
   "metadata": {
    "hidden": true
   },
   "source": [
    "You can either run it cell by cell in a linear way or you can load our model and the two sets of optimized thresholds to directly make predictions and evaluate it on the validation subset.\n",
    "\n",
    "As described in the \"Load data\" section, we provide links to the wav file lists and the corresponding waveform dictionaries to ease data loading.\n",
    "\n",
    "Nota Bene: \n",
    "\n",
    "- The optimization of the AT thresholds is fast (1 min) thank to a simulated annealing approach to do it.\n",
    "\n",
    "- The optimization of the hysteresis parameters for event localization is much longer (about 7 hours) since we optimize the smoothing window length, the low and high hysteresis thresholds, which results in a combinatory search.\n"
   ]
  },
  {
   "cell_type": "markdown",
   "metadata": {
    "heading_collapsed": true
   },
   "source": [
    "# Imports"
   ]
  },
  {
   "cell_type": "code",
   "execution_count": 1,
   "metadata": {
    "ExecuteTime": {
     "end_time": "2019-07-03T12:13:50.125484Z",
     "start_time": "2019-07-03T12:13:45.933680Z"
    },
    "hidden": true
   },
   "outputs": [],
   "source": [
    "import numpy as np\n",
    "import matplotlib.pyplot as plt\n",
    "import matplotlib.cm as cm\n",
    "from mpl_toolkits.axes_grid1 import make_axes_locatable\n",
    "\n",
    "import librosa\n",
    "import muda\n",
    "import jams\n",
    "\n",
    "import os \n",
    "\n",
    "from scipy.misc import imresize\n",
    "\n",
    "import sklearn as sk\n",
    "from sklearn.metrics import confusion_matrix, accuracy_score, f1_score, precision_recall_fscore_support\n",
    "\n",
    "import pickle\n",
    "\n",
    "from dcase_util.containers import MetaDataContainer\n",
    "\n",
    "from sed_tool.optimizers import DichotomicOptimizer\n",
    "from sed_tool.Encoder import Encoder\n",
    "# from sed_tool.sed_tools import event_based_evaluation\n",
    "from sed_tool.sed_tools import eb_evaluator, sb_evaluator\n",
    "\n",
    "import dcase_util as dcu\n",
    "\n",
    "import tqdm\n"
   ]
  },
  {
   "cell_type": "code",
   "execution_count": 2,
   "metadata": {
    "ExecuteTime": {
     "end_time": "2019-07-03T12:13:57.478035Z",
     "start_time": "2019-07-03T12:13:55.253921Z"
    },
    "hidden": true
   },
   "outputs": [
    {
     "name": "stderr",
     "output_type": "stream",
     "text": [
      "Using TensorFlow backend.\n"
     ]
    }
   ],
   "source": [
    "import keras \n",
    "\n",
    "from keras.models import model_from_json, load_model\n",
    "\n",
    "from keras import optimizers\n",
    "from keras.models import Model, Sequential\n",
    "from keras.layers import Input, Dense, GlobalAveragePooling2D, GlobalMaxPooling2D, Lambda, \\\n",
    "    Flatten, Dropout, Conv2D, MaxPooling2D, BatchNormalization, Activation, TimeDistributed, \\\n",
    "    GRU, Reshape, Bidirectional, GlobalAveragePooling1D, GlobalMaxPooling1D, SpatialDropout2D, \\\n",
    "    Concatenate, Multiply\n",
    "from keras import backend as K\n",
    "\n",
    "import tensorflow as tf"
   ]
  },
  {
   "cell_type": "code",
   "execution_count": 3,
   "metadata": {
    "ExecuteTime": {
     "end_time": "2019-07-03T12:13:58.201067Z",
     "start_time": "2019-07-03T12:13:58.189382Z"
    },
    "hidden": true
   },
   "outputs": [
    {
     "data": {
      "text/plain": [
       "'channels_last'"
      ]
     },
     "execution_count": 3,
     "metadata": {},
     "output_type": "execute_result"
    }
   ],
   "source": [
    "K.set_image_data_format(\"channels_last\")\n",
    "K.image_data_format()"
   ]
  },
  {
   "cell_type": "code",
   "execution_count": 4,
   "metadata": {
    "ExecuteTime": {
     "end_time": "2019-07-03T12:13:58.927814Z",
     "start_time": "2019-07-03T12:13:58.891939Z"
    },
    "hidden": true
   },
   "outputs": [],
   "source": [
    "K.clear_session()"
   ]
  },
  {
   "cell_type": "code",
   "execution_count": 5,
   "metadata": {
    "ExecuteTime": {
     "end_time": "2019-07-03T12:13:59.410000Z",
     "start_time": "2019-07-03T12:13:59.404244Z"
    },
    "hidden": true
   },
   "outputs": [],
   "source": [
    "# set seeds though this does not prevent from models to be different each time we run the script\n",
    "\n",
    "from numpy.random import seed\n",
    "seed(123) # On peut utiliser n'importe quelle nombre\n",
    "\n",
    "from tensorflow import set_random_seed\n",
    "set_random_seed(1234)"
   ]
  },
  {
   "cell_type": "markdown",
   "metadata": {
    "heading_collapsed": true
   },
   "source": [
    "# Load data"
   ]
  },
  {
   "cell_type": "markdown",
   "metadata": {
    "hidden": true
   },
   "source": [
    "We handle the four datasets (training weak, training strong synthetic, validation, and evaluation subset) with, for each one:\n",
    "    - a list of the wav file ids,\n",
    "    - a dictionary with keys being the file ids and the values the waveform signals.\n",
    "\n",
    "The unlabeled in-domain dataset was not used in this submission.\n"
   ]
  },
  {
   "cell_type": "code",
   "execution_count": 6,
   "metadata": {
    "ExecuteTime": {
     "end_time": "2019-07-03T12:15:11.414711Z",
     "start_time": "2019-07-03T12:15:11.406519Z"
    },
    "hidden": true
   },
   "outputs": [],
   "source": [
    "class_correspondance = {\"Alarm_bell_ringing\": 0, \"Speech\": 1, \"Dog\": 2, \"Cat\": 3, \"Vacuum_cleaner\": 4,\n",
    "                        \"Dishes\": 5, \"Frying\": 6, \"Electric_shaver_toothbrush\": 7, \"Blender\": 8, \"Running_water\": 9}\n",
    "\n",
    "class_correspondance_reverse = dict()\n",
    "for k in class_correspondance:\n",
    "    class_correspondance_reverse[class_correspondance[k]] = k\n",
    "\n"
   ]
  },
  {
   "cell_type": "markdown",
   "metadata": {
    "ExecuteTime": {
     "end_time": "2019-07-02T12:32:55.104816Z",
     "start_time": "2019-07-02T12:32:55.100195Z"
    },
    "hidden": true
   },
   "source": [
    "nb of files:\n",
    "- weak : 1577\n",
    "- synthetic : 2045\n",
    "- unlabeled in domain : 14405\n",
    "- validation : 1168\n",
    "\n",
    "Figures from the challenge Webpage:\n",
    "\n",
    "- weak : 1578\n",
    "- synthetic : 2045\n",
    "- unlabeled in domain : 14412\n",
    "- validation : 1168\n",
    "\n",
    "--> We are missing 1 weak and 7 unlabeled files (the unlabeled files are not used here anyway)."
   ]
  },
  {
   "cell_type": "markdown",
   "metadata": {
    "hidden": true
   },
   "source": [
    "We identified 46 files in validation that do not have any annotation --> we remove them"
   ]
  },
  {
   "cell_type": "code",
   "execution_count": 7,
   "metadata": {
    "ExecuteTime": {
     "end_time": "2019-07-03T12:15:14.249887Z",
     "start_time": "2019-07-03T12:15:14.238224Z"
    },
    "hidden": true
   },
   "outputs": [
    {
     "data": {
      "text/plain": [
       "46"
      ]
     },
     "execution_count": 7,
     "metadata": {},
     "output_type": "execute_result"
    }
   ],
   "source": [
    "validation_to_remove = ['Y0IxyUtHw6Ec_0.000_10.000.wav','Y-jLujkP1aaw_30.000_40.000.wav','Y9nNBz3phufo_40.000_50.000.wav','Y6iquQAQvoUs_285.000_295.000.wav','YzCdOEvduBTo_30.000_40.000.wav','YSRYarmLDPwc_204.000_214.000.wav','YT9v5TB7J6Ak_268.000_278.000.wav','Y2KbRYZ3Cp_c_149.000_159.000.wav','Y5iARe0XPQdg_95.000_105.000.wav','YmAg1_aL-fCY_30.000_40.000.wav','YOvK__OSdpJQ_74.000_84.000.wav','YNGgpSWcaV1U_63.000_73.000.wav','YSgTCzMs_1rA_125.000_135.000.wav','YTx_47yEnfCs_442.000_452.000.wav','YTyGA005YFXg_143.000_153.000.wav','YQ7q8xQijBCg_32.000_42.000.wav','YFxf5r3DNKXU_142.000_152.000.wav','Y8oTQbC9oDkY_27.000_37.000.wav','YAZBIHwmppHo_51.000_61.000.wav','YZfDu5aHVrAg_205.000_215.000.wav','YfS9TYqfz_Po_181.000_191.000.wav','YWBJVzaSvSsg_150.000_160.000.wav','Yn0sxrohD_TI_7.000_14.000.wav','Yt8E89lrV36A_285.000_295.000.wav','YxgQjEiwZsAk_146.000_156.000.wav','YwHk1-j5r1JU_385.000_395.000.wav','YU0Cg_t_3TdI_30.000_40.000.wav','Y70CtvdsGQf4_2.000_12.000.wav','Yc1_V2y_9KCM_369.000_379.000.wav','YY09tBEoLETY_440.000_450.000.wav','Y23R6_ppquxs_247.000_257.000.wav','Y-YwPSwhe2jo_30.000_40.000.wav','Y-RLILmQmubM_30.000_40.000.wav','YmBj0IJhv2hM_142.000_152.000.wav','YjF73O9J4KEI_30.000_40.000.wav','YuXDi40QfH9E_320.000_330.000.wav','YK1XOQR_O0aA_199.000_209.000.wav','Y-4pmCrSdMhg_30.000_40.000.wav','YQb6N3HvbmgQ_580.000_590.000.wav','Y7G4IXsu0KtU_72.000_82.000.wav','YSpVEDyy9AIY_69.000_79.000.wav','Y09kqMqn5rWs_260.000_270.000.wav','YzDULhAxsJfY_60.000_70.000.wav','YR3_Gqgl-NYE_50.000_60.000.wav','Yb8GxUkjLSUY_628.000_638.000.wav','Y86owBlJa8f0_24.000_34.000.wav']\n",
    "len(validation_to_remove)"
   ]
  },
  {
   "cell_type": "code",
   "execution_count": 8,
   "metadata": {
    "ExecuteTime": {
     "end_time": "2019-07-03T12:15:14.677692Z",
     "start_time": "2019-07-03T12:15:14.669087Z"
    },
    "hidden": true
   },
   "outputs": [],
   "source": [
    "def read_csv_list(fpath):\n",
    "    file_list = []\n",
    "    with open(fpath, 'rt') as fh:\n",
    "        for l in fh:\n",
    "            file_list.append(l.rstrip())\n",
    "\n",
    "    return file_list\n",
    "\n",
    "\n",
    "def write_csv_list(lst, fpath):\n",
    "    with open(fpath, 'wt') as fh:\n",
    "        for el in lst:\n",
    "            fh.write('%s\\n'%el)"
   ]
  },
  {
   "cell_type": "markdown",
   "metadata": {
    "hidden": true
   },
   "source": [
    "Let's load the file id lists and the waveform dictionaries.\n",
    "\n",
    "\n",
    "All the data files are available at: \n",
    "\n",
    "https://drive.google.com/drive/folders/1EnNmihEJXe8JlUFxLv1c9tDOUPgtH8OC?usp=sharing\n"
   ]
  },
  {
   "cell_type": "code",
   "execution_count": 9,
   "metadata": {
    "ExecuteTime": {
     "end_time": "2019-07-03T12:15:29.844923Z",
     "start_time": "2019-07-03T12:15:17.006583Z"
    },
    "hidden": true
   },
   "outputs": [
    {
     "name": "stdout",
     "output_type": "stream",
     "text": [
      "len(wav_lst_validation) 1122\n",
      "len(wav_lst_validation) 1122\n",
      "len(wav_lst_evaluation) 13190\n",
      "1505 2045 1122\n",
      "2045 1122\n",
      "1505 2045 1122\n",
      "13190\n",
      "3550 3550\n"
     ]
    }
   ],
   "source": [
    "# change this path accordingly\n",
    "datadir='/baie/travail/thomas/dcase2019/subsets'\n",
    "\n",
    "# wav_lst_train_weak = read_csv_list(datadir + '/' + 'subset_train_weak_1505files_wav.lst')\n",
    "wav_lst_train_weak_TRAIN = read_csv_list(datadir + '/' + 'subset_train_weak_TRAIN_1354files_wav.lst')\n",
    "wav_lst_train_weak_DEV = read_csv_list(datadir + '/' + 'subset_train_weak_DEV_151files_wav.lst')\n",
    "wav_lst_train_synthetic = read_csv_list(datadir + '/' + 'subset_train_synthetic_2045files_wav.lst')\n",
    "# wav_lst_train_uid = read_csv_list(datadir + '/' + 'subset_train_uid_14412files_wav.lst')\n",
    "wav_lst_train_weak_synthetic = wav_lst_train_weak_TRAIN + wav_lst_train_weak_DEV + wav_lst_train_synthetic\n",
    "wav_lst_validation = read_csv_list(datadir + '/' + 'subset_validation_1122files_wav.lst')\n",
    "wav_lst_evaluation = read_csv_list(datadir + '/' + 'eval.csv')\n",
    "\n",
    "# remove wav with no tags at all:\n",
    "print('len(wav_lst_validation)', len(wav_lst_validation))\n",
    "wav_lst_validation = [el for el in wav_lst_validation if el not in validation_to_remove] \n",
    "print('len(wav_lst_validation)', len(wav_lst_validation))\n",
    "print('len(wav_lst_evaluation)', len(wav_lst_evaluation))\n",
    "\n",
    "# load weak labels dicts\n",
    "dico_tags_y_train_weak = pickle.load(open(datadir + '/dico_tags_y_train_weak_1505files.pkl', 'rb'))\n",
    "dico_tags_y_train_synthetic = pickle.load(open(datadir + '/dico_tags_y_train_synthetic_2045files.pkl', 'rb'))\n",
    "dico_tags_y_train_uid = None\n",
    "dico_tags_y_validation = pickle.load(open(datadir + '/dico_tags_y_validation_1122files.pkl', 'rb'))\n",
    "\n",
    "gt_tags_y_validation = np.zeros((len(wav_lst_validation), 10))\n",
    "for i, v in enumerate(wav_lst_validation):\n",
    "    gt_tags_y_validation[i] = dico_tags_y_validation[v]\n",
    "\n",
    "# load strong label dicts\n",
    "dico_strong_y_train_weak = None\n",
    "dico_strong_y_train_synthetic = pickle.load(open(datadir + '/dico_strong_y_train_synthetic_2045files.pkl', 'rb'))\n",
    "dico_strong_y_train_uid = None\n",
    "dico_strong_y_validation = pickle.load(open(datadir + '/dico_strong_y_validation_1122files.pkl', 'rb'))\n",
    "\n",
    "# load wav dicts\n",
    "dico_wav_train_weak = pickle.load(open(datadir + '/dico_wav_train_weak_1505files.pkl', 'rb'))\n",
    "dico_wav_train_synthetic = pickle.load(open(datadir + '/dico_wav_train_synthetic_2045files.pkl', 'rb'))\n",
    "dico_wav_validation = pickle.load(open(datadir + '/dico_wav_validation_1122files.pkl', 'rb'))\n",
    "dico_wav_evaluation = pickle.load(open(datadir + '/dico_wav_evaluation_13190files.pkl', 'rb'))\n",
    "\n",
    "print(len(dico_tags_y_train_weak), len(dico_tags_y_train_synthetic), len(dico_tags_y_validation))\n",
    "print(len(dico_strong_y_train_synthetic), len(dico_strong_y_validation))\n",
    "print(len(dico_wav_train_weak), len(dico_wav_train_synthetic), len(dico_wav_validation))\n",
    "print(len(dico_wav_evaluation))\n",
    "\n",
    "# merge train_weak and train_synthetic dicts\n",
    "dico_tags_y_train_weak_synthetic = {**dico_tags_y_train_weak, **dico_tags_y_train_synthetic}\n",
    "dico_strong_y_train_weak_synthetic = None\n",
    "dico_wav_train_weak_synthetic = {**dico_wav_train_weak, **dico_wav_train_synthetic}\n",
    "\n",
    "print(len(dico_tags_y_train_weak_synthetic), len(dico_wav_train_weak_synthetic))"
   ]
  },
  {
   "cell_type": "code",
   "execution_count": 10,
   "metadata": {
    "ExecuteTime": {
     "end_time": "2019-07-03T12:15:29.867524Z",
     "start_time": "2019-07-03T12:15:29.849339Z"
    },
    "hidden": true
   },
   "outputs": [
    {
     "data": {
      "text/plain": [
       "(['10.wav',\n",
       "  '1000.wav',\n",
       "  '1003.wav',\n",
       "  '1006.wav',\n",
       "  '1008.wav',\n",
       "  '1009.wav',\n",
       "  '1011.wav'],\n",
       " array([[1., 1., 0., 0., 0., 0., 0., 0., 0., 0.],\n",
       "        [1., 1., 0., 0., 0., 0., 0., 0., 0., 0.],\n",
       "        [1., 1., 0., 0., 0., 0., 0., 0., 0., 0.],\n",
       "        [1., 0., 0., 0., 0., 0., 0., 0., 0., 0.],\n",
       "        [1., 0., 0., 0., 0., 0., 0., 0., 0., 0.],\n",
       "        [1., 1., 1., 0., 0., 0., 0., 0., 0., 0.],\n",
       "        [1., 1., 0., 1., 0., 0., 0., 0., 0., 0.]]),\n",
       " array([1., 1., 0., 0., 0., 0., 0., 0., 0., 0.]))"
      ]
     },
     "execution_count": 10,
     "metadata": {},
     "output_type": "execute_result"
    }
   ],
   "source": [
    "# little check\n",
    "tags = np.zeros((len(wav_lst_train_synthetic), 10))\n",
    "for i, v in enumerate(wav_lst_train_synthetic):\n",
    "    tags[i] = dico_tags_y_train_synthetic[v]\n",
    "wav_lst_train_synthetic[:7], tags[:7], dico_tags_y_train_synthetic['10.wav']"
   ]
  },
  {
   "cell_type": "code",
   "execution_count": 11,
   "metadata": {
    "ExecuteTime": {
     "end_time": "2019-07-03T12:15:29.983492Z",
     "start_time": "2019-07-03T12:15:29.870978Z"
    },
    "hidden": true
   },
   "outputs": [
    {
     "data": {
      "text/plain": [
       "(['Y00pbt6aJV8Y_350.000_360.000.wav',\n",
       "  'Y00pK0GMmE9s_70.000_80.000.wav',\n",
       "  'Y02sD1KJeoGA_50.000_60.000.wav',\n",
       "  'Y0bjUq9XMMmQ_30.000_40.000.wav',\n",
       "  'Y0cH_NlhhMAs_30.000_40.000.wav',\n",
       "  'Y0eh_N-cmcuI_350.000_360.000.wav',\n",
       "  'Y0hAK5f1tDok_30.000_40.000.wav'],\n",
       " array([[0., 0., 0., 0., 1., 0., 0., 0., 0., 0.],\n",
       "        [0., 0., 0., 0., 1., 0., 0., 0., 0., 0.],\n",
       "        [0., 0., 0., 0., 0., 0., 1., 0., 0., 0.],\n",
       "        [0., 0., 0., 0., 0., 0., 1., 0., 0., 0.],\n",
       "        [0., 0., 0., 1., 0., 0., 0., 0., 0., 0.],\n",
       "        [1., 1., 0., 0., 0., 0., 0., 0., 0., 1.],\n",
       "        [0., 0., 0., 1., 0., 0., 0., 0., 0., 0.]]),\n",
       " array([1., 1., 0., 0., 0., 0., 0., 0., 0., 1.]))"
      ]
     },
     "execution_count": 11,
     "metadata": {},
     "output_type": "execute_result"
    }
   ],
   "source": [
    "# little check\n",
    "tags = np.zeros((len(wav_lst_validation), 10))\n",
    "for i, v in enumerate(wav_lst_validation):\n",
    "    tags[i] = dico_tags_y_validation[v]\n",
    "wav_lst_validation[:7], tags[:7], dico_tags_y_validation['Y0eh_N-cmcuI_350.000_360.000.wav']"
   ]
  },
  {
   "cell_type": "markdown",
   "metadata": {
    "heading_collapsed": true
   },
   "source": [
    "#  Generator weak + strong"
   ]
  },
  {
   "cell_type": "markdown",
   "metadata": {
    "hidden": true
   },
   "source": [
    "We use a data generator to generate on-the-fly mini-batches of log-Mel spectrograms (64 F-Bank coefficients).\n",
    "\n",
    "Eventually performs data augmentation.\n",
    "\n",
    "The generator returns three arrays: \n",
    "\n",
    "- X: F-bank spectrograms\n",
    "- y_strong: ground-truth with the frame-level annotations\n",
    "- y_weak: ground-truth with the file-level annotations\n",
    "\n",
    "A 0 or a 1 is appended to each line of y_strong to be used as a boolean whether to zero the frame-level loss when only weak labels are available. Thus, this boolean is set to 1 (True) only for the synthetic dataset.\n"
   ]
  },
  {
   "cell_type": "markdown",
   "metadata": {
    "heading_collapsed": true,
    "hidden": true
   },
   "source": [
    "## definition"
   ]
  },
  {
   "cell_type": "code",
   "execution_count": 12,
   "metadata": {
    "ExecuteTime": {
     "end_time": "2019-07-03T12:15:47.674722Z",
     "start_time": "2019-07-03T12:15:47.608053Z"
    },
    "hidden": true
   },
   "outputs": [],
   "source": [
    "class MyGeneratorWeakStrong(keras.utils.Sequence):\n",
    "    'Generates data for Keras'\n",
    "    \n",
    "    def __init__(self, \n",
    "                 batch_size, \n",
    "                 data_folder, \n",
    "                 wav_lst,\n",
    "                 n_samples,\n",
    "                 dico_wav,\n",
    "                 lab_dict_weak,\n",
    "                 lab_dict_strong,\n",
    "                 sr,\n",
    "                 fact_amp, \n",
    "                 out_dim, \n",
    "                 perform_data_aug=False,\n",
    "                 n_channels=1, \n",
    "                 n_fbank_coeff=64, \n",
    "                 time_dim=431,\n",
    "                 shuffle=True,\n",
    "                 params_extract=None):\n",
    "        \n",
    "        self.batch_size = batch_size\n",
    "        self.data_folder = data_folder\n",
    "        self.list_IDs = wav_lst\n",
    "        self.n_samples = n_samples\n",
    "        self.id2wavarray_dict = dico_wav\n",
    "        self.lab_dict_weak = lab_dict_weak\n",
    "        self.lab_dict_strong = lab_dict_strong\n",
    "        self.sr = sr\n",
    "        self.n_channels = n_channels\n",
    "        self.n_fbank_coeff = n_fbank_coeff\n",
    "        self.time_dim = time_dim\n",
    "        self.n_classes = out_dim\n",
    "        self.perform_data_aug = perform_data_aug\n",
    "        self.shuffle = shuffle\n",
    "        self.fact_amp = fact_amp\n",
    "        self.on_epoch_end()\n",
    "        self.params_extract = params_extract\n",
    "        \n",
    "        print(len(self.list_IDs) ,len(self.id2wavarray_dict.keys()))\n",
    "#         print('T', self.time_dim[0], 'T')\n",
    "\n",
    "    def __len__(self):\n",
    "        'Denotes the number of batches per epoch'\n",
    "        return int(np.floor(len(self.list_IDs) / self.batch_size))\n",
    "\n",
    "    def __getitem__(self, index):\n",
    "        'Generate one batch of data'\n",
    "        # Generate indexes of the batch                                                                                    \n",
    "        indexes = self.indexes[index*self.batch_size:(index+1)*self.batch_size]\n",
    "\n",
    "        # Find list of IDs                                                                                                 \n",
    "        list_IDs_temp = [self.list_IDs[k] for k in indexes]\n",
    "#         print(list_IDs_temp)\n",
    "\n",
    "        # Generate data                                                                                                    \n",
    "        X, y_strong, y_weak = self.__data_generation(list_IDs_temp)\n",
    "\n",
    "        return X, {'loc_output': y_strong, 'at_output': y_weak}\n",
    "    \n",
    "    def on_epoch_end(self):\n",
    "        'Updates indexes after each epoch'\n",
    "        self.indexes = np.arange(len(self.list_IDs))\n",
    "        if self.shuffle == True:\n",
    "            np.random.shuffle(self.indexes)\n",
    "\n",
    "    def __data_generation(self, list_IDs_temp):\n",
    "        'Generates data containing batch_size samples' # X : (n_samples, *dim, n_channels)                                 \n",
    "        # Initialization\n",
    "        X = np.zeros((self.batch_size, self.n_fbank_coeff, self.time_dim, self.n_channels))\n",
    "        y_weak = np.zeros((self.batch_size, self.n_classes), dtype=int)\n",
    "        y_strong = np.zeros((self.batch_size, self.time_dim+1, self.n_classes), dtype=int)\n",
    "        # for each sample i, y_strong[i,-1,:] == 0 if no gt, 1 if gt\n",
    "        \n",
    "        line_ones = np.ones((1, self.n_classes))\n",
    "        \n",
    "        sr = self.sr\n",
    "        \n",
    "        if self.perform_data_aug and self.fact_amp > 0:\n",
    "            rand_amp_arr = np.random.uniform(1.0-self.fact_amp, 1+self.fact_amp, self.batch_size)\n",
    "\n",
    "        # Generate data                                                                                                    \n",
    "        for i, ID in enumerate(list_IDs_temp):\n",
    "\n",
    "            if ID in self.id2wavarray_dict:\n",
    "                signal = self.id2wavarray_dict[ID]\n",
    "            else:\n",
    "                print('ERROR', ID, 'not in dict !')\n",
    "            \n",
    "            # multiply by random factor for data aug\n",
    "            if self.fact_amp > 0:\n",
    "                signal *= rand_amp_arr[i]\n",
    "            \n",
    "            # Store class\n",
    "            if not self.lab_dict_weak is None and ID in self.lab_dict_weak:\n",
    "                y_weak[i] = self.lab_dict_weak[ID]\n",
    "            \n",
    "            has_strong_gt = False\n",
    "            if not self.lab_dict_strong is None and ID in self.lab_dict_strong:\n",
    "                y_strong[i] = np.concatenate((line_ones,self.lab_dict_strong[ID]), axis=0)\n",
    "                has_strong_gt = True    \n",
    "\n",
    "            if self.perform_data_aug:\n",
    "                # embed the signal into a fake jam object to perform data aug\n",
    "                dummy_jam = jams.core.JAMS()\n",
    "                dummy_jam.file_metadata.duration = librosa.get_duration(y=signal, sr=sr)\n",
    "                j_orig = muda.jam_pack(dummy_jam, _audio=dict(y=signal, sr=sr))\n",
    "                \n",
    "                doPitchStretching = np.random.randint(0, 2, size=1)[0]>0\n",
    "                doTimeStretching = (not has_strong_gt) and (np.random.randint(0, 2, size=1)[0]>0)\n",
    "                \n",
    "                if doPitchStretching and doTimeStretching:\n",
    "                    n_semitones = np.random.randint(-3, high=4, size=1)[0]\n",
    "                    pitch_deformer = muda.deformers.PitchShift(n_semitones=n_semitones)\n",
    "                    rate = np.random.choice([0.8, 0.9, 1.1, 1.2])\n",
    "                    time_deformer= muda.deformers.TimeStretch(rate=rate)\n",
    "                    pipeline = muda.Pipeline(steps=[('pitch_shift', pitch_deformer),\n",
    "                                                    ('time_stretch', time_deformer)])\n",
    "                    deformed = pipeline.transform(j_orig)\n",
    "                    for d in deformed:\n",
    "                        dsignal = d.sandbox.muda._audio\n",
    "                    signal = dsignal['y']\n",
    "                    \n",
    "                elif doPitchStretching:\n",
    "                    n_semitones = np.random.randint(-3, high=4, size=1)[0]\n",
    "                    pitch_deformer = muda.deformers.PitchShift(n_semitones=n_semitones)\n",
    "                    deformed = pitch_deformer.transform(j_orig)\n",
    "                    for d in deformed:\n",
    "                        dsignal = d.sandbox.muda._audio\n",
    "                    signal = dsignal['y']\n",
    "                \n",
    "                elif doTimeStretching:\n",
    "                    rate = np.random.choice([0.8, 0.9, 1.1, 1.2])\n",
    "                    time_deformer= muda.deformers.TimeStretch(rate=rate)\n",
    "                    deformed = time_deformer.transform(j_orig)\n",
    "                    for d in deformed:\n",
    "                        dsignal = d.sandbox.muda._audio\n",
    "                    signal = dsignal['y']\n",
    "            \n",
    "            hop_length=512\n",
    "            \n",
    "            power = librosa.feature.melspectrogram(y=signal,\n",
    "                                        sr=sr,\n",
    "                                        n_fft=2048, \n",
    "                                        n_mels=64, \n",
    "                                        fmin=0.0, \n",
    "                                        fmax=sr/2.0, \n",
    "                                        htk=False, \n",
    "                                        hop_length=hop_length, \n",
    "                                        power=2.0, \n",
    "                                        norm=1)\n",
    "\n",
    "            power = librosa.core.power_to_db(power, ref=np.max)\n",
    "            endpoint_time = np.min([power.shape[1],self.time_dim])\n",
    "            X[i, :, :endpoint_time, 0] = power[:,:endpoint_time]\n",
    "\n",
    "        return X, y_strong, y_weak\n",
    "\n",
    "    "
   ]
  },
  {
   "cell_type": "markdown",
   "metadata": {
    "heading_collapsed": true,
    "hidden": true
   },
   "source": [
    "## instances"
   ]
  },
  {
   "cell_type": "code",
   "execution_count": 13,
   "metadata": {
    "ExecuteTime": {
     "end_time": "2019-07-03T12:15:49.229873Z",
     "start_time": "2019-07-03T12:15:49.214024Z"
    },
    "hidden": true
   },
   "outputs": [
    {
     "name": "stdout",
     "output_type": "stream",
     "text": [
      "INFO nb_steps_train: 111\n",
      "3550 3550\n"
     ]
    }
   ],
   "source": [
    "train_batch_size=32\n",
    "# train_data_folder='/baie/corpus/DCASE2019/task4/dataset/audio/train/weak'\n",
    "\n",
    "wav_lst=wav_lst_train_weak_synthetic\n",
    "dico_wav=dico_wav_train_weak_synthetic\n",
    "\n",
    "lab_dict_weak=dico_tags_y_train_weak_synthetic\n",
    "lab_dict_strong=dico_strong_y_train_synthetic\n",
    "\n",
    "train_n_samples=len(wav_lst)\n",
    "train_fact_amp=0.2\n",
    "out_dim=10\n",
    "n_channels=1\n",
    "n_fbank_coeff=64\n",
    "time_dim=431\n",
    "train_shuffle=True\n",
    "sr=22050 # output by librosa load\n",
    "\n",
    "nb_steps_train = int(np.ceil(len(wav_lst)/train_batch_size))\n",
    "print('INFO nb_steps_train:', nb_steps_train)\n",
    "\n",
    "train_generator = MyGeneratorWeakStrong(batch_size=train_batch_size, \n",
    "                 data_folder=None, \n",
    "                 wav_lst=wav_lst,\n",
    "                 n_samples=train_n_samples,\n",
    "                 dico_wav=dico_wav,\n",
    "                 lab_dict_weak=lab_dict_weak,\n",
    "                 lab_dict_strong=lab_dict_strong,\n",
    "                 sr=sr,\n",
    "                 fact_amp=train_fact_amp, \n",
    "                 out_dim=out_dim, \n",
    "                 perform_data_aug=True,\n",
    "                 n_channels=n_channels,\n",
    "                 n_fbank_coeff=n_fbank_coeff,\n",
    "                 time_dim=time_dim,\n",
    "                 shuffle=train_shuffle)"
   ]
  },
  {
   "cell_type": "code",
   "execution_count": 14,
   "metadata": {
    "ExecuteTime": {
     "end_time": "2019-07-03T12:15:50.286125Z",
     "start_time": "2019-07-03T12:15:50.270391Z"
    },
    "hidden": true
   },
   "outputs": [
    {
     "name": "stdout",
     "output_type": "stream",
     "text": [
      "INFO nb_steps_train: 18\n",
      "1122 1122\n"
     ]
    }
   ],
   "source": [
    "dev_batch_size=64\n",
    "\n",
    "wav_lst=wav_lst_validation\n",
    "# wav_lst=wav_lst_validation_leo\n",
    "dico_wav=dico_wav_validation\n",
    "\n",
    "lab_dict_weak=dico_tags_y_validation\n",
    "lab_dict_strong=dico_strong_y_validation\n",
    "\n",
    "dev_n_samples=len(wav_lst)\n",
    "dev_fact_amp=0.0\n",
    "out_dim=10\n",
    "n_channels=1\n",
    "n_fbank_coeff=64\n",
    "time_dim=431\n",
    "dev_shuffle=False\n",
    "sr=22050 # output by librosa load\n",
    "\n",
    "dev_perform_data_aug=False\n",
    "\n",
    "nb_steps_dev = int(np.ceil(len(wav_lst)/dev_batch_size))\n",
    "print('INFO nb_steps_train:', nb_steps_dev)\n",
    "\n",
    "dev_generator = MyGeneratorWeakStrong(batch_size=dev_batch_size, \n",
    "                 data_folder=None, \n",
    "                 wav_lst=wav_lst,\n",
    "                 n_samples=dev_n_samples,\n",
    "                 dico_wav=dico_wav,\n",
    "                 lab_dict_weak=lab_dict_weak,\n",
    "                 lab_dict_strong=lab_dict_strong,\n",
    "                 sr=sr,\n",
    "                 fact_amp=dev_fact_amp, \n",
    "                 out_dim=out_dim, \n",
    "                 perform_data_aug=dev_perform_data_aug,\n",
    "                 n_channels=n_channels,\n",
    "                 n_fbank_coeff=n_fbank_coeff,\n",
    "                 time_dim=time_dim,\n",
    "                 shuffle=dev_shuffle)"
   ]
  },
  {
   "cell_type": "code",
   "execution_count": 15,
   "metadata": {
    "ExecuteTime": {
     "end_time": "2019-07-03T12:16:46.114910Z",
     "start_time": "2019-07-03T12:16:46.096256Z"
    },
    "hidden": true
   },
   "outputs": [
    {
     "name": "stdout",
     "output_type": "stream",
     "text": [
      "INFO nb_steps_eval: 207\n",
      "13190 13190\n"
     ]
    }
   ],
   "source": [
    "eval_batch_size=64\n",
    "\n",
    "wav_lst=wav_lst_evaluation\n",
    "dico_wav=dico_wav_evaluation\n",
    "\n",
    "lab_dict_weak=None\n",
    "lab_dict_strong=None\n",
    "\n",
    "eval_n_samples=len(wav_lst)\n",
    "eval_fact_amp=0.0\n",
    "out_dim=10\n",
    "n_channels=1\n",
    "n_fbank_coeff=64\n",
    "time_dim=431\n",
    "eval_shuffle=False\n",
    "sr=22050 # output by librosa load\n",
    "\n",
    "eval_perform_data_aug=False\n",
    "\n",
    "nb_steps_eval = int(np.ceil(len(wav_lst)/eval_batch_size))\n",
    "print('INFO nb_steps_eval:', nb_steps_eval)\n",
    "\n",
    "eval_generator = MyGeneratorWeakStrong(batch_size=eval_batch_size, \n",
    "                 data_folder=None, \n",
    "                 wav_lst=wav_lst,\n",
    "                 n_samples=eval_n_samples,\n",
    "                 dico_wav=dico_wav,\n",
    "                 lab_dict_weak=lab_dict_weak,\n",
    "                 lab_dict_strong=lab_dict_strong,\n",
    "                 sr=sr,\n",
    "                 fact_amp=eval_fact_amp, \n",
    "                 out_dim=out_dim, \n",
    "                 perform_data_aug=eval_perform_data_aug,\n",
    "                 n_channels=n_channels,\n",
    "                 n_fbank_coeff=n_fbank_coeff,\n",
    "                 time_dim=time_dim,\n",
    "                 shuffle=eval_shuffle)"
   ]
  },
  {
   "cell_type": "markdown",
   "metadata": {
    "heading_collapsed": true
   },
   "source": [
    "# Custom loss function"
   ]
  },
  {
   "cell_type": "markdown",
   "metadata": {
    "hidden": true
   },
   "source": [
    "We need to define a custom binary CE loss function to be non-zero only when strong labels are available.\n",
    "\n",
    "To do so, we use the boolean appended to the strong ground-truth array y_strong.\n",
    "\n",
    "This loss function will be used on the localization output of the network. On the audio tagging output, a standard binCE will be used (see Section 6)."
   ]
  },
  {
   "cell_type": "code",
   "execution_count": 16,
   "metadata": {
    "ExecuteTime": {
     "end_time": "2019-07-03T12:17:02.066172Z",
     "start_time": "2019-07-03T12:17:02.056780Z"
    },
    "hidden": true
   },
   "outputs": [],
   "source": [
    "def loc_loss(y_true, y_pred):\n",
    "    \"\"\"\n",
    "    multi-instance loss\n",
    "    :param y_true: tensor, shape: \n",
    "    :param y_pred: tensor \n",
    "    :return: float\n",
    "    \"\"\"\n",
    "    bool_gt = y_true[:, 0, 0] # a vector of either 0s or 1s\n",
    "    \n",
    "    y_t = y_true[:, 1:, :]\n",
    "    \n",
    "    matrix_loss = bool_gt * K.transpose(K.mean(K.binary_crossentropy(y_t, y_pred, from_logits=False), axis=-1))\n",
    "    \n",
    "    return K.transpose(matrix_loss)"
   ]
  },
  {
   "cell_type": "code",
   "execution_count": 17,
   "metadata": {
    "ExecuteTime": {
     "end_time": "2019-07-03T12:17:05.128155Z",
     "start_time": "2019-07-03T12:17:02.792538Z"
    },
    "hidden": true
   },
   "outputs": [
    {
     "name": "stdout",
     "output_type": "stream",
     "text": [
      "(2, 3, 3) (2, 2, 3)\n",
      "[[0.14876239 0.07024038]\n",
      " [0.         0.        ]]\n",
      "(2, 2)\n",
      "y_true[0] [[0 1 0]\n",
      " [0 1 0]]\n",
      "y_pred[0] [[0.2 0.8 0. ]\n",
      " [0.  0.9 0.1]]\n",
      "[0.14876239 0.07024039]\n"
     ]
    }
   ],
   "source": [
    "# sanity check \n",
    "\n",
    "from keras.losses import binary_crossentropy\n",
    "def numpy_binCE_time(y_true_2d, y_pred_2d):\n",
    "    \n",
    "    def keras_binCE(y_true_vec, y_pred_vec):\n",
    "        \n",
    "        # eps=1e-6\n",
    "        # return np.sum(-y_true_vec * np.log(y_pred_vec+eps) - (1.-y_true_vec) * np.log(1.-y_pred_vec+eps))\n",
    "        return K.eval(binary_crossentropy(K.variable(y_true_vec), K.variable(y_pred_vec)))\n",
    "    \n",
    "    res = np.zeros((y_true_2d.shape[0],))\n",
    "    for i in range(y_true_2d.shape[0]):\n",
    "        res[i] = keras_binCE(y_true_2d[i], y_pred_2d[i])\n",
    "    return res\n",
    "    \n",
    "\n",
    "def unit_test_loc_loss():\n",
    "    # test with 3 classes, 2 samples of 2 time steps each\n",
    "\n",
    "    # pour y_true, j'ajoute une premiere ligne de 0 ou de 1 comme booleen pour indiquer \n",
    "    # si l'exemple dispose d'annotation GT forte ou non pour appliquer la loc_loss\n",
    "    y_true = np.array([[[1, 1, 1], [0, 1, 0], [0, 1, 0]], [[0, 0, 0], [0, 0, 0], [0, 0, 0]]], dtype=int)\n",
    "    \n",
    "    y_pred = np.array([[[0.2, 0.8, 0.0], [0.0, 0.9, 0.1]], [[0.1, 0.85, 0.05], [0.01, 0.9, 0.09]]], dtype=float)\n",
    "    print(y_true.shape, y_pred.shape)\n",
    "    \n",
    "    y_true_tensor = K.constant(y_true)\n",
    "    y_pred_tensor = K.constant(y_pred)\n",
    "    \n",
    "    print(K.eval(loc_loss(y_true_tensor, y_pred_tensor)))\n",
    "    print(K.eval(loc_loss(y_true_tensor, y_pred_tensor)).shape)\n",
    "    \n",
    "    print('y_true[0]', y_true[0,1:])\n",
    "    print('y_pred[0]', y_pred[0])\n",
    "    print(numpy_binCE_time(y_true[0,1:], y_pred[0]))\n",
    "    \n",
    "\n",
    "unit_test_loc_loss()   "
   ]
  },
  {
   "cell_type": "code",
   "execution_count": 18,
   "metadata": {
    "ExecuteTime": {
     "end_time": "2019-07-03T12:17:05.267537Z",
     "start_time": "2019-07-03T12:17:05.131585Z"
    },
    "hidden": true
   },
   "outputs": [
    {
     "data": {
      "text/plain": [
       "(array([0.228393  , 0.03847031], dtype=float32),\n",
       " array([0.228393  , 0.03847031], dtype=float32))"
      ]
     },
     "execution_count": 18,
     "metadata": {},
     "output_type": "execute_result"
    }
   ],
   "source": [
    "from keras.losses import binary_crossentropy\n",
    "\n",
    "def binCE(y_true, y_pred):\n",
    "    return K.binary_crossentropy(y_true, y_pred, from_logits=False)\n",
    "\n",
    "dummy_gt = K.variable(np.array([[0, 1, 1], [1,0,0]], dtype='int32'))\n",
    "dummy_prob = K.variable(np.array([[0.1, 0.8, 0.7], [0.99, 0.0, 0.1]], dtype='float32'))\n",
    "\n",
    "K.eval(K.mean(binCE(dummy_gt, dummy_prob), axis=-1)), K.eval(binary_crossentropy(dummy_gt, dummy_prob))"
   ]
  },
  {
   "cell_type": "markdown",
   "metadata": {
    "heading_collapsed": true
   },
   "source": [
    "# New model definition"
   ]
  },
  {
   "cell_type": "code",
   "execution_count": null,
   "metadata": {
    "ExecuteTime": {
     "end_time": "2019-07-03T11:27:44.059524Z",
     "start_time": "2019-07-03T11:27:42.903063Z"
    },
    "hidden": true
   },
   "outputs": [],
   "source": [
    "input_shape = (64, 431, 1)\n",
    "\n",
    "melInput = Input(input_shape)\n",
    "\n",
    "# ---- mel convolution part ----\n",
    "mBlock1 = Conv2D(filters=64, kernel_size=(3, 3), padding=\"same\")(melInput)\n",
    "mBlock1 = BatchNormalization()(mBlock1)\n",
    "mBlock1 = Activation(activation=\"relu\")(mBlock1)\n",
    "mBlock1 = MaxPooling2D(pool_size=(4, 1))(mBlock1)\n",
    "# mBlock1 = Dropout(0.1)(mBlock1)\n",
    "mBlock1 = SpatialDropout2D(0.3, data_format=K.image_data_format())(mBlock1)\n",
    "\n",
    "mBlock2 = Conv2D(filters=64, kernel_size=(3, 3), padding=\"same\")(mBlock1)\n",
    "mBlock2 = BatchNormalization()(mBlock2)\n",
    "mBlock2 = Activation(activation=\"relu\")(mBlock2)\n",
    "mBlock2 = MaxPooling2D(pool_size=(4, 1))(mBlock2)\n",
    "mBlock2 = SpatialDropout2D(0.3, data_format=K.image_data_format())(mBlock2)\n",
    "# mBlock2 = Dropout(0.1)(mBlock2)\n",
    "    \n",
    "mBlock3 = Conv2D(filters=64, kernel_size=(3, 3), padding=\"same\")(mBlock2)\n",
    "mBlock3 = BatchNormalization()(mBlock3)\n",
    "mBlock3 = Activation(activation=\"relu\")(mBlock3)\n",
    "mBlock3 = MaxPooling2D(pool_size=(4, 1))(mBlock3)\n",
    "mBlock3 = SpatialDropout2D(0.3, data_format=K.image_data_format())(mBlock3)\n",
    "# mBlock3 = Dropout(0.1)(mBlock3)\n",
    "    \n",
    "targetShape = int(mBlock3.shape[1] * mBlock3.shape[2])\n",
    "mReshape = Reshape(target_shape=(targetShape, 64))(mBlock3)\n",
    "\n",
    "gru = Bidirectional(\n",
    "    GRU(kernel_initializer='glorot_uniform', activation='tanh', recurrent_dropout=0.1, \\\n",
    "        dropout=0.1, units=64, return_sequences=True)\n",
    ")(mReshape)\n",
    "\n",
    "gru = Dropout(0.1)(gru)\n",
    "\n",
    "output = TimeDistributed(\n",
    "    Dense(64, activation=\"relu\"),\n",
    ")(gru)\n",
    "\n",
    "output = Dropout(0.1)(output)\n",
    "\n",
    "loc_output = TimeDistributed(\n",
    "    Dense(10, activation=\"sigmoid\"),  name=\"loc_output\",\n",
    ")(output)\n",
    "\n",
    "# output = TimeDistributed(\n",
    "#  Lambda(lambda x: (x - K.min(x, axis=1, keepdims=True))/(K.max(x, axis=1, keepdims=True)- K.min(x, axis=1, keepdims=True)) ),\n",
    "# )(output)\n",
    "\n",
    "### output = GlobalAveragePooling1D()(output)\n",
    "gap = GlobalAveragePooling1D()(loc_output)\n",
    "mil_output = GlobalMaxPooling1D(name=\"mil_output\")(loc_output)\n",
    "# flat_gap = Flatten()(gap)\n",
    "# flat_gmp = Flatten()(gmp)\n",
    "\n",
    "concat = Concatenate()([gap, mil_output])\n",
    "\n",
    "d = Dense(1024, activation=\"relu\")(concat)\n",
    "d = Dropout(rate=0.1)(d)\n",
    "\n",
    "at_output = Dense(10, activation=\"sigmoid\", name=\"at_output\")(d)\n",
    "\n",
    "model = Model(inputs=[melInput], outputs=[loc_output, at_output])\n",
    "\n",
    "# compile model\n",
    "optimizer = optimizers.Adam(lr=0.001)\n",
    "# optimizer = optimizers.SGD(lr=0.1, momentum=0.9, decay=1e-4)\n",
    "\n",
    "# model.compile(loss=\"binary_crossentropy\", \n",
    "#               optimizer=optimizer)\n",
    "\n",
    "model.compile(loss={\"loc_output\": loc_loss, \"at_output\": \"binary_crossentropy\"}, \n",
    "                    loss_weights={\"loc_output\": 1., \"at_output\": 1.},\n",
    "              optimizer=optimizer)\n",
    "\n",
    "# required if no dropout or batch norm in the model\n",
    "# model.outputs[2]._uses_learning_phase = True  \n",
    "\n",
    "model.summary(line_length=100)"
   ]
  },
  {
   "cell_type": "markdown",
   "metadata": {
    "heading_collapsed": true
   },
   "source": [
    "# Training"
   ]
  },
  {
   "cell_type": "code",
   "execution_count": null,
   "metadata": {
    "hidden": true
   },
   "outputs": [],
   "source": [
    "# t = np.array(range(100), dtype=float)\n",
    "# t *= pi/100.\n",
    "# a = 0.05*(1.+np.cos(t))\n",
    "# plt.plot(a)"
   ]
  },
  {
   "cell_type": "code",
   "execution_count": null,
   "metadata": {
    "ExecuteTime": {
     "end_time": "2019-07-03T11:28:39.978146Z",
     "start_time": "2019-07-03T11:28:39.964193Z"
    },
    "hidden": true
   },
   "outputs": [],
   "source": [
    "def lrate_schedule_fn(epoch):\n",
    "    if epoch < 50:\n",
    "        return 1e-3\n",
    "    elif epoch < 100:\n",
    "        return 5e-4\n",
    "    elif epoch < 150:\n",
    "        return 1e-4\n",
    "    else:\n",
    "        return 1e-5\n",
    "    \n",
    "# from math import pi, cos\n",
    "\n",
    "# def lrate_schedule_fn(epoch):\n",
    "#     return 0.05*(1.+cos(epoch*pi/100.))\n",
    "\n",
    "lrate_scheduler = keras.callbacks.LearningRateScheduler(lrate_schedule_fn)\n",
    "\n",
    "early_stopper = keras.callbacks.EarlyStopping(monitor='val_loss', min_delta=1e-3, patience=30, verbose=1, \n",
    "                                              mode='auto')\n",
    "\n",
    "modeldir='tmp'\n",
    "filepath = os.path.join(modeldir, \"dcase19.{epoch:02d}-{loss:.4f}-{val_loss:.4f}.hdf5\")\n",
    "# create_folder(os.path.dirname(filepath))\n",
    "\n",
    "model_saver = keras.callbacks.ModelCheckpoint(filepath=filepath,\n",
    "                                             monitor='val_loss',\n",
    "                                             verbose=0,\n",
    "                                             save_best_only=False,\n",
    "                                             save_weights_only=False,\n",
    "                                             mode='auto',\n",
    "                                             period=10)\n"
   ]
  },
  {
   "cell_type": "code",
   "execution_count": null,
   "metadata": {
    "ExecuteTime": {
     "end_time": "2019-07-03T11:38:56.775758Z",
     "start_time": "2019-07-03T11:28:56.811562Z"
    },
    "hidden": true
   },
   "outputs": [],
   "source": [
    "# let's train the model for 90 epochs\n",
    "\n",
    "# A bunch of warnings from librosa should appear... \n",
    "# Some audio files seem to be unpitched so applying freq shifting generates warnings...\n",
    "\n",
    "history = model.fit_generator(\n",
    "    generator=train_generator,\n",
    "    epochs=90,\n",
    "    steps_per_epoch=nb_steps_train,\n",
    "    use_multiprocessing=True,\n",
    "    validation_data=dev_generator,\n",
    "    validation_steps=nb_steps_dev,\n",
    "    workers=os.cpu_count()//2,\n",
    "    callbacks = [lrate_scheduler, early_stopper, model_saver],\n",
    "    initial_epoch=0,\n",
    "    verbose=2\n",
    "    )"
   ]
  },
  {
   "cell_type": "code",
   "execution_count": null,
   "metadata": {
    "hidden": true
   },
   "outputs": [],
   "source": [
    "plt.plot(model.history.history['loss'])\n",
    "# plt.plot(model.history.history['val_loss'])\n",
    "plt.title('model loss')\n",
    "plt.ylabel('loss')\n",
    "plt.xlabel('epoch')\n",
    "plt.legend(['train'], loc='upper left')"
   ]
  },
  {
   "cell_type": "markdown",
   "metadata": {},
   "source": [
    "# Load a pre-trained model from weights h5 file"
   ]
  },
  {
   "cell_type": "code",
   "execution_count": 19,
   "metadata": {
    "ExecuteTime": {
     "end_time": "2019-07-03T12:17:44.843337Z",
     "start_time": "2019-07-03T12:17:44.809498Z"
    }
   },
   "outputs": [],
   "source": [
    "def define_model(at_layer_name='at_output', loc_layer_name='loc_output'):\n",
    "\n",
    "    time_pooling_factor=1\n",
    "    \n",
    "    input_shape = (64, 431, 1)\n",
    "\n",
    "    melInput = Input(input_shape)\n",
    "\n",
    "    # ---- mel convolution part ----\n",
    "    mBlock1 = Conv2D(filters=64, kernel_size=(3, 3), padding=\"same\")(melInput)\n",
    "    mBlock1 = BatchNormalization()(mBlock1)\n",
    "    mBlock1 = Activation(activation=\"relu\")(mBlock1)\n",
    "    mBlock1 = MaxPooling2D(pool_size=(4, 1))(mBlock1)\n",
    "    # mBlock1 = Dropout(0.1)(mBlock1)\n",
    "    mBlock1 = SpatialDropout2D(0.3, data_format=K.image_data_format())(mBlock1)\n",
    "\n",
    "    mBlock2 = Conv2D(filters=64, kernel_size=(3, 3), padding=\"same\")(mBlock1)\n",
    "    mBlock2 = BatchNormalization()(mBlock2)\n",
    "    mBlock2 = Activation(activation=\"relu\")(mBlock2)\n",
    "    mBlock2 = MaxPooling2D(pool_size=(4, time_pooling_factor))(mBlock2)\n",
    "    mBlock2 = SpatialDropout2D(0.3, data_format=K.image_data_format())(mBlock2)\n",
    "    # mBlock2 = Dropout(0.1)(mBlock2)\n",
    "\n",
    "    mBlock3 = Conv2D(filters=64, kernel_size=(3, 3), padding=\"same\")(mBlock2)\n",
    "    mBlock3 = BatchNormalization()(mBlock3)\n",
    "    mBlock3 = Activation(activation=\"relu\")(mBlock3)\n",
    "    mBlock3 = MaxPooling2D(pool_size=(4, time_pooling_factor))(mBlock3)\n",
    "    mBlock3 = SpatialDropout2D(0.3, data_format=K.image_data_format())(mBlock3)\n",
    "    # mBlock3 = Dropout(0.1)(mBlock3)\n",
    "\n",
    "    targetShape = int(mBlock3.shape[1] * mBlock3.shape[2])\n",
    "    mReshape = Reshape(target_shape=(targetShape, 64))(mBlock3)\n",
    "\n",
    "    gru = Bidirectional(\n",
    "        GRU(kernel_initializer='glorot_uniform', activation='tanh', recurrent_dropout=0.1, \\\n",
    "            dropout=0.1, units=64, return_sequences=True)\n",
    "    )(mReshape)\n",
    "\n",
    "    gru = Dropout(0.1)(gru)\n",
    "\n",
    "    output = TimeDistributed(\n",
    "        Dense(64, activation=\"relu\"),\n",
    "    )(gru)\n",
    "\n",
    "    output = Dropout(0.1)(output)\n",
    "\n",
    "    loc_output = TimeDistributed(\n",
    "        Dense(10, activation=\"sigmoid\"), name=loc_layer_name,\n",
    "    )(output)\n",
    "\n",
    "    # output = TimeDistributed(\n",
    "    #  Lambda(lambda x: (x - K.min(x, axis=1, keepdims=True))/(K.max(x, axis=1, keepdims=True)- K.min(x, axis=1, keepdims=True)) ),\n",
    "    # )(output)\n",
    "\n",
    "    ### output = GlobalAveragePooling1D()(output)\n",
    "    gap = GlobalAveragePooling1D()(loc_output)\n",
    "    gmp = GlobalMaxPooling1D()(loc_output)\n",
    "    # flat_gap = Flatten()(gap)\n",
    "    # flat_gmp = Flatten()(gmp)\n",
    "\n",
    "    concat = Concatenate()([gap, gmp])\n",
    "\n",
    "    d = Dense(1024, activation=\"relu\")(concat)\n",
    "    d = Dropout(rate=0.5)(d)\n",
    "\n",
    "    at_output = Dense(10, activation=\"sigmoid\", name=at_layer_name)(d)\n",
    "\n",
    "    model = Model(inputs=[melInput], outputs=[loc_output, at_output])\n",
    "    \n",
    "    return model\n",
    "    "
   ]
  },
  {
   "cell_type": "code",
   "execution_count": 20,
   "metadata": {
    "ExecuteTime": {
     "end_time": "2019-07-03T12:17:47.939580Z",
     "start_time": "2019-07-03T12:17:46.258172Z"
    }
   },
   "outputs": [],
   "source": [
    "# change this path accordingly, this model is provided in this repo\n",
    "modeldir='models'\n",
    "weight_path=modeldir + '/models_train_synthetic/osirim_dcase19.90-0.1658-0.3292/dcase19.90-0.1658-0.3292.h5'\n",
    "\n",
    "model1 = define_model(at_layer_name='at_output1', loc_layer_name='loc_output1')\n",
    "model1.load_weights(weight_path)\n"
   ]
  },
  {
   "cell_type": "markdown",
   "metadata": {
    "heading_collapsed": true
   },
   "source": [
    "# Plot predictions on a \"Dog-Speech\" file Y-dDpGRPHzM0_30.000_40.000.wav"
   ]
  },
  {
   "cell_type": "code",
   "execution_count": 22,
   "metadata": {
    "ExecuteTime": {
     "end_time": "2019-07-03T12:18:18.123393Z",
     "start_time": "2019-07-03T12:18:15.721415Z"
    },
    "hidden": true
   },
   "outputs": [
    {
     "data": {
      "text/plain": [
       "((1, 431, 10), (1, 10))"
      ]
     },
     "execution_count": 22,
     "metadata": {},
     "output_type": "execute_result"
    }
   ],
   "source": [
    "# audiodir='/baie/corpus/DCASE2019/task4/dataset/audio/validation'\n",
    "# fpath=audiodir + '/' + 'Y5J603SAj7QM_210.000_220.000.wav'\n",
    "\n",
    "audiodir='/baie/corpus/DCASE2019/task4/dataset/audio/train/weak'\n",
    "fpath=audiodir + '/' + 'Y-dDpGRPHzM0_30.000_40.000.wav'\n",
    "\n",
    "signal, sr = librosa.load(fpath, res_type='kaiser_fast')\n",
    "\n",
    "hop_length=512\n",
    "#             # multiply by random factor for data aug\n",
    "#             if self.fact_amp > 0:\n",
    "#                 print('amp')\n",
    "#                 signal *= rand_amp_arr[i]\n",
    "\n",
    "power = librosa.feature.melspectrogram(y=signal,\n",
    "                            sr=sr,\n",
    "                            n_fft=2048, \n",
    "                            n_mels=64, \n",
    "                            fmin=0.0, \n",
    "                            fmax=sr/2.0, \n",
    "                            htk=False, \n",
    "                            hop_length=hop_length, \n",
    "                            power=2.0, \n",
    "                            norm=1)\n",
    "\n",
    "power = librosa.core.power_to_db(power, ref=np.max)\n",
    "endpoint_time = np.min([power.shape[1],431])\n",
    "\n",
    "x_test = power[:,:endpoint_time]\n",
    "x_test = x_test[np.newaxis, :, :, np.newaxis]\n",
    "# x_test.shape # (1, 64, 431, 1)\n",
    "\n",
    "loc_probs, at_probs = model1.predict(x_test)\n",
    "loc_probs.shape, at_probs.shape"
   ]
  },
  {
   "cell_type": "code",
   "execution_count": 23,
   "metadata": {
    "ExecuteTime": {
     "end_time": "2019-07-03T12:18:18.133170Z",
     "start_time": "2019-07-03T12:18:18.127078Z"
    },
    "hidden": true
   },
   "outputs": [
    {
     "data": {
      "text/plain": [
       "array([[0.13106409, 0.9739624 , 0.8681349 , 0.05669065, 0.08180277,\n",
       "        0.03282755, 0.00492099, 0.04884641, 0.02908291, 0.00607411]],\n",
       "      dtype=float32)"
      ]
     },
     "execution_count": 23,
     "metadata": {},
     "output_type": "execute_result"
    }
   ],
   "source": [
    "at_probs"
   ]
  },
  {
   "cell_type": "code",
   "execution_count": 24,
   "metadata": {
    "ExecuteTime": {
     "end_time": "2019-07-03T12:18:18.748694Z",
     "start_time": "2019-07-03T12:18:18.135208Z"
    },
    "hidden": true
   },
   "outputs": [
    {
     "name": "stdout",
     "output_type": "stream",
     "text": [
      "Speech 0.9888687\n",
      "1.0\n",
      "Dog 0.8626267\n",
      "1.0\n"
     ]
    },
    {
     "name": "stderr",
     "output_type": "stream",
     "text": [
      "/home/thomas/tools/miniconda2/envs/keras-sincnet-env/lib/python3.6/site-packages/matplotlib/figure.py:98: MatplotlibDeprecationWarning: \n",
      "Adding an axes using the same arguments as a previous axes currently reuses the earlier instance.  In a future version, a new instance will always be created and returned.  Meanwhile, this warning can be suppressed, and the future behavior ensured, by passing a unique label to each axes instance.\n",
      "  \"Adding an axes using the same arguments as a previous axes \"\n"
     ]
    },
    {
     "data": {
      "image/png": "[encoded data removed]",
      "text/plain": [
       "<Figure size 1080x504 with 2 Axes>"
      ]
     },
     "metadata": {
      "needs_background": "light"
     },
     "output_type": "display_data"
    }
   ],
   "source": [
    "time_vector = np.linspace(0, 10, loc_probs.shape[1])\n",
    "\n",
    "fig, axs = plt.subplots(1,1,figsize=(15,7))\n",
    "\n",
    "### axs.imshow(featTest[indice][:,:,0] , cmap='gray', interpolation='none', alpha=0.3)\n",
    "axs.imshow(x_test[0,:,:,0], origin='lower', interpolation='none', aspect='auto', alpha=0.7)\n",
    "\n",
    "# enlever les ticks\n",
    "\n",
    "plt.tick_params(\n",
    "    axis='both',          # changes apply to the x-axis\n",
    "    which='both',      # both major and minor ticks are affected\n",
    "    bottom=False,      # ticks along the bottom edge are off\n",
    "    top=False,         # ticks along the top edge are off\n",
    "    left=False,      # ticks along the bottom edge are off\n",
    "    right=False,         # ticks along the top edge are off\n",
    "    labelbottom=False,\n",
    "    labelleft=False) # labels along the bottom edge are off\n",
    "\n",
    "\n",
    "# # indice = 4\n",
    "nplots=2\n",
    "dico={0: 1, 1: 2}\n",
    "dico_c={0: 'b', 1: 'r'}\n",
    "dico_l={0: 'Speech', 1: 'Dog'}\n",
    "\n",
    "fig.canvas.draw()\n",
    "\n",
    "box = axs._position.bounds\n",
    "height = box[3] / nplots\n",
    "\n",
    "for i in range(nplots):\n",
    "\n",
    "    tmpax = fig.add_axes([box[0], box[1], box[2], box[3]])\n",
    "    tmpax.set_axis_off()\n",
    "    \n",
    "    \n",
    "    if False:\n",
    "        proba= temporalPrediction[indice,:,dico[i]]\n",
    "    else:\n",
    "        proba = loc_probs[0,:,dico[i]]\n",
    "\n",
    "    print(dico_l[i], np.max(proba))\n",
    "###     proba = dico_toto['Y-dDpGRPHzM0_30.000_40.000'][i]\n",
    "    proba = (proba - np.min(proba)) / (np.max(proba) - np.min(proba))\n",
    "    print(np.max(proba))\n",
    "    \n",
    "#     concat = np.concatenate((time_vector[:,np.newaxis], proba[:,np.newaxis]), axis=-1)\n",
    "#     np.savetxt('/home/thomas/research/demos/demo_dcase2018/{}_Y5J603SAj7QM_210.000_220.000.txt'.format(dico_l[i]), concat, fmt='%.3f')\n",
    "    \n",
    "    tmpax.plot(proba, dico_c[i], label=dico_l[i])\n",
    "    tmpax.set_ylim(0, np.max(proba))\n",
    "    tmpax.set_xlim(0, 431)\n",
    "    plt.legend(loc=2, fontsize=14)\n"
   ]
  },
  {
   "cell_type": "markdown",
   "metadata": {},
   "source": [
    "# Audio Tagging on the Validation subset"
   ]
  },
  {
   "cell_type": "code",
   "execution_count": 25,
   "metadata": {
    "ExecuteTime": {
     "end_time": "2019-07-03T12:18:32.177296Z",
     "start_time": "2019-07-03T12:18:32.161076Z"
    }
   },
   "outputs": [],
   "source": [
    "# utility functions\n",
    "\n",
    "def create_y_arrays(file_lst, at_gt_dict, at_probs):\n",
    "\n",
    "    all_y_true = []\n",
    "    all_y_pred = []\n",
    "\n",
    "    for i, file_id in enumerate(file_lst):\n",
    "        y_true = at_gt_dict[file_id]\n",
    "        all_y_true.append(y_true)\n",
    "        all_y_pred.append(1*(at_probs[i]>0.5))\n",
    "    \n",
    "    return np.array(all_y_true), np.array(all_y_pred)\n",
    "\n",
    "\n",
    "def score_per_class(all_y_true, all_y_pred):\n",
    "    from sklearn.metrics import precision_recall_fscore_support\n",
    "    all_y_true = np.array(all_y_true)\n",
    "    all_y_pred = np.array(all_y_pred)\n",
    "    nb_classes = len(all_y_true[0])\n",
    "    for cl in range(nb_classes):\n",
    "        class_true = all_y_true[:,cl]\n",
    "        class_pred = all_y_pred[:,cl]\n",
    "        p, r, fscore, support = precision_recall_fscore_support(class_true, class_pred, average='binary', pos_label=1)\n",
    "        print('%s %.2f %.2f %.2f'%(class_correspondance_reverse[cl], 100*p, 100*r, 100*fscore))\n"
   ]
  },
  {
   "cell_type": "code",
   "execution_count": 26,
   "metadata": {
    "ExecuteTime": {
     "end_time": "2019-07-03T12:19:20.964153Z",
     "start_time": "2019-07-03T12:18:34.143845Z"
    }
   },
   "outputs": [
    {
     "name": "stdout",
     "output_type": "stream",
     "text": [
      "18/18 [==============================] - 47s 3s/step\n"
     ]
    }
   ],
   "source": [
    "val_probs1 = model1.predict_generator(generator=dev_generator,\n",
    "    steps=nb_steps_dev,\n",
    "    use_multiprocessing=True,\n",
    "    workers=os.cpu_count()//2,\n",
    "    max_queue_size=10,\n",
    "    verbose=1)"
   ]
  },
  {
   "cell_type": "code",
   "execution_count": 27,
   "metadata": {
    "ExecuteTime": {
     "end_time": "2019-07-03T12:19:22.336758Z",
     "start_time": "2019-07-03T12:19:22.323108Z"
    }
   },
   "outputs": [
    {
     "name": "stdout",
     "output_type": "stream",
     "text": [
      "Shapes of the predictions: localization: (1152, 431, 10) tagging: (1152, 10)\n"
     ]
    }
   ],
   "source": [
    "print('Shapes of the predictions: localization:', val_probs1[0].shape, 'tagging:', val_probs1[1].shape)"
   ]
  },
  {
   "cell_type": "markdown",
   "metadata": {},
   "source": [
    "Keep only the 1122 first predictions (the remainder are duplicated predictions due to the generator)"
   ]
  },
  {
   "cell_type": "code",
   "execution_count": 28,
   "metadata": {
    "ExecuteTime": {
     "end_time": "2019-07-03T12:19:29.579672Z",
     "start_time": "2019-07-03T12:19:29.569015Z"
    }
   },
   "outputs": [
    {
     "data": {
      "text/plain": [
       "((1122, 431, 10), (1122, 10))"
      ]
     },
     "execution_count": 28,
     "metadata": {},
     "output_type": "execute_result"
    }
   ],
   "source": [
    "# nb_files=1122 # len(wav_lst_validation)\n",
    "\n",
    "val_probs1[0] = val_probs1[0][:len(wav_lst_validation)]\n",
    "val_probs1[1] = val_probs1[1][:len(wav_lst_validation)]\n",
    "\n",
    "val_probs1[0].shape, val_probs1[1].shape"
   ]
  },
  {
   "cell_type": "code",
   "execution_count": null,
   "metadata": {
    "ExecuteTime": {
     "end_time": "2019-06-07T16:23:52.332742Z",
     "start_time": "2019-06-07T16:23:51.994288Z"
    }
   },
   "outputs": [],
   "source": [
    "# np.save(modeldir + '/models_train_synthetic/osirim_dcase19.90-0.1650-0.3258/AT_probs.npy', val_probs1[1], allow_pickle=True)\n",
    "# np.save(modeldir + '/models_train_synthetic/osirim_dcase19.90-0.1650-0.3258/STRONG_probs.npy', val_probs1[0], allow_pickle=True)"
   ]
  },
  {
   "cell_type": "code",
   "execution_count": null,
   "metadata": {
    "ExecuteTime": {
     "end_time": "2019-06-07T12:01:43.502484Z",
     "start_time": "2019-06-07T12:01:43.499067Z"
    }
   },
   "outputs": [],
   "source": [
    "# losses = model.evaluate_generator(generator=dev_generator)\n",
    "# losses\n",
    "# [0.3701458238065243, 0.16670954041182995, 0.20343628618866205]"
   ]
  },
  {
   "cell_type": "code",
   "execution_count": 29,
   "metadata": {
    "ExecuteTime": {
     "end_time": "2019-07-03T12:19:34.794731Z",
     "start_time": "2019-07-03T12:19:34.754081Z"
    }
   },
   "outputs": [
    {
     "data": {
      "text/plain": [
       "((1122, 10), (1122, 10))"
      ]
     },
     "execution_count": 29,
     "metadata": {},
     "output_type": "execute_result"
    }
   ],
   "source": [
    "all_y_true, all_y_pred1 = create_y_arrays(wav_lst_validation, dico_tags_y_validation, val_probs1[1])\n",
    "all_y_true.shape, all_y_pred1.shape"
   ]
  },
  {
   "cell_type": "code",
   "execution_count": 30,
   "metadata": {
    "ExecuteTime": {
     "end_time": "2019-07-03T12:19:36.215215Z",
     "start_time": "2019-07-03T12:19:36.195351Z"
    }
   },
   "outputs": [
    {
     "name": "stdout",
     "output_type": "stream",
     "text": [
      "p:70.16 r:66.34 f1:67.29 acc:51.52\n"
     ]
    }
   ],
   "source": [
    "p1, r1, fscore1, support = precision_recall_fscore_support(all_y_true, all_y_pred1, average='macro')\n",
    "acc1 = accuracy_score(all_y_true, all_y_pred1)\n",
    "\n",
    "print('p:%.2f r:%.2f f1:%.2f acc:%.2f'%(100.*p1, 100.*r1, 100.*fscore1, 100.*acc1))"
   ]
  },
  {
   "cell_type": "code",
   "execution_count": 31,
   "metadata": {
    "ExecuteTime": {
     "end_time": "2019-07-03T12:19:37.859891Z",
     "start_time": "2019-07-03T12:19:37.833072Z"
    }
   },
   "outputs": [
    {
     "name": "stdout",
     "output_type": "stream",
     "text": [
      "Alarm_bell_ringing 91.28 73.12 81.19\n",
      "Speech 96.25 85.64 90.64\n",
      "Dog 64.81 65.62 65.22\n",
      "Cat 61.72 65.83 63.71\n",
      "Vacuum_cleaner 61.40 76.92 68.29\n",
      "Dishes 61.83 56.25 58.91\n",
      "Frying 50.74 80.23 62.16\n",
      "Electric_shaver_toothbrush 71.74 53.23 61.11\n",
      "Blender 61.67 46.25 52.86\n",
      "Running_water 80.14 60.31 68.82\n"
     ]
    }
   ],
   "source": [
    "score_per_class(all_y_true, all_y_pred1)"
   ]
  },
  {
   "cell_type": "markdown",
   "metadata": {
    "heading_collapsed": true
   },
   "source": [
    "## AT threshold optimization ..."
   ]
  },
  {
   "cell_type": "markdown",
   "metadata": {
    "hidden": true
   },
   "source": [
    "Simulated-Annealing-like optimization of the tagging thresholds\n",
    "\n",
    "Here we optimize the global F-score computed with sklearn"
   ]
  },
  {
   "cell_type": "code",
   "execution_count": 42,
   "metadata": {
    "ExecuteTime": {
     "end_time": "2019-07-03T12:23:43.648121Z",
     "start_time": "2019-07-03T12:23:43.621498Z"
    },
    "hidden": true
   },
   "outputs": [],
   "source": [
    "def at_threshold_opti(y_true, y_pred):\n",
    "    \n",
    "    \"\"\"optimization routine to optimize AT F-score\n",
    "    \n",
    "    We start from default 0.5 thresholds and search for better ones for each of the ten classes\"\"\"\n",
    "    \n",
    "    bin_y_pred = y_pred.copy()\n",
    "    bin_y_pred[bin_y_pred > 0.5] = 1\n",
    "    bin_y_pred[bin_y_pred <= 0.5] = 0\n",
    "\n",
    "    sk_f1 = np.asarray( sk.metrics.f1_score(bin_y_pred, y_true, average=None) )\n",
    "\n",
    "    macro_iteration = 80\n",
    "    micro_interation = 400\n",
    "\n",
    "    history = {\n",
    "        \"best_f1\": [[] for _ in range(10)],\n",
    "        \"f1\": []\n",
    "    }\n",
    "\n",
    "    best_thresholds = [0.5] * 10\n",
    "    best_f1 = sk_f1.copy()\n",
    "\n",
    "    progress = tqdm.tqdm_notebook(total = macro_iteration * micro_interation)\n",
    "    for M in range(macro_iteration):\n",
    "        thresholds = [0.5] * 10\n",
    "        delta_ratio = 0.2\n",
    "        delta_decay = 1e-4\n",
    "\n",
    "        for m in range(micro_interation):\n",
    "            bin_y_pred = y_pred.copy()\n",
    "\n",
    "            # calc new threhsold\n",
    "            r = np.array([np.random.normal(t, 0.6) for t in thresholds])\n",
    "            delta = r * delta_ratio\n",
    "            new_thresholds = thresholds + delta\n",
    "            delta_ratio -= delta_decay\n",
    "\n",
    "\n",
    "            # apply threshold\n",
    "            bin_y_pred[bin_y_pred > new_thresholds] = 1\n",
    "            bin_y_pred[bin_y_pred <= new_thresholds] = 0\n",
    "\n",
    "            # calc new f1\n",
    "            new_f1 = sk.metrics.f1_score(bin_y_pred, y_true, average=None)\n",
    "            history[\"f1\"].append(new_f1)\n",
    "\n",
    "            # check\n",
    "            for i in range(10):\n",
    "                if new_f1[i] > best_f1[i]:\n",
    "#                     print(new_f1[i], \" > \", best_f1[i])\n",
    "                    best_f1[i] = new_f1[i]\n",
    "                    best_thresholds[i] = new_thresholds[i]\n",
    "                    thresholds[i] = best_thresholds[i]\n",
    "                    history[\"best_f1\"][i].append(best_f1[i])\n",
    "\n",
    "            progress.update()\n",
    "    return sk_f1, best_f1, best_thresholds, history"
   ]
  },
  {
   "cell_type": "code",
   "execution_count": 43,
   "metadata": {
    "ExecuteTime": {
     "end_time": "2019-07-03T12:24:56.314414Z",
     "start_time": "2019-07-03T12:23:45.212873Z"
    },
    "hidden": true
   },
   "outputs": [
    {
     "data": {
      "application/vnd.jupyter.widget-view+json": {
       "model_id": "d53e87c9214249be9bbb27bc8af286f6",
       "version_major": 2,
       "version_minor": 0
      },
      "text/plain": [
       "HBox(children=(IntProgress(value=0, max=32000), HTML(value='')))"
      ]
     },
     "metadata": {},
     "output_type": "display_data"
    },
    {
     "name": "stderr",
     "output_type": "stream",
     "text": [
      "/home/thomas/tools/miniconda2/envs/keras-sincnet-env/lib/python3.6/site-packages/sklearn/metrics/classification.py:1145: UndefinedMetricWarning: F-score is ill-defined and being set to 0.0 in labels with no true samples.\n",
      "  'recall', 'true', average, warn_for)\n"
     ]
    }
   ],
   "source": [
    "# let's optimize the AT thresholds,\n",
    "# should take about 1min30s\n",
    "\n",
    "sk_f1, best_f1, best_AT_thresholds, history = at_threshold_opti(np.array(all_y_true), val_probs1[1])"
   ]
  },
  {
   "cell_type": "code",
   "execution_count": 44,
   "metadata": {
    "ExecuteTime": {
     "end_time": "2019-07-03T12:27:45.722001Z",
     "start_time": "2019-07-03T12:27:45.713169Z"
    },
    "hidden": true
   },
   "outputs": [
    {
     "data": {
      "text/plain": [
       "array([0.83957219, 0.91645134, 0.68131868, 0.67811159, 0.69822485,\n",
       "       0.61146497, 0.625     , 0.64661654, 0.5786802 , 0.71111111])"
      ]
     },
     "execution_count": 44,
     "metadata": {},
     "output_type": "execute_result"
    }
   ],
   "source": [
    "best_f1"
   ]
  },
  {
   "cell_type": "code",
   "execution_count": 45,
   "metadata": {
    "ExecuteTime": {
     "end_time": "2019-07-03T12:27:50.687348Z",
     "start_time": "2019-07-03T12:27:49.175206Z"
    },
    "hidden": true
   },
   "outputs": [
    {
     "data": {
      "image/png": "[encoded data removed]",
      "text/plain": [
       "<Figure size 1080x432 with 10 Axes>"
      ]
     },
     "metadata": {
      "needs_background": "light"
     },
     "output_type": "display_data"
    }
   ],
   "source": [
    "import matplotlib.pyplot as plt\n",
    "\n",
    "history_f1 = np.asarray(history[\"best_f1\"])\n",
    "plt.figure(figsize=(15, 6))\n",
    "for i in range(10):\n",
    "    plt.subplot(2, 5, i+1)\n",
    "    plt.plot(history_f1[i])\n",
    "plt.tight_layout()\n",
    "plt.show()"
   ]
  },
  {
   "cell_type": "code",
   "execution_count": 46,
   "metadata": {
    "ExecuteTime": {
     "end_time": "2019-07-03T12:27:53.743513Z",
     "start_time": "2019-07-03T12:27:53.736781Z"
    },
    "hidden": true
   },
   "outputs": [],
   "source": [
    "dico_at_best_thresholds = {}\n",
    "for i in range(10):\n",
    "    dico_at_best_thresholds[class_correspondance_reverse[i]] = best_AT_thresholds[i]"
   ]
  },
  {
   "cell_type": "code",
   "execution_count": 48,
   "metadata": {
    "ExecuteTime": {
     "end_time": "2019-07-03T12:28:01.522617Z",
     "start_time": "2019-07-03T12:28:01.513048Z"
    },
    "hidden": true
   },
   "outputs": [
    {
     "data": {
      "text/plain": [
       "{'Alarm_bell_ringing': 0.1266464683361066,\n",
       " 'Speech': 0.2890963906458225,\n",
       " 'Dog': 0.806469199947776,\n",
       " 'Cat': 0.654680832796182,\n",
       " 'Vacuum_cleaner': 0.7246505227678866,\n",
       " 'Dishes': 0.3742614601764581,\n",
       " 'Frying': 0.48550778346639883,\n",
       " 'Electric_shaver_toothbrush': 0.23924344732551758,\n",
       " 'Blender': 0.23586753497316892,\n",
       " 'Running_water': 0.21370121347326265}"
      ]
     },
     "execution_count": 48,
     "metadata": {},
     "output_type": "execute_result"
    }
   ],
   "source": [
    "dico_at_best_thresholds"
   ]
  },
  {
   "cell_type": "code",
   "execution_count": null,
   "metadata": {
    "hidden": true
   },
   "outputs": [],
   "source": [
    "# save the best thresholds\n",
    "\n",
    "# pickle.dump(dico_at_best_thresholds, open('models/models_train_synthetic/osirim_dcase19.90-0.1658-0.3292/AT_thresholds.pkl', \"wb\"))"
   ]
  },
  {
   "cell_type": "markdown",
   "metadata": {},
   "source": [
    "## ... or load saved best thresholds"
   ]
  },
  {
   "cell_type": "code",
   "execution_count": 34,
   "metadata": {
    "ExecuteTime": {
     "end_time": "2019-07-03T12:20:35.561098Z",
     "start_time": "2019-07-03T12:20:35.554768Z"
    }
   },
   "outputs": [],
   "source": [
    "# change path accordingly\n",
    "\n",
    "best_AT_thresholds_dict = pickle.load(open('models/models_train_synthetic/osirim_dcase19.90-0.1658-0.3292/AT_thresholds.pkl', \"rb\"))"
   ]
  },
  {
   "cell_type": "code",
   "execution_count": 35,
   "metadata": {
    "ExecuteTime": {
     "end_time": "2019-07-03T12:20:36.043860Z",
     "start_time": "2019-07-03T12:20:36.035054Z"
    }
   },
   "outputs": [
    {
     "data": {
      "text/plain": [
       "[0.1214675778846487,\n",
       " 0.2865209624836408,\n",
       " 0.7976113837982772,\n",
       " 0.6562882131426222,\n",
       " 0.7229904131716726,\n",
       " 0.3742572346545957,\n",
       " 0.4880301959960084,\n",
       " 0.23809283061772726,\n",
       " 0.2356516053912887,\n",
       " 0.21600981881417408]"
      ]
     },
     "execution_count": 35,
     "metadata": {},
     "output_type": "execute_result"
    }
   ],
   "source": [
    "best_AT_thresholds = []\n",
    "for i in range(10):\n",
    "    best_AT_thresholds.append(best_AT_thresholds_dict[class_correspondance_reverse[i]])\n",
    "best_AT_thresholds    "
   ]
  },
  {
   "cell_type": "markdown",
   "metadata": {
    "heading_collapsed": true
   },
   "source": [
    "## Apply optimized AT thresholds on the validation predictions"
   ]
  },
  {
   "cell_type": "code",
   "execution_count": 36,
   "metadata": {
    "ExecuteTime": {
     "end_time": "2019-07-03T12:20:39.986123Z",
     "start_time": "2019-07-03T12:20:39.979461Z"
    },
    "hidden": true
   },
   "outputs": [],
   "source": [
    "# derive binary predictions with the optimized thresholds\n",
    "\n",
    "X_val_pred_1_bin = val_probs1[1].copy()\n",
    "# X_val_pred_1_bin = mean_probs.copy()\n",
    "\n",
    "X_val_pred_1_bin[X_val_pred_1_bin > best_AT_thresholds] = 1\n",
    "X_val_pred_1_bin[X_val_pred_1_bin <= best_AT_thresholds] = 0"
   ]
  },
  {
   "cell_type": "code",
   "execution_count": 37,
   "metadata": {
    "ExecuteTime": {
     "end_time": "2019-07-03T12:20:40.820559Z",
     "start_time": "2019-07-03T12:20:40.801990Z"
    },
    "hidden": true
   },
   "outputs": [
    {
     "data": {
      "text/plain": [
       "'69.04 72.54 69.87 54.28'"
      ]
     },
     "execution_count": 37,
     "metadata": {},
     "output_type": "execute_result"
    }
   ],
   "source": [
    "p, r, fscore, support = precision_recall_fscore_support(all_y_true, X_val_pred_1_bin, average='macro')\n",
    "acc = accuracy_score(all_y_true, X_val_pred_1_bin)\n",
    "'%.2f %.2f %.2f %.2f'%(100*p, 100*r, 100*fscore, 100*acc)"
   ]
  },
  {
   "cell_type": "code",
   "execution_count": 38,
   "metadata": {
    "ExecuteTime": {
     "end_time": "2019-07-03T12:20:42.188391Z",
     "start_time": "2019-07-03T12:20:42.156765Z"
    },
    "hidden": true
   },
   "outputs": [
    {
     "name": "stdout",
     "output_type": "stream",
     "text": [
      "Alarm_bell_ringing 83.16 84.95 84.04\n",
      "Speech 94.66 88.81 91.65\n",
      "Dog 82.30 58.13 68.13\n",
      "Cat 69.91 65.83 67.81\n",
      "Vacuum_cleaner 75.64 64.84 69.82\n",
      "Dishes 56.47 66.67 61.15\n",
      "Frying 50.72 81.40 62.50\n",
      "Electric_shaver_toothbrush 60.56 69.35 64.66\n",
      "Blender 48.72 71.25 57.87\n",
      "Running_water 68.25 74.23 71.11\n"
     ]
    }
   ],
   "source": [
    "score_per_class(all_y_true, X_val_pred_1_bin)"
   ]
  },
  {
   "cell_type": "markdown",
   "metadata": {},
   "source": [
    "# Audio event localization on the Validation subset: threshold optimization"
   ]
  },
  {
   "cell_type": "markdown",
   "metadata": {},
   "source": [
    "We first define utility functions, in particular a function to retain the strong prediction curves of the audio tags predicted by our model:\n",
    "\n",
    "get_prob_curves_for_predicted_classes()\n"
   ]
  },
  {
   "cell_type": "code",
   "execution_count": 32,
   "metadata": {
    "ExecuteTime": {
     "end_time": "2019-07-03T12:20:01.774197Z",
     "start_time": "2019-07-03T12:20:01.746489Z"
    }
   },
   "outputs": [],
   "source": [
    "def rescale(array_1d, border_index=0):\n",
    "    \"\"\"rescale between 0 and 1 a 1d-array\"\"\"\n",
    "#     border_index = 3\n",
    "    if border_index > 0:\n",
    "        return (array_1d - np.min(array_1d[border_index:-border_index])) / (np.max(array_1d[border_index:-border_index]) - np.min(array_1d[border_index:-border_index]))\n",
    "    else:\n",
    "        return (array_1d - np.min(array_1d)) / (np.max(array_1d) - np.min(array_1d))\n",
    "        \n",
    "    \n",
    "def get_prob_curves_for_predicted_classes(audio_tag_probs, strong_probs, featTestList, int2className):\n",
    "    \n",
    "    audio_tag_preds = 1*(audio_tag_probs>0.5)\n",
    "    \n",
    "    dico_prob_curves_for_predicted_classes = {}\n",
    "    for i, fileid in enumerate(featTestList):\n",
    "        dico_prob_curves_for_predicted_classes[fileid] = {}\n",
    "        current_classes = np.nonzero(audio_tag_preds[i])[0]\n",
    "        for j in range(current_classes.shape[0]):\n",
    "            class_name = int2className[current_classes[j]]\n",
    "            dico_prob_curves_for_predicted_classes[fileid][class_name] = rescale(strong_probs[i,:,current_classes[j]], border_index=0)\n",
    "#             dico_prob_curves_for_predicted_classes[fileid_short][class_name] = strong_probs[i,:,current_classes[j]]\n",
    "    \n",
    "    return dico_prob_curves_for_predicted_classes\n",
    "\n",
    "\n",
    "def from_strong_probs_dict_2_strong_probs_3d_array(dico_prob_curves_for_predicted_classes, wav_lst_validation):\n",
    "\n",
    "    nbFrame = 431\n",
    "    out_dim = 10\n",
    "\n",
    "    # rearange list of results\n",
    "    results = np.zeros((len(wav_lst_validation), nbFrame, out_dim))\n",
    "\n",
    "    for i, f in enumerate(wav_lst_validation):\n",
    "        dico_strong_probs = dico_prob_curves_for_predicted_classes[f]\n",
    "        curves = np.zeros((nbFrame, out_dim))\n",
    "        \n",
    "        for event, prob in dico_strong_probs.items():\n",
    "            curves[:,class_correspondance[event]] = prob\n",
    "\n",
    "        results[i] = curves\n",
    "    return results\n",
    "\n",
    "\n",
    "def load_test_strong_ground_truth(fpath):\n",
    "    # test ground truth\n",
    "    with open(fpath, \"r\") as f:\n",
    "        str_strong_y_true = f.read().splitlines()[1:]\n",
    "    \n",
    "    to_be_removed = []\n",
    "    for el in str_strong_y_true:\n",
    "        info = el.split(\"\\t\")\n",
    "        if info[1] == '':\n",
    "            to_be_removed.append(el)\n",
    "    return [el for el in str_strong_y_true if el not in to_be_removed] \n"
   ]
  },
  {
   "cell_type": "code",
   "execution_count": null,
   "metadata": {
    "ExecuteTime": {
     "end_time": "2019-07-03T11:20:15.887386Z",
     "start_time": "2019-07-03T11:20:15.883866Z"
    }
   },
   "outputs": [],
   "source": [
    "# print('without AT optimized thresholds')\n",
    "# dico_prob_curves = get_prob_curves_for_predicted_classes(val_probs1[1], \n",
    "#                                                          val_probs1[0], \n",
    "#                                                          wav_lst_validation, \n",
    "#                                                          class_correspondance_reverse)"
   ]
  },
  {
   "cell_type": "markdown",
   "metadata": {},
   "source": [
    "We retain the curves of the audio tags predicted with the optimized tagging thresholds estimated in Section 10"
   ]
  },
  {
   "cell_type": "code",
   "execution_count": 49,
   "metadata": {
    "ExecuteTime": {
     "end_time": "2019-07-03T12:29:02.351191Z",
     "start_time": "2019-07-03T12:29:02.217477Z"
    }
   },
   "outputs": [
    {
     "name": "stdout",
     "output_type": "stream",
     "text": [
      "with AT optimized thresholds\n"
     ]
    }
   ],
   "source": [
    "print('with AT optimized thresholds')\n",
    "dico_prob_curves = get_prob_curves_for_predicted_classes(X_val_pred_1_bin, \n",
    "                                                         val_probs1[0], \n",
    "                                                         wav_lst_validation, \n",
    "                                                         class_correspondance_reverse)"
   ]
  },
  {
   "cell_type": "code",
   "execution_count": 50,
   "metadata": {
    "ExecuteTime": {
     "end_time": "2019-07-03T12:29:04.334543Z",
     "start_time": "2019-07-03T12:29:04.327709Z"
    }
   },
   "outputs": [
    {
     "data": {
      "text/plain": [
       "1122"
      ]
     },
     "execution_count": 50,
     "metadata": {},
     "output_type": "execute_result"
    }
   ],
   "source": [
    "len(dico_prob_curves)"
   ]
  },
  {
   "cell_type": "code",
   "execution_count": 51,
   "metadata": {
    "ExecuteTime": {
     "end_time": "2019-07-03T12:29:05.334307Z",
     "start_time": "2019-07-03T12:29:05.320414Z"
    }
   },
   "outputs": [
    {
     "data": {
      "text/plain": [
       "(array([1., 1., 0., 0., 0., 0., 0., 0., 0., 1.]),\n",
       " ['Y00pbt6aJV8Y_350.000_360.000.wav',\n",
       "  'Y00pK0GMmE9s_70.000_80.000.wav',\n",
       "  'Y02sD1KJeoGA_50.000_60.000.wav',\n",
       "  'Y0bjUq9XMMmQ_30.000_40.000.wav',\n",
       "  'Y0cH_NlhhMAs_30.000_40.000.wav'],\n",
       " 1722)"
      ]
     },
     "execution_count": 51,
     "metadata": {},
     "output_type": "execute_result"
    }
   ],
   "source": [
    "gt_tags_y_validation[5], wav_lst_validation[:5], sum(sum(1*(gt_tags_y_validation>0.5)))"
   ]
  },
  {
   "cell_type": "code",
   "execution_count": 52,
   "metadata": {
    "ExecuteTime": {
     "end_time": "2019-07-03T12:29:06.130865Z",
     "start_time": "2019-07-03T12:29:06.072427Z"
    }
   },
   "outputs": [
    {
     "data": {
      "text/plain": [
       "(1122, 431, 10)"
      ]
     },
     "execution_count": 52,
     "metadata": {},
     "output_type": "execute_result"
    }
   ],
   "source": [
    "strong_probs_3d_array = from_strong_probs_dict_2_strong_probs_3d_array(dico_prob_curves, wav_lst_validation)\n",
    "strong_probs_3d_array.shape"
   ]
  },
  {
   "cell_type": "code",
   "execution_count": 54,
   "metadata": {
    "ExecuteTime": {
     "end_time": "2019-07-03T12:32:49.426641Z",
     "start_time": "2019-07-03T12:32:49.405707Z"
    }
   },
   "outputs": [],
   "source": [
    "# load groundtruth labels\n",
    "\n",
    "# change path accordingly\n",
    "\n",
    "# validation.csv is available in the DCASE 2019 task 4 Webpage\n",
    "gt_fpath = '/baie/corpus/DCASE2019/task4/dataset/metadata/validation/validation.csv'\n",
    "str_strong_y_true = load_test_strong_ground_truth(gt_fpath)\n"
   ]
  },
  {
   "cell_type": "markdown",
   "metadata": {},
   "source": [
    "Let's optimize the audio event localization thresholds in a class-wise fashion"
   ]
  },
  {
   "cell_type": "code",
   "execution_count": 55,
   "metadata": {
    "ExecuteTime": {
     "end_time": "2019-07-03T12:32:50.549195Z",
     "start_time": "2019-07-03T12:32:50.515222Z"
    }
   },
   "outputs": [],
   "source": [
    "def class_wise_optimization(optimizer, class_to_monitor, strong_y_true, strong_pred, filenames, method=\"threshold\"):\n",
    "    class_wise_results = {}\n",
    "    \n",
    "    for cl in class_to_monitor:\n",
    "        optimizer.fit(\n",
    "            strong_y_true, strong_pred, filenames,\n",
    "            monitor=[\"class_wise\", cl, \"f_measure\", \"f_measure\"],\n",
    "            method=method,\n",
    "            verbose=2)\n",
    "        \n",
    "        parameters, score = optimizer.best\n",
    "        print(cl, parameters, score)\n",
    "        class_wise_results[cl] = (parameters, score)\n",
    "        \n",
    "    return class_wise_results\n",
    "\n",
    "\n",
    "def get_class_dependent_parameters(class_wise_results, class_list):\n",
    "    class_dependent_parameters = {}\n",
    "    for cl in class_list:\n",
    "        for param in class_wise_results[cl][0]:\n",
    "            if param not in class_dependent_parameters.keys():\n",
    "                class_dependent_parameters[param] = []\n",
    "            class_dependent_parameters[param].append(class_wise_results[cl][0][param])\n",
    "            \n",
    "    # TODO find better way\n",
    "    # for \"smooth\" common parameters, remove list\n",
    "    class_dependent_parameters[\"smooth\"] = class_dependent_parameters[\"smooth\"][0]\n",
    "    return class_dependent_parameters"
   ]
  },
  {
   "cell_type": "code",
   "execution_count": 56,
   "metadata": {
    "ExecuteTime": {
     "end_time": "2019-07-03T12:32:51.683059Z",
     "start_time": "2019-07-03T12:32:51.675997Z"
    }
   },
   "outputs": [],
   "source": [
    "class_list = ['Alarm_bell_ringing', 'Speech', 'Dog', 'Cat', 'Vacuum_cleaner', 'Dishes', 'Frying', 'Electric_shaver_toothbrush', 'Blender', 'Running_water']\n",
    "\n",
    "# Create an encoder needed to generate the final event segments and enable scoring\n",
    "\n",
    "encoder = Encoder(\n",
    "    classes=class_list,\n",
    "    temporal_precision = 200,  # ms\n",
    "    clip_length = 10,          # s\n",
    "    minimal_segment_step = 200 # ms\n",
    ")"
   ]
  },
  {
   "cell_type": "markdown",
   "metadata": {
    "heading_collapsed": true
   },
   "source": [
    "## Method 1: absolute threshold, not the best results, best results with hysteresis (see below) "
   ]
  },
  {
   "cell_type": "code",
   "execution_count": null,
   "metadata": {
    "ExecuteTime": {
     "end_time": "2019-06-08T10:16:47.487619Z",
     "start_time": "2019-06-08T10:16:24.506Z"
    },
    "hidden": true
   },
   "outputs": [],
   "source": [
    "# Perform the optimization ON TEST\n",
    "# Create the optimizer\n",
    "optimizer = DichotomicOptimizer(\n",
    "    {\n",
    "        \"threshold\": (0.01, 0.99),\n",
    "        \"smooth\": \"smoothMovingAvg\",\n",
    "        \"window_len\": (3, 27)\n",
    "    },\n",
    "    \n",
    "    encoder = encoder,\n",
    "    step = 6,\n",
    "    nb_recurse = 8,\n",
    "    nb_process = 20\n",
    ")\n",
    "\n",
    "class_wise_results = class_wise_optimization(\n",
    "    optimizer,\n",
    "    class_list,\n",
    "    method=\"threshold\",\n",
    "    strong_y_true=str_strong_y_true,\n",
    "    strong_pred=strong_probs_3d_array,\n",
    "    filenames=wav_lst_validation\n",
    ")"
   ]
  },
  {
   "cell_type": "code",
   "execution_count": null,
   "metadata": {
    "ExecuteTime": {
     "end_time": "2019-06-08T10:16:47.489132Z",
     "start_time": "2019-06-08T10:16:30.978Z"
    },
    "hidden": true
   },
   "outputs": [],
   "source": [
    "# check test\n",
    "best_parameters = get_class_dependant_parameters(class_wise_results, class_list)\n",
    "\n",
    "segments = encoder.encode(\n",
    "    strong_probs_3d_array,\n",
    "    method=\"threshold\",\n",
    "    **best_parameters\n",
    ")\n",
    "to_evaluate = encoder.parse(segments, wav_lst_validation)\n",
    "evaluator = eb_evaluator(str_strong_y_true, to_evaluate)\n",
    "print(evaluator)"
   ]
  },
  {
   "cell_type": "code",
   "execution_count": null,
   "metadata": {
    "ExecuteTime": {
     "end_time": "2019-06-08T10:16:47.490542Z",
     "start_time": "2019-06-08T10:16:32.397Z"
    },
    "hidden": true
   },
   "outputs": [],
   "source": [
    "sb_evaluator = sb_evaluator(str_strong_y_true, to_evaluate, time_resolution=1.0)\n",
    "print(sb_evaluator)"
   ]
  },
  {
   "cell_type": "code",
   "execution_count": null,
   "metadata": {
    "hidden": true
   },
   "outputs": [],
   "source": []
  },
  {
   "cell_type": "markdown",
   "metadata": {
    "heading_collapsed": true
   },
   "source": [
    "## Method 2: hysteresis, the best one but the optimization takes several hours ..."
   ]
  },
  {
   "cell_type": "code",
   "execution_count": null,
   "metadata": {
    "ExecuteTime": {
     "end_time": "2019-06-09T13:39:36.128502Z",
     "start_time": "2019-06-09T08:10:14.105779Z"
    },
    "hidden": true
   },
   "outputs": [],
   "source": [
    "# Perform the optimization ON TEST\n",
    "# Create the optimizer\n",
    "optimizer = DichotomicOptimizer(\n",
    "    {\n",
    "        \"high\": (0.01, 0.99),\n",
    "        \"low\": (0.01, 0.99),\n",
    "        \"smooth\": \"smoothMovingAvg\",\n",
    "        \"window_len\": (3, 27)\n",
    "    },\n",
    "    \n",
    "    encoder = encoder,\n",
    "    step = 6,\n",
    "    nb_recurse = 8,\n",
    "    nb_process = 24\n",
    ")\n",
    "\n",
    "class_wise_results = class_wise_optimization(\n",
    "    optimizer,\n",
    "    class_list,\n",
    "    method=\"hysteresis\",\n",
    "    strong_y_true=str_strong_y_true,\n",
    "    strong_pred=strong_probs_3d_array,\n",
    "    filenames=wav_lst_validation\n",
    ")"
   ]
  },
  {
   "cell_type": "code",
   "execution_count": null,
   "metadata": {
    "ExecuteTime": {
     "end_time": "2019-06-09T13:39:43.126921Z",
     "start_time": "2019-06-09T13:39:36.130798Z"
    },
    "hidden": true
   },
   "outputs": [],
   "source": [
    "# Let's optimize the localization thresholds\n",
    "best_parameters = get_class_dependent_parameters(class_wise_results, class_list)"
   ]
  },
  {
   "cell_type": "code",
   "execution_count": null,
   "metadata": {
    "ExecuteTime": {
     "end_time": "2019-06-09T22:05:16.999010Z",
     "start_time": "2019-06-09T22:05:16.990530Z"
    },
    "hidden": true
   },
   "outputs": [],
   "source": [
    "best_parameters"
   ]
  },
  {
   "cell_type": "markdown",
   "metadata": {
    "hidden": true
   },
   "source": [
    "Save the best thresholds"
   ]
  },
  {
   "cell_type": "code",
   "execution_count": null,
   "metadata": {
    "ExecuteTime": {
     "end_time": "2019-06-09T22:05:07.618890Z",
     "start_time": "2019-06-09T22:05:07.495592Z"
    },
    "hidden": true
   },
   "outputs": [],
   "source": [
    "# pickle.dump(best_parameters, open('models/models_train_synthetic/osirim_dcase19.90-0.1658-0.3292/HYSTERESIS_params.pkl', \"wb\"))"
   ]
  },
  {
   "cell_type": "markdown",
   "metadata": {
    "heading_collapsed": true
   },
   "source": [
    "## ... or load pre-optimized best parameters for hysteresis"
   ]
  },
  {
   "cell_type": "code",
   "execution_count": 57,
   "metadata": {
    "ExecuteTime": {
     "end_time": "2019-07-03T12:33:59.410376Z",
     "start_time": "2019-07-03T12:33:59.399353Z"
    },
    "hidden": true
   },
   "outputs": [
    {
     "data": {
      "text/plain": [
       "{'high': [0.5271356757333334,\n",
       "  0.5482846720000001,\n",
       "  0.6946368,\n",
       "  0.4772119256177777,\n",
       "  0.16651934207999997,\n",
       "  0.35893777920000003,\n",
       "  0.31571412406857147,\n",
       "  0.09900318719999998,\n",
       "  0.33022080000000004,\n",
       "  0.1826494208],\n",
       " 'low': [0.21875972906666663,\n",
       "  0.99,\n",
       "  0.589248,\n",
       "  0.3948645229714285,\n",
       "  0.012735341714285716,\n",
       "  0.2478198528,\n",
       "  0.01039177142857143,\n",
       "  0.011436479999999999,\n",
       "  0.11516960000000001,\n",
       "  0.016673066666666667],\n",
       " 'smooth': 'smoothMovingAvg',\n",
       " 'window_len': [8.4351488,\n",
       "  12.818488320000004,\n",
       "  7.840800000000001,\n",
       "  24.36090624,\n",
       "  15.095972571428575,\n",
       "  8.4448,\n",
       "  27.0,\n",
       "  12.326159999999998,\n",
       "  13.7592,\n",
       "  27.0]}"
      ]
     },
     "execution_count": 57,
     "metadata": {},
     "output_type": "execute_result"
    }
   ],
   "source": [
    "# this pkl file is provided in the repo\n",
    "# change the path accordingly\n",
    "best_parameters = pickle.load(open('models/models_train_synthetic/osirim_dcase19.90-0.1658-0.3292/HYSTERESIS_params.pkl', \"rb\"))\n",
    "\n",
    "best_parameters"
   ]
  },
  {
   "cell_type": "markdown",
   "metadata": {
    "heading_collapsed": true
   },
   "source": [
    "## Evaluate on the validation subset"
   ]
  },
  {
   "cell_type": "code",
   "execution_count": 58,
   "metadata": {
    "ExecuteTime": {
     "end_time": "2019-07-03T12:34:11.953057Z",
     "start_time": "2019-07-03T12:34:04.644723Z"
    },
    "hidden": true
   },
   "outputs": [
    {
     "name": "stdout",
     "output_type": "stream",
     "text": [
      "Event based metrics (onset-offset)\n",
      "========================================\n",
      "  Evaluated length                  : 10161.15 sec\n",
      "  Evaluated files                   : 1122 \n",
      "  Evaluate onset                    : True \n",
      "  Evaluate offset                   : True \n",
      "  T collar                          : 200.00 ms\n",
      "  Offset (length)                   : 20.00 %\n",
      "\n",
      "  Overall metrics (micro-average)\n",
      "  ======================================\n",
      "  F-measure\n",
      "    F-measure (F1)                  : 38.41 %\n",
      "    Precision                       : 41.52 %\n",
      "    Recall                          : 35.74 %\n",
      "  Error rate\n",
      "    Error rate (ER)                 : 1.11 \n",
      "    Substitution rate               : 0.03 \n",
      "    Deletion rate                   : 0.61 \n",
      "    Insertion rate                  : 0.47 \n",
      "\n",
      "  Class-wise average metrics (macro-average)\n",
      "  ======================================\n",
      "  F-measure\n",
      "    F-measure (F1)                  : 40.19 %\n",
      "    Precision                       : 41.03 %\n",
      "    Recall                          : 41.51 %\n",
      "  Error rate\n",
      "    Error rate (ER)                 : 1.24 \n",
      "    Deletion rate                   : 0.58 \n",
      "    Insertion rate                  : 0.66 \n",
      "  \n",
      "\n",
      "  Class-wise metrics\n",
      "  ======================================\n",
      "    Event label  | Nref    Nsys  | F        Pre      Rec    | ER       Del      Ins    |\n",
      "    ------------ | -----   ----- | ------   ------   ------ | ------   ------   ------ |\n",
      "    Alarm_bell.. | 418     329   | 46.9%    53.2%    41.9%  | 0.95     0.58     0.37   |\n",
      "    Blender      | 96      158   | 39.4%    31.6%    52.1%  | 1.60     0.48     1.12   |\n",
      "    Cat          | 340     254   | 45.5%    53.1%    39.7%  | 0.95     0.60     0.35   |\n",
      "    Dishes       | 492     590   | 32.9%    30.2%    36.2%  | 1.48     0.64     0.84   |\n",
      "    Dog          | 577     322   | 19.1%    26.7%    14.9%  | 1.26     0.85     0.41   |\n",
      "    Electric_s.. | 65      90    | 45.2%    38.9%    53.8%  | 1.31     0.46     0.85   |\n",
      "    Frying       | 91      154   | 33.5%    26.6%    45.1%  | 1.79     0.55     1.24   |\n",
      "    Running_wa.. | 230     248   | 31.0%    29.8%    32.2%  | 1.43     0.68     0.76   |\n",
      "    Speech       | 1662    1272  | 42.3%    48.8%    37.4%  | 1.02     0.63     0.39   |\n",
      "    Vacuum_cle.. | 92      80    | 66.3%    71.2%    62.0%  | 0.63     0.38     0.25   |\n",
      "\n",
      "\n"
     ]
    }
   ],
   "source": [
    "segments = encoder.encode(\n",
    "    strong_probs_3d_array,\n",
    "    method=\"hysteresis\",\n",
    "    **best_parameters\n",
    ")\n",
    "\n",
    "to_evaluate = encoder.parse(segments, wav_lst_validation)\n",
    "evaluator = eb_evaluator(str_strong_y_true, to_evaluate)\n",
    "print(evaluator)"
   ]
  },
  {
   "cell_type": "code",
   "execution_count": 59,
   "metadata": {
    "ExecuteTime": {
     "end_time": "2019-07-03T12:34:40.069806Z",
     "start_time": "2019-07-03T12:34:11.955584Z"
    },
    "hidden": true
   },
   "outputs": [
    {
     "name": "stdout",
     "output_type": "stream",
     "text": [
      "Segment based metrics\n",
      "========================================\n",
      "  Evaluated length                  : 10562.88 sec\n",
      "  Evaluated files                   : 1122 \n",
      "  Segment length                    : 1.00 sec\n",
      "\n",
      "  Overall metrics (micro-average)\n",
      "  ======================================\n",
      "  F-measure\n",
      "    F-measure (F1)                  : 67.77 %\n",
      "    Precision                       : 68.38 %\n",
      "    Recall                          : 67.17 %\n",
      "  Error rate\n",
      "    Error rate (ER)                 : 0.51 \n",
      "    Substitution rate               : 0.13 \n",
      "    Deletion rate                   : 0.20 \n",
      "    Insertion rate                  : 0.18 \n",
      "  Accuracy\n",
      "    Sensitivity                     : 67.17 %\n",
      "    Specificity                     : 96.57 %\n",
      "    Balanced accuracy               : 81.87 %\n",
      "    Accuracy                        : 93.65 %\n",
      "\n",
      "  Class-wise average metrics (macro-average)\n",
      "  ======================================\n",
      "  F-measure\n",
      "    F-measure (F1)                  : 62.18 %\n",
      "    Precision                       : 64.71 %\n",
      "    Recall                          : 64.13 %\n",
      "  Error rate\n",
      "    Error rate (ER)                 : 0.78 \n",
      "    Deletion rate                   : 0.36 \n",
      "    Insertion rate                  : 0.42 \n",
      "  Accuracy\n",
      "    Sensitivity                     : 64.13 %\n",
      "    Specificity                     : 96.56 %\n",
      "    Balanced accuracy               : 80.35 %\n",
      "    Accuracy                        : 93.65 %\n",
      "  \n",
      "\n",
      "  Class-wise metrics\n",
      "  ======================================\n",
      "    Event label  | Nref    Nsys  | F        Pre      Rec    | ER       Del      Ins    | Sens     Spec     Bacc     Acc     \n",
      "    ------------ | -----   ----- | ------   ------   ------ | ------   ------   ------ | ------   ------   ------   ------  \n",
      "    Alarm_bell.. | 1052    982   | 79.9%    82.8%    77.3%  | 0.39     0.23     0.16   | 77.3%    98.3%    87.8%    96.3%   \n",
      "    Blender      | 538     770   | 52.6%    44.7%    63.9%  | 1.15     0.36     0.79   | 63.9%    96.0%    80.0%    94.4%   \n",
      "    Cat          | 723     502   | 55.7%    67.9%    47.2%  | 0.75     0.53     0.22   | 47.2%    98.5%    72.8%    95.1%   \n",
      "    Dishes       | 648     743   | 52.9%    49.5%    56.8%  | 1.01     0.43     0.58   | 56.8%    96.4%    76.6%    94.1%   \n",
      "    Dog          | 1131    414   | 45.6%    85.0%    31.1%  | 0.74     0.69     0.05   | 31.1%    99.4%    65.3%    92.4%   \n",
      "    Electric_s.. | 522     682   | 62.3%    55.0%    71.8%  | 0.87     0.28     0.59   | 71.8%    97.1%    84.5%    95.9%   \n",
      "    Frying       | 764     1212  | 58.4%    47.6%    75.5%  | 1.08     0.24     0.83   | 75.5%    93.9%    84.7%    92.6%   \n",
      "    Running_wa.. | 1368    1769  | 61.8%    54.8%    70.9%  | 0.88     0.29     0.58   | 70.9%    91.8%    81.4%    89.2%   \n",
      "    Speech       | 3518    2982  | 84.3%    91.9%    77.9%  | 0.29     0.22     0.07   | 77.9%    96.8%    87.4%    90.9%   \n",
      "    Vacuum_cle.. | 801     813   | 68.3%    67.8%    68.8%  | 0.64     0.31     0.33   | 68.8%    97.5%    83.1%    95.4%   \n",
      "\n",
      "\n"
     ]
    }
   ],
   "source": [
    "sb_evaluator = sb_evaluator(str_strong_y_true, to_evaluate, time_resolution=1.0)\n",
    "print(sb_evaluator)"
   ]
  },
  {
   "cell_type": "markdown",
   "metadata": {},
   "source": [
    "# Make a submission on the Evaluation subset"
   ]
  },
  {
   "cell_type": "code",
   "execution_count": null,
   "metadata": {
    "ExecuteTime": {
     "end_time": "2019-06-09T22:15:17.026129Z",
     "start_time": "2019-06-09T22:09:23.936677Z"
    }
   },
   "outputs": [],
   "source": [
    "eval_probs = model1.predict_generator(generator=eval_generator,\n",
    "    steps=nb_steps_eval,\n",
    "    use_multiprocessing=True,\n",
    "    workers=os.cpu_count()//2,\n",
    "    max_queue_size=10,\n",
    "    verbose=1)\n",
    "\n"
   ]
  },
  {
   "cell_type": "code",
   "execution_count": null,
   "metadata": {
    "ExecuteTime": {
     "end_time": "2019-06-09T22:16:24.458150Z",
     "start_time": "2019-06-09T22:16:24.447791Z"
    }
   },
   "outputs": [],
   "source": [
    "eval_probs[1].shape"
   ]
  },
  {
   "cell_type": "code",
   "execution_count": null,
   "metadata": {
    "ExecuteTime": {
     "end_time": "2019-06-09T22:16:27.677506Z",
     "start_time": "2019-06-09T22:16:27.667253Z"
    }
   },
   "outputs": [],
   "source": [
    "nb_files=13190\n",
    "\n",
    "eval_probs[0] = eval_probs[0][:nb_files]\n",
    "eval_probs[1] = eval_probs[1][:nb_files]\n",
    "eval_probs[0].shape, eval_probs[1].shape"
   ]
  },
  {
   "cell_type": "code",
   "execution_count": null,
   "metadata": {
    "ExecuteTime": {
     "end_time": "2019-06-09T22:16:41.342624Z",
     "start_time": "2019-06-09T22:16:31.185590Z"
    }
   },
   "outputs": [],
   "source": [
    "np.savez('models/models_train_synthetic/osirim_dcase19.90-0.1658-0.3292/eval_probs_AT_strong_13190files.npz', {'AT': eval_probs[0], 'loc':eval_probs[1]})"
   ]
  },
  {
   "cell_type": "code",
   "execution_count": null,
   "metadata": {
    "ExecuteTime": {
     "end_time": "2019-06-09T22:16:43.974496Z",
     "start_time": "2019-06-09T22:16:43.961993Z"
    }
   },
   "outputs": [],
   "source": [
    "X_eval_pred_1_bin = eval_probs[1].copy()\n",
    "\n",
    "X_eval_pred_1_bin[X_eval_pred_1_bin > best_AT_thresholds] = 1\n",
    "X_eval_pred_1_bin[X_eval_pred_1_bin <= best_AT_threshold] = 0"
   ]
  },
  {
   "cell_type": "code",
   "execution_count": null,
   "metadata": {
    "ExecuteTime": {
     "end_time": "2019-06-09T22:16:45.968302Z",
     "start_time": "2019-06-09T22:16:45.139231Z"
    }
   },
   "outputs": [],
   "source": [
    "print('with opti')\n",
    "dico_prob_curves = get_prob_curves_for_predicted_classes(X_eval_pred_1_bin, \n",
    "                                                         eval_probs[0], \n",
    "                                                         wav_lst_evaluation, \n",
    "                                                         class_correspondance_reverse)"
   ]
  },
  {
   "cell_type": "code",
   "execution_count": null,
   "metadata": {
    "ExecuteTime": {
     "end_time": "2019-06-09T22:17:48.482155Z",
     "start_time": "2019-06-09T22:17:48.126087Z"
    }
   },
   "outputs": [],
   "source": [
    "strong_probs_3d_array = from_strong_probs_dict_2_strong_probs_3d_array(dico_prob_curves, wav_lst_evaluation)\n",
    "strong_probs_3d_array.shape"
   ]
  },
  {
   "cell_type": "code",
   "execution_count": null,
   "metadata": {
    "ExecuteTime": {
     "end_time": "2019-06-09T22:19:34.897013Z",
     "start_time": "2019-06-09T22:18:58.582356Z"
    }
   },
   "outputs": [],
   "source": [
    "segments = encoder.encode(\n",
    "    strong_probs_3d_array,\n",
    "    method=\"hysteresis\",\n",
    "    **best_parameters\n",
    ")\n",
    "to_evaluate = encoder.parse(segments, wav_lst_evaluation)"
   ]
  },
  {
   "cell_type": "code",
   "execution_count": null,
   "metadata": {
    "ExecuteTime": {
     "end_time": "2019-06-09T22:21:40.373331Z",
     "start_time": "2019-06-09T22:21:40.228015Z"
    }
   },
   "outputs": [],
   "source": [
    "# save to textfile the eval predictions in DCASE's format\n",
    "\n",
    "with open(\"models/models_train_synthetic/osirim_dcase19.90-0.1658-0.3292/eval_preds_str.csv\", \"w\") as f:                    \n",
    "    f.write(\"filename\\tonset\\toffset\\tevent_label\\n\") \n",
    "    f.write(to_evaluate)   \n"
   ]
  },
  {
   "cell_type": "code",
   "execution_count": null,
   "metadata": {},
   "outputs": [],
   "source": []
  }
 ],
 "metadata": {
  "kernelspec": {
   "display_name": "Python 3",
   "language": "python",
   "name": "python3"
  },
  "language_info": {
   "codemirror_mode": {
    "name": "ipython",
    "version": 3
   },
   "file_extension": ".py",
   "mimetype": "text/x-python",
   "name": "python",
   "nbconvert_exporter": "python",
   "pygments_lexer": "ipython3",
   "version": "3.6.2"
  },
  "toc": {
   "nav_menu": {},
   "number_sections": true,
   "sideBar": true,
   "skip_h1_title": false,
   "toc_cell": true,
   "toc_position": {},
   "toc_section_display": "block",
   "toc_window_display": false
  }
 },
 "nbformat": 4,
 "nbformat_minor": 2
}
